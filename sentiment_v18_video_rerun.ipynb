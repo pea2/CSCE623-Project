{
  "nbformat": 4,
  "nbformat_minor": 0,
  "metadata": {
    "colab": {
      "name": "sentiment v18 -video-rerun.ipynb",
      "provenance": [],
      "collapsed_sections": [
        "lDGrGFRm8KKW",
        "gq3KxKHpNk4X",
        "9agYYTh1HdR0",
        "MjeYN_xXnuKA",
        "0jOBvGX9zcv0",
        "RKWZrjTMWNsi",
        "ScgxnDZhQU1H",
        "khMR1EKIQZ12",
        "Te42Du23QfC8"
      ],
      "authorship_tag": "ABX9TyMb6zsX4MLGR3myqTyXLBg1",
      "include_colab_link": true
    },
    "kernelspec": {
      "name": "python3",
      "display_name": "Python 3"
    },
    "language_info": {
      "name": "python"
    }
  },
  "cells": [
    {
      "cell_type": "markdown",
      "metadata": {
        "id": "view-in-github",
        "colab_type": "text"
      },
      "source": [
        "<a href=\"https://colab.research.google.com/github/pea2/CSCE623-Project/blob/main/sentiment_v18_video_rerun.ipynb\" target=\"_parent\"><img src=\"https://colab.research.google.com/assets/colab-badge.svg\" alt=\"Open In Colab\"/></a>"
      ]
    },
    {
      "cell_type": "markdown",
      "metadata": {
        "id": "xY1b7WVlERGL"
      },
      "source": [
        "Code Source\n",
        "\n",
        "https://www.kaggle.com/kritanjalijain/twitter-sentiment-analysis/notebook\n",
        "\n",
        "https://www.kaggle.com/smitshah00/sentiment-analysis-ml-rnn\n",
        "\n",
        "https://www.kaggle.com/lykin22/twitter-sentiment-analysis-with-naive-bayes-85-acc\n",
        "\n",
        "Data Source\n",
        "\n",
        "https://www.kaggle.com/kazanova/sentiment140\n",
        "\n"
      ]
    },
    {
      "cell_type": "code",
      "metadata": {
        "id": "j9EJ8HLUuuf4"
      },
      "source": [
        "import sklearn\n",
        "print(sklearn.__version__)\n",
        "!pip install scikit-learn --upgrade\n",
        "print(sklearn.__version__)"
      ],
      "execution_count": null,
      "outputs": []
    },
    {
      "cell_type": "code",
      "metadata": {
        "colab": {
          "base_uri": "https://localhost:8080/"
        },
        "id": "sFtkuftUBQyY",
        "outputId": "a1b8aaad-400a-4c27-a093-e15d8014c525"
      },
      "source": [
        "import sklearn\n",
        "print(sklearn.__version__)"
      ],
      "execution_count": 1,
      "outputs": [
        {
          "output_type": "stream",
          "text": [
            "0.22.2.post1\n"
          ],
          "name": "stdout"
        }
      ]
    },
    {
      "cell_type": "markdown",
      "metadata": {
        "id": "Kl8kc20NEoeZ"
      },
      "source": [
        "Set current working directory to Google Drive "
      ]
    },
    {
      "cell_type": "code",
      "metadata": {
        "colab": {
          "base_uri": "https://localhost:8080/",
          "height": 72
        },
        "id": "mDjA559M_vAb",
        "outputId": "9c8eb088-43b7-4cde-880e-326fbd7e6e2b"
      },
      "source": [
        "# set current working directory to Google Drive to retrive data\n",
        "from google.colab import drive \n",
        "drive.mount('/content/drive')\n",
        "import os\n",
        "%cd /content/drive/My\\ Drive/Colab\\ Notebooks/Thesis/\n",
        "os.getcwd()"
      ],
      "execution_count": 1,
      "outputs": [
        {
          "output_type": "stream",
          "text": [
            "Mounted at /content/drive\n",
            "/content/drive/My Drive/Colab Notebooks/Thesis\n"
          ],
          "name": "stdout"
        },
        {
          "output_type": "execute_result",
          "data": {
            "application/vnd.google.colaboratory.intrinsic+json": {
              "type": "string"
            },
            "text/plain": [
              "'/content/drive/My Drive/Colab Notebooks/Thesis'"
            ]
          },
          "metadata": {
            "tags": []
          },
          "execution_count": 1
        }
      ]
    },
    {
      "cell_type": "code",
      "metadata": {
        "id": "sQvCxUiJeVCK"
      },
      "source": [
        "import pandas as pd\n",
        "import numpy as np\n",
        "import matplotlib.pyplot as plt\n",
        "import seaborn as sns\n",
        "\n",
        "from IPython.display import Markdown as md\n",
        "from IPython.display import display, Math, Latex"
      ],
      "execution_count": 2,
      "outputs": []
    },
    {
      "cell_type": "markdown",
      "metadata": {
        "id": "KlnwsHrACaXX"
      },
      "source": [
        "# Read in data"
      ]
    },
    {
      "cell_type": "code",
      "metadata": {
        "_uuid": "ae886376-ce2c-41b0-8fb4-c62d0309e085",
        "_cell_guid": "2b22348b-eb54-4727-9915-886227a46846",
        "trusted": true,
        "id": "QzvBBWo9_jQV"
      },
      "source": [
        "import pandas as pd\n",
        "data = pd.read_csv('02 1.6 mil sentiment(neg pos).csv', encoding = 'latin', header=None)"
      ],
      "execution_count": 3,
      "outputs": []
    },
    {
      "cell_type": "markdown",
      "metadata": {
        "id": "cWsxPguEC1JD"
      },
      "source": [
        "# Data exploration in version 9"
      ]
    },
    {
      "cell_type": "markdown",
      "metadata": {
        "id": "lDGrGFRm8KKW"
      },
      "source": [
        "# Text preprocessing -- 10 min run"
      ]
    },
    {
      "cell_type": "code",
      "metadata": {
        "colab": {
          "base_uri": "https://localhost:8080/"
        },
        "id": "cOs-9eLitUoj",
        "outputId": "aab6bd6d-2d87-4209-d512-2cfce67bef94"
      },
      "source": [
        "# rename columns\n",
        "data = data.rename(columns={0: 'target', 1: 'id', 2: 'date', 3: 'query', 4: 'username', 5: 'text'})\n",
        "#  replace class 4 with 1 (for positive)\n",
        "data['target'] = data['target'].replace({4:1})\n",
        "# remove noisy columns\n",
        "data.drop(['id','date','query','username'], axis=1, inplace=True)\n",
        "print(data.columns)\n",
        "data['target'].unique()"
      ],
      "execution_count": 4,
      "outputs": [
        {
          "output_type": "stream",
          "text": [
            "Index(['target', 'text'], dtype='object')\n"
          ],
          "name": "stdout"
        },
        {
          "output_type": "execute_result",
          "data": {
            "text/plain": [
              "array([0, 1])"
            ]
          },
          "metadata": {
            "tags": []
          },
          "execution_count": 4
        }
      ]
    },
    {
      "cell_type": "markdown",
      "metadata": {
        "id": "huIY6VO2B1dz"
      },
      "source": [
        "## Emoji, smiley, contraction, cleaning preprocessing"
      ]
    },
    {
      "cell_type": "markdown",
      "metadata": {
        "id": "gq3KxKHpNk4X"
      },
      "source": [
        "### functions to clean text - Add new column to the data called \"clean\" -- 2 min run"
      ]
    },
    {
      "cell_type": "code",
      "metadata": {
        "id": "2sCoXi00925F"
      },
      "source": [
        "import re\n",
        "\n",
        "################################################################################\n",
        "################################################################################\n",
        "def replace_emojis(t):\n",
        "    '''\n",
        "    This function replaces happy unicode emojis with \"happy\" and sad unicode emojis with \"sad\"\n",
        "    '''\n",
        "    emoji_happy = [\"\\U0001F600\", \"\\U0001F601\", \"\\U0001F602\",\"\\U0001F603\",\"\\U0001F604\",\"\\U0001F605\", \"\\U0001F606\", \"\\U0001F607\", \"\\U0001F609\", \n",
        "                  \"\\U0001F60A\", \"\\U0001F642\",\"\\U0001F643\",\"\\U0001F923\",r\"\\U0001F970\",\"\\U0001F60D\", r\"\\U0001F929\",\"\\U0001F618\",\"\\U0001F617\",\n",
        "                  r\"\\U000263A\", \"\\U0001F61A\", \"\\U0001F619\", r\"\\U0001F972\", \"\\U0001F60B\", \"\\U0001F61B\", \"\\U0001F61C\", r\"\\U0001F92A\",\n",
        "                  \"\\U0001F61D\", \"\\U0001F911\", \"\\U0001F917\", r\"\\U0001F92D\", r\"\\U0001F92B\",\"\\U0001F914\",\"\\U0001F910\", r\"\\U0001F928\", \"\\U0001F610\", \"\\U0001F611\",\n",
        "                  \"\\U0001F636\", \"\\U0001F60F\",\"\\U0001F612\", \"\\U0001F644\",\"\\U0001F62C\",\"\\U0001F925\",\"\\U0001F60C\",\"\\U0001F614\",\"\\U0001F62A\",\n",
        "                  \"\\U0001F924\",\"\\U0001F634\", \"\\U0001F920\", r\"\\U0001F973\", r\"\\U0001F978\",\"\\U0001F60E\",\"\\U0001F913\", r\"\\U0001F9D0\"]\n",
        "\n",
        "    emoji_sad = [\"\\U0001F637\",\"\\U0001F912\",\"\\U0001F915\",\"\\U0001F922\", r\"\\U0001F92E\",\"\\U0001F927\", r\"\\U0001F975\", r\"\\U0001F976\", r\"\\U0001F974\",\n",
        "                  \"\\U0001F635\", r\"\\U0001F92F\", \"\\U0001F615\",\"\\U0001F61F\",\"\\U0001F641\", r\"\\U0002639\",\"\\U0001F62E\",\"\\U0001F62F\",\"\\U0001F632\",\n",
        "                  \"\\U0001F633\", r\"\\U0001F97A\",\"\\U0001F626\",\"\\U0001F627\",\"\\U0001F628\",\"\\U0001F630\",\"\\U0001F625\",\"\\U0001F622\",\"\\U0001F62D\",\n",
        "                  \"\\U0001F631\",\"\\U0001F616\",\"\\U0001F623\"\t,\"\\U0001F61E\",\"\\U0001F613\",\"\\U0001F629\",\"\\U0001F62B\", r\"\\U0001F971\",\n",
        "                  \"\\U0001F624\",\"\\U0001F621\",\"\\U0001F620\", r\"\\U0001F92C\",\"\\U0001F608\",\"\\U0001F47F\",\"\\U0001F480\", r\"\\U0002620\"]\n",
        "\n",
        "    words = t.split()\n",
        "    reformed = []\n",
        "    for w in words:\n",
        "        if w in emoji_happy:\n",
        "            reformed.append(\"happy\")\n",
        "        elif w in emoji_sad:\n",
        "            reformed.append(\"sad\") \n",
        "        else:\n",
        "            reformed.append(w)\n",
        "    t = \" \".join(reformed)\n",
        "    return t\n",
        "################################################################################\n",
        "################################################################################\n",
        "def replace_smileys(t):\n",
        "    '''\n",
        "    This function replaces happy smileys with \"happy\" and sad smileys with \"sad\"\n",
        "    '''\n",
        "    emoticons_happy = set([':-)', ':)', ';)', ':o)', ':]', ':3', ':c)', ':>', '=]', '8)', '=)', ':}', ':D',\n",
        "      ':^)', ':-D', ':D', '8-D', '8D', 'x-D', 'xD', 'X-D', 'XD', '=-D', '=D',\n",
        "      '=-3', '=3', ':-))', \":'-)\", \":')\", ':*', ':^*', '>:P', ':-P', ':P', 'X-P',\n",
        "      'x-p', 'xp', 'XP', ':-p', ':p', '=p', ':-b', ':b', '>:)', '>;)', '>:-)', '<3'])\n",
        "\n",
        "    emoticons_sad = set([':L', ':-/', '>:/', ':S', '>:[', ':@', ':-(', ':[', ':-||', '=L', ':<',\n",
        "      ':-[', ':-<', '=\\\\', '=/', '>:(', ':(', '>.<', \":'-(\", \":'(\", ':\\\\', ':-c',\n",
        "      ':c', ':{', '>:\\\\', ';('])  \n",
        "\n",
        "    words = t.split()\n",
        "    reformed = []\n",
        "    for w in words:\n",
        "        if w in emoticons_happy:\n",
        "            reformed.append(\"happy\")\n",
        "        elif w in emoticons_sad:\n",
        "            reformed.append(\"sad\") \n",
        "        else:\n",
        "            reformed.append(w)\n",
        "    t = \" \".join(reformed)\n",
        "    return t\n",
        "################################################################################\n",
        "################################################################################\n",
        "def replace_contractions(t):\n",
        "    '''\n",
        "    This function replaces english lanuage contractions, eg., \"shouldn't\" with \"should not\"\n",
        "    '''\n",
        "    cont = {\"aren't\" : 'are not', \"can't\" : 'cannot', \"couln't\": 'could not', \"didn't\": 'did not', \"doesn't\" : 'does not',\n",
        "    \"hadn't\": 'had not', \"haven't\": 'have not', \"he's\" : 'he is', \"she's\" : 'she is', \"he'll\" : \"he will\", \n",
        "    \"she'll\" : 'she will',\"he'd\": \"he would\", \"she'd\":\"she would\", \"here's\" : \"here is\", \n",
        "    \"i'm\" : 'i am', \"i've\"\t: \"i have\", \"i'll\" : \"i will\", \"i'd\" : \"i would\", \"isn't\": \"is not\", \n",
        "    \"it's\" : \"it is\", \"it'll\": \"it will\", \"mustn't\" : \"must not\", \"shouldn't\" : \"should not\", \"that's\" : \"that is\", \n",
        "    \"there's\" : \"there is\", \"they're\" : \"they are\", \"they've\" : \"they have\", \"they'll\" : \"they will\",\n",
        "    \"they'd\" : \"they would\", \"wasn't\" : \"was not\", \"we're\": \"we are\", \"we've\":\"we have\", \"we'll\": \"we will\", \n",
        "    \"we'd\" : \"we would\", \"weren't\" : \"were not\", \"what's\" : \"what is\", \"where's\" : \"where is\", \"who's\": \"who is\",\n",
        "    \"who'll\" :\"who will\", \"won't\":\"will not\", \"wouldn't\" : \"would not\", \"you're\": \"you are\", \"you've\":\"you have\",\n",
        "    \"you'll\" : \"you will\", \"you'd\" : \"you would\", \"mayn't\" : \"may not\"}\n",
        "    \n",
        "    words = t.split()\n",
        "    reformed = []\n",
        "    for w in words:\n",
        "        if w in cont:\n",
        "          reformed.append(cont[w])\n",
        "        else:\n",
        "          reformed.append(w)\n",
        "    t = \" \".join(reformed)\n",
        "    return t  \n",
        "################################################################################\n",
        "################################################################################\n",
        "def remove_single_letter_words(t):\n",
        "    '''\n",
        "    This function removes words that are single characters\n",
        "    '''\n",
        "    words = t.split()\n",
        "    reformed = []\n",
        "    for w in words:\n",
        "        if len(w) > 1:\n",
        "            reformed.append(w)\n",
        "    t = \" \".join(reformed)\n",
        "    return t \n",
        "################################################################################\n",
        "################################################################################\n",
        "\n",
        "# define emojis\n",
        "emoji_pattern = re.compile(\"[\"\n",
        "         u\"\\U0001F300-\\U0001F5FF\"  # symbols & pictographs\n",
        "         u\"\\U0001F680-\\U0001F6FF\"  # transport & map symbols\n",
        "         u\"\\U0001F1E0-\\U0001F1FF\"  # flags (iOS)\n",
        "         u\"\\U00002702-\\U000027B0\"\n",
        "         u\"\\U000024C2-\\U0001F251\"\n",
        "         \"]+\", flags=re.UNICODE)\n",
        "\n",
        "def clean_data(t):\n",
        "    '''\n",
        "    This function cleans the tweets\n",
        "    '''\n",
        "    t = t.lower() # convert to lowercase\n",
        "    t = replace_emojis(t) # replace unicode emojis with their associated emotions\n",
        "    t = replace_smileys(t) # replace handwritten emojis with their associated emotions\n",
        "    t = replace_contractions(t) # replace English short forms with their long form\n",
        "    t = emoji_pattern.sub(r'', t) # remove emojis other than smiley emojis\n",
        "    t = re.sub('\\\\\\\\u[0-9A-Fa-f]{4}','', t) # remove NON- ASCII characters\n",
        "    t = re.sub(\"[0-9]\", \"\", t) # remove numbers # re.sub(\"\\d+\", \"\", t)\n",
        "    t = re.sub('#', '', t) # remove '#'\n",
        "    t = re.sub('@[A-Za-z0–9]+', '', t) # remove '@'\n",
        "    t = re.sub('@[^\\s]+', '', t) # remove usernames\n",
        "    t = re.sub('RT[\\s]+', '', t) # remove retweet 'RT'\n",
        "    t = re.sub('((www\\.[^\\s]+)|(https?://[^\\s]+))', '', t) # remove links (URLs/ links)\n",
        "    t = re.sub('[!\"$%&\\'()*+,-./:@;<=>?[\\\\]^_`{|}~]', ' ', t)  ## replace punctuations with space ###\n",
        "    t = t.replace('\\\\\\\\', '')\n",
        "    t = t.replace('\\\\', '')\n",
        "    t = remove_single_letter_words(t) # removes single letter words\n",
        "    t = re.sub(\"@\\S+|https?:\\S+|http?:\\S|[^A-Za-z0-9]+\", ' ', str(t).lower()).strip() # remove mentions and links in tweets\n",
        "    \n",
        "    return t\n",
        "################################################################################\n",
        "################################################################################"
      ],
      "execution_count": 5,
      "outputs": []
    },
    {
      "cell_type": "markdown",
      "metadata": {
        "id": "XwKDhBMZZfCj"
      },
      "source": [
        "Add new column to the data called \"clean\""
      ]
    },
    {
      "cell_type": "code",
      "metadata": {
        "colab": {
          "base_uri": "https://localhost:8080/"
        },
        "id": "Ki2pzG8AZea7",
        "outputId": "58c69dba-6d91-4c7c-aa75-57b082cd0145"
      },
      "source": [
        "print(\"Cleaning tweets...\\n\")\n",
        "print(\"Convert to lowercase\")\n",
        "print(\"Replace unicode emojis with their associated emotions\")\n",
        "print(\"Replace handwritten emojis with their associated emotions\")\n",
        "print(\"Replace English short forms with their long form\")\n",
        "print(\"Remove all other unicoded emojis\")\n",
        "print(\"Remove NON- ASCII characters\")\n",
        "print(\"Remove numbers\")\n",
        "print(\"Remove \\\"#\\\" \")\n",
        "print(\"Remove \\\"@\\\" \")\n",
        "print(\"Remove usernames\")\n",
        "print(\"Remove \\'RT\\' \")\n",
        "print(\"Remove URLs and links\")\n",
        "print(\"Replace punctuations with space\")\n",
        "print(\"Remove single letter words\")\n",
        "print(\"Remove mentions and links in tweets\\n\")\n",
        "\n",
        "data['clean'] = data['text'].apply(clean_data)\n",
        "print(\"Tweets have been cleaned.\")"
      ],
      "execution_count": 6,
      "outputs": [
        {
          "output_type": "stream",
          "text": [
            "Cleaning tweets...\n",
            "\n",
            "Convert to lowercase\n",
            "Replace unicode emojis with their associated emotions\n",
            "Replace handwritten emojis with their associated emotions\n",
            "Replace English short forms with their long form\n",
            "Remove all other unicoded emojis\n",
            "Remove NON- ASCII characters\n",
            "Remove numbers\n",
            "Remove \"#\" \n",
            "Remove \"@\" \n",
            "Remove usernames\n",
            "Remove 'RT' \n",
            "Remove URLs and links\n",
            "Replace punctuations with space\n",
            "Remove single letter words\n",
            "Remove mentions and links in tweets\n",
            "\n",
            "Tweets have been cleaned.\n"
          ],
          "name": "stdout"
        }
      ]
    },
    {
      "cell_type": "markdown",
      "metadata": {
        "id": "9agYYTh1HdR0"
      },
      "source": [
        "### Text normalization - Add new column to the data called \"normal\" -- 9 min run"
      ]
    },
    {
      "cell_type": "code",
      "metadata": {
        "id": "MHyGl8jp_XLg",
        "colab": {
          "base_uri": "https://localhost:8080/"
        },
        "outputId": "b3932fa4-d954-4a5d-891b-2459a15a8b36"
      },
      "source": [
        "import nltk\n",
        "nltk.download(\"punkt\")\n",
        "nltk.download('stopwords')\n",
        "from nltk.corpus import stopwords\n",
        "nltk_stopwords = nltk.corpus.stopwords.words('english')\n",
        "from sklearn.feature_extraction.text import ENGLISH_STOP_WORDS as sklearn_stopwords\n",
        "nltk.download('wordnet')\n",
        "wnl = nltk.WordNetLemmatizer()\n",
        "porter = nltk.PorterStemmer()\n",
        "\n",
        "def normalize_data(doc):\n",
        "  \n",
        "  # tokenize text\n",
        "  doc = nltk.tokenize.word_tokenize(doc)\n",
        "\n",
        "  # remove stops words\n",
        "  doc = [ w for w in doc if w not in (nltk_stopwords and sklearn_stopwords) ]\n",
        "\n",
        "  # lemmatization\n",
        "  doc = [wnl.lemmatize(w) for w in doc]\n",
        "\n",
        "  # stemming\n",
        "  doc = [porter.stem(w) for w in doc]\n",
        "\n",
        "  # remove single letter\n",
        "  doc = [w for w in doc if len(w)>1]\n",
        "\n",
        "  return ' '.join(doc)"
      ],
      "execution_count": 7,
      "outputs": [
        {
          "output_type": "stream",
          "text": [
            "[nltk_data] Downloading package punkt to /root/nltk_data...\n",
            "[nltk_data]   Unzipping tokenizers/punkt.zip.\n",
            "[nltk_data] Downloading package stopwords to /root/nltk_data...\n",
            "[nltk_data]   Unzipping corpora/stopwords.zip.\n",
            "[nltk_data] Downloading package wordnet to /root/nltk_data...\n",
            "[nltk_data]   Unzipping corpora/wordnet.zip.\n"
          ],
          "name": "stdout"
        }
      ]
    },
    {
      "cell_type": "markdown",
      "metadata": {
        "id": "ildJF-3CbbeU"
      },
      "source": [
        "Add new column to the data called \"normal\""
      ]
    },
    {
      "cell_type": "code",
      "metadata": {
        "id": "GUX_dA6aYvcM"
      },
      "source": [
        "#  8 minutes 15 seconds\n",
        "data['normal'] = data['clean'].apply(normalize_data)"
      ],
      "execution_count": 8,
      "outputs": []
    },
    {
      "cell_type": "markdown",
      "metadata": {
        "id": "MjeYN_xXnuKA"
      },
      "source": [
        "# Normalized Text Output"
      ]
    },
    {
      "cell_type": "code",
      "metadata": {
        "colab": {
          "base_uri": "https://localhost:8080/",
          "height": 302
        },
        "id": "pJZijcQjUU4p",
        "outputId": "698639ae-3a8d-4bfa-fe9b-c0b46e7686b2"
      },
      "source": [
        "pd.set_option('display.max_colwidth', None)\n",
        "data.head()"
      ],
      "execution_count": 9,
      "outputs": [
        {
          "output_type": "execute_result",
          "data": {
            "text/html": [
              "<div>\n",
              "<style scoped>\n",
              "    .dataframe tbody tr th:only-of-type {\n",
              "        vertical-align: middle;\n",
              "    }\n",
              "\n",
              "    .dataframe tbody tr th {\n",
              "        vertical-align: top;\n",
              "    }\n",
              "\n",
              "    .dataframe thead th {\n",
              "        text-align: right;\n",
              "    }\n",
              "</style>\n",
              "<table border=\"1\" class=\"dataframe\">\n",
              "  <thead>\n",
              "    <tr style=\"text-align: right;\">\n",
              "      <th></th>\n",
              "      <th>target</th>\n",
              "      <th>text</th>\n",
              "      <th>clean</th>\n",
              "      <th>normal</th>\n",
              "    </tr>\n",
              "  </thead>\n",
              "  <tbody>\n",
              "    <tr>\n",
              "      <th>0</th>\n",
              "      <td>0</td>\n",
              "      <td>@switchfoot http://twitpic.com/2y1zl - Awww, that's a bummer.  You shoulda got David Carr of Third Day to do it. ;D</td>\n",
              "      <td>awww that is bummer you shoulda got david carr of third day to do it</td>\n",
              "      <td>awww bummer shoulda got david carr day</td>\n",
              "    </tr>\n",
              "    <tr>\n",
              "      <th>1</th>\n",
              "      <td>0</td>\n",
              "      <td>is upset that he can't update his Facebook by texting it... and might cry as a result  School today also. Blah!</td>\n",
              "      <td>is upset that he cannot update his facebook by texting it and might cry as result school today also blah</td>\n",
              "      <td>upset updat facebook text result school today blah</td>\n",
              "    </tr>\n",
              "    <tr>\n",
              "      <th>2</th>\n",
              "      <td>0</td>\n",
              "      <td>@Kenichan I dived many times for the ball. Managed to save 50%  The rest go out of bounds</td>\n",
              "      <td>dived many times for the ball managed to save the rest go out of bounds</td>\n",
              "      <td>dive time ball manag save rest bound</td>\n",
              "    </tr>\n",
              "    <tr>\n",
              "      <th>3</th>\n",
              "      <td>0</td>\n",
              "      <td>my whole body feels itchy and like its on fire</td>\n",
              "      <td>my whole body feels itchy and like its on fire</td>\n",
              "      <td>bodi feel itchi like</td>\n",
              "    </tr>\n",
              "    <tr>\n",
              "      <th>4</th>\n",
              "      <td>0</td>\n",
              "      <td>@nationwideclass no, it's not behaving at all. i'm mad. why am i here? because I can't see you all over there.</td>\n",
              "      <td>no it is not behaving at all am mad why am here because cannot see you all over there</td>\n",
              "      <td>behav mad</td>\n",
              "    </tr>\n",
              "  </tbody>\n",
              "</table>\n",
              "</div>"
            ],
            "text/plain": [
              "   target  ...                                              normal\n",
              "0       0  ...              awww bummer shoulda got david carr day\n",
              "1       0  ...  upset updat facebook text result school today blah\n",
              "2       0  ...                dive time ball manag save rest bound\n",
              "3       0  ...                                bodi feel itchi like\n",
              "4       0  ...                                           behav mad\n",
              "\n",
              "[5 rows x 4 columns]"
            ]
          },
          "metadata": {
            "tags": []
          },
          "execution_count": 9
        }
      ]
    },
    {
      "cell_type": "markdown",
      "metadata": {
        "id": "0jOBvGX9zcv0"
      },
      "source": [
        "# Split train test data 80% 20%"
      ]
    },
    {
      "cell_type": "code",
      "metadata": {
        "colab": {
          "base_uri": "https://localhost:8080/"
        },
        "id": "IFK9iSgQt8-B",
        "outputId": "3aa4540b-4e92-470a-b827-3c743c542df0"
      },
      "source": [
        "from sklearn.model_selection import train_test_split\n",
        "\n",
        "X = data['normal']\n",
        "y = data['target']\n",
        "\n",
        "# train-test split: 80-20\n",
        "random_state = 9363\n",
        "\n",
        "X_train, X_test, y_train, y_test = train_test_split(X,y,\n",
        "                                                    test_size = 0.20, \n",
        "                                                    random_state=random_state, \n",
        "                                                    stratify = y)\n",
        "\n",
        "print('X_train.shape: ', X_train.shape)\n",
        "print('y_train.shape: ', y_train.shape)\n",
        "print('X_test.shape:  ', X_test.shape)\n",
        "print('y_test.shape:  ', y_test.shape)\n",
        "print('\\ntraining set target counts per class:\\n', y_train.value_counts(), '\\n')\n",
        "print('test set target counts per class:\\n', y_test.value_counts())"
      ],
      "execution_count": 10,
      "outputs": [
        {
          "output_type": "stream",
          "text": [
            "X_train.shape:  (1280000,)\n",
            "y_train.shape:  (1280000,)\n",
            "X_test.shape:   (320000,)\n",
            "y_test.shape:   (320000,)\n",
            "\n",
            "training set target counts per class:\n",
            " 1    640000\n",
            "0    640000\n",
            "Name: target, dtype: int64 \n",
            "\n",
            "test set target counts per class:\n",
            " 1    160000\n",
            "0    160000\n",
            "Name: target, dtype: int64\n"
          ],
          "name": "stdout"
        }
      ]
    },
    {
      "cell_type": "markdown",
      "metadata": {
        "id": "0QMdet8RUdby"
      },
      "source": [
        "# Hyperparameter tuning in Copy of sentiment-test"
      ]
    },
    {
      "cell_type": "markdown",
      "metadata": {
        "id": "p7G6Ybwrv8Hl"
      },
      "source": [
        "# Convert text to word frequency vectors\n",
        "Feature extraction via TF-IDF Vectorizor"
      ]
    },
    {
      "cell_type": "code",
      "metadata": {
        "colab": {
          "base_uri": "https://localhost:8080/"
        },
        "id": "c1RCBsJ6v-Ua",
        "outputId": "b35188d5-033a-4b4d-a62a-8a3efdc7c626"
      },
      "source": [
        "from sklearn.feature_extraction.text import TfidfVectorizer\n",
        "# Convert a collection of raw documents to a matrix of TF-IDF features.\n",
        "\n",
        "vector = TfidfVectorizer(max_features=20000, sublinear_tf=True)\n",
        "vector.fit(X_train)\n",
        "print('No. of feature_words: ', len(vector.get_feature_names()))\n",
        "\n",
        "# Transforming the X_train and X_test dataset into matrix of TF-IDF Features \n",
        "# by using the TF-IDF Vectoriser. This datasets will be used to train the model and test against it.\n",
        "X_train = vector.transform(X_train)\n",
        "X_test = vector.transform(X_test)\n",
        "\n",
        "# https://www.kaggle.com/stoicstatic/twitter-sentiment-analysis-for-beginners"
      ],
      "execution_count": 11,
      "outputs": [
        {
          "output_type": "stream",
          "text": [
            "No. of feature_words:  20000\n"
          ],
          "name": "stdout"
        }
      ]
    },
    {
      "cell_type": "markdown",
      "metadata": {
        "id": "dfqUvdeZceXg"
      },
      "source": [
        "# Model testing"
      ]
    },
    {
      "cell_type": "markdown",
      "metadata": {
        "id": "RKWZrjTMWNsi"
      },
      "source": [
        "### fit model, plot confusion matrix, roc curve"
      ]
    },
    {
      "cell_type": "code",
      "metadata": {
        "execution": {
          "iopub.execute_input": "2021-04-17T08:43:34.913343Z",
          "iopub.status.busy": "2021-04-17T08:43:34.912583Z",
          "iopub.status.idle": "2021-04-17T08:43:34.914888Z",
          "shell.execute_reply": "2021-04-17T08:43:34.915403Z"
        },
        "papermill": {
          "duration": 0.094548,
          "end_time": "2021-04-17T08:43:34.915542",
          "exception": false,
          "start_time": "2021-04-17T08:43:34.820994",
          "status": "completed"
        },
        "tags": [],
        "id": "uK2So3399uj4"
      },
      "source": [
        "from sklearn.metrics import confusion_matrix, classification_report, plot_roc_curve\n",
        "\n",
        "def evaluate(model, X_train, y_train, X_test, y_test, title):\n",
        "    \"\"\" evaluate model and report test set performance in confusion matrix and precision, recall, f1, support\n",
        "    \"\"\"\n",
        "    # fit model\n",
        "    model.fit(X_train, y_train)\n",
        "\n",
        "    # accuracy of model on training data\n",
        "    acc_train = model.score(X_train, y_train)\n",
        "    # accuracy of model on test set\n",
        "    acc_test = model.score(X_test, y_test)\n",
        "    \n",
        "    print('Accuracy of '+ title +' model on training set : {}'.format(acc_train*100))\n",
        "    print('Accuracy of '+ title +' model on test set : {} \\n'.format(acc_test*100))\n",
        "\n",
        "    # Predict values for Test dataset\n",
        "    y_pred = model.predict(X_test)\n",
        "\n",
        "    # Print the evaluation metrics for the dataset.\n",
        "    print(classification_report(y_test, y_pred))\n",
        "    \n",
        "    # Compute and plot the Confusion matrix\n",
        "    cf_matrix = confusion_matrix(y_test, y_pred)\n",
        "\n",
        "    categories  = ['Negative','Positive']\n",
        "    group_names = ['True Neg','False Pos', 'False Neg','True Pos']\n",
        "    group_percentages = ['{0:.2%}'.format(value) for value in cf_matrix.flatten() / np.sum(cf_matrix)]\n",
        "\n",
        "    labels = [f'{v1}\\n{v2}' for v1, v2 in zip(group_names,group_percentages)]\n",
        "    labels = np.asarray(labels).reshape(2,2)\n",
        "\n",
        "    sns.heatmap(cf_matrix, annot = labels, cmap = 'Reds',fmt = '',\n",
        "                xticklabels = categories, yticklabels = categories)\n",
        "\n",
        "    plt.xlabel(\"Predicted values\", fontdict = {'size':14}, labelpad = 10)\n",
        "    plt.ylabel(\"Actual values\"   , fontdict = {'size':14}, labelpad = 10)\n",
        "    plt.title (\"Confusion Matrix for \" + title, fontdict = {'size':16}, pad = 20)\n",
        "    plt.show()\n",
        "\n",
        "    print('\\n') \n",
        "\n",
        "    roc = plot_roc_curve(model, X_test, y_test)\n",
        "    plt.title('ROC Curve for ' + title)\n",
        "    plt.show()\n",
        "\n",
        "    return y_pred, roc"
      ],
      "execution_count": 13,
      "outputs": []
    },
    {
      "cell_type": "markdown",
      "metadata": {
        "id": "BxOn6lsV90MW"
      },
      "source": [
        "### Logistic Regression -- 46 min run"
      ]
    },
    {
      "cell_type": "code",
      "metadata": {
        "colab": {
          "base_uri": "https://localhost:8080/",
          "height": 854
        },
        "id": "lbchn2HCCDm_",
        "outputId": "4ab2a82d-fa5f-49b0-ed29-5d0d79034e4d"
      },
      "source": [
        "from sklearn.linear_model import LogisticRegression\n",
        "# preset logreg parameters\n",
        "max_iter = 100000\n",
        "penalty = 'elasticnet'\n",
        "l1_ratio = 0.8\n",
        "c = 0.7\n",
        "solver = 'saga' # for larger dataset, faster, also supports elasticnet penalty in addition to ridge and lasso\n",
        "logistic_regression = LogisticRegression(max_iter=max_iter,penalty=penalty, l1_ratio=l1_ratio, C=c, solver=solver)\n",
        "y_pred_logreg, roc_logreg = evaluate(logistic_regression, X_train, y_train, X_test, y_test, 'Logistic Regression')"
      ],
      "execution_count": 14,
      "outputs": [
        {
          "output_type": "stream",
          "text": [
            "Accuracy of Logistic Regression model on training set : 77.64578125\n",
            "Accuracy of Logistic Regression model on test set : 76.955 \n",
            "\n",
            "              precision    recall  f1-score   support\n",
            "\n",
            "           0       0.78      0.74      0.76    160000\n",
            "           1       0.76      0.80      0.78    160000\n",
            "\n",
            "    accuracy                           0.77    320000\n",
            "   macro avg       0.77      0.77      0.77    320000\n",
            "weighted avg       0.77      0.77      0.77    320000\n",
            "\n"
          ],
          "name": "stdout"
        },
        {
          "output_type": "display_data",
          "data": {
            "image/png": "[encoded data removed]",
            "text/plain": [
              "<Figure size 432x288 with 2 Axes>"
            ]
          },
          "metadata": {
            "tags": [],
            "needs_background": "light"
          }
        },
        {
          "output_type": "stream",
          "text": [
            "\n",
            "\n"
          ],
          "name": "stdout"
        },
        {
          "output_type": "display_data",
          "data": {
            "image/png": "[encoded data removed]",
            "text/plain": [
              "<Figure size 432x288 with 1 Axes>"
            ]
          },
          "metadata": {
            "tags": [],
            "needs_background": "light"
          }
        }
      ]
    },
    {
      "cell_type": "code",
      "metadata": {
        "id": "osnHo-4hE9mi",
        "colab": {
          "base_uri": "https://localhost:8080/",
          "height": 297
        },
        "outputId": "b3feb9d7-1677-49ed-ccc0-96d68a0afd66"
      },
      "source": [
        "from sklearn import metrics\n",
        "import matplotlib.pyplot as plt\n",
        "\n",
        "fpr, tpr, _ = metrics.roc_curve(y_test, y_pred_logreg)\n",
        "auc = metrics.roc_auc_score(y_test, y_pred_logreg)\n",
        "\n",
        "#create ROC curve\n",
        "plt.plot(fpr,tpr,label=\"AUC=\"+str(auc))\n",
        "plt.ylabel('True Positive Rate')\n",
        "plt.xlabel('False Positive Rate')\n",
        "plt.legend(loc=4)\n",
        "# plot no skill line\n",
        "plt.plot([0,1], [0,1], ':k')\n",
        "plt.title('ROC Curve for Logistic Regression', fontsize=16)\n",
        "plt.show()\n",
        "\n",
        "# https://www.statology.org/plot-roc-curve-python/"
      ],
      "execution_count": 15,
      "outputs": [
        {
          "output_type": "display_data",
          "data": {
            "image/png": "[encoded data removed]",
            "text/plain": [
              "<Figure size 432x288 with 1 Axes>"
            ]
          },
          "metadata": {
            "tags": [],
            "needs_background": "light"
          }
        }
      ]
    },
    {
      "cell_type": "markdown",
      "metadata": {
        "id": "cg_V72qf7DSZ"
      },
      "source": [
        "### SVC Linear Kernel -- 30 sec run"
      ]
    },
    {
      "cell_type": "code",
      "metadata": {
        "colab": {
          "base_uri": "https://localhost:8080/",
          "height": 854
        },
        "id": "QbzPsplp7DSZ",
        "outputId": "a630ca44-bdc7-459a-c6ef-34ed199c2f6a"
      },
      "source": [
        "from sklearn.svm import LinearSVC\n",
        "svc_linear = LinearSVC(C=0.3)\n",
        "y_pred_svc, roc_svc = evaluate(svc_linear, X_train, y_train, X_test, y_test, 'SVC')"
      ],
      "execution_count": 16,
      "outputs": [
        {
          "output_type": "stream",
          "text": [
            "Accuracy of SVC model on training set : 77.739453125\n",
            "Accuracy of SVC model on test set : 76.749375 \n",
            "\n",
            "              precision    recall  f1-score   support\n",
            "\n",
            "           0       0.78      0.74      0.76    160000\n",
            "           1       0.75      0.79      0.77    160000\n",
            "\n",
            "    accuracy                           0.77    320000\n",
            "   macro avg       0.77      0.77      0.77    320000\n",
            "weighted avg       0.77      0.77      0.77    320000\n",
            "\n"
          ],
          "name": "stdout"
        },
        {
          "output_type": "display_data",
          "data": {
            "image/png": "[encoded data removed]",
            "text/plain": [
              "<Figure size 432x288 with 2 Axes>"
            ]
          },
          "metadata": {
            "tags": [],
            "needs_background": "light"
          }
        },
        {
          "output_type": "stream",
          "text": [
            "\n",
            "\n"
          ],
          "name": "stdout"
        },
        {
          "output_type": "display_data",
          "data": {
            "image/png": "[encoded data removed]",
            "text/plain": [
              "<Figure size 432x288 with 1 Axes>"
            ]
          },
          "metadata": {
            "tags": [],
            "needs_background": "light"
          }
        }
      ]
    },
    {
      "cell_type": "code",
      "metadata": {
        "colab": {
          "base_uri": "https://localhost:8080/",
          "height": 300
        },
        "id": "C2-_Ny7jEbpr",
        "outputId": "ef7b6854-f77a-4027-cbbf-8a74bc15d96d"
      },
      "source": [
        "from sklearn import metrics\n",
        "import matplotlib.pyplot as plt\n",
        "\n",
        "fpr, tpr, _ = metrics.roc_curve(y_test, y_pred_svc)\n",
        "auc = metrics.roc_auc_score(y_test, y_pred_svc)\n",
        "\n",
        "#create ROC curve\n",
        "plt.plot(fpr,tpr,label=\"AUC=\"+str(auc))\n",
        "plt.ylabel('True Positive Rate')\n",
        "plt.xlabel('False Positive Rate')\n",
        "plt.legend(loc=4)\n",
        "# plot no skill line\n",
        "plt.plot([0,1], [0,1], ':k')\n",
        "plt.title('ROC Curve for SVM', fontsize=20)\n",
        "plt.show()\n",
        "\n",
        "# https://www.statology.org/plot-roc-curve-python/"
      ],
      "execution_count": 17,
      "outputs": [
        {
          "output_type": "display_data",
          "data": {
            "image/png": "[encoded data removed]",
            "text/plain": [
              "<Figure size 432x288 with 1 Axes>"
            ]
          },
          "metadata": {
            "tags": [],
            "needs_background": "light"
          }
        }
      ]
    },
    {
      "cell_type": "markdown",
      "metadata": {
        "id": "ihzn34XQ7DSa"
      },
      "source": [
        "### Naive Bayes Bernoulli -- 1 sec run"
      ]
    },
    {
      "cell_type": "code",
      "metadata": {
        "colab": {
          "base_uri": "https://localhost:8080/",
          "height": 854
        },
        "id": "TMgbeeOwHhJK",
        "outputId": "bce2cbe3-d8bc-48ff-f301-5fdcded7e548"
      },
      "source": [
        "from sklearn.naive_bayes import BernoulliNB\n",
        "nb = BernoulliNB()\n",
        "y_pred_nb, roc_nb = evaluate(nb, X_train, y_train, X_test, y_test,'NB')"
      ],
      "execution_count": 18,
      "outputs": [
        {
          "output_type": "stream",
          "text": [
            "Accuracy of NB model on training set : 76.69796875\n",
            "Accuracy of NB model on test set : 76.2109375 \n",
            "\n",
            "              precision    recall  f1-score   support\n",
            "\n",
            "           0       0.77      0.75      0.76    160000\n",
            "           1       0.75      0.78      0.77    160000\n",
            "\n",
            "    accuracy                           0.76    320000\n",
            "   macro avg       0.76      0.76      0.76    320000\n",
            "weighted avg       0.76      0.76      0.76    320000\n",
            "\n"
          ],
          "name": "stdout"
        },
        {
          "output_type": "display_data",
          "data": {
            "image/png": "[encoded data removed]",
            "text/plain": [
              "<Figure size 432x288 with 2 Axes>"
            ]
          },
          "metadata": {
            "tags": [],
            "needs_background": "light"
          }
        },
        {
          "output_type": "stream",
          "text": [
            "\n",
            "\n"
          ],
          "name": "stdout"
        },
        {
          "output_type": "display_data",
          "data": {
            "image/png": "[encoded data removed]",
            "text/plain": [
              "<Figure size 432x288 with 1 Axes>"
            ]
          },
          "metadata": {
            "tags": [],
            "needs_background": "light"
          }
        }
      ]
    },
    {
      "cell_type": "code",
      "metadata": {
        "colab": {
          "base_uri": "https://localhost:8080/",
          "height": 300
        },
        "id": "2CEWygf9At1f",
        "outputId": "4d49befa-05df-4520-bdac-0f5d6bc946c3"
      },
      "source": [
        "from sklearn import metrics\n",
        "import matplotlib.pyplot as plt\n",
        "\n",
        "fpr, tpr, _ = metrics.roc_curve(y_test, y_pred_nb)\n",
        "auc = metrics.roc_auc_score(y_test, y_pred_nb)\n",
        "\n",
        "#create ROC curve\n",
        "plt.plot(fpr,tpr,label=\"AUC=\"+str(auc))\n",
        "plt.ylabel('True Positive Rate')\n",
        "plt.xlabel('False Positive Rate')\n",
        "plt.legend(loc=4)\n",
        "# plot no skill line\n",
        "plt.plot([0,1], [0,1], ':k')\n",
        "plt.title('ROC Curve for NB', fontsize=20)\n",
        "plt.show()\n",
        "\n",
        "# https://www.statology.org/plot-roc-curve-python/"
      ],
      "execution_count": 19,
      "outputs": [
        {
          "output_type": "display_data",
          "data": {
            "image/png": "[encoded data removed]",
            "text/plain": [
              "<Figure size 432x288 with 1 Axes>"
            ]
          },
          "metadata": {
            "tags": [],
            "needs_background": "light"
          }
        }
      ]
    },
    {
      "cell_type": "markdown",
      "metadata": {
        "id": "-Wl4jo9Qd2ao"
      },
      "source": [
        "### Naive Bayes Multinomial -- 1 sec run"
      ]
    },
    {
      "cell_type": "code",
      "metadata": {
        "colab": {
          "base_uri": "https://localhost:8080/",
          "height": 854
        },
        "id": "UJ7LxfLUd2ao",
        "outputId": "37cac6a9-e48b-4f73-8e82-6e74305c8780"
      },
      "source": [
        "from sklearn.naive_bayes import MultinomialNB\n",
        "nb_mul = MultinomialNB()\n",
        "y_pred_nb_mul, roc_nb_mul = evaluate(nb_mul, X_train, y_train, X_test, y_test,'NB Multi')"
      ],
      "execution_count": 20,
      "outputs": [
        {
          "output_type": "stream",
          "text": [
            "Accuracy of NB Multi model on training set : 76.116484375\n",
            "Accuracy of NB Multi model on test set : 75.35531250000001 \n",
            "\n",
            "              precision    recall  f1-score   support\n",
            "\n",
            "           0       0.75      0.75      0.75    160000\n",
            "           1       0.75      0.76      0.75    160000\n",
            "\n",
            "    accuracy                           0.75    320000\n",
            "   macro avg       0.75      0.75      0.75    320000\n",
            "weighted avg       0.75      0.75      0.75    320000\n",
            "\n"
          ],
          "name": "stdout"
        },
        {
          "output_type": "display_data",
          "data": {
            "image/png": "[encoded data removed]",
            "text/plain": [
              "<Figure size 432x288 with 2 Axes>"
            ]
          },
          "metadata": {
            "tags": [],
            "needs_background": "light"
          }
        },
        {
          "output_type": "stream",
          "text": [
            "\n",
            "\n"
          ],
          "name": "stdout"
        },
        {
          "output_type": "display_data",
          "data": {
            "image/png": "[encoded data removed]",
            "text/plain": [
              "<Figure size 432x288 with 1 Axes>"
            ]
          },
          "metadata": {
            "tags": [],
            "needs_background": "light"
          }
        }
      ]
    },
    {
      "cell_type": "code",
      "metadata": {
        "colab": {
          "base_uri": "https://localhost:8080/",
          "height": 300
        },
        "id": "5MTdBrFGd2ao",
        "outputId": "b8b52cc1-4eb6-47cb-b2a4-e91b6aced3f3"
      },
      "source": [
        "from sklearn import metrics\n",
        "import matplotlib.pyplot as plt\n",
        "\n",
        "fpr, tpr, _ = metrics.roc_curve(y_test, y_pred_nb_mul)\n",
        "auc = metrics.roc_auc_score(y_test, y_pred_nb_mul)\n",
        "\n",
        "#create ROC curve\n",
        "plt.plot(fpr,tpr,label=\"AUC=\"+str(auc))\n",
        "plt.ylabel('True Positive Rate')\n",
        "plt.xlabel('False Positive Rate')\n",
        "plt.legend(loc=4)\n",
        "# plot no skill line\n",
        "plt.plot([0,1], [0,1], ':k')\n",
        "plt.title('ROC Curve for NB Multi', fontsize=20)\n",
        "plt.show()\n",
        "\n",
        "# https://www.statology.org/plot-roc-curve-python/"
      ],
      "execution_count": 21,
      "outputs": [
        {
          "output_type": "display_data",
          "data": {
            "image/png": "[encoded data removed]",
            "text/plain": [
              "<Figure size 432x288 with 1 Axes>"
            ]
          },
          "metadata": {
            "tags": [],
            "needs_background": "light"
          }
        }
      ]
    },
    {
      "cell_type": "markdown",
      "metadata": {
        "id": "ii2d9JFoHdvo"
      },
      "source": [
        "### LDA"
      ]
    },
    {
      "cell_type": "code",
      "metadata": {
        "id": "oZtpMZCBUBJQ"
      },
      "source": [
        "# from sklearn.discriminant_analysis import LinearDiscriminantAnalysis\n",
        "\n",
        "# lda = LinearDiscriminantAnalysis()\n",
        "# # y_pred_lda = evaluate(lda, X_train.toarray(), y_train, X_test.toarray(), y_test,'LDA')"
      ],
      "execution_count": null,
      "outputs": []
    },
    {
      "cell_type": "markdown",
      "metadata": {
        "id": "Y9iz3T3kJZc9"
      },
      "source": [
        "### QDA"
      ]
    },
    {
      "cell_type": "code",
      "metadata": {
        "id": "YqL6kKzoHl8i"
      },
      "source": [
        "# from sklearn.discriminant_analysis import QuadraticDiscriminantAnalysis\n",
        "# qda = QuadraticDiscriminantAnalysis()\n",
        "# y_pred_qda = evaluate(qda, X_train, y_train, X_test, y_test,'QDA')"
      ],
      "execution_count": null,
      "outputs": []
    },
    {
      "cell_type": "markdown",
      "metadata": {
        "id": "4db9wKPCkBkq"
      },
      "source": [
        "# Error Analysis"
      ]
    },
    {
      "cell_type": "code",
      "metadata": {
        "id": "QPuhRNE6K-45"
      },
      "source": [
        "# grab row index that are test data\n",
        "index = y_test.index\n",
        "\n",
        "# make a dataframe for each classifier using the index \n",
        "logreg_df = pd.DataFrame(y_pred_logreg, index=index).rename(columns={0:'logreg'})\n",
        "svc_df = pd.DataFrame(y_pred_svc, index=index).rename(columns={0:'svc'})\n",
        "nb_df = pd.DataFrame(y_pred_nb, index=index).rename(columns={0:'nb'})\n",
        "\n",
        "# create a dataframe for the test set with original tweet, cleaned and normalized tweet\n",
        "test_df = pd.DataFrame(data['text'], index=index).join(pd.DataFrame(data['clean'], index=index)).join(pd.DataFrame(data['normal'], index=index)).join(y_test)\n",
        "\n",
        "# create a dataframe joining the test data and the classifiers predictions\n",
        "pred_df = test_df.join([logreg_df, svc_df, nb_df])\n",
        "\n",
        "# save result to a csv so that I don't have to run 30 minutes of the program to regenrate the result, result saved to Google Drive\n",
        "pred_df.to_csv('pred_df.csv')\n"
      ],
      "execution_count": 22,
      "outputs": []
    },
    {
      "cell_type": "markdown",
      "metadata": {
        "id": "tYtxXxjioKOi"
      },
      "source": [
        "## False Negative"
      ]
    },
    {
      "cell_type": "code",
      "metadata": {
        "id": "xWTMMzjxlDzf"
      },
      "source": [
        "# positive target\n",
        "pos_df = pred_df[pred_df['target']==1]"
      ],
      "execution_count": 23,
      "outputs": []
    },
    {
      "cell_type": "markdown",
      "metadata": {
        "id": "ScgxnDZhQU1H"
      },
      "source": [
        "### logreg fn"
      ]
    },
    {
      "cell_type": "code",
      "metadata": {
        "colab": {
          "base_uri": "https://localhost:8080/",
          "height": 615
        },
        "id": "OErguZVLUR9_",
        "outputId": "36dd0644-c4d0-4c9e-888f-69e5683bd0f1"
      },
      "source": [
        "# 32578 (10.18%) test examples are misslabeld as negative by logreg, fn\n",
        "fn_logreg = pos_df[pos_df['logreg']==0]\n",
        "fn_logreg"
      ],
      "execution_count": 24,
      "outputs": [
        {
          "output_type": "execute_result",
          "data": {
            "text/html": [
              "<div>\n",
              "<style scoped>\n",
              "    .dataframe tbody tr th:only-of-type {\n",
              "        vertical-align: middle;\n",
              "    }\n",
              "\n",
              "    .dataframe tbody tr th {\n",
              "        vertical-align: top;\n",
              "    }\n",
              "\n",
              "    .dataframe thead th {\n",
              "        text-align: right;\n",
              "    }\n",
              "</style>\n",
              "<table border=\"1\" class=\"dataframe\">\n",
              "  <thead>\n",
              "    <tr style=\"text-align: right;\">\n",
              "      <th></th>\n",
              "      <th>text</th>\n",
              "      <th>clean</th>\n",
              "      <th>normal</th>\n",
              "      <th>target</th>\n",
              "      <th>logreg</th>\n",
              "      <th>svc</th>\n",
              "      <th>nb</th>\n",
              "    </tr>\n",
              "  </thead>\n",
              "  <tbody>\n",
              "    <tr>\n",
              "      <th>1451326</th>\n",
              "      <td>feeling bored, but still in da good mood</td>\n",
              "      <td>feeling bored but still in da good mood</td>\n",
              "      <td>feel bore da good mood</td>\n",
              "      <td>1</td>\n",
              "      <td>0</td>\n",
              "      <td>0</td>\n",
              "      <td>0</td>\n",
              "    </tr>\n",
              "    <tr>\n",
              "      <th>1533606</th>\n",
              "      <td>I left my Flip camera at home so I hope @michele_perras comes to hear my talk so I have a witness to my presentation</td>\n",
              "      <td>left my flip camera at home so hope perras comes to hear my talk so have witness to my presentation</td>\n",
              "      <td>left flip camera home hope perra come hear talk wit present</td>\n",
              "      <td>1</td>\n",
              "      <td>0</td>\n",
              "      <td>0</td>\n",
              "      <td>0</td>\n",
              "    </tr>\n",
              "    <tr>\n",
              "      <th>1024637</th>\n",
              "      <td>I am not working very hard today! thinking about weekend</td>\n",
              "      <td>am not working very hard today thinking about weekend</td>\n",
              "      <td>work hard today think weekend</td>\n",
              "      <td>1</td>\n",
              "      <td>0</td>\n",
              "      <td>0</td>\n",
              "      <td>0</td>\n",
              "    </tr>\n",
              "    <tr>\n",
              "      <th>1275559</th>\n",
              "      <td>I love the feeling of being hugged. So, will anyone, please, give me a hug today.</td>\n",
              "      <td>love the feeling of being hugged so will anyone please give me hug today</td>\n",
              "      <td>love feel hug hug today</td>\n",
              "      <td>1</td>\n",
              "      <td>0</td>\n",
              "      <td>0</td>\n",
              "      <td>0</td>\n",
              "    </tr>\n",
              "    <tr>\n",
              "      <th>1065444</th>\n",
              "      <td>@verityh going to miss you at this impending ZOMGbash but appreciate your work ethic  You go, Girl!</td>\n",
              "      <td>going to miss you at this impending zomgbash but appreciate your work ethic you go girl</td>\n",
              "      <td>go miss impend zomgbash appreci work ethic girl</td>\n",
              "      <td>1</td>\n",
              "      <td>0</td>\n",
              "      <td>0</td>\n",
              "      <td>0</td>\n",
              "    </tr>\n",
              "    <tr>\n",
              "      <th>...</th>\n",
              "      <td>...</td>\n",
              "      <td>...</td>\n",
              "      <td>...</td>\n",
              "      <td>...</td>\n",
              "      <td>...</td>\n",
              "      <td>...</td>\n",
              "      <td>...</td>\n",
              "    </tr>\n",
              "    <tr>\n",
              "      <th>1088109</th>\n",
              "      <td>Spoke too soon. Just had a phone call from a very out of breath @jagusti. What a guy</td>\n",
              "      <td>spoke too soon just had phone call from very out of breath what guy</td>\n",
              "      <td>spoke soon just phone breath guy</td>\n",
              "      <td>1</td>\n",
              "      <td>0</td>\n",
              "      <td>0</td>\n",
              "      <td>0</td>\n",
              "    </tr>\n",
              "    <tr>\n",
              "      <th>1026916</th>\n",
              "      <td>Is home!!</td>\n",
              "      <td>is home</td>\n",
              "      <td>home</td>\n",
              "      <td>1</td>\n",
              "      <td>0</td>\n",
              "      <td>0</td>\n",
              "      <td>0</td>\n",
              "    </tr>\n",
              "    <tr>\n",
              "      <th>1574484</th>\n",
              "      <td>@NixiePixel all because you were on digg... not bad.</td>\n",
              "      <td>all because you were on digg not bad</td>\n",
              "      <td>digg bad</td>\n",
              "      <td>1</td>\n",
              "      <td>0</td>\n",
              "      <td>0</td>\n",
              "      <td>0</td>\n",
              "    </tr>\n",
              "    <tr>\n",
              "      <th>1195876</th>\n",
              "      <td>@sheenaswu @kimberlaaaay Noo they're too expensive.</td>\n",
              "      <td>noo they are too expensive</td>\n",
              "      <td>noo expens</td>\n",
              "      <td>1</td>\n",
              "      <td>0</td>\n",
              "      <td>0</td>\n",
              "      <td>0</td>\n",
              "    </tr>\n",
              "    <tr>\n",
              "      <th>1370329</th>\n",
              "      <td>@nicole0415  Friend called me</td>\n",
              "      <td>friend called me</td>\n",
              "      <td>friend call</td>\n",
              "      <td>1</td>\n",
              "      <td>0</td>\n",
              "      <td>0</td>\n",
              "      <td>1</td>\n",
              "    </tr>\n",
              "  </tbody>\n",
              "</table>\n",
              "<p>32619 rows × 7 columns</p>\n",
              "</div>"
            ],
            "text/plain": [
              "                                                                                                                          text  ... nb\n",
              "1451326                                                                              feeling bored, but still in da good mood   ...  0\n",
              "1533606  I left my Flip camera at home so I hope @michele_perras comes to hear my talk so I have a witness to my presentation   ...  0\n",
              "1024637                                                              I am not working very hard today! thinking about weekend   ...  0\n",
              "1275559                                     I love the feeling of being hugged. So, will anyone, please, give me a hug today.   ...  0\n",
              "1065444                    @verityh going to miss you at this impending ZOMGbash but appreciate your work ethic  You go, Girl!  ...  0\n",
              "...                                                                                                                        ...  ... ..\n",
              "1088109                                  Spoke too soon. Just had a phone call from a very out of breath @jagusti. What a guy   ...  0\n",
              "1026916                                                                                                             Is home!!   ...  0\n",
              "1574484                                                                  @NixiePixel all because you were on digg... not bad.   ...  0\n",
              "1195876                                                                   @sheenaswu @kimberlaaaay Noo they're too expensive.   ...  0\n",
              "1370329                                                                                        @nicole0415  Friend called me    ...  1\n",
              "\n",
              "[32619 rows x 7 columns]"
            ]
          },
          "metadata": {
            "tags": []
          },
          "execution_count": 24
        }
      ]
    },
    {
      "cell_type": "markdown",
      "metadata": {
        "id": "khMR1EKIQZ12"
      },
      "source": [
        "### svc fn"
      ]
    },
    {
      "cell_type": "code",
      "metadata": {
        "colab": {
          "base_uri": "https://localhost:8080/",
          "height": 649
        },
        "id": "HNAcLLJykQTF",
        "outputId": "5af74318-2e95-4119-ec81-68e5104f4050"
      },
      "source": [
        "# 32854 (10.27%) test examples are misslabeld as negative by svc\n",
        "fn_svc = pos_df[pos_df['svc']==0]\n",
        "fn_svc"
      ],
      "execution_count": 25,
      "outputs": [
        {
          "output_type": "execute_result",
          "data": {
            "text/html": [
              "<div>\n",
              "<style scoped>\n",
              "    .dataframe tbody tr th:only-of-type {\n",
              "        vertical-align: middle;\n",
              "    }\n",
              "\n",
              "    .dataframe tbody tr th {\n",
              "        vertical-align: top;\n",
              "    }\n",
              "\n",
              "    .dataframe thead th {\n",
              "        text-align: right;\n",
              "    }\n",
              "</style>\n",
              "<table border=\"1\" class=\"dataframe\">\n",
              "  <thead>\n",
              "    <tr style=\"text-align: right;\">\n",
              "      <th></th>\n",
              "      <th>text</th>\n",
              "      <th>clean</th>\n",
              "      <th>normal</th>\n",
              "      <th>target</th>\n",
              "      <th>logreg</th>\n",
              "      <th>svc</th>\n",
              "      <th>nb</th>\n",
              "    </tr>\n",
              "  </thead>\n",
              "  <tbody>\n",
              "    <tr>\n",
              "      <th>1451326</th>\n",
              "      <td>feeling bored, but still in da good mood</td>\n",
              "      <td>feeling bored but still in da good mood</td>\n",
              "      <td>feel bore da good mood</td>\n",
              "      <td>1</td>\n",
              "      <td>0</td>\n",
              "      <td>0</td>\n",
              "      <td>0</td>\n",
              "    </tr>\n",
              "    <tr>\n",
              "      <th>1527747</th>\n",
              "      <td>@RanRunsIt I do.. I must of missd that one..LOL.. Just bump that and dance yourself into a good mood..</td>\n",
              "      <td>do must of missd that one lol just bump that and dance yourself into good mood</td>\n",
              "      <td>missd lol just bump danc good mood</td>\n",
              "      <td>1</td>\n",
              "      <td>1</td>\n",
              "      <td>0</td>\n",
              "      <td>0</td>\n",
              "    </tr>\n",
              "    <tr>\n",
              "      <th>1533606</th>\n",
              "      <td>I left my Flip camera at home so I hope @michele_perras comes to hear my talk so I have a witness to my presentation</td>\n",
              "      <td>left my flip camera at home so hope perras comes to hear my talk so have witness to my presentation</td>\n",
              "      <td>left flip camera home hope perra come hear talk wit present</td>\n",
              "      <td>1</td>\n",
              "      <td>0</td>\n",
              "      <td>0</td>\n",
              "      <td>0</td>\n",
              "    </tr>\n",
              "    <tr>\n",
              "      <th>1291143</th>\n",
              "      <td>FEZ, the SOUL of Morocco - Great weather; food, hospitality http://travel.nytimes.com/2007/04/08/travel/08Fez.html and they love Asians!</td>\n",
              "      <td>fez the soul of morocco great weather food hospitality and they love asians</td>\n",
              "      <td>fez soul morocco great weather food hospit love asian</td>\n",
              "      <td>1</td>\n",
              "      <td>1</td>\n",
              "      <td>0</td>\n",
              "      <td>1</td>\n",
              "    </tr>\n",
              "    <tr>\n",
              "      <th>1024637</th>\n",
              "      <td>I am not working very hard today! thinking about weekend</td>\n",
              "      <td>am not working very hard today thinking about weekend</td>\n",
              "      <td>work hard today think weekend</td>\n",
              "      <td>1</td>\n",
              "      <td>0</td>\n",
              "      <td>0</td>\n",
              "      <td>0</td>\n",
              "    </tr>\n",
              "    <tr>\n",
              "      <th>...</th>\n",
              "      <td>...</td>\n",
              "      <td>...</td>\n",
              "      <td>...</td>\n",
              "      <td>...</td>\n",
              "      <td>...</td>\n",
              "      <td>...</td>\n",
              "      <td>...</td>\n",
              "    </tr>\n",
              "    <tr>\n",
              "      <th>1026916</th>\n",
              "      <td>Is home!!</td>\n",
              "      <td>is home</td>\n",
              "      <td>home</td>\n",
              "      <td>1</td>\n",
              "      <td>0</td>\n",
              "      <td>0</td>\n",
              "      <td>0</td>\n",
              "    </tr>\n",
              "    <tr>\n",
              "      <th>1398540</th>\n",
              "      <td>@problemsolver22 thanks boo</td>\n",
              "      <td>thanks boo</td>\n",
              "      <td>thank boo</td>\n",
              "      <td>1</td>\n",
              "      <td>1</td>\n",
              "      <td>0</td>\n",
              "      <td>1</td>\n",
              "    </tr>\n",
              "    <tr>\n",
              "      <th>1574484</th>\n",
              "      <td>@NixiePixel all because you were on digg... not bad.</td>\n",
              "      <td>all because you were on digg not bad</td>\n",
              "      <td>digg bad</td>\n",
              "      <td>1</td>\n",
              "      <td>0</td>\n",
              "      <td>0</td>\n",
              "      <td>0</td>\n",
              "    </tr>\n",
              "    <tr>\n",
              "      <th>1195876</th>\n",
              "      <td>@sheenaswu @kimberlaaaay Noo they're too expensive.</td>\n",
              "      <td>noo they are too expensive</td>\n",
              "      <td>noo expens</td>\n",
              "      <td>1</td>\n",
              "      <td>0</td>\n",
              "      <td>0</td>\n",
              "      <td>0</td>\n",
              "    </tr>\n",
              "    <tr>\n",
              "      <th>1370329</th>\n",
              "      <td>@nicole0415  Friend called me</td>\n",
              "      <td>friend called me</td>\n",
              "      <td>friend call</td>\n",
              "      <td>1</td>\n",
              "      <td>0</td>\n",
              "      <td>0</td>\n",
              "      <td>1</td>\n",
              "    </tr>\n",
              "  </tbody>\n",
              "</table>\n",
              "<p>32820 rows × 7 columns</p>\n",
              "</div>"
            ],
            "text/plain": [
              "                                                                                                                                              text  ... nb\n",
              "1451326                                                                                                  feeling bored, but still in da good mood   ...  0\n",
              "1527747                                    @RanRunsIt I do.. I must of missd that one..LOL.. Just bump that and dance yourself into a good mood..   ...  0\n",
              "1533606                      I left my Flip camera at home so I hope @michele_perras comes to hear my talk so I have a witness to my presentation   ...  0\n",
              "1291143  FEZ, the SOUL of Morocco - Great weather; food, hospitality http://travel.nytimes.com/2007/04/08/travel/08Fez.html and they love Asians!   ...  1\n",
              "1024637                                                                                  I am not working very hard today! thinking about weekend   ...  0\n",
              "...                                                                                                                                            ...  ... ..\n",
              "1026916                                                                                                                                 Is home!!   ...  0\n",
              "1398540                                                                                                               @problemsolver22 thanks boo   ...  1\n",
              "1574484                                                                                      @NixiePixel all because you were on digg... not bad.   ...  0\n",
              "1195876                                                                                       @sheenaswu @kimberlaaaay Noo they're too expensive.   ...  0\n",
              "1370329                                                                                                            @nicole0415  Friend called me    ...  1\n",
              "\n",
              "[32820 rows x 7 columns]"
            ]
          },
          "metadata": {
            "tags": []
          },
          "execution_count": 25
        }
      ]
    },
    {
      "cell_type": "markdown",
      "metadata": {
        "id": "Te42Du23QfC8"
      },
      "source": [
        "### nb fn"
      ]
    },
    {
      "cell_type": "code",
      "metadata": {
        "colab": {
          "base_uri": "https://localhost:8080/",
          "height": 649
        },
        "id": "EXwH1nr1lxOs",
        "outputId": "fa4f3f39-1459-44df-8a1c-025e7c5e1f1e"
      },
      "source": [
        "# 35429 (11.07%) test examples are misslabeld as negative (fn) by nb\n",
        "fn_nb = pos_df[pos_df['nb']==0]\n",
        "fn_nb"
      ],
      "execution_count": 26,
      "outputs": [
        {
          "output_type": "execute_result",
          "data": {
            "text/html": [
              "<div>\n",
              "<style scoped>\n",
              "    .dataframe tbody tr th:only-of-type {\n",
              "        vertical-align: middle;\n",
              "    }\n",
              "\n",
              "    .dataframe tbody tr th {\n",
              "        vertical-align: top;\n",
              "    }\n",
              "\n",
              "    .dataframe thead th {\n",
              "        text-align: right;\n",
              "    }\n",
              "</style>\n",
              "<table border=\"1\" class=\"dataframe\">\n",
              "  <thead>\n",
              "    <tr style=\"text-align: right;\">\n",
              "      <th></th>\n",
              "      <th>text</th>\n",
              "      <th>clean</th>\n",
              "      <th>normal</th>\n",
              "      <th>target</th>\n",
              "      <th>logreg</th>\n",
              "      <th>svc</th>\n",
              "      <th>nb</th>\n",
              "    </tr>\n",
              "  </thead>\n",
              "  <tbody>\n",
              "    <tr>\n",
              "      <th>1451326</th>\n",
              "      <td>feeling bored, but still in da good mood</td>\n",
              "      <td>feeling bored but still in da good mood</td>\n",
              "      <td>feel bore da good mood</td>\n",
              "      <td>1</td>\n",
              "      <td>0</td>\n",
              "      <td>0</td>\n",
              "      <td>0</td>\n",
              "    </tr>\n",
              "    <tr>\n",
              "      <th>1527747</th>\n",
              "      <td>@RanRunsIt I do.. I must of missd that one..LOL.. Just bump that and dance yourself into a good mood..</td>\n",
              "      <td>do must of missd that one lol just bump that and dance yourself into good mood</td>\n",
              "      <td>missd lol just bump danc good mood</td>\n",
              "      <td>1</td>\n",
              "      <td>1</td>\n",
              "      <td>0</td>\n",
              "      <td>0</td>\n",
              "    </tr>\n",
              "    <tr>\n",
              "      <th>1533606</th>\n",
              "      <td>I left my Flip camera at home so I hope @michele_perras comes to hear my talk so I have a witness to my presentation</td>\n",
              "      <td>left my flip camera at home so hope perras comes to hear my talk so have witness to my presentation</td>\n",
              "      <td>left flip camera home hope perra come hear talk wit present</td>\n",
              "      <td>1</td>\n",
              "      <td>0</td>\n",
              "      <td>0</td>\n",
              "      <td>0</td>\n",
              "    </tr>\n",
              "    <tr>\n",
              "      <th>1181823</th>\n",
              "      <td>Laying by the pool alllll day!</td>\n",
              "      <td>laying by the pool alllll day</td>\n",
              "      <td>lay pool alllll day</td>\n",
              "      <td>1</td>\n",
              "      <td>1</td>\n",
              "      <td>1</td>\n",
              "      <td>0</td>\n",
              "    </tr>\n",
              "    <tr>\n",
              "      <th>1024637</th>\n",
              "      <td>I am not working very hard today! thinking about weekend</td>\n",
              "      <td>am not working very hard today thinking about weekend</td>\n",
              "      <td>work hard today think weekend</td>\n",
              "      <td>1</td>\n",
              "      <td>0</td>\n",
              "      <td>0</td>\n",
              "      <td>0</td>\n",
              "    </tr>\n",
              "    <tr>\n",
              "      <th>...</th>\n",
              "      <td>...</td>\n",
              "      <td>...</td>\n",
              "      <td>...</td>\n",
              "      <td>...</td>\n",
              "      <td>...</td>\n",
              "      <td>...</td>\n",
              "      <td>...</td>\n",
              "    </tr>\n",
              "    <tr>\n",
              "      <th>1466332</th>\n",
              "      <td>In edinbugh shopping  gotta love twitterberry. Hahahah. Gonna try + convince parents for muse tickets for november(;</td>\n",
              "      <td>in edinbugh shopping gotta love twitterberry hahahah gonna try convince parents for muse tickets for november</td>\n",
              "      <td>edinbugh shop got ta love twitterberri hahahah gon na tri convinc parent muse ticket novemb</td>\n",
              "      <td>1</td>\n",
              "      <td>1</td>\n",
              "      <td>1</td>\n",
              "      <td>0</td>\n",
              "    </tr>\n",
              "    <tr>\n",
              "      <th>1026916</th>\n",
              "      <td>Is home!!</td>\n",
              "      <td>is home</td>\n",
              "      <td>home</td>\n",
              "      <td>1</td>\n",
              "      <td>0</td>\n",
              "      <td>0</td>\n",
              "      <td>0</td>\n",
              "    </tr>\n",
              "    <tr>\n",
              "      <th>813450</th>\n",
              "      <td>Oh great. No a/c in the house. &amp;amp; it won't be fixed until Monday :/ Mall tomorrow  after work with the BFF!</td>\n",
              "      <td>oh great no in the house amp it will not be fixed until monday mall tomorrow after work with the bff</td>\n",
              "      <td>oh great hous amp fix monday mall tomorrow work bff</td>\n",
              "      <td>1</td>\n",
              "      <td>1</td>\n",
              "      <td>1</td>\n",
              "      <td>0</td>\n",
              "    </tr>\n",
              "    <tr>\n",
              "      <th>1574484</th>\n",
              "      <td>@NixiePixel all because you were on digg... not bad.</td>\n",
              "      <td>all because you were on digg not bad</td>\n",
              "      <td>digg bad</td>\n",
              "      <td>1</td>\n",
              "      <td>0</td>\n",
              "      <td>0</td>\n",
              "      <td>0</td>\n",
              "    </tr>\n",
              "    <tr>\n",
              "      <th>1195876</th>\n",
              "      <td>@sheenaswu @kimberlaaaay Noo they're too expensive.</td>\n",
              "      <td>noo they are too expensive</td>\n",
              "      <td>noo expens</td>\n",
              "      <td>1</td>\n",
              "      <td>0</td>\n",
              "      <td>0</td>\n",
              "      <td>0</td>\n",
              "    </tr>\n",
              "  </tbody>\n",
              "</table>\n",
              "<p>35440 rows × 7 columns</p>\n",
              "</div>"
            ],
            "text/plain": [
              "                                                                                                                          text  ... nb\n",
              "1451326                                                                              feeling bored, but still in da good mood   ...  0\n",
              "1527747                @RanRunsIt I do.. I must of missd that one..LOL.. Just bump that and dance yourself into a good mood..   ...  0\n",
              "1533606  I left my Flip camera at home so I hope @michele_perras comes to hear my talk so I have a witness to my presentation   ...  0\n",
              "1181823                                                                                        Laying by the pool alllll day!   ...  0\n",
              "1024637                                                              I am not working very hard today! thinking about weekend   ...  0\n",
              "...                                                                                                                        ...  ... ..\n",
              "1466332   In edinbugh shopping  gotta love twitterberry. Hahahah. Gonna try + convince parents for muse tickets for november(;  ...  0\n",
              "1026916                                                                                                             Is home!!   ...  0\n",
              "813450         Oh great. No a/c in the house. &amp; it won't be fixed until Monday :/ Mall tomorrow  after work with the BFF!   ...  0\n",
              "1574484                                                                  @NixiePixel all because you were on digg... not bad.   ...  0\n",
              "1195876                                                                   @sheenaswu @kimberlaaaay Noo they're too expensive.   ...  0\n",
              "\n",
              "[35440 rows x 7 columns]"
            ]
          },
          "metadata": {
            "tags": []
          },
          "execution_count": 26
        }
      ]
    },
    {
      "cell_type": "markdown",
      "metadata": {
        "id": "kTuwRIM-QlWy"
      },
      "source": [
        "## fn"
      ]
    },
    {
      "cell_type": "code",
      "metadata": {
        "colab": {
          "base_uri": "https://localhost:8080/"
        },
        "id": "x3WUi165mEww",
        "outputId": "7dc13019-a76c-408f-be54-6be19558579a"
      },
      "source": [
        "# all three classifiers predicts negative on a true positive, \n",
        "# 8.65% all three classifiers are wrong when predicting positive as negative\n",
        "fn = fn_nb[fn_nb['svc']==0][fn_nb['logreg']==0]\n"
      ],
      "execution_count": 27,
      "outputs": [
        {
          "output_type": "stream",
          "text": [
            "/usr/local/lib/python3.7/dist-packages/ipykernel_launcher.py:3: UserWarning: Boolean Series key will be reindexed to match DataFrame index.\n",
            "  This is separate from the ipykernel package so we can avoid doing imports until\n"
          ],
          "name": "stderr"
        }
      ]
    },
    {
      "cell_type": "code",
      "metadata": {
        "colab": {
          "base_uri": "https://localhost:8080/",
          "height": 659
        },
        "id": "6BDiZguas-6R",
        "outputId": "602e661c-f181-42e3-8006-d20d4f8379b3"
      },
      "source": [
        "fn[30:40]"
      ],
      "execution_count": 28,
      "outputs": [
        {
          "output_type": "execute_result",
          "data": {
            "text/html": [
              "<div>\n",
              "<style scoped>\n",
              "    .dataframe tbody tr th:only-of-type {\n",
              "        vertical-align: middle;\n",
              "    }\n",
              "\n",
              "    .dataframe tbody tr th {\n",
              "        vertical-align: top;\n",
              "    }\n",
              "\n",
              "    .dataframe thead th {\n",
              "        text-align: right;\n",
              "    }\n",
              "</style>\n",
              "<table border=\"1\" class=\"dataframe\">\n",
              "  <thead>\n",
              "    <tr style=\"text-align: right;\">\n",
              "      <th></th>\n",
              "      <th>text</th>\n",
              "      <th>clean</th>\n",
              "      <th>normal</th>\n",
              "      <th>target</th>\n",
              "      <th>logreg</th>\n",
              "      <th>svc</th>\n",
              "      <th>nb</th>\n",
              "    </tr>\n",
              "  </thead>\n",
              "  <tbody>\n",
              "    <tr>\n",
              "      <th>1512945</th>\n",
              "      <td>cutting up tshirts</td>\n",
              "      <td>cutting up tshirts</td>\n",
              "      <td>cut tshirt</td>\n",
              "      <td>1</td>\n",
              "      <td>0</td>\n",
              "      <td>0</td>\n",
              "      <td>0</td>\n",
              "    </tr>\n",
              "    <tr>\n",
              "      <th>903466</th>\n",
              "      <td>so the Today show still hasn't gotten in touch with me, i wish they would so i can take my friends and myself to the NKOTB show</td>\n",
              "      <td>so the today show still hasn gotten in touch with me wish they would so can take my friends and myself to the nkotb show</td>\n",
              "      <td>today hasn gotten touch wish friend nkotb</td>\n",
              "      <td>1</td>\n",
              "      <td>0</td>\n",
              "      <td>0</td>\n",
              "      <td>0</td>\n",
              "    </tr>\n",
              "    <tr>\n",
              "      <th>1335579</th>\n",
              "      <td>i just got my @blink182 tickets  sucks i could only presale 4 tickets</td>\n",
              "      <td>just got my tickets sucks could only presale tickets</td>\n",
              "      <td>just got ticket suck presal ticket</td>\n",
              "      <td>1</td>\n",
              "      <td>0</td>\n",
              "      <td>0</td>\n",
              "      <td>0</td>\n",
              "    </tr>\n",
              "    <tr>\n",
              "      <th>1044749</th>\n",
              "      <td>@taylorswift13 You don't need sleep! Live every moment (until you really need a nap!) Your voice is a gift and the show will be awesome!</td>\n",
              "      <td>you don need sleep live every moment until you really need nap your voice is gift and the show will be awesome</td>\n",
              "      <td>don need sleep live moment realli need nap voic gift awesom</td>\n",
              "      <td>1</td>\n",
              "      <td>0</td>\n",
              "      <td>0</td>\n",
              "      <td>0</td>\n",
              "    </tr>\n",
              "    <tr>\n",
              "      <th>1509536</th>\n",
              "      <td>im tired but i dont feel like going to bed but i will anyways. goodnight tweeters</td>\n",
              "      <td>im tired but dont feel like going to bed but will anyways goodnight tweeters</td>\n",
              "      <td>im tire dont feel like go bed anyway goodnight tweeter</td>\n",
              "      <td>1</td>\n",
              "      <td>0</td>\n",
              "      <td>0</td>\n",
              "      <td>0</td>\n",
              "    </tr>\n",
              "    <tr>\n",
              "      <th>1031994</th>\n",
              "      <td>@mgehlers well MtL but yeah same same, different shaped ball causing the issue</td>\n",
              "      <td>well mtl but yeah same same different shaped ball causing the issue</td>\n",
              "      <td>mtl yeah differ shape ball caus issu</td>\n",
              "      <td>1</td>\n",
              "      <td>0</td>\n",
              "      <td>0</td>\n",
              "      <td>0</td>\n",
              "    </tr>\n",
              "    <tr>\n",
              "      <th>886308</th>\n",
              "      <td>@stephenaevans I want to wake up not get a migraine</td>\n",
              "      <td>want to wake up not get migraine</td>\n",
              "      <td>want wake migrain</td>\n",
              "      <td>1</td>\n",
              "      <td>0</td>\n",
              "      <td>0</td>\n",
              "      <td>0</td>\n",
              "    </tr>\n",
              "    <tr>\n",
              "      <th>1188702</th>\n",
              "      <td>@Dannymcfly Aww poor Harry! I look forward to him tweeting too</td>\n",
              "      <td>aww poor harry look forward to him tweeting too</td>\n",
              "      <td>aww poor harri look forward tweet</td>\n",
              "      <td>1</td>\n",
              "      <td>0</td>\n",
              "      <td>0</td>\n",
              "      <td>0</td>\n",
              "    </tr>\n",
              "    <tr>\n",
              "      <th>1150166</th>\n",
              "      <td>Oh, Firefox, I've missed you in some ways. Like your Reload All Tabs option, or like the NoScript add-on. I don't mind Chrome 'sploding</td>\n",
              "      <td>oh firefox have missed you in some ways like your reload all tabs option or like the noscript add on don mind chrome sploding</td>\n",
              "      <td>oh firefox miss way like reload tab option like noscript add don mind chrome splode</td>\n",
              "      <td>1</td>\n",
              "      <td>0</td>\n",
              "      <td>0</td>\n",
              "      <td>0</td>\n",
              "    </tr>\n",
              "    <tr>\n",
              "      <th>1512235</th>\n",
              "      <td>@cambie Totally. I was just pulling legs with that. So what, I lost 3 followers. Let it sink... I'll blow bubbles</td>\n",
              "      <td>totally was just pulling legs with that so what lost followers let it sink will blow bubbles</td>\n",
              "      <td>total just pull leg lost follow let sink blow bubbl</td>\n",
              "      <td>1</td>\n",
              "      <td>0</td>\n",
              "      <td>0</td>\n",
              "      <td>0</td>\n",
              "    </tr>\n",
              "  </tbody>\n",
              "</table>\n",
              "</div>"
            ],
            "text/plain": [
              "                                                                                                                                              text  ... nb\n",
              "1512945                                                                                                                        cutting up tshirts   ...  0\n",
              "903466            so the Today show still hasn't gotten in touch with me, i wish they would so i can take my friends and myself to the NKOTB show   ...  0\n",
              "1335579                                                                      i just got my @blink182 tickets  sucks i could only presale 4 tickets  ...  0\n",
              "1044749  @taylorswift13 You don't need sleep! Live every moment (until you really need a nap!) Your voice is a gift and the show will be awesome!   ...  0\n",
              "1509536                                                         im tired but i dont feel like going to bed but i will anyways. goodnight tweeters   ...  0\n",
              "1031994                                                            @mgehlers well MtL but yeah same same, different shaped ball causing the issue   ...  0\n",
              "886308                                                                                        @stephenaevans I want to wake up not get a migraine   ...  0\n",
              "1188702                                                                            @Dannymcfly Aww poor Harry! I look forward to him tweeting too   ...  0\n",
              "1150166   Oh, Firefox, I've missed you in some ways. Like your Reload All Tabs option, or like the NoScript add-on. I don't mind Chrome 'sploding   ...  0\n",
              "1512235                         @cambie Totally. I was just pulling legs with that. So what, I lost 3 followers. Let it sink... I'll blow bubbles   ...  0\n",
              "\n",
              "[10 rows x 7 columns]"
            ]
          },
          "metadata": {
            "tags": []
          },
          "execution_count": 28
        }
      ]
    },
    {
      "cell_type": "markdown",
      "metadata": {
        "id": "-Iff9bVErliK"
      },
      "source": [
        "Since more than 8 and a half of the time, all three classifiers predictive a negative while the truth is positive, analyzie the text where all three got wrong.  "
      ]
    },
    {
      "cell_type": "markdown",
      "metadata": {
        "id": "BUFr9TwivvV4"
      },
      "source": [
        "## False Positive"
      ]
    },
    {
      "cell_type": "code",
      "metadata": {
        "id": "UV9-SJZKwB0q",
        "colab": {
          "base_uri": "https://localhost:8080/",
          "height": 1000
        },
        "outputId": "96c4d8af-fe61-485e-8a9b-376570c02c14"
      },
      "source": [
        "# negatie target\n",
        "neg_df = pred_df[pred_df['target']==0]\n",
        "# test examples are misslabeld as positive by logreg, fp\n",
        "fp_logreg = neg_df[neg_df['logreg']==1]\n",
        "fp_logreg\n",
        "# test examples are misslabeld as positive by svc, fp\n",
        "fp_svc = neg_df[neg_df['svc']==1]\n",
        "fp_svc\n",
        "# test examples are misslabeld as positive by nb, fp\n",
        "fp_nb = neg_df[neg_df['nb']==1]\n",
        "fp_nb\n",
        "# all three classifiers predicts positive on a true negative, \n",
        "# all three classifiers are wrong when predicting negative as positive\n",
        "fp = fp_nb[fp_nb['svc']==1][fp_nb['logreg']==1]\n",
        "fp[6000:6020]"
      ],
      "execution_count": 29,
      "outputs": [
        {
          "output_type": "stream",
          "text": [
            "/usr/local/lib/python3.7/dist-packages/ipykernel_launcher.py:14: UserWarning: Boolean Series key will be reindexed to match DataFrame index.\n",
            "  \n"
          ],
          "name": "stderr"
        },
        {
          "output_type": "execute_result",
          "data": {
            "text/html": [
              "<div>\n",
              "<style scoped>\n",
              "    .dataframe tbody tr th:only-of-type {\n",
              "        vertical-align: middle;\n",
              "    }\n",
              "\n",
              "    .dataframe tbody tr th {\n",
              "        vertical-align: top;\n",
              "    }\n",
              "\n",
              "    .dataframe thead th {\n",
              "        text-align: right;\n",
              "    }\n",
              "</style>\n",
              "<table border=\"1\" class=\"dataframe\">\n",
              "  <thead>\n",
              "    <tr style=\"text-align: right;\">\n",
              "      <th></th>\n",
              "      <th>text</th>\n",
              "      <th>clean</th>\n",
              "      <th>normal</th>\n",
              "      <th>target</th>\n",
              "      <th>logreg</th>\n",
              "      <th>svc</th>\n",
              "      <th>nb</th>\n",
              "    </tr>\n",
              "  </thead>\n",
              "  <tbody>\n",
              "    <tr>\n",
              "      <th>599134</th>\n",
              "      <td>i 4got to watch boys over flowers...</td>\n",
              "      <td>got to watch boys over flowers</td>\n",
              "      <td>got watch boy flower</td>\n",
              "      <td>0</td>\n",
              "      <td>1</td>\n",
              "      <td>1</td>\n",
              "      <td>1</td>\n",
              "    </tr>\n",
              "    <tr>\n",
              "      <th>780336</th>\n",
              "      <td>@smileshutter Me too  I'll go check it out</td>\n",
              "      <td>me too will go check it out</td>\n",
              "      <td>check</td>\n",
              "      <td>0</td>\n",
              "      <td>1</td>\n",
              "      <td>1</td>\n",
              "      <td>1</td>\n",
              "    </tr>\n",
              "    <tr>\n",
              "      <th>526283</th>\n",
              "      <td>@HankBobBBQ no curry in my pantry</td>\n",
              "      <td>no curry in my pantry</td>\n",
              "      <td>curri pantri</td>\n",
              "      <td>0</td>\n",
              "      <td>1</td>\n",
              "      <td>1</td>\n",
              "      <td>1</td>\n",
              "    </tr>\n",
              "    <tr>\n",
              "      <th>214233</th>\n",
              "      <td>can't go swimming 2 day..mabey tomorrow..</td>\n",
              "      <td>cannot go swimming day mabey tomorrow</td>\n",
              "      <td>swim day mabey tomorrow</td>\n",
              "      <td>0</td>\n",
              "      <td>1</td>\n",
              "      <td>1</td>\n",
              "      <td>1</td>\n",
              "    </tr>\n",
              "    <tr>\n",
              "      <th>672072</th>\n",
              "      <td>@dormicile  okay. thanks though!</td>\n",
              "      <td>okay thanks though</td>\n",
              "      <td>okay thank</td>\n",
              "      <td>0</td>\n",
              "      <td>1</td>\n",
              "      <td>1</td>\n",
              "      <td>1</td>\n",
              "    </tr>\n",
              "    <tr>\n",
              "      <th>33990</th>\n",
              "      <td>Is it already weekend...?</td>\n",
              "      <td>is it already weekend</td>\n",
              "      <td>weekend</td>\n",
              "      <td>0</td>\n",
              "      <td>1</td>\n",
              "      <td>1</td>\n",
              "      <td>1</td>\n",
              "    </tr>\n",
              "    <tr>\n",
              "      <th>709435</th>\n",
              "      <td>@Dannymcfly http://twitpic.com/7xvhl - follow me  follow me  follow me  follow me  follow me  follow me  follow me  follow ...</td>\n",
              "      <td>follow me follow me follow me follow me follow me follow me follow me follow</td>\n",
              "      <td>follow follow follow follow follow follow follow follow</td>\n",
              "      <td>0</td>\n",
              "      <td>1</td>\n",
              "      <td>1</td>\n",
              "      <td>1</td>\n",
              "    </tr>\n",
              "    <tr>\n",
              "      <th>155979</th>\n",
              "      <td>i feel so alone  hehe...that's because i am.. haha..i wanna watch up</td>\n",
              "      <td>feel so alone hehe that because am haha wanna watch up</td>\n",
              "      <td>feel hehe haha wan na watch</td>\n",
              "      <td>0</td>\n",
              "      <td>1</td>\n",
              "      <td>1</td>\n",
              "      <td>1</td>\n",
              "    </tr>\n",
              "    <tr>\n",
              "      <th>61947</th>\n",
              "      <td>@definitelyian it was fun.. they were great! i didn't see you ..</td>\n",
              "      <td>it was fun they were great did not see you</td>\n",
              "      <td>fun great did</td>\n",
              "      <td>0</td>\n",
              "      <td>1</td>\n",
              "      <td>1</td>\n",
              "      <td>1</td>\n",
              "    </tr>\n",
              "    <tr>\n",
              "      <th>157273</th>\n",
              "      <td>@missxena I just really love Exene and John Doe, I think Billy is still in the band . But Im not 21 so now I cant go to the shows</td>\n",
              "      <td>just really love exene and john doe think billy is still in the band but im not so now cant go to the shows</td>\n",
              "      <td>just realli love exen john doe think billi band im show</td>\n",
              "      <td>0</td>\n",
              "      <td>1</td>\n",
              "      <td>1</td>\n",
              "      <td>1</td>\n",
              "    </tr>\n",
              "    <tr>\n",
              "      <th>2293</th>\n",
              "      <td>@catdevnull nah, same one, rang up to see what progress was, someone else has offered but been rejected, they reckon 117-118+ to get it</td>\n",
              "      <td>nah same one rang up to see what progress was someone else has offered but been rejected they reckon to get it</td>\n",
              "      <td>nah rang progress offer reject reckon</td>\n",
              "      <td>0</td>\n",
              "      <td>1</td>\n",
              "      <td>1</td>\n",
              "      <td>1</td>\n",
              "    </tr>\n",
              "    <tr>\n",
              "      <th>105968</th>\n",
              "      <td>@sweetmexicangal None of your posts from this morning were in my feed... I had to click on your name and scroll back to see them.</td>\n",
              "      <td>none of your posts from this morning were in my feed had to click on your name and scroll back to see them</td>\n",
              "      <td>post morn feed click scroll</td>\n",
              "      <td>0</td>\n",
              "      <td>1</td>\n",
              "      <td>1</td>\n",
              "      <td>1</td>\n",
              "    </tr>\n",
              "    <tr>\n",
              "      <th>317701</th>\n",
              "      <td>@mychalbarr Ohhhh! That IS FTL  BUT... hardworking people are DEFINITELY FTW! Good on ya darling! xx</td>\n",
              "      <td>ohhhh that is ftl but hardworking people are definitely ftw good on ya darling xx</td>\n",
              "      <td>ohhhh ftl hardwork peopl definit ftw good ya darl xx</td>\n",
              "      <td>0</td>\n",
              "      <td>1</td>\n",
              "      <td>1</td>\n",
              "      <td>1</td>\n",
              "    </tr>\n",
              "    <tr>\n",
              "      <th>656260</th>\n",
              "      <td>not excited about slangin' alone today</td>\n",
              "      <td>not excited about slangin alone today</td>\n",
              "      <td>excit slangin today</td>\n",
              "      <td>0</td>\n",
              "      <td>1</td>\n",
              "      <td>1</td>\n",
              "      <td>1</td>\n",
              "    </tr>\n",
              "    <tr>\n",
              "      <th>263888</th>\n",
              "      <td>I can't find a picture I like!  OHH NO!</td>\n",
              "      <td>cannot find picture like ohh no</td>\n",
              "      <td>pictur like ohh</td>\n",
              "      <td>0</td>\n",
              "      <td>1</td>\n",
              "      <td>1</td>\n",
              "      <td>1</td>\n",
              "    </tr>\n",
              "    <tr>\n",
              "      <th>65991</th>\n",
              "      <td>So tiredd, watched 10 year olds play some &amp;quot;great&amp;quot; basketball today for 8 whole hours but i had a good laugh!!! Now bio homwork.</td>\n",
              "      <td>so tiredd watched year olds play some quot great quot basketball today for whole hours but had good laugh now bio homwork</td>\n",
              "      <td>tiredd watch year old play quot great quot basketbal today hour good laugh bio homwork</td>\n",
              "      <td>0</td>\n",
              "      <td>1</td>\n",
              "      <td>1</td>\n",
              "      <td>1</td>\n",
              "    </tr>\n",
              "    <tr>\n",
              "      <th>386240</th>\n",
              "      <td>Ok so there's mass twitts about that &amp;quot;Hangover&amp;quot; movie... def bout to go to the show an see tht! Only if today was Wed</td>\n",
              "      <td>ok so there is mass twitts about that quot hangover quot movie def bout to go to the show an see tht only if today was wed</td>\n",
              "      <td>ok mass twitt quot hangov quot movi def bout tht today wed</td>\n",
              "      <td>0</td>\n",
              "      <td>1</td>\n",
              "      <td>1</td>\n",
              "      <td>1</td>\n",
              "    </tr>\n",
              "    <tr>\n",
              "      <th>588760</th>\n",
              "      <td>@MamboJimbo Are you liking Top Chef Masters?  I would love it a lot more if Padman &amp;amp; Tom were hosting...    I don't like the new gal.</td>\n",
              "      <td>are you liking top chef masters would love it lot more if padman amp tom were hosting don like the new gal</td>\n",
              "      <td>like chef master love lot padman amp tom host don like new gal</td>\n",
              "      <td>0</td>\n",
              "      <td>1</td>\n",
              "      <td>1</td>\n",
              "      <td>1</td>\n",
              "    </tr>\n",
              "    <tr>\n",
              "      <th>195056</th>\n",
              "      <td>@TomHemingway No probs!    Id promote you guys on my page but i only got about 20followers so wnt be worth it  Good Luck</td>\n",
              "      <td>no probs id promote you guys on my page but only got about followers so wnt be worth it good luck</td>\n",
              "      <td>prob id promot guy page got follow wnt worth good luck</td>\n",
              "      <td>0</td>\n",
              "      <td>1</td>\n",
              "      <td>1</td>\n",
              "      <td>1</td>\n",
              "    </tr>\n",
              "    <tr>\n",
              "      <th>231644</th>\n",
              "      <td>@GymBrown wishi was there  happy bday</td>\n",
              "      <td>wishi was there happy bday</td>\n",
              "      <td>wishi happi bday</td>\n",
              "      <td>0</td>\n",
              "      <td>1</td>\n",
              "      <td>1</td>\n",
              "      <td>1</td>\n",
              "    </tr>\n",
              "  </tbody>\n",
              "</table>\n",
              "</div>"
            ],
            "text/plain": [
              "                                                                                                                                              text  ... nb\n",
              "599134                                                                                                       i 4got to watch boys over flowers...   ...  1\n",
              "780336                                                                                                 @smileshutter Me too  I'll go check it out   ...  1\n",
              "526283                                                                                                          @HankBobBBQ no curry in my pantry   ...  1\n",
              "214233                                                                                                   can't go swimming 2 day..mabey tomorrow..  ...  1\n",
              "672072                                                                                                            @dormicile  okay. thanks though!  ...  1\n",
              "33990                                                                                                                   Is it already weekend...?   ...  1\n",
              "709435              @Dannymcfly http://twitpic.com/7xvhl - follow me  follow me  follow me  follow me  follow me  follow me  follow me  follow ...  ...  1\n",
              "155979                                                                        i feel so alone  hehe...that's because i am.. haha..i wanna watch up  ...  1\n",
              "61947                                                                            @definitelyian it was fun.. they were great! i didn't see you ..   ...  1\n",
              "157273          @missxena I just really love Exene and John Doe, I think Billy is still in the band . But Im not 21 so now I cant go to the shows   ...  1\n",
              "2293      @catdevnull nah, same one, rang up to see what progress was, someone else has offered but been rejected, they reckon 117-118+ to get it   ...  1\n",
              "105968          @sweetmexicangal None of your posts from this morning were in my feed... I had to click on your name and scroll back to see them.   ...  1\n",
              "317701                                        @mychalbarr Ohhhh! That IS FTL  BUT... hardworking people are DEFINITELY FTW! Good on ya darling! xx  ...  1\n",
              "656260                                                                                                     not excited about slangin' alone today   ...  1\n",
              "263888                                                                                                     I can't find a picture I like!  OHH NO!  ...  1\n",
              "65991   So tiredd, watched 10 year olds play some &quot;great&quot; basketball today for 8 whole hours but i had a good laugh!!! Now bio homwork.   ...  1\n",
              "386240            Ok so there's mass twitts about that &quot;Hangover&quot; movie... def bout to go to the show an see tht! Only if today was Wed   ...  1\n",
              "588760   @MamboJimbo Are you liking Top Chef Masters?  I would love it a lot more if Padman &amp; Tom were hosting...    I don't like the new gal.  ...  1\n",
              "195056                    @TomHemingway No probs!    Id promote you guys on my page but i only got about 20followers so wnt be worth it  Good Luck  ...  1\n",
              "231644                                                                                                       @GymBrown wishi was there  happy bday  ...  1\n",
              "\n",
              "[20 rows x 7 columns]"
            ]
          },
          "metadata": {
            "tags": []
          },
          "execution_count": 29
        }
      ]
    },
    {
      "cell_type": "code",
      "metadata": {
        "id": "sgZeG5K1xUt1"
      },
      "source": [
        ""
      ],
      "execution_count": 29,
      "outputs": []
    }
  ]
}