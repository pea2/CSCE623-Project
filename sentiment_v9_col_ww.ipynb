{
  "nbformat": 4,
  "nbformat_minor": 0,
  "metadata": {
    "colab": {
      "name": "sentiment v9-col ww.ipynb",
      "provenance": [],
      "collapsed_sections": [
        "nQy5CAt0OmXn",
        "JHKSdkBVLlKH",
        "srXruwZnLuv8",
        "80OC-ypiLFb6",
        "OVZqUfm1WJFU",
        "qev-Md6b5qD9",
        "gq3KxKHpNk4X",
        "2XHjmMmGViMW",
        "KuEkb-wJmkcx"
      ],
      "include_colab_link": true
    },
    "kernelspec": {
      "name": "python3",
      "display_name": "Python 3"
    },
    "language_info": {
      "name": "python"
    }
  },
  "cells": [
    {
      "cell_type": "markdown",
      "metadata": {
        "id": "view-in-github",
        "colab_type": "text"
      },
      "source": [
        "<a href=\"https://colab.research.google.com/github/pea2/CSCE623-Project/blob/main/sentiment_v9_col_ww.ipynb\" target=\"_parent\"><img src=\"https://colab.research.google.com/assets/colab-badge.svg\" alt=\"Open In Colab\"/></a>"
      ]
    },
    {
      "cell_type": "markdown",
      "metadata": {
        "id": "xY1b7WVlERGL"
      },
      "source": [
        "Code Source\n",
        "\n",
        "https://www.kaggle.com/kritanjalijain/twitter-sentiment-analysis/notebook\n",
        "\n",
        "https://www.kaggle.com/smitshah00/sentiment-analysis-ml-rnn\n",
        "\n",
        "https://www.kaggle.com/lykin22/twitter-sentiment-analysis-with-naive-bayes-85-acc\n",
        "\n",
        "Data Source\n",
        "\n",
        "https://www.kaggle.com/kazanova/sentiment140\n",
        "\n"
      ]
    },
    {
      "cell_type": "code",
      "metadata": {
        "colab": {
          "base_uri": "https://localhost:8080/"
        },
        "id": "hfNwgWA3q5xg",
        "outputId": "4fe89118-4ccb-4406-f61e-db59e31e25af"
      },
      "source": [
        "# print(sklearn.__version__)\n",
        "!pip install scikit-learn --upgrade"
      ],
      "execution_count": 1,
      "outputs": [
        {
          "output_type": "stream",
          "text": [
            "Requirement already up-to-date: scikit-learn in /usr/local/lib/python3.7/dist-packages (0.24.2)\n",
            "Requirement already satisfied, skipping upgrade: threadpoolctl>=2.0.0 in /usr/local/lib/python3.7/dist-packages (from scikit-learn) (2.1.0)\n",
            "Requirement already satisfied, skipping upgrade: scipy>=0.19.1 in /usr/local/lib/python3.7/dist-packages (from scikit-learn) (1.4.1)\n",
            "Requirement already satisfied, skipping upgrade: numpy>=1.13.3 in /usr/local/lib/python3.7/dist-packages (from scikit-learn) (1.19.5)\n",
            "Requirement already satisfied, skipping upgrade: joblib>=0.11 in /usr/local/lib/python3.7/dist-packages (from scikit-learn) (1.0.1)\n"
          ],
          "name": "stdout"
        }
      ]
    },
    {
      "cell_type": "markdown",
      "metadata": {
        "id": "Kl8kc20NEoeZ"
      },
      "source": [
        "Set current working directory to Google Drive "
      ]
    },
    {
      "cell_type": "code",
      "metadata": {
        "colab": {
          "base_uri": "https://localhost:8080/",
          "height": 69
        },
        "id": "mDjA559M_vAb",
        "outputId": "a64945b2-e13e-4b4f-ad48-b8c9f115c25d"
      },
      "source": [
        "# set current working directory to Google Drive to retrive data\n",
        "from google.colab import drive \n",
        "drive.mount('/content/drive')\n",
        "import os\n",
        "%cd /content/drive/My\\ Drive/Colab\\ Notebooks/Thesis/\n",
        "os.getcwd()"
      ],
      "execution_count": 2,
      "outputs": [
        {
          "output_type": "stream",
          "text": [
            "Drive already mounted at /content/drive; to attempt to forcibly remount, call drive.mount(\"/content/drive\", force_remount=True).\n",
            "/content/drive/My Drive/Colab Notebooks/Thesis\n"
          ],
          "name": "stdout"
        },
        {
          "output_type": "execute_result",
          "data": {
            "application/vnd.google.colaboratory.intrinsic+json": {
              "type": "string"
            },
            "text/plain": [
              "'/content/drive/My Drive/Colab Notebooks/Thesis'"
            ]
          },
          "metadata": {
            "tags": []
          },
          "execution_count": 2
        }
      ]
    },
    {
      "cell_type": "code",
      "metadata": {
        "id": "sQvCxUiJeVCK"
      },
      "source": [
        "import pandas as pd\n",
        "import numpy as np\n",
        "import matplotlib.pyplot as plt\n",
        "import seaborn as sns\n",
        "\n",
        "from IPython.display import Markdown as md\n",
        "from IPython.display import display, Math, Latex"
      ],
      "execution_count": 3,
      "outputs": []
    },
    {
      "cell_type": "markdown",
      "metadata": {
        "id": "KlnwsHrACaXX"
      },
      "source": [
        "# Read in data"
      ]
    },
    {
      "cell_type": "code",
      "metadata": {
        "_uuid": "ae886376-ce2c-41b0-8fb4-c62d0309e085",
        "_cell_guid": "2b22348b-eb54-4727-9915-886227a46846",
        "trusted": true,
        "id": "QzvBBWo9_jQV"
      },
      "source": [
        "import pandas as pd\n",
        "data_raw = pd.read_csv('02 1.6 mil sentiment(neg pos).csv', encoding = 'latin', header=None)"
      ],
      "execution_count": 4,
      "outputs": []
    },
    {
      "cell_type": "markdown",
      "metadata": {
        "id": "sqh-XYOtdC2d"
      },
      "source": [
        "# Sequester test set"
      ]
    },
    {
      "cell_type": "code",
      "metadata": {
        "id": "XRr1JYsPA8tG"
      },
      "source": [
        "data_raw.head()"
      ],
      "execution_count": null,
      "outputs": []
    },
    {
      "cell_type": "code",
      "metadata": {
        "id": "4qr-BHR1xLym",
        "colab": {
          "base_uri": "https://localhost:8080/"
        },
        "outputId": "07d87cce-4d8a-4677-a5cc-681be1ff6008"
      },
      "source": [
        "\n",
        "from sklearn.model_selection import train_test_split\n",
        "\n",
        "# first column is target column, separate it out for later train-test spliting\n",
        "data_y = data_raw.loc[:,0] # first column\n",
        "data_not_y = data_raw.iloc[:,1:6] # 2nd column to 6th column\n",
        "\n",
        "# train-test split: 80-20\n",
        "# set random state using numpy.random.RandomState so that each time calls the function, the split is not exactly the same\n",
        "\n",
        "random_state = np.random.RandomState(9363)\n",
        "\n",
        "X_train, X_test, y_train, y_test = train_test_split(data_not_y, data_y, \n",
        "                                                    test_size = 0.20, \n",
        "                                                    random_state=random_state, \n",
        "                                                    stratify = data_raw[0])\n",
        "\n",
        "print('X_train.shape: ', X_train.shape)\n",
        "print('y_train.shape: ', y_train.shape)\n",
        "print('X_test.shape:  ', X_test.shape)\n",
        "print('y_test.shape:  ', y_test.shape)\n",
        "print('\\ntraining set target counts per class:\\n', y_train.value_counts(), '\\n')\n",
        "print('test set target counts per class:\\n', y_test.value_counts())"
      ],
      "execution_count": 5,
      "outputs": [
        {
          "output_type": "stream",
          "text": [
            "X_train.shape:  (1280000, 5)\n",
            "y_train.shape:  (1280000,)\n",
            "X_test.shape:   (320000, 5)\n",
            "y_test.shape:   (320000,)\n",
            "\n",
            "training set target counts per class:\n",
            " 4    640000\n",
            "0    640000\n",
            "Name: 0, dtype: int64 \n",
            "\n",
            "test set target counts per class:\n",
            " 4    160000\n",
            "0    160000\n",
            "Name: 0, dtype: int64\n"
          ],
          "name": "stdout"
        }
      ]
    },
    {
      "cell_type": "markdown",
      "metadata": {
        "id": "cWsxPguEC1JD"
      },
      "source": [
        "# Data exploration"
      ]
    },
    {
      "cell_type": "markdown",
      "metadata": {
        "id": "ZvzBwr2EOesX"
      },
      "source": [
        "### putting y back with rest of the columns and call the training set \"data\""
      ]
    },
    {
      "cell_type": "code",
      "metadata": {
        "id": "CUAY2_oT4PSB"
      },
      "source": [
        "yy = pd.DataFrame(y_train)\n",
        "data = yy.join(X_train)\n",
        "# data.info()\n",
        "# data.head()"
      ],
      "execution_count": 6,
      "outputs": []
    },
    {
      "cell_type": "markdown",
      "metadata": {
        "id": "w1ipX2bdicjj"
      },
      "source": [
        "### change column names to be more informative"
      ]
    },
    {
      "cell_type": "code",
      "metadata": {
        "id": "aNA7OIEjBMMu",
        "colab": {
          "base_uri": "https://localhost:8080/",
          "height": 195
        },
        "outputId": "518aea7d-639b-4a06-836a-4982b88b6e77"
      },
      "source": [
        "data = data.rename(columns={0: 'target', 1: 'id', 2: 'date', 3: 'query', 4: 'username', 5: 'text'})\n",
        "data.head()\n",
        "\n",
        "# alternatively, change column name when reading in data\n",
        "# data = pd.read_csv('02 1.6 mil sentiment(neg pos).csv',encoding='latin', names = ['target','id','date','query','username','text'])"
      ],
      "execution_count": 7,
      "outputs": [
        {
          "output_type": "execute_result",
          "data": {
            "text/html": [
              "<div>\n",
              "<style scoped>\n",
              "    .dataframe tbody tr th:only-of-type {\n",
              "        vertical-align: middle;\n",
              "    }\n",
              "\n",
              "    .dataframe tbody tr th {\n",
              "        vertical-align: top;\n",
              "    }\n",
              "\n",
              "    .dataframe thead th {\n",
              "        text-align: right;\n",
              "    }\n",
              "</style>\n",
              "<table border=\"1\" class=\"dataframe\">\n",
              "  <thead>\n",
              "    <tr style=\"text-align: right;\">\n",
              "      <th></th>\n",
              "      <th>target</th>\n",
              "      <th>id</th>\n",
              "      <th>date</th>\n",
              "      <th>query</th>\n",
              "      <th>username</th>\n",
              "      <th>text</th>\n",
              "    </tr>\n",
              "  </thead>\n",
              "  <tbody>\n",
              "    <tr>\n",
              "      <th>92685</th>\n",
              "      <td>0</td>\n",
              "      <td>1760170029</td>\n",
              "      <td>Sun May 10 20:50:18 PDT 2009</td>\n",
              "      <td>NO_QUERY</td>\n",
              "      <td>bigdog6286</td>\n",
              "      <td>but odds are we are not gonna make it  ? http:...</td>\n",
              "    </tr>\n",
              "    <tr>\n",
              "      <th>414082</th>\n",
              "      <td>0</td>\n",
              "      <td>2060740674</td>\n",
              "      <td>Sat Jun 06 19:29:17 PDT 2009</td>\n",
              "      <td>NO_QUERY</td>\n",
              "      <td>TiffanyIPS</td>\n",
              "      <td>Is at Justins being forced to sing by about 3 ...</td>\n",
              "    </tr>\n",
              "    <tr>\n",
              "      <th>312468</th>\n",
              "      <td>0</td>\n",
              "      <td>2001536723</td>\n",
              "      <td>Tue Jun 02 01:12:40 PDT 2009</td>\n",
              "      <td>NO_QUERY</td>\n",
              "      <td>lorri79</td>\n",
              "      <td>back from fishing but no fish  will try again ...</td>\n",
              "    </tr>\n",
              "    <tr>\n",
              "      <th>81414</th>\n",
              "      <td>0</td>\n",
              "      <td>1752713484</td>\n",
              "      <td>Sat May 09 22:44:34 PDT 2009</td>\n",
              "      <td>NO_QUERY</td>\n",
              "      <td>ricosuave22</td>\n",
              "      <td>hangin' out at home playing some online games....</td>\n",
              "    </tr>\n",
              "    <tr>\n",
              "      <th>397946</th>\n",
              "      <td>0</td>\n",
              "      <td>2056761369</td>\n",
              "      <td>Sat Jun 06 11:44:41 PDT 2009</td>\n",
              "      <td>NO_QUERY</td>\n",
              "      <td>lindatusti</td>\n",
              "      <td>I'm freakin' jealous of @irisvarsi  She can go...</td>\n",
              "    </tr>\n",
              "  </tbody>\n",
              "</table>\n",
              "</div>"
            ],
            "text/plain": [
              "        target  ...                                               text\n",
              "92685        0  ...  but odds are we are not gonna make it  ? http:...\n",
              "414082       0  ...  Is at Justins being forced to sing by about 3 ...\n",
              "312468       0  ...  back from fishing but no fish  will try again ...\n",
              "81414        0  ...  hangin' out at home playing some online games....\n",
              "397946       0  ...  I'm freakin' jealous of @irisvarsi  She can go...\n",
              "\n",
              "[5 rows x 6 columns]"
            ]
          },
          "metadata": {
            "tags": []
          },
          "execution_count": 7
        }
      ]
    },
    {
      "cell_type": "markdown",
      "metadata": {
        "id": "nQy5CAt0OmXn"
      },
      "source": [
        "### checking if there are mising values"
      ]
    },
    {
      "cell_type": "code",
      "metadata": {
        "id": "uCrSIPwoDc0I"
      },
      "source": [
        "missing_data = data.isna().sum().sort_values(ascending=False)\n",
        "percentage_missing = round((data.isnull().sum()/data.isnull().count()).sort_values(ascending=False)*100,2)\n",
        "missing_info = pd.concat([missing_data,percentage_missing],keys=['Missing values','Percentage'],axis=1)\n",
        "missing_info.style.background_gradient()"
      ],
      "execution_count": null,
      "outputs": []
    },
    {
      "cell_type": "markdown",
      "metadata": {
        "id": "NCsy0R9-FIgj"
      },
      "source": [
        "## Target values exploration"
      ]
    },
    {
      "cell_type": "markdown",
      "metadata": {
        "id": "JHKSdkBVLlKH"
      },
      "source": [
        "### negative positive classes"
      ]
    },
    {
      "cell_type": "code",
      "metadata": {
        "id": "232DshXhD2wY"
      },
      "source": [
        "# target classes: 0 and 4\n",
        "data['target'].unique()"
      ],
      "execution_count": null,
      "outputs": []
    },
    {
      "cell_type": "code",
      "metadata": {
        "id": "Sb3_kUyrFxo4"
      },
      "source": [
        "# see class 0 text, observed that class 4 are negative tweets\n",
        "pd.set_option('display.max_colwidth', None)\n",
        "data[data['target']==0]['text'].head()"
      ],
      "execution_count": null,
      "outputs": []
    },
    {
      "cell_type": "code",
      "metadata": {
        "id": "9d0eYF-IGON4"
      },
      "source": [
        "# see class 4 text, since class 0 is negative tweets, it seems class 4 is positive tweets\n",
        "pd.set_option('display.max_colwidth', None)\n",
        "data[data['target']==4]['text'].head()"
      ],
      "execution_count": null,
      "outputs": []
    },
    {
      "cell_type": "markdown",
      "metadata": {
        "id": "QwtFOoaqimx_"
      },
      "source": [
        "### replace class 0 with negative, class 4 with positive"
      ]
    },
    {
      "cell_type": "code",
      "metadata": {
        "id": "aIuyxlmBGYw_",
        "colab": {
          "base_uri": "https://localhost:8080/"
        },
        "outputId": "b52978b1-1e69-4049-d884-4b87655a94ad"
      },
      "source": [
        "# replace class 0 with negative, class 4 with positive\n",
        "data['target'] = data['target'].replace([0,4], ['Negative', 'Positive'])\n",
        "data['target'].unique()"
      ],
      "execution_count": 8,
      "outputs": [
        {
          "output_type": "execute_result",
          "data": {
            "text/plain": [
              "array(['Negative', 'Positive'], dtype=object)"
            ]
          },
          "metadata": {
            "tags": []
          },
          "execution_count": 8
        }
      ]
    },
    {
      "cell_type": "markdown",
      "metadata": {
        "id": "srXruwZnLuv8"
      },
      "source": [
        "### ploting classes counts"
      ]
    },
    {
      "cell_type": "code",
      "metadata": {
        "id": "LajNy2YXPzjU"
      },
      "source": [
        "# plotting classes count in a bar chart\n",
        "import matplotlib.pyplot as plt\n",
        "%matplotlib inline\n",
        "import seaborn as sns \n",
        "sns.countplot(data['target'], palette = ['orange', 'grey'])\n",
        "plt.title('Bar chart for tweet classes',fontsize=16)\n",
        "plt.show\n",
        "data.target.value_counts()"
      ],
      "execution_count": null,
      "outputs": []
    },
    {
      "cell_type": "code",
      "metadata": {
        "id": "1iScrCcHIKgD"
      },
      "source": [
        "# plotting classes count in a pie chart\n",
        "import matplotlib.pyplot as plt\n",
        "\n",
        "fig = plt.figure(figsize=(5,5))\n",
        "targets = data.groupby('target').size()\n",
        "targets.plot(kind='pie', subplots=True, figsize=(5,5), autopct = \"%.2f%%\", colors=['grey','orange'])\n",
        "plt.title(\"Pie chart for tweet classes\",fontsize=16)\n",
        "plt.ylabel(\"\")\n",
        "plt.legend()\n",
        "plt.show()"
      ],
      "execution_count": null,
      "outputs": []
    },
    {
      "cell_type": "code",
      "metadata": {
        "id": "QO4y1w73ONxY"
      },
      "source": [
        "data['target'].value_counts()"
      ],
      "execution_count": null,
      "outputs": []
    },
    {
      "cell_type": "markdown",
      "metadata": {
        "id": "CvWrw7Q2Pk8q"
      },
      "source": [
        "## Text exploration"
      ]
    },
    {
      "cell_type": "code",
      "metadata": {
        "id": "DlTfc6F9OxQL"
      },
      "source": [
        "# compute length of each tweet, add the length column to dataframe\n",
        "data['length'] = data.text.str.split().apply(len)"
      ],
      "execution_count": 9,
      "outputs": []
    },
    {
      "cell_type": "markdown",
      "metadata": {
        "id": "80OC-ypiLFb6"
      },
      "source": [
        "### tweet length"
      ]
    },
    {
      "cell_type": "code",
      "metadata": {
        "id": "U6WGx6sjQd9J"
      },
      "source": [
        "# plot distribution of tweet length \n",
        "\n",
        "import seaborn as sns\n",
        "\n",
        "fig = plt.figure(figsize=(10,5))\n",
        "\n",
        "ax1 = fig.add_subplot(122)\n",
        "sns.distplot(data[data['target']=='Positive']['length'], ax=ax1,color='orange')\n",
        "describe = data.length[data.target=='Positive'].describe().to_frame().round(2)\n",
        "\n",
        "ax2 = fig.add_subplot(121)\n",
        "ax2.axis('off')\n",
        "font_size = 20\n",
        "bbox = [0, 0, 1, 1]\n",
        "table = ax2.table(cellText = describe.values, rowLabels = describe.index, bbox=bbox, colLabels=describe.columns)\n",
        "table.set_fontsize(font_size)\n",
        "fig.suptitle('Distribution of possitive sentiment tweet length', fontsize=22)\n",
        "\n",
        "plt.show()"
      ],
      "execution_count": null,
      "outputs": []
    },
    {
      "cell_type": "code",
      "metadata": {
        "id": "9Al3spZ-TJBm"
      },
      "source": [
        "import seaborn as sns\n",
        "\n",
        "fig = plt.figure(figsize=(10,5))\n",
        "\n",
        "ax1 = fig.add_subplot(122)\n",
        "sns.distplot(data[data['target']=='Negative']['length'], ax=ax1,color='grey')\n",
        "\n",
        "ax2 = fig.add_subplot(121)\n",
        "describe = data.length[data.target=='Negative'].describe().to_frame().round(2)\n",
        "ax2.axis('off')\n",
        "font_size = 20\n",
        "bbox = [0, 0, 1, 1]\n",
        "table = ax2.table(cellText = describe.values, rowLabels = describe.index, bbox=bbox, colLabels=describe.columns)\n",
        "table.set_fontsize(font_size)\n",
        "fig.suptitle('Distribution of negative sentiment tweet length', fontsize=22)\n",
        "\n",
        "plt.show()"
      ],
      "execution_count": null,
      "outputs": []
    },
    {
      "cell_type": "code",
      "metadata": {
        "id": "TlcvAshrTWJw"
      },
      "source": [
        "# alternatively, plot word count distribution for both positive and negative \n",
        "\n",
        "p = data['length'][data.target == 'Positive']\n",
        "n = data['length'][data.target == 'Negative']\n",
        "plt.figure(figsize=(10,5))\n",
        "plt.xlim(0,45)\n",
        "plt.xlabel('Word Count')\n",
        "plt.ylabel('Frequency')\n",
        "plt.hist([p, n], color=['orange','grey'], alpha=0.5, label=['positive','negative'], density=True)\n",
        "plt.legend(loc='upper right')"
      ],
      "execution_count": null,
      "outputs": []
    },
    {
      "cell_type": "markdown",
      "metadata": {
        "id": "OVZqUfm1WJFU"
      },
      "source": [
        "### Top 10 users with most frequent tweets"
      ]
    },
    {
      "cell_type": "code",
      "metadata": {
        "id": "wOB-CbT0VmLM"
      },
      "source": [
        "plt.figure(figsize=(10,5))\n",
        "common_keyword=sns.barplot(x=data[data['target']=='Positive']['username'].value_counts()[:10].index, \\\n",
        "                           y=data[data['target']=='Positive']['username'].value_counts()[:10],palette='viridis')\n",
        "common_keyword.set_xticklabels(common_keyword.get_xticklabels(),rotation=90)\n",
        "common_keyword.set_ylabel('Positive tweet frequency',fontsize=18)\n",
        "plt.title('Top 10 users with most frequent positive tweets',fontsize=22)\n",
        "plt.show()"
      ],
      "execution_count": null,
      "outputs": []
    },
    {
      "cell_type": "code",
      "metadata": {
        "id": "VTU1stdu39Zr"
      },
      "source": [
        "# check out what does the most positive user tweet about, a bot!\n",
        "pd.set_option('display.max_colwidth', None) \n",
        "data[data['username']=='what_bugs_u'].head()"
      ],
      "execution_count": null,
      "outputs": []
    },
    {
      "cell_type": "code",
      "metadata": {
        "id": "EcRvgj9g443V"
      },
      "source": [
        "plt.figure(figsize=(10,5))\n",
        "common_keyword=sns.barplot(x=data[data['target']=='Negative']['username'].value_counts()[:10].index, \\\n",
        "                           y=data[data['target']=='Negative']['username'].value_counts()[:10],palette='Spectral')\n",
        "common_keyword.set_xticklabels(common_keyword.get_xticklabels(),rotation=90)\n",
        "common_keyword.set_ylabel('Negative tweet frequency',fontsize=18)\n",
        "plt.title('Top 10 users with most frequent negative tweets',fontsize=22)\n",
        "plt.show()"
      ],
      "execution_count": null,
      "outputs": []
    },
    {
      "cell_type": "code",
      "metadata": {
        "id": "sprJ6Ykg5Wxj"
      },
      "source": [
        "# check out what does the most nagative user tweet about, a bot! \n",
        "pd.set_option('display.max_colwidth', None)\n",
        "data[data['username']=='lost_dog'].head()"
      ],
      "execution_count": null,
      "outputs": []
    },
    {
      "cell_type": "markdown",
      "metadata": {
        "id": "qev-Md6b5qD9"
      },
      "source": [
        "### Wordclouds"
      ]
    },
    {
      "cell_type": "code",
      "metadata": {
        "id": "equb94gL5hEm"
      },
      "source": [
        "# 45-second run\n",
        "from wordcloud import WordCloud, STOPWORDS\n",
        "\n",
        "plt.figure(figsize=(10,7))\n",
        "word_cloud = WordCloud(stopwords = STOPWORDS, max_words = 100, width=1400, \\\n",
        "                       height=800, background_color=\"white\").generate(\" \".join(data[data.target=='Positive'].text))\n",
        "plt.imshow(word_cloud,interpolation='bilinear')\n",
        "plt.axis('off')\n",
        "plt.title('Most common words in positive sentiment tweets',fontsize=22)\n",
        "plt.show()"
      ],
      "execution_count": null,
      "outputs": []
    },
    {
      "cell_type": "code",
      "metadata": {
        "id": "V6f8hIyg6cAJ"
      },
      "source": [
        "from wordcloud import WordCloud, STOPWORDS\n",
        "\n",
        "plt.figure(figsize=(10,7))\n",
        "word_cloud = WordCloud(stopwords = STOPWORDS, max_words = 100, width=1400, \\\n",
        "                       height=800, background_color=\"white\").generate(\" \".join(data[data.target=='Negative'].text))\n",
        "plt.imshow(word_cloud,interpolation='bilinear')\n",
        "plt.axis('off')\n",
        "plt.title('Most common words in negative sentiment tweets',fontsize=22)\n",
        "plt.show()"
      ],
      "execution_count": null,
      "outputs": []
    },
    {
      "cell_type": "markdown",
      "metadata": {
        "id": "lDGrGFRm8KKW"
      },
      "source": [
        "# Text preprocessing"
      ]
    },
    {
      "cell_type": "code",
      "metadata": {
        "id": "ZQNi9XtT7jS2",
        "colab": {
          "base_uri": "https://localhost:8080/"
        },
        "outputId": "b36df5d6-3c2f-4d02-fcd0-9383a391ce4d"
      },
      "source": [
        "# remove noisy columns\n",
        "print(data.columns)\n",
        "data.drop(['id','date','query','username','length'], axis=1, inplace=True)\n",
        "print(data.columns)\n",
        "\n",
        "# replace positive sentiment with 1 and negative sentiment with 0\n",
        "data.target = data.target.replace({'Positive' : 1, 'Negative' : 0})"
      ],
      "execution_count": 10,
      "outputs": [
        {
          "output_type": "stream",
          "text": [
            "Index(['target', 'id', 'date', 'query', 'username', 'text', 'length'], dtype='object')\n",
            "Index(['target', 'text'], dtype='object')\n"
          ],
          "name": "stdout"
        }
      ]
    },
    {
      "cell_type": "markdown",
      "metadata": {
        "id": "huIY6VO2B1dz"
      },
      "source": [
        "### Emoji, smiley, contraction, cleaning preprocessing"
      ]
    },
    {
      "cell_type": "markdown",
      "metadata": {
        "id": "gq3KxKHpNk4X"
      },
      "source": [
        "### functions to clean text - Add new column to the data called \"clean\"\n",
        "***----------------  RUN ---------------------------***"
      ]
    },
    {
      "cell_type": "code",
      "metadata": {
        "id": "2sCoXi00925F"
      },
      "source": [
        "import re\n",
        "\n",
        "################################################################################\n",
        "################################################################################\n",
        "def replace_emojis(t):\n",
        "    '''\n",
        "    This function replaces happy unicode emojis with \"happy\" and sad unicode emojis with \"sad\"\n",
        "    '''\n",
        "    emoji_happy = [\"\\U0001F600\", \"\\U0001F601\", \"\\U0001F602\",\"\\U0001F603\",\"\\U0001F604\",\"\\U0001F605\", \"\\U0001F606\", \"\\U0001F607\", \"\\U0001F609\", \n",
        "                  \"\\U0001F60A\", \"\\U0001F642\",\"\\U0001F643\",\"\\U0001F923\",r\"\\U0001F970\",\"\\U0001F60D\", r\"\\U0001F929\",\"\\U0001F618\",\"\\U0001F617\",\n",
        "                  r\"\\U000263A\", \"\\U0001F61A\", \"\\U0001F619\", r\"\\U0001F972\", \"\\U0001F60B\", \"\\U0001F61B\", \"\\U0001F61C\", r\"\\U0001F92A\",\n",
        "                  \"\\U0001F61D\", \"\\U0001F911\", \"\\U0001F917\", r\"\\U0001F92D\", r\"\\U0001F92B\",\"\\U0001F914\",\"\\U0001F910\", r\"\\U0001F928\", \"\\U0001F610\", \"\\U0001F611\",\n",
        "                  \"\\U0001F636\", \"\\U0001F60F\",\"\\U0001F612\", \"\\U0001F644\",\"\\U0001F62C\",\"\\U0001F925\",\"\\U0001F60C\",\"\\U0001F614\",\"\\U0001F62A\",\n",
        "                  \"\\U0001F924\",\"\\U0001F634\", \"\\U0001F920\", r\"\\U0001F973\", r\"\\U0001F978\",\"\\U0001F60E\",\"\\U0001F913\", r\"\\U0001F9D0\"]\n",
        "\n",
        "    emoji_sad = [\"\\U0001F637\",\"\\U0001F912\",\"\\U0001F915\",\"\\U0001F922\", r\"\\U0001F92E\",\"\\U0001F927\", r\"\\U0001F975\", r\"\\U0001F976\", r\"\\U0001F974\",\n",
        "                  \"\\U0001F635\", r\"\\U0001F92F\", \"\\U0001F615\",\"\\U0001F61F\",\"\\U0001F641\", r\"\\U0002639\",\"\\U0001F62E\",\"\\U0001F62F\",\"\\U0001F632\",\n",
        "                  \"\\U0001F633\", r\"\\U0001F97A\",\"\\U0001F626\",\"\\U0001F627\",\"\\U0001F628\",\"\\U0001F630\",\"\\U0001F625\",\"\\U0001F622\",\"\\U0001F62D\",\n",
        "                  \"\\U0001F631\",\"\\U0001F616\",\"\\U0001F623\"\t,\"\\U0001F61E\",\"\\U0001F613\",\"\\U0001F629\",\"\\U0001F62B\", r\"\\U0001F971\",\n",
        "                  \"\\U0001F624\",\"\\U0001F621\",\"\\U0001F620\", r\"\\U0001F92C\",\"\\U0001F608\",\"\\U0001F47F\",\"\\U0001F480\", r\"\\U0002620\"]\n",
        "\n",
        "    words = t.split()\n",
        "    reformed = []\n",
        "    for w in words:\n",
        "        if w in emoji_happy:\n",
        "            reformed.append(\"happy\")\n",
        "        elif w in emoji_sad:\n",
        "            reformed.append(\"sad\") \n",
        "        else:\n",
        "            reformed.append(w)\n",
        "    t = \" \".join(reformed)\n",
        "    return t\n",
        "################################################################################\n",
        "################################################################################\n",
        "def replace_smileys(t):\n",
        "    '''\n",
        "    This function replaces happy smileys with \"happy\" and sad smileys with \"sad\"\n",
        "    '''\n",
        "    emoticons_happy = set([':-)', ':)', ';)', ':o)', ':]', ':3', ':c)', ':>', '=]', '8)', '=)', ':}', ':D',\n",
        "      ':^)', ':-D', ':D', '8-D', '8D', 'x-D', 'xD', 'X-D', 'XD', '=-D', '=D',\n",
        "      '=-3', '=3', ':-))', \":'-)\", \":')\", ':*', ':^*', '>:P', ':-P', ':P', 'X-P',\n",
        "      'x-p', 'xp', 'XP', ':-p', ':p', '=p', ':-b', ':b', '>:)', '>;)', '>:-)', '<3'])\n",
        "\n",
        "    emoticons_sad = set([':L', ':-/', '>:/', ':S', '>:[', ':@', ':-(', ':[', ':-||', '=L', ':<',\n",
        "      ':-[', ':-<', '=\\\\', '=/', '>:(', ':(', '>.<', \":'-(\", \":'(\", ':\\\\', ':-c',\n",
        "      ':c', ':{', '>:\\\\', ';('])  \n",
        "\n",
        "    words = t.split()\n",
        "    reformed = []\n",
        "    for w in words:\n",
        "        if w in emoticons_happy:\n",
        "            reformed.append(\"happy\")\n",
        "        elif w in emoticons_sad:\n",
        "            reformed.append(\"sad\") \n",
        "        else:\n",
        "            reformed.append(w)\n",
        "    t = \" \".join(reformed)\n",
        "    return t\n",
        "################################################################################\n",
        "################################################################################\n",
        "def replace_contractions(t):\n",
        "    '''\n",
        "    This function replaces english lanuage contractions, eg., \"shouldn't\" with \"should not\"\n",
        "    '''\n",
        "    cont = {\"aren't\" : 'are not', \"can't\" : 'cannot', \"couln't\": 'could not', \"didn't\": 'did not', \"doesn't\" : 'does not',\n",
        "    \"hadn't\": 'had not', \"haven't\": 'have not', \"he's\" : 'he is', \"she's\" : 'she is', \"he'll\" : \"he will\", \n",
        "    \"she'll\" : 'she will',\"he'd\": \"he would\", \"she'd\":\"she would\", \"here's\" : \"here is\", \n",
        "    \"i'm\" : 'i am', \"i've\"\t: \"i have\", \"i'll\" : \"i will\", \"i'd\" : \"i would\", \"isn't\": \"is not\", \n",
        "    \"it's\" : \"it is\", \"it'll\": \"it will\", \"mustn't\" : \"must not\", \"shouldn't\" : \"should not\", \"that's\" : \"that is\", \n",
        "    \"there's\" : \"there is\", \"they're\" : \"they are\", \"they've\" : \"they have\", \"they'll\" : \"they will\",\n",
        "    \"they'd\" : \"they would\", \"wasn't\" : \"was not\", \"we're\": \"we are\", \"we've\":\"we have\", \"we'll\": \"we will\", \n",
        "    \"we'd\" : \"we would\", \"weren't\" : \"were not\", \"what's\" : \"what is\", \"where's\" : \"where is\", \"who's\": \"who is\",\n",
        "    \"who'll\" :\"who will\", \"won't\":\"will not\", \"wouldn't\" : \"would not\", \"you're\": \"you are\", \"you've\":\"you have\",\n",
        "    \"you'll\" : \"you will\", \"you'd\" : \"you would\", \"mayn't\" : \"may not\"}\n",
        "    \n",
        "    words = t.split()\n",
        "    reformed = []\n",
        "    for w in words:\n",
        "        if w in cont:\n",
        "          reformed.append(cont[w])\n",
        "        else:\n",
        "          reformed.append(w)\n",
        "    t = \" \".join(reformed)\n",
        "    return t  \n",
        "################################################################################\n",
        "################################################################################\n",
        "def remove_single_letter_words(t):\n",
        "    '''\n",
        "    This function removes words that are single characters\n",
        "    '''\n",
        "    words = t.split()\n",
        "    reformed = []\n",
        "    for w in words:\n",
        "        if len(w) > 1:\n",
        "            reformed.append(w)\n",
        "    t = \" \".join(reformed)\n",
        "    return t \n",
        "################################################################################\n",
        "################################################################################\n",
        "\n",
        "# define emojis\n",
        "emoji_pattern = re.compile(\"[\"\n",
        "         u\"\\U0001F300-\\U0001F5FF\"  # symbols & pictographs\n",
        "         u\"\\U0001F680-\\U0001F6FF\"  # transport & map symbols\n",
        "         u\"\\U0001F1E0-\\U0001F1FF\"  # flags (iOS)\n",
        "         u\"\\U00002702-\\U000027B0\"\n",
        "         u\"\\U000024C2-\\U0001F251\"\n",
        "         \"]+\", flags=re.UNICODE)\n",
        "\n",
        "def clean_data(t):\n",
        "    '''\n",
        "    This function cleans the tweets\n",
        "    '''\n",
        "    t = t.lower() # convert to lowercase\n",
        "    t = replace_emojis(t) # replace unicode emojis with their associated emotions\n",
        "    t = replace_smileys(t) # replace handwritten emojis with their associated emotions\n",
        "    t = replace_contractions(t) # replace English short forms with their long form\n",
        "    t = emoji_pattern.sub(r'', t) # remove emojis other than smiley emojis\n",
        "    t = re.sub('\\\\\\\\u[0-9A-Fa-f]{4}','', t) # remove NON- ASCII characters\n",
        "    t = re.sub(\"[0-9]\", \"\", t) # remove numbers # re.sub(\"\\d+\", \"\", t)\n",
        "    t = re.sub('#', '', t) # remove '#'\n",
        "    t = re.sub('@[A-Za-z0–9]+', '', t) # remove '@'\n",
        "    t = re.sub('@[^\\s]+', '', t) # remove usernames\n",
        "    t = re.sub('RT[\\s]+', '', t) # remove retweet 'RT'\n",
        "    t = re.sub('((www\\.[^\\s]+)|(https?://[^\\s]+))', '', t) # remove links (URLs/ links)\n",
        "    t = re.sub('[!\"$%&\\'()*+,-./:@;<=>?[\\\\]^_`{|}~]', ' ', t)  ## replace punctuations with space ###\n",
        "    t = t.replace('\\\\\\\\', '')\n",
        "    t = t.replace('\\\\', '')\n",
        "    t = remove_single_letter_words(t) # removes single letter words\n",
        "    t = re.sub(\"@\\S+|https?:\\S+|http?:\\S|[^A-Za-z0-9]+\", ' ', str(t).lower()).strip() # remove mentions and links in tweets\n",
        "    \n",
        "    return t\n",
        "################################################################################\n",
        "################################################################################"
      ],
      "execution_count": 11,
      "outputs": []
    },
    {
      "cell_type": "markdown",
      "metadata": {
        "id": "XwKDhBMZZfCj"
      },
      "source": [
        "Add new column to the data called \"clean\""
      ]
    },
    {
      "cell_type": "code",
      "metadata": {
        "id": "Ki2pzG8AZea7",
        "colab": {
          "base_uri": "https://localhost:8080/"
        },
        "outputId": "b8edcd92-f28f-4a81-8999-de20c0b72cff"
      },
      "source": [
        "print(\"Cleaning tweets...\\n\")\n",
        "print(\"Convert to lowercase\")\n",
        "print(\"Replace unicode emojis with their associated emotions\")\n",
        "print(\"Replace handwritten emojis with their associated emotions\")\n",
        "print(\"Replace English short forms with their long form\")\n",
        "print(\"Remove all other unicoded emojis\")\n",
        "print(\"Remove NON- ASCII characters\")\n",
        "print(\"Remove numbers\")\n",
        "print(\"Remove \\\"#\\\" \")\n",
        "print(\"Remove \\\"@\\\" \")\n",
        "print(\"Remove usernames\")\n",
        "print(\"Remove \\'RT\\' \")\n",
        "print(\"Remove URLs and links\")\n",
        "print(\"Replace punctuations with space\")\n",
        "print(\"Remove single letter words\")\n",
        "print(\"Remove mentions and links in tweets\\n\")\n",
        "\n",
        "data['clean'] = data['text'].apply(clean_data)\n",
        "print(\"Tweets have been cleaned.\")"
      ],
      "execution_count": 12,
      "outputs": [
        {
          "output_type": "stream",
          "text": [
            "Cleaning tweets...\n",
            "\n",
            "Convert to lowercase\n",
            "Replace unicode emojis with their associated emotions\n",
            "Replace handwritten emojis with their associated emotions\n",
            "Replace English short forms with their long form\n",
            "Remove all other unicoded emojis\n",
            "Remove NON- ASCII characters\n",
            "Remove numbers\n",
            "Remove \"#\" \n",
            "Remove \"@\" \n",
            "Remove usernames\n",
            "Remove 'RT' \n",
            "Remove URLs and links\n",
            "Replace punctuations with space\n",
            "Remove single letter words\n",
            "Remove mentions and links in tweets\n",
            "\n",
            "Tweets have been cleaned.\n"
          ],
          "name": "stdout"
        }
      ]
    },
    {
      "cell_type": "markdown",
      "metadata": {
        "id": "2XHjmMmGViMW"
      },
      "source": [
        "### check if data is clean and make WordClouds"
      ]
    },
    {
      "cell_type": "code",
      "metadata": {
        "id": "PP98nV4RWHvp"
      },
      "source": [
        "pd.set_option('display.max_colwidth', None)\n",
        "data.clean.head()\n",
        "# looks good"
      ],
      "execution_count": null,
      "outputs": []
    },
    {
      "cell_type": "code",
      "metadata": {
        "id": "eYOI3YDDT0ze"
      },
      "source": [
        "# compare with prior cleaning the tweets\n",
        "# see class 0 text, observed that class 4 are negative tweets\n",
        "pd.set_option('display.max_colwidth', None)\n",
        "data[data['target']==0]['text'].head()"
      ],
      "execution_count": null,
      "outputs": []
    },
    {
      "cell_type": "code",
      "metadata": {
        "id": "UOYQ20a5Tnfx"
      },
      "source": [
        "from wordcloud import WordCloud, STOPWORDS\n",
        "import matplotlib.pyplot as plt\n",
        "\n",
        "plt.figure(figsize=(10,7))\n",
        "word_cloud = WordCloud(stopwords = STOPWORDS, max_words = 100, width=1400, \\\n",
        "                       height=800, background_color=\"white\").generate(\" \".join(data[data.target==1].clean))\n",
        "plt.imshow(word_cloud,interpolation='bilinear')\n",
        "plt.axis('off')\n",
        "plt.title('Most common words in positive sentiment tweets (cleaned)',fontsize=22)\n",
        "plt.show()"
      ],
      "execution_count": null,
      "outputs": []
    },
    {
      "cell_type": "code",
      "metadata": {
        "id": "rcqM89srXyHC"
      },
      "source": [
        "from wordcloud import WordCloud, STOPWORDS\n",
        "import matplotlib.pyplot as plt\n",
        "\n",
        "plt.figure(figsize=(10,7))\n",
        "word_cloud = WordCloud(stopwords = STOPWORDS, max_words = 100, width=1400, \\\n",
        "                       height=800, background_color=\"white\").generate(\" \".join(data[data.target==0].clean))\n",
        "plt.imshow(word_cloud,interpolation='bilinear')\n",
        "plt.axis('off')\n",
        "plt.title('Most common words in negative sentiment tweets (cleaned)',fontsize=22)\n",
        "plt.show()"
      ],
      "execution_count": null,
      "outputs": []
    },
    {
      "cell_type": "markdown",
      "metadata": {
        "id": "9agYYTh1HdR0"
      },
      "source": [
        "### Text normalization - Add new column to the data called \"normal\"\n",
        "***---------------- 7 min RUN ---------------------------***"
      ]
    },
    {
      "cell_type": "code",
      "metadata": {
        "id": "MHyGl8jp_XLg",
        "colab": {
          "base_uri": "https://localhost:8080/"
        },
        "outputId": "652587dd-f115-4193-bd7e-f383dc0f70f8"
      },
      "source": [
        "import nltk\n",
        "nltk.download(\"punkt\")\n",
        "nltk.download('stopwords')\n",
        "from nltk.corpus import stopwords\n",
        "nltk_stopwords = nltk.corpus.stopwords.words('english')\n",
        "from sklearn.feature_extraction.text import ENGLISH_STOP_WORDS as sklearn_stopwords\n",
        "nltk.download('wordnet')\n",
        "wnl = nltk.WordNetLemmatizer()\n",
        "porter = nltk.PorterStemmer()\n",
        "\n",
        "def normalize_data(doc):\n",
        "  \n",
        "  # tokenize text\n",
        "  doc = nltk.tokenize.word_tokenize(doc)\n",
        "\n",
        "  # remove stops words\n",
        "  doc = [ w for w in doc if w not in (nltk_stopwords and sklearn_stopwords) ]\n",
        "\n",
        "  # lemmatization\n",
        "  doc = [wnl.lemmatize(w) for w in doc]\n",
        "\n",
        "  # stemming\n",
        "  doc = [porter.stem(w) for w in doc]\n",
        "\n",
        "  # remove single letter\n",
        "  doc = [w for w in doc if len(w)>1]\n",
        "\n",
        "  return ' '.join(doc)"
      ],
      "execution_count": 13,
      "outputs": [
        {
          "output_type": "stream",
          "text": [
            "[nltk_data] Downloading package punkt to /root/nltk_data...\n",
            "[nltk_data]   Package punkt is already up-to-date!\n",
            "[nltk_data] Downloading package stopwords to /root/nltk_data...\n",
            "[nltk_data]   Package stopwords is already up-to-date!\n",
            "[nltk_data] Downloading package wordnet to /root/nltk_data...\n",
            "[nltk_data]   Package wordnet is already up-to-date!\n"
          ],
          "name": "stdout"
        }
      ]
    },
    {
      "cell_type": "markdown",
      "metadata": {
        "id": "ildJF-3CbbeU"
      },
      "source": [
        "Add new column to the data called \"normal\""
      ]
    },
    {
      "cell_type": "code",
      "metadata": {
        "id": "GUX_dA6aYvcM"
      },
      "source": [
        "# 6 minutes 43 seconds\n",
        "data['normal'] = data['clean'].apply(normalize_data)"
      ],
      "execution_count": 14,
      "outputs": []
    },
    {
      "cell_type": "markdown",
      "metadata": {
        "id": "KuEkb-wJmkcx"
      },
      "source": [
        "### compare with prior normalization"
      ]
    },
    {
      "cell_type": "code",
      "metadata": {
        "id": "mU5PB0hzmAxI"
      },
      "source": [
        "pd.set_option('display.max_colwidth', None)\n",
        "data.normal.head()"
      ],
      "execution_count": null,
      "outputs": []
    },
    {
      "cell_type": "code",
      "metadata": {
        "id": "ajx0jBYbmICE"
      },
      "source": [
        "pd.set_option('display.max_colwidth', None)\n",
        "data.clean.head()"
      ],
      "execution_count": null,
      "outputs": []
    },
    {
      "cell_type": "markdown",
      "metadata": {
        "id": "p7G6Ybwrv8Hl"
      },
      "source": [
        "### Convert text to word frequency vectors"
      ]
    },
    {
      "cell_type": "code",
      "metadata": {
        "id": "fglNSdojCicW"
      },
      "source": [
        "pd.set_option('display.max_colwidth', None)\n",
        "data.head()"
      ],
      "execution_count": null,
      "outputs": []
    },
    {
      "cell_type": "code",
      "metadata": {
        "id": "h4R-QOu5AzxG",
        "colab": {
          "base_uri": "https://localhost:8080/"
        },
        "outputId": "c20b312e-788b-49db-f85d-60e1a9bd0e1e"
      },
      "source": [
        "X = data['normal'].values\n",
        "y = data['target'].values\n",
        "print(X.shape)\n",
        "print(y.shape)"
      ],
      "execution_count": 15,
      "outputs": [
        {
          "output_type": "stream",
          "text": [
            "(1280000,)\n",
            "(1280000,)\n"
          ],
          "name": "stdout"
        }
      ]
    },
    {
      "cell_type": "markdown",
      "metadata": {
        "id": "R6bNP_CkHHeD"
      },
      "source": [
        "## Pipeline"
      ]
    },
    {
      "cell_type": "code",
      "metadata": {
        "id": "-9zBhLljgdE_"
      },
      "source": [
        "from sklearn.base import BaseEstimator\n",
        "from sklearn.linear_model import SGDClassifier\n",
        "\n",
        "class ClfSwitcher(BaseEstimator):\n",
        "\n",
        "    def __init__(\n",
        "        self, \n",
        "        estimator = SGDClassifier(),\n",
        "    ):\n",
        "        \"\"\"\n",
        "        A Custom BaseEstimator that can switch between classifiers.\n",
        "        :param estimator: sklearn object - The classifier\n",
        "        \"\"\" \n",
        "\n",
        "        self.estimator = estimator\n",
        "\n",
        "\n",
        "    def fit(self, X, y=None, **kwargs):\n",
        "        self.estimator.fit(X, y)\n",
        "        return self\n",
        "\n",
        "\n",
        "    def predict(self, X, y=None):\n",
        "        return self.estimator.predict(X)\n",
        "\n",
        "\n",
        "    def predict_proba(self, X):\n",
        "        return self.estimator.predict_proba(X)\n",
        "\n",
        "\n",
        "    def score(self, X, y):\n",
        "        return self.estimator.score(X, y)\n",
        "\n",
        "# https://stackoverflow.com/questions/50285973/pipeline-multiple-classifiers"
      ],
      "execution_count": 16,
      "outputs": []
    },
    {
      "cell_type": "code",
      "metadata": {
        "id": "ZBQ34dNjKay8"
      },
      "source": [
        "from sklearn.pipeline import Pipeline\n",
        "from sklearn.feature_extraction.text import TfidfVectorizer\n",
        "from sklearn.linear_model import LogisticRegression\n",
        "from sklearn.svm import LinearSVC\n",
        "from sklearn.naive_bayes import BernoulliNB\n",
        "\n",
        "\n",
        "pipeline = Pipeline(steps=[\n",
        "    ('tfidf_vec', TfidfVectorizer(sublinear_tf=True)),\n",
        "    ('clf', ClfSwitcher())\n",
        "], memory='/content/cache')"
      ],
      "execution_count": 34,
      "outputs": []
    },
    {
      "cell_type": "markdown",
      "metadata": {
        "id": "DBVOPISYRhGL"
      },
      "source": [
        "## Feature Reduction and Hyperparameter Optimization"
      ]
    },
    {
      "cell_type": "code",
      "metadata": {
        "id": "ddnxZvtIReKC"
      },
      "source": [
        "\n",
        "from sklearn.experimental import enable_halving_search_cv\n",
        "from sklearn.model_selection import HalvingGridSearchCV\n",
        "\n",
        "from time import time\n",
        "import logging\n",
        "from sklearn.metrics import confusion_matrix, classification_report"
      ],
      "execution_count": 35,
      "outputs": []
    },
    {
      "cell_type": "markdown",
      "metadata": {
        "id": "NpUCagoQt7AH"
      },
      "source": [
        "### Logreg"
      ]
    },
    {
      "cell_type": "code",
      "metadata": {
        "id": "wjIcI_DeSFun"
      },
      "source": [
        "from sklearn.linear_model import LogisticRegression\n",
        "\n",
        "params_tfidf = {\n",
        "    'tfidf_vec__min_df': [0.0001, 0.00001, 0.000001, 1],\n",
        "    'tfidf_vec__max_features': [None, 10000, 20000, 30000, 50000],\n",
        "}\n",
        "\n",
        "param_grid = [\n",
        "    {   # log reg w/ elasticnet\n",
        "        **params_tfidf,\n",
        "        'clf__estimator': [LogisticRegression(max_iter=100000, solver='saga')],\n",
        "        'clf__estimator__penalty': ['elasticnet'],\n",
        "        'clf__estimator__l1_ratio': [0.1, 0.2, 0.8],\n",
        "        'clf__estimator__C': [0.3, 0.7, 1.0, 10]\n",
        "    },\n",
        "    {   # log reg w/o elasticnet\n",
        "        **params_tfidf,\n",
        "        'clf__estimator': [LogisticRegression(max_iter=100000, solver='saga')],\n",
        "        'clf__estimator__penalty': ['l1', 'l2'],\n",
        "        'clf__estimator__C': [0.3, 0.7, 1.0, 10]\n",
        "    },\n",
        "    {\n",
        "        **params_tfidf,\n",
        "        'clf__estimator': [LinearSVC(max_iter=10000)],\n",
        "        'clf__estimator__C': [0.3, 0.7, 1.0, 10]  \n",
        "    }\n",
        "]\n"
      ],
      "execution_count": 36,
      "outputs": []
    },
    {
      "cell_type": "code",
      "metadata": {
        "id": "F6ts3eI0iRcJ"
      },
      "source": [
        "search = HalvingGridSearchCV(pipeline, param_grid, scoring='f1', verbose=4, cv=5)"
      ],
      "execution_count": 37,
      "outputs": []
    },
    {
      "cell_type": "code",
      "metadata": {
        "id": "g3ZyzXsxyRC7",
        "colab": {
          "base_uri": "https://localhost:8080/"
        },
        "outputId": "f0ec9951-255c-4001-ebf6-b5a6f5a4c587"
      },
      "source": [
        "# try 1:  min run\n",
        "t0 = time()\n",
        "import warnings\n",
        "with warnings.catch_warnings():\n",
        "    warnings.simplefilter('ignore', UserWarning)\n",
        "    search.fit(X, y)\n",
        "\n",
        "print('done in %fs' % (time() - t0))\n"
      ],
      "execution_count": null,
      "outputs": [
        {
          "output_type": "stream",
          "text": [
            "n_iterations: 5\n",
            "n_required_iterations: 6\n",
            "n_possible_iterations: 5\n",
            "min_resources_: 5267\n",
            "max_resources_: 1280000\n",
            "aggressive_elimination: False\n",
            "factor: 3\n",
            "----------\n",
            "iter: 0\n",
            "n_candidates: 480\n",
            "n_resources: 5267\n",
            "Fitting 5 folds for each of 480 candidates, totalling 2400 fits\n",
            "[CV 1/5] END clf__estimator=LogisticRegression(max_iter=100000, solver='saga'), clf__estimator__C=0.3, clf__estimator__l1_ratio=0.1, clf__estimator__penalty=elasticnet, tfidf_vec__max_features=None, tfidf_vec__min_df=0.0001;, score=(train=0.788, test=0.708) total time=   1.0s\n",
            "[CV 2/5] END clf__estimator=LogisticRegression(max_iter=100000, solver='saga'), clf__estimator__C=0.3, clf__estimator__l1_ratio=0.1, clf__estimator__penalty=elasticnet, tfidf_vec__max_features=None, tfidf_vec__min_df=0.0001;, score=(train=0.802, test=0.730) total time=   0.9s\n",
            "[CV 3/5] END clf__estimator=LogisticRegression(max_iter=100000, solver='saga'), clf__estimator__C=0.3, clf__estimator__l1_ratio=0.1, clf__estimator__penalty=elasticnet, tfidf_vec__max_features=None, tfidf_vec__min_df=0.0001;, score=(train=0.772, test=0.689) total time=   0.9s\n",
            "[CV 4/5] END clf__estimator=LogisticRegression(max_iter=100000, solver='saga'), clf__estimator__C=0.3, clf__estimator__l1_ratio=0.1, clf__estimator__penalty=elasticnet, tfidf_vec__max_features=None, tfidf_vec__min_df=0.0001;, score=(train=0.787, test=0.712) total time=   0.9s\n",
            "[CV 5/5] END clf__estimator=LogisticRegression(max_iter=100000, solver='saga'), clf__estimator__C=0.3, clf__estimator__l1_ratio=0.1, clf__estimator__penalty=elasticnet, tfidf_vec__max_features=None, tfidf_vec__min_df=0.0001;, score=(train=0.786, test=0.699) total time=   1.0s\n",
            "[CV 1/5] END clf__estimator=LogisticRegression(max_iter=100000, solver='saga'), clf__estimator__C=0.3, clf__estimator__l1_ratio=0.1, clf__estimator__penalty=elasticnet, tfidf_vec__max_features=None, tfidf_vec__min_df=1e-05;, score=(train=0.788, test=0.708) total time=   0.9s\n",
            "[CV 2/5] END clf__estimator=LogisticRegression(max_iter=100000, solver='saga'), clf__estimator__C=0.3, clf__estimator__l1_ratio=0.1, clf__estimator__penalty=elasticnet, tfidf_vec__max_features=None, tfidf_vec__min_df=1e-05;, score=(train=0.803, test=0.730) total time=   0.9s\n",
            "[CV 3/5] END clf__estimator=LogisticRegression(max_iter=100000, solver='saga'), clf__estimator__C=0.3, clf__estimator__l1_ratio=0.1, clf__estimator__penalty=elasticnet, tfidf_vec__max_features=None, tfidf_vec__min_df=1e-05;, score=(train=0.770, test=0.689) total time=   1.0s\n",
            "[CV 4/5] END clf__estimator=LogisticRegression(max_iter=100000, solver='saga'), clf__estimator__C=0.3, clf__estimator__l1_ratio=0.1, clf__estimator__penalty=elasticnet, tfidf_vec__max_features=None, tfidf_vec__min_df=1e-05;, score=(train=0.787, test=0.712) total time=   1.0s\n",
            "[CV 5/5] END clf__estimator=LogisticRegression(max_iter=100000, solver='saga'), clf__estimator__C=0.3, clf__estimator__l1_ratio=0.1, clf__estimator__penalty=elasticnet, tfidf_vec__max_features=None, tfidf_vec__min_df=1e-05;, score=(train=0.786, test=0.699) total time=   1.0s\n",
            "[CV 1/5] END clf__estimator=LogisticRegression(max_iter=100000, solver='saga'), clf__estimator__C=0.3, clf__estimator__l1_ratio=0.1, clf__estimator__penalty=elasticnet, tfidf_vec__max_features=None, tfidf_vec__min_df=1e-06;, score=(train=0.788, test=0.708) total time=   0.9s\n",
            "[CV 2/5] END clf__estimator=LogisticRegression(max_iter=100000, solver='saga'), clf__estimator__C=0.3, clf__estimator__l1_ratio=0.1, clf__estimator__penalty=elasticnet, tfidf_vec__max_features=None, tfidf_vec__min_df=1e-06;, score=(train=0.802, test=0.730) total time=   1.0s\n",
            "[CV 3/5] END clf__estimator=LogisticRegression(max_iter=100000, solver='saga'), clf__estimator__C=0.3, clf__estimator__l1_ratio=0.1, clf__estimator__penalty=elasticnet, tfidf_vec__max_features=None, tfidf_vec__min_df=1e-06;, score=(train=0.771, test=0.689) total time=   0.9s\n",
            "[CV 4/5] END clf__estimator=LogisticRegression(max_iter=100000, solver='saga'), clf__estimator__C=0.3, clf__estimator__l1_ratio=0.1, clf__estimator__penalty=elasticnet, tfidf_vec__max_features=None, tfidf_vec__min_df=1e-06;, score=(train=0.787, test=0.712) total time=   1.0s\n",
            "[CV 5/5] END clf__estimator=LogisticRegression(max_iter=100000, solver='saga'), clf__estimator__C=0.3, clf__estimator__l1_ratio=0.1, clf__estimator__penalty=elasticnet, tfidf_vec__max_features=None, tfidf_vec__min_df=1e-06;, score=(train=0.786, test=0.700) total time=   1.0s\n",
            "[CV 1/5] END clf__estimator=LogisticRegression(max_iter=100000, solver='saga'), clf__estimator__C=0.3, clf__estimator__l1_ratio=0.1, clf__estimator__penalty=elasticnet, tfidf_vec__max_features=None, tfidf_vec__min_df=1;, score=(train=0.788, test=0.708) total time=   1.0s\n",
            "[CV 2/5] END clf__estimator=LogisticRegression(max_iter=100000, solver='saga'), clf__estimator__C=0.3, clf__estimator__l1_ratio=0.1, clf__estimator__penalty=elasticnet, tfidf_vec__max_features=None, tfidf_vec__min_df=1;, score=(train=0.801, test=0.729) total time=   0.9s\n",
            "[CV 3/5] END clf__estimator=LogisticRegression(max_iter=100000, solver='saga'), clf__estimator__C=0.3, clf__estimator__l1_ratio=0.1, clf__estimator__penalty=elasticnet, tfidf_vec__max_features=None, tfidf_vec__min_df=1;, score=(train=0.770, test=0.689) total time=   0.9s\n",
            "[CV 4/5] END clf__estimator=LogisticRegression(max_iter=100000, solver='saga'), clf__estimator__C=0.3, clf__estimator__l1_ratio=0.1, clf__estimator__penalty=elasticnet, tfidf_vec__max_features=None, tfidf_vec__min_df=1;, score=(train=0.787, test=0.712) total time=   1.0s\n",
            "[CV 5/5] END clf__estimator=LogisticRegression(max_iter=100000, solver='saga'), clf__estimator__C=0.3, clf__estimator__l1_ratio=0.1, clf__estimator__penalty=elasticnet, tfidf_vec__max_features=None, tfidf_vec__min_df=1;, score=(train=0.786, test=0.699) total time=   0.9s\n",
            "[CV 1/5] END clf__estimator=LogisticRegression(max_iter=100000, solver='saga'), clf__estimator__C=0.3, clf__estimator__l1_ratio=0.1, clf__estimator__penalty=elasticnet, tfidf_vec__max_features=10000, tfidf_vec__min_df=0.0001;, score=(train=0.788, test=0.708) total time=   1.5s\n",
            "[CV 2/5] END clf__estimator=LogisticRegression(max_iter=100000, solver='saga'), clf__estimator__C=0.3, clf__estimator__l1_ratio=0.1, clf__estimator__penalty=elasticnet, tfidf_vec__max_features=10000, tfidf_vec__min_df=0.0001;, score=(train=0.803, test=0.730) total time=   1.5s\n",
            "[CV 3/5] END clf__estimator=LogisticRegression(max_iter=100000, solver='saga'), clf__estimator__C=0.3, clf__estimator__l1_ratio=0.1, clf__estimator__penalty=elasticnet, tfidf_vec__max_features=10000, tfidf_vec__min_df=0.0001;, score=(train=0.772, test=0.688) total time=   1.6s\n",
            "[CV 4/5] END clf__estimator=LogisticRegression(max_iter=100000, solver='saga'), clf__estimator__C=0.3, clf__estimator__l1_ratio=0.1, clf__estimator__penalty=elasticnet, tfidf_vec__max_features=10000, tfidf_vec__min_df=0.0001;, score=(train=0.787, test=0.712) total time=   1.6s\n",
            "[CV 5/5] END clf__estimator=LogisticRegression(max_iter=100000, solver='saga'), clf__estimator__C=0.3, clf__estimator__l1_ratio=0.1, clf__estimator__penalty=elasticnet, tfidf_vec__max_features=10000, tfidf_vec__min_df=0.0001;, score=(train=0.786, test=0.699) total time=   1.6s\n",
            "[CV 1/5] END clf__estimator=LogisticRegression(max_iter=100000, solver='saga'), clf__estimator__C=0.3, clf__estimator__l1_ratio=0.1, clf__estimator__penalty=elasticnet, tfidf_vec__max_features=10000, tfidf_vec__min_df=1e-05;, score=(train=0.788, test=0.707) total time=   1.6s\n",
            "[CV 2/5] END clf__estimator=LogisticRegression(max_iter=100000, solver='saga'), clf__estimator__C=0.3, clf__estimator__l1_ratio=0.1, clf__estimator__penalty=elasticnet, tfidf_vec__max_features=10000, tfidf_vec__min_df=1e-05;, score=(train=0.802, test=0.730) total time=   1.6s\n",
            "[CV 3/5] END clf__estimator=LogisticRegression(max_iter=100000, solver='saga'), clf__estimator__C=0.3, clf__estimator__l1_ratio=0.1, clf__estimator__penalty=elasticnet, tfidf_vec__max_features=10000, tfidf_vec__min_df=1e-05;, score=(train=0.772, test=0.689) total time=   1.7s\n",
            "[CV 4/5] END clf__estimator=LogisticRegression(max_iter=100000, solver='saga'), clf__estimator__C=0.3, clf__estimator__l1_ratio=0.1, clf__estimator__penalty=elasticnet, tfidf_vec__max_features=10000, tfidf_vec__min_df=1e-05;, score=(train=0.787, test=0.712) total time=   1.5s\n",
            "[CV 5/5] END clf__estimator=LogisticRegression(max_iter=100000, solver='saga'), clf__estimator__C=0.3, clf__estimator__l1_ratio=0.1, clf__estimator__penalty=elasticnet, tfidf_vec__max_features=10000, tfidf_vec__min_df=1e-05;, score=(train=0.786, test=0.699) total time=   1.6s\n",
            "[CV 1/5] END clf__estimator=LogisticRegression(max_iter=100000, solver='saga'), clf__estimator__C=0.3, clf__estimator__l1_ratio=0.1, clf__estimator__penalty=elasticnet, tfidf_vec__max_features=10000, tfidf_vec__min_df=1e-06;, score=(train=0.788, test=0.708) total time=   1.5s\n",
            "[CV 2/5] END clf__estimator=LogisticRegression(max_iter=100000, solver='saga'), clf__estimator__C=0.3, clf__estimator__l1_ratio=0.1, clf__estimator__penalty=elasticnet, tfidf_vec__max_features=10000, tfidf_vec__min_df=1e-06;, score=(train=0.801, test=0.729) total time=   1.5s\n",
            "[CV 3/5] END clf__estimator=LogisticRegression(max_iter=100000, solver='saga'), clf__estimator__C=0.3, clf__estimator__l1_ratio=0.1, clf__estimator__penalty=elasticnet, tfidf_vec__max_features=10000, tfidf_vec__min_df=1e-06;, score=(train=0.772, test=0.689) total time=   1.5s\n",
            "[CV 4/5] END clf__estimator=LogisticRegression(max_iter=100000, solver='saga'), clf__estimator__C=0.3, clf__estimator__l1_ratio=0.1, clf__estimator__penalty=elasticnet, tfidf_vec__max_features=10000, tfidf_vec__min_df=1e-06;, score=(train=0.787, test=0.712) total time=   1.7s\n",
            "[CV 5/5] END clf__estimator=LogisticRegression(max_iter=100000, solver='saga'), clf__estimator__C=0.3, clf__estimator__l1_ratio=0.1, clf__estimator__penalty=elasticnet, tfidf_vec__max_features=10000, tfidf_vec__min_df=1e-06;, score=(train=0.786, test=0.699) total time=   1.5s\n",
            "[CV 1/5] END clf__estimator=LogisticRegression(max_iter=100000, solver='saga'), clf__estimator__C=0.3, clf__estimator__l1_ratio=0.1, clf__estimator__penalty=elasticnet, tfidf_vec__max_features=10000, tfidf_vec__min_df=1;, score=(train=0.788, test=0.708) total time=   1.6s\n",
            "[CV 2/5] END clf__estimator=LogisticRegression(max_iter=100000, solver='saga'), clf__estimator__C=0.3, clf__estimator__l1_ratio=0.1, clf__estimator__penalty=elasticnet, tfidf_vec__max_features=10000, tfidf_vec__min_df=1;, score=(train=0.801, test=0.729) total time=   1.6s\n",
            "[CV 3/5] END clf__estimator=LogisticRegression(max_iter=100000, solver='saga'), clf__estimator__C=0.3, clf__estimator__l1_ratio=0.1, clf__estimator__penalty=elasticnet, tfidf_vec__max_features=10000, tfidf_vec__min_df=1;, score=(train=0.771, test=0.689) total time=   1.5s\n",
            "[CV 4/5] END clf__estimator=LogisticRegression(max_iter=100000, solver='saga'), clf__estimator__C=0.3, clf__estimator__l1_ratio=0.1, clf__estimator__penalty=elasticnet, tfidf_vec__max_features=10000, tfidf_vec__min_df=1;, score=(train=0.787, test=0.712) total time=   1.6s\n",
            "[CV 5/5] END clf__estimator=LogisticRegression(max_iter=100000, solver='saga'), clf__estimator__C=0.3, clf__estimator__l1_ratio=0.1, clf__estimator__penalty=elasticnet, tfidf_vec__max_features=10000, tfidf_vec__min_df=1;, score=(train=0.786, test=0.698) total time=   1.5s\n",
            "[CV 1/5] END clf__estimator=LogisticRegression(max_iter=100000, solver='saga'), clf__estimator__C=0.3, clf__estimator__l1_ratio=0.1, clf__estimator__penalty=elasticnet, tfidf_vec__max_features=20000, tfidf_vec__min_df=0.0001;, score=(train=0.788, test=0.708) total time=   1.6s\n",
            "[CV 2/5] END clf__estimator=LogisticRegression(max_iter=100000, solver='saga'), clf__estimator__C=0.3, clf__estimator__l1_ratio=0.1, clf__estimator__penalty=elasticnet, tfidf_vec__max_features=20000, tfidf_vec__min_df=0.0001;, score=(train=0.802, test=0.730) total time=   1.6s\n",
            "[CV 3/5] END clf__estimator=LogisticRegression(max_iter=100000, solver='saga'), clf__estimator__C=0.3, clf__estimator__l1_ratio=0.1, clf__estimator__penalty=elasticnet, tfidf_vec__max_features=20000, tfidf_vec__min_df=0.0001;, score=(train=0.773, test=0.690) total time=   1.5s\n",
            "[CV 4/5] END clf__estimator=LogisticRegression(max_iter=100000, solver='saga'), clf__estimator__C=0.3, clf__estimator__l1_ratio=0.1, clf__estimator__penalty=elasticnet, tfidf_vec__max_features=20000, tfidf_vec__min_df=0.0001;, score=(train=0.787, test=0.712) total time=   1.7s\n",
            "[CV 5/5] END clf__estimator=LogisticRegression(max_iter=100000, solver='saga'), clf__estimator__C=0.3, clf__estimator__l1_ratio=0.1, clf__estimator__penalty=elasticnet, tfidf_vec__max_features=20000, tfidf_vec__min_df=0.0001;, score=(train=0.786, test=0.699) total time=   1.5s\n",
            "[CV 1/5] END clf__estimator=LogisticRegression(max_iter=100000, solver='saga'), clf__estimator__C=0.3, clf__estimator__l1_ratio=0.1, clf__estimator__penalty=elasticnet, tfidf_vec__max_features=20000, tfidf_vec__min_df=1e-05;, score=(train=0.788, test=0.708) total time=   1.5s\n",
            "[CV 2/5] END clf__estimator=LogisticRegression(max_iter=100000, solver='saga'), clf__estimator__C=0.3, clf__estimator__l1_ratio=0.1, clf__estimator__penalty=elasticnet, tfidf_vec__max_features=20000, tfidf_vec__min_df=1e-05;, score=(train=0.803, test=0.730) total time=   1.5s\n",
            "[CV 3/5] END clf__estimator=LogisticRegression(max_iter=100000, solver='saga'), clf__estimator__C=0.3, clf__estimator__l1_ratio=0.1, clf__estimator__penalty=elasticnet, tfidf_vec__max_features=20000, tfidf_vec__min_df=1e-05;, score=(train=0.772, test=0.689) total time=   1.5s\n",
            "[CV 4/5] END clf__estimator=LogisticRegression(max_iter=100000, solver='saga'), clf__estimator__C=0.3, clf__estimator__l1_ratio=0.1, clf__estimator__penalty=elasticnet, tfidf_vec__max_features=20000, tfidf_vec__min_df=1e-05;, score=(train=0.788, test=0.712) total time=   1.6s\n",
            "[CV 5/5] END clf__estimator=LogisticRegression(max_iter=100000, solver='saga'), clf__estimator__C=0.3, clf__estimator__l1_ratio=0.1, clf__estimator__penalty=elasticnet, tfidf_vec__max_features=20000, tfidf_vec__min_df=1e-05;, score=(train=0.786, test=0.699) total time=   1.6s\n",
            "[CV 1/5] END clf__estimator=LogisticRegression(max_iter=100000, solver='saga'), clf__estimator__C=0.3, clf__estimator__l1_ratio=0.1, clf__estimator__penalty=elasticnet, tfidf_vec__max_features=20000, tfidf_vec__min_df=1e-06;, score=(train=0.788, test=0.708) total time=   1.5s\n",
            "[CV 2/5] END clf__estimator=LogisticRegression(max_iter=100000, solver='saga'), clf__estimator__C=0.3, clf__estimator__l1_ratio=0.1, clf__estimator__penalty=elasticnet, tfidf_vec__max_features=20000, tfidf_vec__min_df=1e-06;, score=(train=0.802, test=0.730) total time=   1.6s\n",
            "[CV 3/5] END clf__estimator=LogisticRegression(max_iter=100000, solver='saga'), clf__estimator__C=0.3, clf__estimator__l1_ratio=0.1, clf__estimator__penalty=elasticnet, tfidf_vec__max_features=20000, tfidf_vec__min_df=1e-06;, score=(train=0.772, test=0.689) total time=   1.5s\n",
            "[CV 4/5] END clf__estimator=LogisticRegression(max_iter=100000, solver='saga'), clf__estimator__C=0.3, clf__estimator__l1_ratio=0.1, clf__estimator__penalty=elasticnet, tfidf_vec__max_features=20000, tfidf_vec__min_df=1e-06;, score=(train=0.787, test=0.712) total time=   1.6s\n",
            "[CV 5/5] END clf__estimator=LogisticRegression(max_iter=100000, solver='saga'), clf__estimator__C=0.3, clf__estimator__l1_ratio=0.1, clf__estimator__penalty=elasticnet, tfidf_vec__max_features=20000, tfidf_vec__min_df=1e-06;, score=(train=0.786, test=0.699) total time=   1.7s\n",
            "[CV 1/5] END clf__estimator=LogisticRegression(max_iter=100000, solver='saga'), clf__estimator__C=0.3, clf__estimator__l1_ratio=0.1, clf__estimator__penalty=elasticnet, tfidf_vec__max_features=20000, tfidf_vec__min_df=1;, score=(train=0.789, test=0.708) total time=   1.6s\n",
            "[CV 2/5] END clf__estimator=LogisticRegression(max_iter=100000, solver='saga'), clf__estimator__C=0.3, clf__estimator__l1_ratio=0.1, clf__estimator__penalty=elasticnet, tfidf_vec__max_features=20000, tfidf_vec__min_df=1;, score=(train=0.801, test=0.729) total time=   1.6s\n",
            "[CV 3/5] END clf__estimator=LogisticRegression(max_iter=100000, solver='saga'), clf__estimator__C=0.3, clf__estimator__l1_ratio=0.1, clf__estimator__penalty=elasticnet, tfidf_vec__max_features=20000, tfidf_vec__min_df=1;, score=(train=0.772, test=0.689) total time=   1.4s\n",
            "[CV 4/5] END clf__estimator=LogisticRegression(max_iter=100000, solver='saga'), clf__estimator__C=0.3, clf__estimator__l1_ratio=0.1, clf__estimator__penalty=elasticnet, tfidf_vec__max_features=20000, tfidf_vec__min_df=1;, score=(train=0.787, test=0.712) total time=   1.7s\n",
            "[CV 5/5] END clf__estimator=LogisticRegression(max_iter=100000, solver='saga'), clf__estimator__C=0.3, clf__estimator__l1_ratio=0.1, clf__estimator__penalty=elasticnet, tfidf_vec__max_features=20000, tfidf_vec__min_df=1;, score=(train=0.786, test=0.699) total time=   1.5s\n",
            "[CV 1/5] END clf__estimator=LogisticRegression(max_iter=100000, solver='saga'), clf__estimator__C=0.3, clf__estimator__l1_ratio=0.1, clf__estimator__penalty=elasticnet, tfidf_vec__max_features=30000, tfidf_vec__min_df=0.0001;, score=(train=0.788, test=0.708) total time=   1.6s\n",
            "[CV 2/5] END clf__estimator=LogisticRegression(max_iter=100000, solver='saga'), clf__estimator__C=0.3, clf__estimator__l1_ratio=0.1, clf__estimator__penalty=elasticnet, tfidf_vec__max_features=30000, tfidf_vec__min_df=0.0001;, score=(train=0.802, test=0.730) total time=   1.6s\n",
            "[CV 3/5] END clf__estimator=LogisticRegression(max_iter=100000, solver='saga'), clf__estimator__C=0.3, clf__estimator__l1_ratio=0.1, clf__estimator__penalty=elasticnet, tfidf_vec__max_features=30000, tfidf_vec__min_df=0.0001;, score=(train=0.771, test=0.689) total time=   1.5s\n",
            "[CV 4/5] END clf__estimator=LogisticRegression(max_iter=100000, solver='saga'), clf__estimator__C=0.3, clf__estimator__l1_ratio=0.1, clf__estimator__penalty=elasticnet, tfidf_vec__max_features=30000, tfidf_vec__min_df=0.0001;, score=(train=0.787, test=0.712) total time=   1.7s\n",
            "[CV 5/5] END clf__estimator=LogisticRegression(max_iter=100000, solver='saga'), clf__estimator__C=0.3, clf__estimator__l1_ratio=0.1, clf__estimator__penalty=elasticnet, tfidf_vec__max_features=30000, tfidf_vec__min_df=0.0001;, score=(train=0.786, test=0.699) total time=   1.5s\n",
            "[CV 1/5] END clf__estimator=LogisticRegression(max_iter=100000, solver='saga'), clf__estimator__C=0.3, clf__estimator__l1_ratio=0.1, clf__estimator__penalty=elasticnet, tfidf_vec__max_features=30000, tfidf_vec__min_df=1e-05;, score=(train=0.788, test=0.708) total time=   1.5s\n",
            "[CV 2/5] END clf__estimator=LogisticRegression(max_iter=100000, solver='saga'), clf__estimator__C=0.3, clf__estimator__l1_ratio=0.1, clf__estimator__penalty=elasticnet, tfidf_vec__max_features=30000, tfidf_vec__min_df=1e-05;, score=(train=0.803, test=0.730) total time=   1.5s\n",
            "[CV 3/5] END clf__estimator=LogisticRegression(max_iter=100000, solver='saga'), clf__estimator__C=0.3, clf__estimator__l1_ratio=0.1, clf__estimator__penalty=elasticnet, tfidf_vec__max_features=30000, tfidf_vec__min_df=1e-05;, score=(train=0.772, test=0.689) total time=   1.5s\n",
            "[CV 4/5] END clf__estimator=LogisticRegression(max_iter=100000, solver='saga'), clf__estimator__C=0.3, clf__estimator__l1_ratio=0.1, clf__estimator__penalty=elasticnet, tfidf_vec__max_features=30000, tfidf_vec__min_df=1e-05;, score=(train=0.787, test=0.712) total time=   1.7s\n",
            "[CV 5/5] END clf__estimator=LogisticRegression(max_iter=100000, solver='saga'), clf__estimator__C=0.3, clf__estimator__l1_ratio=0.1, clf__estimator__penalty=elasticnet, tfidf_vec__max_features=30000, tfidf_vec__min_df=1e-05;, score=(train=0.786, test=0.698) total time=   1.5s\n",
            "[CV 1/5] END clf__estimator=LogisticRegression(max_iter=100000, solver='saga'), clf__estimator__C=0.3, clf__estimator__l1_ratio=0.1, clf__estimator__penalty=elasticnet, tfidf_vec__max_features=30000, tfidf_vec__min_df=1e-06;, score=(train=0.788, test=0.708) total time=   1.6s\n",
            "[CV 2/5] END clf__estimator=LogisticRegression(max_iter=100000, solver='saga'), clf__estimator__C=0.3, clf__estimator__l1_ratio=0.1, clf__estimator__penalty=elasticnet, tfidf_vec__max_features=30000, tfidf_vec__min_df=1e-06;, score=(train=0.803, test=0.730) total time=   1.6s\n",
            "[CV 3/5] END clf__estimator=LogisticRegression(max_iter=100000, solver='saga'), clf__estimator__C=0.3, clf__estimator__l1_ratio=0.1, clf__estimator__penalty=elasticnet, tfidf_vec__max_features=30000, tfidf_vec__min_df=1e-06;, score=(train=0.771, test=0.689) total time=   1.6s\n",
            "[CV 4/5] END clf__estimator=LogisticRegression(max_iter=100000, solver='saga'), clf__estimator__C=0.3, clf__estimator__l1_ratio=0.1, clf__estimator__penalty=elasticnet, tfidf_vec__max_features=30000, tfidf_vec__min_df=1e-06;, score=(train=0.787, test=0.712) total time=   1.6s\n",
            "[CV 5/5] END clf__estimator=LogisticRegression(max_iter=100000, solver='saga'), clf__estimator__C=0.3, clf__estimator__l1_ratio=0.1, clf__estimator__penalty=elasticnet, tfidf_vec__max_features=30000, tfidf_vec__min_df=1e-06;, score=(train=0.786, test=0.699) total time=   1.5s\n",
            "[CV 1/5] END clf__estimator=LogisticRegression(max_iter=100000, solver='saga'), clf__estimator__C=0.3, clf__estimator__l1_ratio=0.1, clf__estimator__penalty=elasticnet, tfidf_vec__max_features=30000, tfidf_vec__min_df=1;, score=(train=0.789, test=0.708) total time=   1.5s\n",
            "[CV 2/5] END clf__estimator=LogisticRegression(max_iter=100000, solver='saga'), clf__estimator__C=0.3, clf__estimator__l1_ratio=0.1, clf__estimator__penalty=elasticnet, tfidf_vec__max_features=30000, tfidf_vec__min_df=1;, score=(train=0.802, test=0.731) total time=   1.5s\n",
            "[CV 3/5] END clf__estimator=LogisticRegression(max_iter=100000, solver='saga'), clf__estimator__C=0.3, clf__estimator__l1_ratio=0.1, clf__estimator__penalty=elasticnet, tfidf_vec__max_features=30000, tfidf_vec__min_df=1;, score=(train=0.770, test=0.689) total time=   1.5s\n",
            "[CV 4/5] END clf__estimator=LogisticRegression(max_iter=100000, solver='saga'), clf__estimator__C=0.3, clf__estimator__l1_ratio=0.1, clf__estimator__penalty=elasticnet, tfidf_vec__max_features=30000, tfidf_vec__min_df=1;, score=(train=0.787, test=0.712) total time=   1.6s\n",
            "[CV 5/5] END clf__estimator=LogisticRegression(max_iter=100000, solver='saga'), clf__estimator__C=0.3, clf__estimator__l1_ratio=0.1, clf__estimator__penalty=elasticnet, tfidf_vec__max_features=30000, tfidf_vec__min_df=1;, score=(train=0.786, test=0.699) total time=   1.5s\n",
            "[CV 1/5] END clf__estimator=LogisticRegression(max_iter=100000, solver='saga'), clf__estimator__C=0.3, clf__estimator__l1_ratio=0.1, clf__estimator__penalty=elasticnet, tfidf_vec__max_features=50000, tfidf_vec__min_df=0.0001;, score=(train=0.788, test=0.708) total time=   1.5s\n",
            "[CV 2/5] END clf__estimator=LogisticRegression(max_iter=100000, solver='saga'), clf__estimator__C=0.3, clf__estimator__l1_ratio=0.1, clf__estimator__penalty=elasticnet, tfidf_vec__max_features=50000, tfidf_vec__min_df=0.0001;, score=(train=0.802, test=0.730) total time=   1.5s\n",
            "[CV 3/5] END clf__estimator=LogisticRegression(max_iter=100000, solver='saga'), clf__estimator__C=0.3, clf__estimator__l1_ratio=0.1, clf__estimator__penalty=elasticnet, tfidf_vec__max_features=50000, tfidf_vec__min_df=0.0001;, score=(train=0.770, test=0.689) total time=   1.6s\n",
            "[CV 4/5] END clf__estimator=LogisticRegression(max_iter=100000, solver='saga'), clf__estimator__C=0.3, clf__estimator__l1_ratio=0.1, clf__estimator__penalty=elasticnet, tfidf_vec__max_features=50000, tfidf_vec__min_df=0.0001;, score=(train=0.788, test=0.712) total time=   1.5s\n",
            "[CV 5/5] END clf__estimator=LogisticRegression(max_iter=100000, solver='saga'), clf__estimator__C=0.3, clf__estimator__l1_ratio=0.1, clf__estimator__penalty=elasticnet, tfidf_vec__max_features=50000, tfidf_vec__min_df=0.0001;, score=(train=0.786, test=0.698) total time=   1.5s\n",
            "[CV 1/5] END clf__estimator=LogisticRegression(max_iter=100000, solver='saga'), clf__estimator__C=0.3, clf__estimator__l1_ratio=0.1, clf__estimator__penalty=elasticnet, tfidf_vec__max_features=50000, tfidf_vec__min_df=1e-05;, score=(train=0.788, test=0.708) total time=   1.6s\n",
            "[CV 2/5] END clf__estimator=LogisticRegression(max_iter=100000, solver='saga'), clf__estimator__C=0.3, clf__estimator__l1_ratio=0.1, clf__estimator__penalty=elasticnet, tfidf_vec__max_features=50000, tfidf_vec__min_df=1e-05;, score=(train=0.803, test=0.730) total time=   1.6s\n",
            "[CV 3/5] END clf__estimator=LogisticRegression(max_iter=100000, solver='saga'), clf__estimator__C=0.3, clf__estimator__l1_ratio=0.1, clf__estimator__penalty=elasticnet, tfidf_vec__max_features=50000, tfidf_vec__min_df=1e-05;, score=(train=0.770, test=0.689) total time=   1.6s\n",
            "[CV 4/5] END clf__estimator=LogisticRegression(max_iter=100000, solver='saga'), clf__estimator__C=0.3, clf__estimator__l1_ratio=0.1, clf__estimator__penalty=elasticnet, tfidf_vec__max_features=50000, tfidf_vec__min_df=1e-05;, score=(train=0.787, test=0.712) total time=   1.7s\n",
            "[CV 5/5] END clf__estimator=LogisticRegression(max_iter=100000, solver='saga'), clf__estimator__C=0.3, clf__estimator__l1_ratio=0.1, clf__estimator__penalty=elasticnet, tfidf_vec__max_features=50000, tfidf_vec__min_df=1e-05;, score=(train=0.786, test=0.699) total time=   1.5s\n",
            "[CV 1/5] END clf__estimator=LogisticRegression(max_iter=100000, solver='saga'), clf__estimator__C=0.3, clf__estimator__l1_ratio=0.1, clf__estimator__penalty=elasticnet, tfidf_vec__max_features=50000, tfidf_vec__min_df=1e-06;, score=(train=0.788, test=0.707) total time=   1.5s\n",
            "[CV 2/5] END clf__estimator=LogisticRegression(max_iter=100000, solver='saga'), clf__estimator__C=0.3, clf__estimator__l1_ratio=0.1, clf__estimator__penalty=elasticnet, tfidf_vec__max_features=50000, tfidf_vec__min_df=1e-06;, score=(train=0.802, test=0.730) total time=   1.6s\n",
            "[CV 3/5] END clf__estimator=LogisticRegression(max_iter=100000, solver='saga'), clf__estimator__C=0.3, clf__estimator__l1_ratio=0.1, clf__estimator__penalty=elasticnet, tfidf_vec__max_features=50000, tfidf_vec__min_df=1e-06;, score=(train=0.770, test=0.689) total time=   1.6s\n",
            "[CV 4/5] END clf__estimator=LogisticRegression(max_iter=100000, solver='saga'), clf__estimator__C=0.3, clf__estimator__l1_ratio=0.1, clf__estimator__penalty=elasticnet, tfidf_vec__max_features=50000, tfidf_vec__min_df=1e-06;, score=(train=0.787, test=0.712) total time=   1.6s\n",
            "[CV 5/5] END clf__estimator=LogisticRegression(max_iter=100000, solver='saga'), clf__estimator__C=0.3, clf__estimator__l1_ratio=0.1, clf__estimator__penalty=elasticnet, tfidf_vec__max_features=50000, tfidf_vec__min_df=1e-06;, score=(train=0.786, test=0.699) total time=   1.6s\n",
            "[CV 1/5] END clf__estimator=LogisticRegression(max_iter=100000, solver='saga'), clf__estimator__C=0.3, clf__estimator__l1_ratio=0.1, clf__estimator__penalty=elasticnet, tfidf_vec__max_features=50000, tfidf_vec__min_df=1;, score=(train=0.789, test=0.708) total time=   1.6s\n",
            "[CV 2/5] END clf__estimator=LogisticRegression(max_iter=100000, solver='saga'), clf__estimator__C=0.3, clf__estimator__l1_ratio=0.1, clf__estimator__penalty=elasticnet, tfidf_vec__max_features=50000, tfidf_vec__min_df=1;, score=(train=0.801, test=0.729) total time=   1.7s\n",
            "[CV 3/5] END clf__estimator=LogisticRegression(max_iter=100000, solver='saga'), clf__estimator__C=0.3, clf__estimator__l1_ratio=0.1, clf__estimator__penalty=elasticnet, tfidf_vec__max_features=50000, tfidf_vec__min_df=1;, score=(train=0.771, test=0.689) total time=   1.6s\n",
            "[CV 4/5] END clf__estimator=LogisticRegression(max_iter=100000, solver='saga'), clf__estimator__C=0.3, clf__estimator__l1_ratio=0.1, clf__estimator__penalty=elasticnet, tfidf_vec__max_features=50000, tfidf_vec__min_df=1;, score=(train=0.787, test=0.712) total time=   1.6s\n",
            "[CV 5/5] END clf__estimator=LogisticRegression(max_iter=100000, solver='saga'), clf__estimator__C=0.3, clf__estimator__l1_ratio=0.1, clf__estimator__penalty=elasticnet, tfidf_vec__max_features=50000, tfidf_vec__min_df=1;, score=(train=0.786, test=0.699) total time=   1.5s\n",
            "[CV 1/5] END clf__estimator=LogisticRegression(max_iter=100000, solver='saga'), clf__estimator__C=0.3, clf__estimator__l1_ratio=0.2, clf__estimator__penalty=elasticnet, tfidf_vec__max_features=None, tfidf_vec__min_df=0.0001;, score=(train=0.767, test=0.711) total time=   0.3s\n",
            "[CV 2/5] END clf__estimator=LogisticRegression(max_iter=100000, solver='saga'), clf__estimator__C=0.3, clf__estimator__l1_ratio=0.2, clf__estimator__penalty=elasticnet, tfidf_vec__max_features=None, tfidf_vec__min_df=0.0001;, score=(train=0.774, test=0.721) total time=   0.3s\n",
            "[CV 3/5] END clf__estimator=LogisticRegression(max_iter=100000, solver='saga'), clf__estimator__C=0.3, clf__estimator__l1_ratio=0.2, clf__estimator__penalty=elasticnet, tfidf_vec__max_features=None, tfidf_vec__min_df=0.0001;, score=(train=0.714, test=0.673) total time=   0.3s\n",
            "[CV 4/5] END clf__estimator=LogisticRegression(max_iter=100000, solver='saga'), clf__estimator__C=0.3, clf__estimator__l1_ratio=0.2, clf__estimator__penalty=elasticnet, tfidf_vec__max_features=None, tfidf_vec__min_df=0.0001;, score=(train=0.772, test=0.704) total time=   0.3s\n",
            "[CV 5/5] END clf__estimator=LogisticRegression(max_iter=100000, solver='saga'), clf__estimator__C=0.3, clf__estimator__l1_ratio=0.2, clf__estimator__penalty=elasticnet, tfidf_vec__max_features=None, tfidf_vec__min_df=0.0001;, score=(train=0.763, test=0.705) total time=   0.4s\n",
            "[CV 1/5] END clf__estimator=LogisticRegression(max_iter=100000, solver='saga'), clf__estimator__C=0.3, clf__estimator__l1_ratio=0.2, clf__estimator__penalty=elasticnet, tfidf_vec__max_features=None, tfidf_vec__min_df=1e-05;, score=(train=0.767, test=0.710) total time=   0.3s\n",
            "[CV 2/5] END clf__estimator=LogisticRegression(max_iter=100000, solver='saga'), clf__estimator__C=0.3, clf__estimator__l1_ratio=0.2, clf__estimator__penalty=elasticnet, tfidf_vec__max_features=None, tfidf_vec__min_df=1e-05;, score=(train=0.775, test=0.721) total time=   0.3s\n",
            "[CV 3/5] END clf__estimator=LogisticRegression(max_iter=100000, solver='saga'), clf__estimator__C=0.3, clf__estimator__l1_ratio=0.2, clf__estimator__penalty=elasticnet, tfidf_vec__max_features=None, tfidf_vec__min_df=1e-05;, score=(train=0.713, test=0.673) total time=   0.3s\n",
            "[CV 4/5] END clf__estimator=LogisticRegression(max_iter=100000, solver='saga'), clf__estimator__C=0.3, clf__estimator__l1_ratio=0.2, clf__estimator__penalty=elasticnet, tfidf_vec__max_features=None, tfidf_vec__min_df=1e-05;, score=(train=0.772, test=0.704) total time=   0.4s\n",
            "[CV 5/5] END clf__estimator=LogisticRegression(max_iter=100000, solver='saga'), clf__estimator__C=0.3, clf__estimator__l1_ratio=0.2, clf__estimator__penalty=elasticnet, tfidf_vec__max_features=None, tfidf_vec__min_df=1e-05;, score=(train=0.763, test=0.705) total time=   0.4s\n",
            "[CV 1/5] END clf__estimator=LogisticRegression(max_iter=100000, solver='saga'), clf__estimator__C=0.3, clf__estimator__l1_ratio=0.2, clf__estimator__penalty=elasticnet, tfidf_vec__max_features=None, tfidf_vec__min_df=1e-06;, score=(train=0.767, test=0.710) total time=   0.3s\n",
            "[CV 2/5] END clf__estimator=LogisticRegression(max_iter=100000, solver='saga'), clf__estimator__C=0.3, clf__estimator__l1_ratio=0.2, clf__estimator__penalty=elasticnet, tfidf_vec__max_features=None, tfidf_vec__min_df=1e-06;, score=(train=0.774, test=0.719) total time=   0.3s\n",
            "[CV 3/5] END clf__estimator=LogisticRegression(max_iter=100000, solver='saga'), clf__estimator__C=0.3, clf__estimator__l1_ratio=0.2, clf__estimator__penalty=elasticnet, tfidf_vec__max_features=None, tfidf_vec__min_df=1e-06;, score=(train=0.714, test=0.674) total time=   0.3s\n",
            "[CV 4/5] END clf__estimator=LogisticRegression(max_iter=100000, solver='saga'), clf__estimator__C=0.3, clf__estimator__l1_ratio=0.2, clf__estimator__penalty=elasticnet, tfidf_vec__max_features=None, tfidf_vec__min_df=1e-06;, score=(train=0.772, test=0.705) total time=   0.3s\n",
            "[CV 5/5] END clf__estimator=LogisticRegression(max_iter=100000, solver='saga'), clf__estimator__C=0.3, clf__estimator__l1_ratio=0.2, clf__estimator__penalty=elasticnet, tfidf_vec__max_features=None, tfidf_vec__min_df=1e-06;, score=(train=0.762, test=0.704) total time=   0.3s\n",
            "[CV 1/5] END clf__estimator=LogisticRegression(max_iter=100000, solver='saga'), clf__estimator__C=0.3, clf__estimator__l1_ratio=0.2, clf__estimator__penalty=elasticnet, tfidf_vec__max_features=None, tfidf_vec__min_df=1;, score=(train=0.767, test=0.710) total time=   0.3s\n",
            "[CV 2/5] END clf__estimator=LogisticRegression(max_iter=100000, solver='saga'), clf__estimator__C=0.3, clf__estimator__l1_ratio=0.2, clf__estimator__penalty=elasticnet, tfidf_vec__max_features=None, tfidf_vec__min_df=1;, score=(train=0.774, test=0.719) total time=   0.3s\n",
            "[CV 3/5] END clf__estimator=LogisticRegression(max_iter=100000, solver='saga'), clf__estimator__C=0.3, clf__estimator__l1_ratio=0.2, clf__estimator__penalty=elasticnet, tfidf_vec__max_features=None, tfidf_vec__min_df=1;, score=(train=0.714, test=0.674) total time=   0.3s\n",
            "[CV 4/5] END clf__estimator=LogisticRegression(max_iter=100000, solver='saga'), clf__estimator__C=0.3, clf__estimator__l1_ratio=0.2, clf__estimator__penalty=elasticnet, tfidf_vec__max_features=None, tfidf_vec__min_df=1;, score=(train=0.772, test=0.704) total time=   0.3s\n",
            "[CV 5/5] END clf__estimator=LogisticRegression(max_iter=100000, solver='saga'), clf__estimator__C=0.3, clf__estimator__l1_ratio=0.2, clf__estimator__penalty=elasticnet, tfidf_vec__max_features=None, tfidf_vec__min_df=1;, score=(train=0.762, test=0.704) total time=   0.3s\n",
            "[CV 1/5] END clf__estimator=LogisticRegression(max_iter=100000, solver='saga'), clf__estimator__C=0.3, clf__estimator__l1_ratio=0.2, clf__estimator__penalty=elasticnet, tfidf_vec__max_features=10000, tfidf_vec__min_df=0.0001;, score=(train=0.767, test=0.711) total time=   0.4s\n",
            "[CV 2/5] END clf__estimator=LogisticRegression(max_iter=100000, solver='saga'), clf__estimator__C=0.3, clf__estimator__l1_ratio=0.2, clf__estimator__penalty=elasticnet, tfidf_vec__max_features=10000, tfidf_vec__min_df=0.0001;, score=(train=0.774, test=0.721) total time=   0.4s\n",
            "[CV 3/5] END clf__estimator=LogisticRegression(max_iter=100000, solver='saga'), clf__estimator__C=0.3, clf__estimator__l1_ratio=0.2, clf__estimator__penalty=elasticnet, tfidf_vec__max_features=10000, tfidf_vec__min_df=0.0001;, score=(train=0.714, test=0.673) total time=   0.4s\n",
            "[CV 4/5] END clf__estimator=LogisticRegression(max_iter=100000, solver='saga'), clf__estimator__C=0.3, clf__estimator__l1_ratio=0.2, clf__estimator__penalty=elasticnet, tfidf_vec__max_features=10000, tfidf_vec__min_df=0.0001;, score=(train=0.772, test=0.704) total time=   0.4s\n",
            "[CV 5/5] END clf__estimator=LogisticRegression(max_iter=100000, solver='saga'), clf__estimator__C=0.3, clf__estimator__l1_ratio=0.2, clf__estimator__penalty=elasticnet, tfidf_vec__max_features=10000, tfidf_vec__min_df=0.0001;, score=(train=0.762, test=0.704) total time=   0.4s\n",
            "[CV 1/5] END clf__estimator=LogisticRegression(max_iter=100000, solver='saga'), clf__estimator__C=0.3, clf__estimator__l1_ratio=0.2, clf__estimator__penalty=elasticnet, tfidf_vec__max_features=10000, tfidf_vec__min_df=1e-05;, score=(train=0.767, test=0.710) total time=   0.4s\n",
            "[CV 2/5] END clf__estimator=LogisticRegression(max_iter=100000, solver='saga'), clf__estimator__C=0.3, clf__estimator__l1_ratio=0.2, clf__estimator__penalty=elasticnet, tfidf_vec__max_features=10000, tfidf_vec__min_df=1e-05;, score=(train=0.774, test=0.719) total time=   0.4s\n",
            "[CV 3/5] END clf__estimator=LogisticRegression(max_iter=100000, solver='saga'), clf__estimator__C=0.3, clf__estimator__l1_ratio=0.2, clf__estimator__penalty=elasticnet, tfidf_vec__max_features=10000, tfidf_vec__min_df=1e-05;, score=(train=0.713, test=0.674) total time=   0.4s\n",
            "[CV 4/5] END clf__estimator=LogisticRegression(max_iter=100000, solver='saga'), clf__estimator__C=0.3, clf__estimator__l1_ratio=0.2, clf__estimator__penalty=elasticnet, tfidf_vec__max_features=10000, tfidf_vec__min_df=1e-05;, score=(train=0.772, test=0.704) total time=   0.4s\n",
            "[CV 5/5] END clf__estimator=LogisticRegression(max_iter=100000, solver='saga'), clf__estimator__C=0.3, clf__estimator__l1_ratio=0.2, clf__estimator__penalty=elasticnet, tfidf_vec__max_features=10000, tfidf_vec__min_df=1e-05;, score=(train=0.762, test=0.704) total time=   0.4s\n",
            "[CV 1/5] END clf__estimator=LogisticRegression(max_iter=100000, solver='saga'), clf__estimator__C=0.3, clf__estimator__l1_ratio=0.2, clf__estimator__penalty=elasticnet, tfidf_vec__max_features=10000, tfidf_vec__min_df=1e-06;, score=(train=0.767, test=0.710) total time=   0.4s\n",
            "[CV 2/5] END clf__estimator=LogisticRegression(max_iter=100000, solver='saga'), clf__estimator__C=0.3, clf__estimator__l1_ratio=0.2, clf__estimator__penalty=elasticnet, tfidf_vec__max_features=10000, tfidf_vec__min_df=1e-06;, score=(train=0.774, test=0.721) total time=   0.4s\n",
            "[CV 3/5] END clf__estimator=LogisticRegression(max_iter=100000, solver='saga'), clf__estimator__C=0.3, clf__estimator__l1_ratio=0.2, clf__estimator__penalty=elasticnet, tfidf_vec__max_features=10000, tfidf_vec__min_df=1e-06;, score=(train=0.714, test=0.674) total time=   0.4s\n",
            "[CV 4/5] END clf__estimator=LogisticRegression(max_iter=100000, solver='saga'), clf__estimator__C=0.3, clf__estimator__l1_ratio=0.2, clf__estimator__penalty=elasticnet, tfidf_vec__max_features=10000, tfidf_vec__min_df=1e-06;, score=(train=0.772, test=0.704) total time=   0.4s\n",
            "[CV 5/5] END clf__estimator=LogisticRegression(max_iter=100000, solver='saga'), clf__estimator__C=0.3, clf__estimator__l1_ratio=0.2, clf__estimator__penalty=elasticnet, tfidf_vec__max_features=10000, tfidf_vec__min_df=1e-06;, score=(train=0.762, test=0.704) total time=   0.4s\n",
            "[CV 1/5] END clf__estimator=LogisticRegression(max_iter=100000, solver='saga'), clf__estimator__C=0.3, clf__estimator__l1_ratio=0.2, clf__estimator__penalty=elasticnet, tfidf_vec__max_features=10000, tfidf_vec__min_df=1;, score=(train=0.767, test=0.710) total time=   0.4s\n",
            "[CV 2/5] END clf__estimator=LogisticRegression(max_iter=100000, solver='saga'), clf__estimator__C=0.3, clf__estimator__l1_ratio=0.2, clf__estimator__penalty=elasticnet, tfidf_vec__max_features=10000, tfidf_vec__min_df=1;, score=(train=0.774, test=0.721) total time=   0.4s\n",
            "[CV 3/5] END clf__estimator=LogisticRegression(max_iter=100000, solver='saga'), clf__estimator__C=0.3, clf__estimator__l1_ratio=0.2, clf__estimator__penalty=elasticnet, tfidf_vec__max_features=10000, tfidf_vec__min_df=1;, score=(train=0.713, test=0.674) total time=   0.4s\n",
            "[CV 4/5] END clf__estimator=LogisticRegression(max_iter=100000, solver='saga'), clf__estimator__C=0.3, clf__estimator__l1_ratio=0.2, clf__estimator__penalty=elasticnet, tfidf_vec__max_features=10000, tfidf_vec__min_df=1;, score=(train=0.772, test=0.704) total time=   0.4s\n",
            "[CV 5/5] END clf__estimator=LogisticRegression(max_iter=100000, solver='saga'), clf__estimator__C=0.3, clf__estimator__l1_ratio=0.2, clf__estimator__penalty=elasticnet, tfidf_vec__max_features=10000, tfidf_vec__min_df=1;, score=(train=0.762, test=0.705) total time=   0.4s\n",
            "[CV 1/5] END clf__estimator=LogisticRegression(max_iter=100000, solver='saga'), clf__estimator__C=0.3, clf__estimator__l1_ratio=0.2, clf__estimator__penalty=elasticnet, tfidf_vec__max_features=20000, tfidf_vec__min_df=0.0001;, score=(train=0.767, test=0.710) total time=   0.4s\n",
            "[CV 2/5] END clf__estimator=LogisticRegression(max_iter=100000, solver='saga'), clf__estimator__C=0.3, clf__estimator__l1_ratio=0.2, clf__estimator__penalty=elasticnet, tfidf_vec__max_features=20000, tfidf_vec__min_df=0.0001;, score=(train=0.774, test=0.721) total time=   0.4s\n",
            "[CV 3/5] END clf__estimator=LogisticRegression(max_iter=100000, solver='saga'), clf__estimator__C=0.3, clf__estimator__l1_ratio=0.2, clf__estimator__penalty=elasticnet, tfidf_vec__max_features=20000, tfidf_vec__min_df=0.0001;, score=(train=0.714, test=0.674) total time=   0.4s\n",
            "[CV 4/5] END clf__estimator=LogisticRegression(max_iter=100000, solver='saga'), clf__estimator__C=0.3, clf__estimator__l1_ratio=0.2, clf__estimator__penalty=elasticnet, tfidf_vec__max_features=20000, tfidf_vec__min_df=0.0001;, score=(train=0.772, test=0.705) total time=   0.4s\n",
            "[CV 5/5] END clf__estimator=LogisticRegression(max_iter=100000, solver='saga'), clf__estimator__C=0.3, clf__estimator__l1_ratio=0.2, clf__estimator__penalty=elasticnet, tfidf_vec__max_features=20000, tfidf_vec__min_df=0.0001;, score=(train=0.763, test=0.705) total time=   0.4s\n",
            "[CV 1/5] END clf__estimator=LogisticRegression(max_iter=100000, solver='saga'), clf__estimator__C=0.3, clf__estimator__l1_ratio=0.2, clf__estimator__penalty=elasticnet, tfidf_vec__max_features=20000, tfidf_vec__min_df=1e-05;, score=(train=0.767, test=0.710) total time=   0.4s\n",
            "[CV 2/5] END clf__estimator=LogisticRegression(max_iter=100000, solver='saga'), clf__estimator__C=0.3, clf__estimator__l1_ratio=0.2, clf__estimator__penalty=elasticnet, tfidf_vec__max_features=20000, tfidf_vec__min_df=1e-05;, score=(train=0.774, test=0.719) total time=   0.3s\n",
            "[CV 3/5] END clf__estimator=LogisticRegression(max_iter=100000, solver='saga'), clf__estimator__C=0.3, clf__estimator__l1_ratio=0.2, clf__estimator__penalty=elasticnet, tfidf_vec__max_features=20000, tfidf_vec__min_df=1e-05;, score=(train=0.713, test=0.673) total time=   0.4s\n",
            "[CV 4/5] END clf__estimator=LogisticRegression(max_iter=100000, solver='saga'), clf__estimator__C=0.3, clf__estimator__l1_ratio=0.2, clf__estimator__penalty=elasticnet, tfidf_vec__max_features=20000, tfidf_vec__min_df=1e-05;, score=(train=0.772, test=0.704) total time=   0.4s\n",
            "[CV 5/5] END clf__estimator=LogisticRegression(max_iter=100000, solver='saga'), clf__estimator__C=0.3, clf__estimator__l1_ratio=0.2, clf__estimator__penalty=elasticnet, tfidf_vec__max_features=20000, tfidf_vec__min_df=1e-05;, score=(train=0.762, test=0.704) total time=   0.4s\n",
            "[CV 1/5] END clf__estimator=LogisticRegression(max_iter=100000, solver='saga'), clf__estimator__C=0.3, clf__estimator__l1_ratio=0.2, clf__estimator__penalty=elasticnet, tfidf_vec__max_features=20000, tfidf_vec__min_df=1e-06;, score=(train=0.767, test=0.710) total time=   0.4s\n",
            "[CV 2/5] END clf__estimator=LogisticRegression(max_iter=100000, solver='saga'), clf__estimator__C=0.3, clf__estimator__l1_ratio=0.2, clf__estimator__penalty=elasticnet, tfidf_vec__max_features=20000, tfidf_vec__min_df=1e-06;, score=(train=0.774, test=0.719) total time=   0.4s\n",
            "[CV 3/5] END clf__estimator=LogisticRegression(max_iter=100000, solver='saga'), clf__estimator__C=0.3, clf__estimator__l1_ratio=0.2, clf__estimator__penalty=elasticnet, tfidf_vec__max_features=20000, tfidf_vec__min_df=1e-06;, score=(train=0.713, test=0.674) total time=   0.4s\n",
            "[CV 4/5] END clf__estimator=LogisticRegression(max_iter=100000, solver='saga'), clf__estimator__C=0.3, clf__estimator__l1_ratio=0.2, clf__estimator__penalty=elasticnet, tfidf_vec__max_features=20000, tfidf_vec__min_df=1e-06;, score=(train=0.772, test=0.704) total time=   0.4s\n",
            "[CV 5/5] END clf__estimator=LogisticRegression(max_iter=100000, solver='saga'), clf__estimator__C=0.3, clf__estimator__l1_ratio=0.2, clf__estimator__penalty=elasticnet, tfidf_vec__max_features=20000, tfidf_vec__min_df=1e-06;, score=(train=0.763, test=0.705) total time=   0.4s\n",
            "[CV 1/5] END clf__estimator=LogisticRegression(max_iter=100000, solver='saga'), clf__estimator__C=0.3, clf__estimator__l1_ratio=0.2, clf__estimator__penalty=elasticnet, tfidf_vec__max_features=20000, tfidf_vec__min_df=1;, score=(train=0.767, test=0.710) total time=   0.4s\n",
            "[CV 2/5] END clf__estimator=LogisticRegression(max_iter=100000, solver='saga'), clf__estimator__C=0.3, clf__estimator__l1_ratio=0.2, clf__estimator__penalty=elasticnet, tfidf_vec__max_features=20000, tfidf_vec__min_df=1;, score=(train=0.774, test=0.721) total time=   0.4s\n",
            "[CV 3/5] END clf__estimator=LogisticRegression(max_iter=100000, solver='saga'), clf__estimator__C=0.3, clf__estimator__l1_ratio=0.2, clf__estimator__penalty=elasticnet, tfidf_vec__max_features=20000, tfidf_vec__min_df=1;, score=(train=0.714, test=0.673) total time=   0.4s\n",
            "[CV 4/5] END clf__estimator=LogisticRegression(max_iter=100000, solver='saga'), clf__estimator__C=0.3, clf__estimator__l1_ratio=0.2, clf__estimator__penalty=elasticnet, tfidf_vec__max_features=20000, tfidf_vec__min_df=1;, score=(train=0.772, test=0.704) total time=   0.4s\n",
            "[CV 5/5] END clf__estimator=LogisticRegression(max_iter=100000, solver='saga'), clf__estimator__C=0.3, clf__estimator__l1_ratio=0.2, clf__estimator__penalty=elasticnet, tfidf_vec__max_features=20000, tfidf_vec__min_df=1;, score=(train=0.762, test=0.704) total time=   0.4s\n",
            "[CV 1/5] END clf__estimator=LogisticRegression(max_iter=100000, solver='saga'), clf__estimator__C=0.3, clf__estimator__l1_ratio=0.2, clf__estimator__penalty=elasticnet, tfidf_vec__max_features=30000, tfidf_vec__min_df=0.0001;, score=(train=0.767, test=0.711) total time=   0.4s\n",
            "[CV 2/5] END clf__estimator=LogisticRegression(max_iter=100000, solver='saga'), clf__estimator__C=0.3, clf__estimator__l1_ratio=0.2, clf__estimator__penalty=elasticnet, tfidf_vec__max_features=30000, tfidf_vec__min_df=0.0001;, score=(train=0.774, test=0.719) total time=   0.4s\n",
            "[CV 3/5] END clf__estimator=LogisticRegression(max_iter=100000, solver='saga'), clf__estimator__C=0.3, clf__estimator__l1_ratio=0.2, clf__estimator__penalty=elasticnet, tfidf_vec__max_features=30000, tfidf_vec__min_df=0.0001;, score=(train=0.714, test=0.675) total time=   0.4s\n",
            "[CV 4/5] END clf__estimator=LogisticRegression(max_iter=100000, solver='saga'), clf__estimator__C=0.3, clf__estimator__l1_ratio=0.2, clf__estimator__penalty=elasticnet, tfidf_vec__max_features=30000, tfidf_vec__min_df=0.0001;, score=(train=0.772, test=0.704) total time=   0.4s\n",
            "[CV 5/5] END clf__estimator=LogisticRegression(max_iter=100000, solver='saga'), clf__estimator__C=0.3, clf__estimator__l1_ratio=0.2, clf__estimator__penalty=elasticnet, tfidf_vec__max_features=30000, tfidf_vec__min_df=0.0001;, score=(train=0.762, test=0.704) total time=   0.4s\n",
            "[CV 1/5] END clf__estimator=LogisticRegression(max_iter=100000, solver='saga'), clf__estimator__C=0.3, clf__estimator__l1_ratio=0.2, clf__estimator__penalty=elasticnet, tfidf_vec__max_features=30000, tfidf_vec__min_df=1e-05;, score=(train=0.767, test=0.711) total time=   0.4s\n",
            "[CV 2/5] END clf__estimator=LogisticRegression(max_iter=100000, solver='saga'), clf__estimator__C=0.3, clf__estimator__l1_ratio=0.2, clf__estimator__penalty=elasticnet, tfidf_vec__max_features=30000, tfidf_vec__min_df=1e-05;, score=(train=0.774, test=0.719) total time=   0.4s\n",
            "[CV 3/5] END clf__estimator=LogisticRegression(max_iter=100000, solver='saga'), clf__estimator__C=0.3, clf__estimator__l1_ratio=0.2, clf__estimator__penalty=elasticnet, tfidf_vec__max_features=30000, tfidf_vec__min_df=1e-05;, score=(train=0.714, test=0.673) total time=   0.4s\n",
            "[CV 4/5] END clf__estimator=LogisticRegression(max_iter=100000, solver='saga'), clf__estimator__C=0.3, clf__estimator__l1_ratio=0.2, clf__estimator__penalty=elasticnet, tfidf_vec__max_features=30000, tfidf_vec__min_df=1e-05;, score=(train=0.772, test=0.704) total time=   0.4s\n",
            "[CV 5/5] END clf__estimator=LogisticRegression(max_iter=100000, solver='saga'), clf__estimator__C=0.3, clf__estimator__l1_ratio=0.2, clf__estimator__penalty=elasticnet, tfidf_vec__max_features=30000, tfidf_vec__min_df=1e-05;, score=(train=0.762, test=0.704) total time=   0.4s\n",
            "[CV 1/5] END clf__estimator=LogisticRegression(max_iter=100000, solver='saga'), clf__estimator__C=0.3, clf__estimator__l1_ratio=0.2, clf__estimator__penalty=elasticnet, tfidf_vec__max_features=30000, tfidf_vec__min_df=1e-06;, score=(train=0.767, test=0.710) total time=   0.4s\n",
            "[CV 2/5] END clf__estimator=LogisticRegression(max_iter=100000, solver='saga'), clf__estimator__C=0.3, clf__estimator__l1_ratio=0.2, clf__estimator__penalty=elasticnet, tfidf_vec__max_features=30000, tfidf_vec__min_df=1e-06;, score=(train=0.774, test=0.719) total time=   0.4s\n",
            "[CV 3/5] END clf__estimator=LogisticRegression(max_iter=100000, solver='saga'), clf__estimator__C=0.3, clf__estimator__l1_ratio=0.2, clf__estimator__penalty=elasticnet, tfidf_vec__max_features=30000, tfidf_vec__min_df=1e-06;, score=(train=0.713, test=0.673) total time=   0.4s\n",
            "[CV 4/5] END clf__estimator=LogisticRegression(max_iter=100000, solver='saga'), clf__estimator__C=0.3, clf__estimator__l1_ratio=0.2, clf__estimator__penalty=elasticnet, tfidf_vec__max_features=30000, tfidf_vec__min_df=1e-06;, score=(train=0.772, test=0.704) total time=   0.4s\n",
            "[CV 5/5] END clf__estimator=LogisticRegression(max_iter=100000, solver='saga'), clf__estimator__C=0.3, clf__estimator__l1_ratio=0.2, clf__estimator__penalty=elasticnet, tfidf_vec__max_features=30000, tfidf_vec__min_df=1e-06;, score=(train=0.762, test=0.704) total time=   0.4s\n",
            "[CV 1/5] END clf__estimator=LogisticRegression(max_iter=100000, solver='saga'), clf__estimator__C=0.3, clf__estimator__l1_ratio=0.2, clf__estimator__penalty=elasticnet, tfidf_vec__max_features=30000, tfidf_vec__min_df=1;, score=(train=0.767, test=0.710) total time=   0.4s\n",
            "[CV 2/5] END clf__estimator=LogisticRegression(max_iter=100000, solver='saga'), clf__estimator__C=0.3, clf__estimator__l1_ratio=0.2, clf__estimator__penalty=elasticnet, tfidf_vec__max_features=30000, tfidf_vec__min_df=1;, score=(train=0.774, test=0.719) total time=   0.4s\n",
            "[CV 3/5] END clf__estimator=LogisticRegression(max_iter=100000, solver='saga'), clf__estimator__C=0.3, clf__estimator__l1_ratio=0.2, clf__estimator__penalty=elasticnet, tfidf_vec__max_features=30000, tfidf_vec__min_df=1;, score=(train=0.714, test=0.674) total time=   0.4s\n",
            "[CV 4/5] END clf__estimator=LogisticRegression(max_iter=100000, solver='saga'), clf__estimator__C=0.3, clf__estimator__l1_ratio=0.2, clf__estimator__penalty=elasticnet, tfidf_vec__max_features=30000, tfidf_vec__min_df=1;, score=(train=0.772, test=0.704) total time=   0.4s\n",
            "[CV 5/5] END clf__estimator=LogisticRegression(max_iter=100000, solver='saga'), clf__estimator__C=0.3, clf__estimator__l1_ratio=0.2, clf__estimator__penalty=elasticnet, tfidf_vec__max_features=30000, tfidf_vec__min_df=1;, score=(train=0.762, test=0.704) total time=   0.4s\n",
            "[CV 1/5] END clf__estimator=LogisticRegression(max_iter=100000, solver='saga'), clf__estimator__C=0.3, clf__estimator__l1_ratio=0.2, clf__estimator__penalty=elasticnet, tfidf_vec__max_features=50000, tfidf_vec__min_df=0.0001;, score=(train=0.767, test=0.710) total time=   0.4s\n",
            "[CV 2/5] END clf__estimator=LogisticRegression(max_iter=100000, solver='saga'), clf__estimator__C=0.3, clf__estimator__l1_ratio=0.2, clf__estimator__penalty=elasticnet, tfidf_vec__max_features=50000, tfidf_vec__min_df=0.0001;, score=(train=0.774, test=0.719) total time=   0.4s\n",
            "[CV 3/5] END clf__estimator=LogisticRegression(max_iter=100000, solver='saga'), clf__estimator__C=0.3, clf__estimator__l1_ratio=0.2, clf__estimator__penalty=elasticnet, tfidf_vec__max_features=50000, tfidf_vec__min_df=0.0001;, score=(train=0.714, test=0.674) total time=   0.3s\n",
            "[CV 4/5] END clf__estimator=LogisticRegression(max_iter=100000, solver='saga'), clf__estimator__C=0.3, clf__estimator__l1_ratio=0.2, clf__estimator__penalty=elasticnet, tfidf_vec__max_features=50000, tfidf_vec__min_df=0.0001;, score=(train=0.772, test=0.704) total time=   0.4s\n",
            "[CV 5/5] END clf__estimator=LogisticRegression(max_iter=100000, solver='saga'), clf__estimator__C=0.3, clf__estimator__l1_ratio=0.2, clf__estimator__penalty=elasticnet, tfidf_vec__max_features=50000, tfidf_vec__min_df=0.0001;, score=(train=0.762, test=0.704) total time=   0.4s\n",
            "[CV 1/5] END clf__estimator=LogisticRegression(max_iter=100000, solver='saga'), clf__estimator__C=0.3, clf__estimator__l1_ratio=0.2, clf__estimator__penalty=elasticnet, tfidf_vec__max_features=50000, tfidf_vec__min_df=1e-05;, score=(train=0.767, test=0.710) total time=   0.4s\n",
            "[CV 2/5] END clf__estimator=LogisticRegression(max_iter=100000, solver='saga'), clf__estimator__C=0.3, clf__estimator__l1_ratio=0.2, clf__estimator__penalty=elasticnet, tfidf_vec__max_features=50000, tfidf_vec__min_df=1e-05;, score=(train=0.774, test=0.719) total time=   0.4s\n",
            "[CV 3/5] END clf__estimator=LogisticRegression(max_iter=100000, solver='saga'), clf__estimator__C=0.3, clf__estimator__l1_ratio=0.2, clf__estimator__penalty=elasticnet, tfidf_vec__max_features=50000, tfidf_vec__min_df=1e-05;, score=(train=0.714, test=0.674) total time=   0.4s\n",
            "[CV 4/5] END clf__estimator=LogisticRegression(max_iter=100000, solver='saga'), clf__estimator__C=0.3, clf__estimator__l1_ratio=0.2, clf__estimator__penalty=elasticnet, tfidf_vec__max_features=50000, tfidf_vec__min_df=1e-05;, score=(train=0.772, test=0.704) total time=   0.4s\n",
            "[CV 5/5] END clf__estimator=LogisticRegression(max_iter=100000, solver='saga'), clf__estimator__C=0.3, clf__estimator__l1_ratio=0.2, clf__estimator__penalty=elasticnet, tfidf_vec__max_features=50000, tfidf_vec__min_df=1e-05;, score=(train=0.762, test=0.704) total time=   0.4s\n",
            "[CV 1/5] END clf__estimator=LogisticRegression(max_iter=100000, solver='saga'), clf__estimator__C=0.3, clf__estimator__l1_ratio=0.2, clf__estimator__penalty=elasticnet, tfidf_vec__max_features=50000, tfidf_vec__min_df=1e-06;, score=(train=0.767, test=0.710) total time=   0.4s\n",
            "[CV 2/5] END clf__estimator=LogisticRegression(max_iter=100000, solver='saga'), clf__estimator__C=0.3, clf__estimator__l1_ratio=0.2, clf__estimator__penalty=elasticnet, tfidf_vec__max_features=50000, tfidf_vec__min_df=1e-06;, score=(train=0.775, test=0.721) total time=   0.4s\n",
            "[CV 3/5] END clf__estimator=LogisticRegression(max_iter=100000, solver='saga'), clf__estimator__C=0.3, clf__estimator__l1_ratio=0.2, clf__estimator__penalty=elasticnet, tfidf_vec__max_features=50000, tfidf_vec__min_df=1e-06;, score=(train=0.713, test=0.674) total time=   0.3s\n",
            "[CV 4/5] END clf__estimator=LogisticRegression(max_iter=100000, solver='saga'), clf__estimator__C=0.3, clf__estimator__l1_ratio=0.2, clf__estimator__penalty=elasticnet, tfidf_vec__max_features=50000, tfidf_vec__min_df=1e-06;, score=(train=0.772, test=0.704) total time=   0.4s\n",
            "[CV 5/5] END clf__estimator=LogisticRegression(max_iter=100000, solver='saga'), clf__estimator__C=0.3, clf__estimator__l1_ratio=0.2, clf__estimator__penalty=elasticnet, tfidf_vec__max_features=50000, tfidf_vec__min_df=1e-06;, score=(train=0.762, test=0.704) total time=   0.4s\n",
            "[CV 1/5] END clf__estimator=LogisticRegression(max_iter=100000, solver='saga'), clf__estimator__C=0.3, clf__estimator__l1_ratio=0.2, clf__estimator__penalty=elasticnet, tfidf_vec__max_features=50000, tfidf_vec__min_df=1;, score=(train=0.767, test=0.710) total time=   0.4s\n",
            "[CV 2/5] END clf__estimator=LogisticRegression(max_iter=100000, solver='saga'), clf__estimator__C=0.3, clf__estimator__l1_ratio=0.2, clf__estimator__penalty=elasticnet, tfidf_vec__max_features=50000, tfidf_vec__min_df=1;, score=(train=0.775, test=0.721) total time=   0.4s\n",
            "[CV 3/5] END clf__estimator=LogisticRegression(max_iter=100000, solver='saga'), clf__estimator__C=0.3, clf__estimator__l1_ratio=0.2, clf__estimator__penalty=elasticnet, tfidf_vec__max_features=50000, tfidf_vec__min_df=1;, score=(train=0.715, test=0.675) total time=   0.3s\n",
            "[CV 4/5] END clf__estimator=LogisticRegression(max_iter=100000, solver='saga'), clf__estimator__C=0.3, clf__estimator__l1_ratio=0.2, clf__estimator__penalty=elasticnet, tfidf_vec__max_features=50000, tfidf_vec__min_df=1;, score=(train=0.772, test=0.704) total time=   0.4s\n",
            "[CV 5/5] END clf__estimator=LogisticRegression(max_iter=100000, solver='saga'), clf__estimator__C=0.3, clf__estimator__l1_ratio=0.2, clf__estimator__penalty=elasticnet, tfidf_vec__max_features=50000, tfidf_vec__min_df=1;, score=(train=0.762, test=0.704) total time=   0.4s\n",
            "[CV 1/5] END clf__estimator=LogisticRegression(max_iter=100000, solver='saga'), clf__estimator__C=0.3, clf__estimator__l1_ratio=0.8, clf__estimator__penalty=elasticnet, tfidf_vec__max_features=None, tfidf_vec__min_df=0.0001;, score=(train=0.723, test=0.711) total time=   0.1s\n",
            "[CV 2/5] END clf__estimator=LogisticRegression(max_iter=100000, solver='saga'), clf__estimator__C=0.3, clf__estimator__l1_ratio=0.8, clf__estimator__penalty=elasticnet, tfidf_vec__max_features=None, tfidf_vec__min_df=0.0001;, score=(train=0.736, test=0.704) total time=   0.1s\n",
            "[CV 3/5] END clf__estimator=LogisticRegression(max_iter=100000, solver='saga'), clf__estimator__C=0.3, clf__estimator__l1_ratio=0.8, clf__estimator__penalty=elasticnet, tfidf_vec__max_features=None, tfidf_vec__min_df=0.0001;, score=(train=0.604, test=0.588) total time=   0.1s\n",
            "[CV 4/5] END clf__estimator=LogisticRegression(max_iter=100000, solver='saga'), clf__estimator__C=0.3, clf__estimator__l1_ratio=0.8, clf__estimator__penalty=elasticnet, tfidf_vec__max_features=None, tfidf_vec__min_df=0.0001;, score=(train=0.736, test=0.701) total time=   0.1s\n",
            "[CV 5/5] END clf__estimator=LogisticRegression(max_iter=100000, solver='saga'), clf__estimator__C=0.3, clf__estimator__l1_ratio=0.8, clf__estimator__penalty=elasticnet, tfidf_vec__max_features=None, tfidf_vec__min_df=0.0001;, score=(train=0.731, test=0.697) total time=   0.1s\n",
            "[CV 1/5] END clf__estimator=LogisticRegression(max_iter=100000, solver='saga'), clf__estimator__C=0.3, clf__estimator__l1_ratio=0.8, clf__estimator__penalty=elasticnet, tfidf_vec__max_features=None, tfidf_vec__min_df=1e-05;, score=(train=0.723, test=0.710) total time=   0.1s\n",
            "[CV 2/5] END clf__estimator=LogisticRegression(max_iter=100000, solver='saga'), clf__estimator__C=0.3, clf__estimator__l1_ratio=0.8, clf__estimator__penalty=elasticnet, tfidf_vec__max_features=None, tfidf_vec__min_df=1e-05;, score=(train=0.736, test=0.704) total time=   0.1s\n",
            "[CV 3/5] END clf__estimator=LogisticRegression(max_iter=100000, solver='saga'), clf__estimator__C=0.3, clf__estimator__l1_ratio=0.8, clf__estimator__penalty=elasticnet, tfidf_vec__max_features=None, tfidf_vec__min_df=1e-05;, score=(train=0.604, test=0.588) total time=   0.1s\n",
            "[CV 4/5] END clf__estimator=LogisticRegression(max_iter=100000, solver='saga'), clf__estimator__C=0.3, clf__estimator__l1_ratio=0.8, clf__estimator__penalty=elasticnet, tfidf_vec__max_features=None, tfidf_vec__min_df=1e-05;, score=(train=0.736, test=0.701) total time=   0.1s\n",
            "[CV 5/5] END clf__estimator=LogisticRegression(max_iter=100000, solver='saga'), clf__estimator__C=0.3, clf__estimator__l1_ratio=0.8, clf__estimator__penalty=elasticnet, tfidf_vec__max_features=None, tfidf_vec__min_df=1e-05;, score=(train=0.731, test=0.696) total time=   0.1s\n",
            "[CV 1/5] END clf__estimator=LogisticRegression(max_iter=100000, solver='saga'), clf__estimator__C=0.3, clf__estimator__l1_ratio=0.8, clf__estimator__penalty=elasticnet, tfidf_vec__max_features=None, tfidf_vec__min_df=1e-06;, score=(train=0.723, test=0.710) total time=   0.1s\n",
            "[CV 2/5] END clf__estimator=LogisticRegression(max_iter=100000, solver='saga'), clf__estimator__C=0.3, clf__estimator__l1_ratio=0.8, clf__estimator__penalty=elasticnet, tfidf_vec__max_features=None, tfidf_vec__min_df=1e-06;, score=(train=0.735, test=0.705) total time=   0.1s\n",
            "[CV 3/5] END clf__estimator=LogisticRegression(max_iter=100000, solver='saga'), clf__estimator__C=0.3, clf__estimator__l1_ratio=0.8, clf__estimator__penalty=elasticnet, tfidf_vec__max_features=None, tfidf_vec__min_df=1e-06;, score=(train=0.604, test=0.588) total time=   0.1s\n",
            "[CV 4/5] END clf__estimator=LogisticRegression(max_iter=100000, solver='saga'), clf__estimator__C=0.3, clf__estimator__l1_ratio=0.8, clf__estimator__penalty=elasticnet, tfidf_vec__max_features=None, tfidf_vec__min_df=1e-06;, score=(train=0.736, test=0.701) total time=   0.1s\n",
            "[CV 5/5] END clf__estimator=LogisticRegression(max_iter=100000, solver='saga'), clf__estimator__C=0.3, clf__estimator__l1_ratio=0.8, clf__estimator__penalty=elasticnet, tfidf_vec__max_features=None, tfidf_vec__min_df=1e-06;, score=(train=0.731, test=0.697) total time=   0.1s\n",
            "[CV 1/5] END clf__estimator=LogisticRegression(max_iter=100000, solver='saga'), clf__estimator__C=0.3, clf__estimator__l1_ratio=0.8, clf__estimator__penalty=elasticnet, tfidf_vec__max_features=None, tfidf_vec__min_df=1;, score=(train=0.722, test=0.711) total time=   0.1s\n",
            "[CV 2/5] END clf__estimator=LogisticRegression(max_iter=100000, solver='saga'), clf__estimator__C=0.3, clf__estimator__l1_ratio=0.8, clf__estimator__penalty=elasticnet, tfidf_vec__max_features=None, tfidf_vec__min_df=1;, score=(train=0.736, test=0.704) total time=   0.1s\n",
            "[CV 3/5] END clf__estimator=LogisticRegression(max_iter=100000, solver='saga'), clf__estimator__C=0.3, clf__estimator__l1_ratio=0.8, clf__estimator__penalty=elasticnet, tfidf_vec__max_features=None, tfidf_vec__min_df=1;, score=(train=0.720, test=0.727) total time=   0.1s\n",
            "[CV 4/5] END clf__estimator=LogisticRegression(max_iter=100000, solver='saga'), clf__estimator__C=0.3, clf__estimator__l1_ratio=0.8, clf__estimator__penalty=elasticnet, tfidf_vec__max_features=None, tfidf_vec__min_df=1;, score=(train=0.736, test=0.701) total time=   0.1s\n",
            "[CV 5/5] END clf__estimator=LogisticRegression(max_iter=100000, solver='saga'), clf__estimator__C=0.3, clf__estimator__l1_ratio=0.8, clf__estimator__penalty=elasticnet, tfidf_vec__max_features=None, tfidf_vec__min_df=1;, score=(train=0.731, test=0.696) total time=   0.1s\n",
            "[CV 1/5] END clf__estimator=LogisticRegression(max_iter=100000, solver='saga'), clf__estimator__C=0.3, clf__estimator__l1_ratio=0.8, clf__estimator__penalty=elasticnet, tfidf_vec__max_features=10000, tfidf_vec__min_df=0.0001;, score=(train=0.722, test=0.711) total time=   0.2s\n",
            "[CV 2/5] END clf__estimator=LogisticRegression(max_iter=100000, solver='saga'), clf__estimator__C=0.3, clf__estimator__l1_ratio=0.8, clf__estimator__penalty=elasticnet, tfidf_vec__max_features=10000, tfidf_vec__min_df=0.0001;, score=(train=0.735, test=0.705) total time=   0.2s\n",
            "[CV 3/5] END clf__estimator=LogisticRegression(max_iter=100000, solver='saga'), clf__estimator__C=0.3, clf__estimator__l1_ratio=0.8, clf__estimator__penalty=elasticnet, tfidf_vec__max_features=10000, tfidf_vec__min_df=0.0001;, score=(train=0.604, test=0.588) total time=   0.2s\n",
            "[CV 4/5] END clf__estimator=LogisticRegression(max_iter=100000, solver='saga'), clf__estimator__C=0.3, clf__estimator__l1_ratio=0.8, clf__estimator__penalty=elasticnet, tfidf_vec__max_features=10000, tfidf_vec__min_df=0.0001;, score=(train=0.736, test=0.701) total time=   0.2s\n",
            "[CV 5/5] END clf__estimator=LogisticRegression(max_iter=100000, solver='saga'), clf__estimator__C=0.3, clf__estimator__l1_ratio=0.8, clf__estimator__penalty=elasticnet, tfidf_vec__max_features=10000, tfidf_vec__min_df=0.0001;, score=(train=0.731, test=0.696) total time=   0.2s\n",
            "[CV 1/5] END clf__estimator=LogisticRegression(max_iter=100000, solver='saga'), clf__estimator__C=0.3, clf__estimator__l1_ratio=0.8, clf__estimator__penalty=elasticnet, tfidf_vec__max_features=10000, tfidf_vec__min_df=1e-05;, score=(train=0.723, test=0.711) total time=   0.2s\n",
            "[CV 2/5] END clf__estimator=LogisticRegression(max_iter=100000, solver='saga'), clf__estimator__C=0.3, clf__estimator__l1_ratio=0.8, clf__estimator__penalty=elasticnet, tfidf_vec__max_features=10000, tfidf_vec__min_df=1e-05;, score=(train=0.736, test=0.704) total time=   0.2s\n",
            "[CV 3/5] END clf__estimator=LogisticRegression(max_iter=100000, solver='saga'), clf__estimator__C=0.3, clf__estimator__l1_ratio=0.8, clf__estimator__penalty=elasticnet, tfidf_vec__max_features=10000, tfidf_vec__min_df=1e-05;, score=(train=0.604, test=0.588) total time=   0.2s\n",
            "[CV 4/5] END clf__estimator=LogisticRegression(max_iter=100000, solver='saga'), clf__estimator__C=0.3, clf__estimator__l1_ratio=0.8, clf__estimator__penalty=elasticnet, tfidf_vec__max_features=10000, tfidf_vec__min_df=1e-05;, score=(train=0.736, test=0.701) total time=   0.2s\n",
            "[CV 5/5] END clf__estimator=LogisticRegression(max_iter=100000, solver='saga'), clf__estimator__C=0.3, clf__estimator__l1_ratio=0.8, clf__estimator__penalty=elasticnet, tfidf_vec__max_features=10000, tfidf_vec__min_df=1e-05;, score=(train=0.731, test=0.697) total time=   0.2s\n",
            "[CV 1/5] END clf__estimator=LogisticRegression(max_iter=100000, solver='saga'), clf__estimator__C=0.3, clf__estimator__l1_ratio=0.8, clf__estimator__penalty=elasticnet, tfidf_vec__max_features=10000, tfidf_vec__min_df=1e-06;, score=(train=0.723, test=0.711) total time=   0.2s\n",
            "[CV 2/5] END clf__estimator=LogisticRegression(max_iter=100000, solver='saga'), clf__estimator__C=0.3, clf__estimator__l1_ratio=0.8, clf__estimator__penalty=elasticnet, tfidf_vec__max_features=10000, tfidf_vec__min_df=1e-06;, score=(train=0.736, test=0.705) total time=   0.2s\n",
            "[CV 3/5] END clf__estimator=LogisticRegression(max_iter=100000, solver='saga'), clf__estimator__C=0.3, clf__estimator__l1_ratio=0.8, clf__estimator__penalty=elasticnet, tfidf_vec__max_features=10000, tfidf_vec__min_df=1e-06;, score=(train=0.604, test=0.588) total time=   0.2s\n",
            "[CV 4/5] END clf__estimator=LogisticRegression(max_iter=100000, solver='saga'), clf__estimator__C=0.3, clf__estimator__l1_ratio=0.8, clf__estimator__penalty=elasticnet, tfidf_vec__max_features=10000, tfidf_vec__min_df=1e-06;, score=(train=0.736, test=0.701) total time=   0.2s\n",
            "[CV 5/5] END clf__estimator=LogisticRegression(max_iter=100000, solver='saga'), clf__estimator__C=0.3, clf__estimator__l1_ratio=0.8, clf__estimator__penalty=elasticnet, tfidf_vec__max_features=10000, tfidf_vec__min_df=1e-06;, score=(train=0.731, test=0.697) total time=   0.2s\n",
            "[CV 1/5] END clf__estimator=LogisticRegression(max_iter=100000, solver='saga'), clf__estimator__C=0.3, clf__estimator__l1_ratio=0.8, clf__estimator__penalty=elasticnet, tfidf_vec__max_features=10000, tfidf_vec__min_df=1;, score=(train=0.723, test=0.711) total time=   0.2s\n",
            "[CV 2/5] END clf__estimator=LogisticRegression(max_iter=100000, solver='saga'), clf__estimator__C=0.3, clf__estimator__l1_ratio=0.8, clf__estimator__penalty=elasticnet, tfidf_vec__max_features=10000, tfidf_vec__min_df=1;, score=(train=0.735, test=0.705) total time=   0.2s\n",
            "[CV 3/5] END clf__estimator=LogisticRegression(max_iter=100000, solver='saga'), clf__estimator__C=0.3, clf__estimator__l1_ratio=0.8, clf__estimator__penalty=elasticnet, tfidf_vec__max_features=10000, tfidf_vec__min_df=1;, score=(train=0.604, test=0.588) total time=   0.2s\n",
            "[CV 4/5] END clf__estimator=LogisticRegression(max_iter=100000, solver='saga'), clf__estimator__C=0.3, clf__estimator__l1_ratio=0.8, clf__estimator__penalty=elasticnet, tfidf_vec__max_features=10000, tfidf_vec__min_df=1;, score=(train=0.736, test=0.701) total time=   0.2s\n",
            "[CV 5/5] END clf__estimator=LogisticRegression(max_iter=100000, solver='saga'), clf__estimator__C=0.3, clf__estimator__l1_ratio=0.8, clf__estimator__penalty=elasticnet, tfidf_vec__max_features=10000, tfidf_vec__min_df=1;, score=(train=0.731, test=0.697) total time=   0.2s\n",
            "[CV 1/5] END clf__estimator=LogisticRegression(max_iter=100000, solver='saga'), clf__estimator__C=0.3, clf__estimator__l1_ratio=0.8, clf__estimator__penalty=elasticnet, tfidf_vec__max_features=20000, tfidf_vec__min_df=0.0001;, score=(train=0.723, test=0.711) total time=   0.2s\n",
            "[CV 2/5] END clf__estimator=LogisticRegression(max_iter=100000, solver='saga'), clf__estimator__C=0.3, clf__estimator__l1_ratio=0.8, clf__estimator__penalty=elasticnet, tfidf_vec__max_features=20000, tfidf_vec__min_df=0.0001;, score=(train=0.736, test=0.704) total time=   0.2s\n",
            "[CV 3/5] END clf__estimator=LogisticRegression(max_iter=100000, solver='saga'), clf__estimator__C=0.3, clf__estimator__l1_ratio=0.8, clf__estimator__penalty=elasticnet, tfidf_vec__max_features=20000, tfidf_vec__min_df=0.0001;, score=(train=0.720, test=0.727) total time=   0.2s\n",
            "[CV 4/5] END clf__estimator=LogisticRegression(max_iter=100000, solver='saga'), clf__estimator__C=0.3, clf__estimator__l1_ratio=0.8, clf__estimator__penalty=elasticnet, tfidf_vec__max_features=20000, tfidf_vec__min_df=0.0001;, score=(train=0.736, test=0.701) total time=   0.2s\n",
            "[CV 5/5] END clf__estimator=LogisticRegression(max_iter=100000, solver='saga'), clf__estimator__C=0.3, clf__estimator__l1_ratio=0.8, clf__estimator__penalty=elasticnet, tfidf_vec__max_features=20000, tfidf_vec__min_df=0.0001;, score=(train=0.731, test=0.697) total time=   0.2s\n",
            "[CV 1/5] END clf__estimator=LogisticRegression(max_iter=100000, solver='saga'), clf__estimator__C=0.3, clf__estimator__l1_ratio=0.8, clf__estimator__penalty=elasticnet, tfidf_vec__max_features=20000, tfidf_vec__min_df=1e-05;, score=(train=0.722, test=0.711) total time=   0.2s\n",
            "[CV 2/5] END clf__estimator=LogisticRegression(max_iter=100000, solver='saga'), clf__estimator__C=0.3, clf__estimator__l1_ratio=0.8, clf__estimator__penalty=elasticnet, tfidf_vec__max_features=20000, tfidf_vec__min_df=1e-05;, score=(train=0.735, test=0.705) total time=   0.2s\n",
            "[CV 3/5] END clf__estimator=LogisticRegression(max_iter=100000, solver='saga'), clf__estimator__C=0.3, clf__estimator__l1_ratio=0.8, clf__estimator__penalty=elasticnet, tfidf_vec__max_features=20000, tfidf_vec__min_df=1e-05;, score=(train=0.604, test=0.588) total time=   0.2s\n",
            "[CV 4/5] END clf__estimator=LogisticRegression(max_iter=100000, solver='saga'), clf__estimator__C=0.3, clf__estimator__l1_ratio=0.8, clf__estimator__penalty=elasticnet, tfidf_vec__max_features=20000, tfidf_vec__min_df=1e-05;, score=(train=0.736, test=0.701) total time=   0.2s\n",
            "[CV 5/5] END clf__estimator=LogisticRegression(max_iter=100000, solver='saga'), clf__estimator__C=0.3, clf__estimator__l1_ratio=0.8, clf__estimator__penalty=elasticnet, tfidf_vec__max_features=20000, tfidf_vec__min_df=1e-05;, score=(train=0.731, test=0.697) total time=   0.2s\n",
            "[CV 1/5] END clf__estimator=LogisticRegression(max_iter=100000, solver='saga'), clf__estimator__C=0.3, clf__estimator__l1_ratio=0.8, clf__estimator__penalty=elasticnet, tfidf_vec__max_features=20000, tfidf_vec__min_df=1e-06;, score=(train=0.723, test=0.710) total time=   0.2s\n",
            "[CV 2/5] END clf__estimator=LogisticRegression(max_iter=100000, solver='saga'), clf__estimator__C=0.3, clf__estimator__l1_ratio=0.8, clf__estimator__penalty=elasticnet, tfidf_vec__max_features=20000, tfidf_vec__min_df=1e-06;, score=(train=0.736, test=0.704) total time=   0.2s\n",
            "[CV 3/5] END clf__estimator=LogisticRegression(max_iter=100000, solver='saga'), clf__estimator__C=0.3, clf__estimator__l1_ratio=0.8, clf__estimator__penalty=elasticnet, tfidf_vec__max_features=20000, tfidf_vec__min_df=1e-06;, score=(train=0.720, test=0.727) total time=   0.2s\n",
            "[CV 4/5] END clf__estimator=LogisticRegression(max_iter=100000, solver='saga'), clf__estimator__C=0.3, clf__estimator__l1_ratio=0.8, clf__estimator__penalty=elasticnet, tfidf_vec__max_features=20000, tfidf_vec__min_df=1e-06;, score=(train=0.736, test=0.701) total time=   0.2s\n",
            "[CV 5/5] END clf__estimator=LogisticRegression(max_iter=100000, solver='saga'), clf__estimator__C=0.3, clf__estimator__l1_ratio=0.8, clf__estimator__penalty=elasticnet, tfidf_vec__max_features=20000, tfidf_vec__min_df=1e-06;, score=(train=0.731, test=0.697) total time=   0.2s\n",
            "[CV 1/5] END clf__estimator=LogisticRegression(max_iter=100000, solver='saga'), clf__estimator__C=0.3, clf__estimator__l1_ratio=0.8, clf__estimator__penalty=elasticnet, tfidf_vec__max_features=20000, tfidf_vec__min_df=1;, score=(train=0.723, test=0.711) total time=   0.2s\n",
            "[CV 2/5] END clf__estimator=LogisticRegression(max_iter=100000, solver='saga'), clf__estimator__C=0.3, clf__estimator__l1_ratio=0.8, clf__estimator__penalty=elasticnet, tfidf_vec__max_features=20000, tfidf_vec__min_df=1;, score=(train=0.735, test=0.705) total time=   0.1s\n",
            "[CV 3/5] END clf__estimator=LogisticRegression(max_iter=100000, solver='saga'), clf__estimator__C=0.3, clf__estimator__l1_ratio=0.8, clf__estimator__penalty=elasticnet, tfidf_vec__max_features=20000, tfidf_vec__min_df=1;, score=(train=0.720, test=0.727) total time=   0.2s\n",
            "[CV 4/5] END clf__estimator=LogisticRegression(max_iter=100000, solver='saga'), clf__estimator__C=0.3, clf__estimator__l1_ratio=0.8, clf__estimator__penalty=elasticnet, tfidf_vec__max_features=20000, tfidf_vec__min_df=1;, score=(train=0.736, test=0.701) total time=   0.2s\n",
            "[CV 5/5] END clf__estimator=LogisticRegression(max_iter=100000, solver='saga'), clf__estimator__C=0.3, clf__estimator__l1_ratio=0.8, clf__estimator__penalty=elasticnet, tfidf_vec__max_features=20000, tfidf_vec__min_df=1;, score=(train=0.731, test=0.696) total time=   0.2s\n",
            "[CV 1/5] END clf__estimator=LogisticRegression(max_iter=100000, solver='saga'), clf__estimator__C=0.3, clf__estimator__l1_ratio=0.8, clf__estimator__penalty=elasticnet, tfidf_vec__max_features=30000, tfidf_vec__min_df=0.0001;, score=(train=0.723, test=0.710) total time=   0.2s\n",
            "[CV 2/5] END clf__estimator=LogisticRegression(max_iter=100000, solver='saga'), clf__estimator__C=0.3, clf__estimator__l1_ratio=0.8, clf__estimator__penalty=elasticnet, tfidf_vec__max_features=30000, tfidf_vec__min_df=0.0001;, score=(train=0.735, test=0.705) total time=   0.2s\n",
            "[CV 3/5] END clf__estimator=LogisticRegression(max_iter=100000, solver='saga'), clf__estimator__C=0.3, clf__estimator__l1_ratio=0.8, clf__estimator__penalty=elasticnet, tfidf_vec__max_features=30000, tfidf_vec__min_df=0.0001;, score=(train=0.604, test=0.588) total time=   0.2s\n",
            "[CV 4/5] END clf__estimator=LogisticRegression(max_iter=100000, solver='saga'), clf__estimator__C=0.3, clf__estimator__l1_ratio=0.8, clf__estimator__penalty=elasticnet, tfidf_vec__max_features=30000, tfidf_vec__min_df=0.0001;, score=(train=0.736, test=0.701) total time=   0.2s\n",
            "[CV 5/5] END clf__estimator=LogisticRegression(max_iter=100000, solver='saga'), clf__estimator__C=0.3, clf__estimator__l1_ratio=0.8, clf__estimator__penalty=elasticnet, tfidf_vec__max_features=30000, tfidf_vec__min_df=0.0001;, score=(train=0.731, test=0.696) total time=   0.2s\n",
            "[CV 1/5] END clf__estimator=LogisticRegression(max_iter=100000, solver='saga'), clf__estimator__C=0.3, clf__estimator__l1_ratio=0.8, clf__estimator__penalty=elasticnet, tfidf_vec__max_features=30000, tfidf_vec__min_df=1e-05;, score=(train=0.722, test=0.711) total time=   0.2s\n",
            "[CV 2/5] END clf__estimator=LogisticRegression(max_iter=100000, solver='saga'), clf__estimator__C=0.3, clf__estimator__l1_ratio=0.8, clf__estimator__penalty=elasticnet, tfidf_vec__max_features=30000, tfidf_vec__min_df=1e-05;, score=(train=0.736, test=0.704) total time=   0.2s\n",
            "[CV 3/5] END clf__estimator=LogisticRegression(max_iter=100000, solver='saga'), clf__estimator__C=0.3, clf__estimator__l1_ratio=0.8, clf__estimator__penalty=elasticnet, tfidf_vec__max_features=30000, tfidf_vec__min_df=1e-05;, score=(train=0.604, test=0.588) total time=   0.2s\n",
            "[CV 4/5] END clf__estimator=LogisticRegression(max_iter=100000, solver='saga'), clf__estimator__C=0.3, clf__estimator__l1_ratio=0.8, clf__estimator__penalty=elasticnet, tfidf_vec__max_features=30000, tfidf_vec__min_df=1e-05;, score=(train=0.736, test=0.701) total time=   0.2s\n",
            "[CV 5/5] END clf__estimator=LogisticRegression(max_iter=100000, solver='saga'), clf__estimator__C=0.3, clf__estimator__l1_ratio=0.8, clf__estimator__penalty=elasticnet, tfidf_vec__max_features=30000, tfidf_vec__min_df=1e-05;, score=(train=0.731, test=0.696) total time=   0.2s\n",
            "[CV 1/5] END clf__estimator=LogisticRegression(max_iter=100000, solver='saga'), clf__estimator__C=0.3, clf__estimator__l1_ratio=0.8, clf__estimator__penalty=elasticnet, tfidf_vec__max_features=30000, tfidf_vec__min_df=1e-06;, score=(train=0.722, test=0.711) total time=   0.2s\n",
            "[CV 2/5] END clf__estimator=LogisticRegression(max_iter=100000, solver='saga'), clf__estimator__C=0.3, clf__estimator__l1_ratio=0.8, clf__estimator__penalty=elasticnet, tfidf_vec__max_features=30000, tfidf_vec__min_df=1e-06;, score=(train=0.736, test=0.704) total time=   0.2s\n",
            "[CV 3/5] END clf__estimator=LogisticRegression(max_iter=100000, solver='saga'), clf__estimator__C=0.3, clf__estimator__l1_ratio=0.8, clf__estimator__penalty=elasticnet, tfidf_vec__max_features=30000, tfidf_vec__min_df=1e-06;, score=(train=0.604, test=0.588) total time=   0.2s\n",
            "[CV 4/5] END clf__estimator=LogisticRegression(max_iter=100000, solver='saga'), clf__estimator__C=0.3, clf__estimator__l1_ratio=0.8, clf__estimator__penalty=elasticnet, tfidf_vec__max_features=30000, tfidf_vec__min_df=1e-06;, score=(train=0.736, test=0.701) total time=   0.2s\n",
            "[CV 5/5] END clf__estimator=LogisticRegression(max_iter=100000, solver='saga'), clf__estimator__C=0.3, clf__estimator__l1_ratio=0.8, clf__estimator__penalty=elasticnet, tfidf_vec__max_features=30000, tfidf_vec__min_df=1e-06;, score=(train=0.731, test=0.696) total time=   0.2s\n",
            "[CV 1/5] END clf__estimator=LogisticRegression(max_iter=100000, solver='saga'), clf__estimator__C=0.3, clf__estimator__l1_ratio=0.8, clf__estimator__penalty=elasticnet, tfidf_vec__max_features=30000, tfidf_vec__min_df=1;, score=(train=0.723, test=0.711) total time=   0.2s\n",
            "[CV 2/5] END clf__estimator=LogisticRegression(max_iter=100000, solver='saga'), clf__estimator__C=0.3, clf__estimator__l1_ratio=0.8, clf__estimator__penalty=elasticnet, tfidf_vec__max_features=30000, tfidf_vec__min_df=1;, score=(train=0.736, test=0.704) total time=   0.2s\n",
            "[CV 3/5] END clf__estimator=LogisticRegression(max_iter=100000, solver='saga'), clf__estimator__C=0.3, clf__estimator__l1_ratio=0.8, clf__estimator__penalty=elasticnet, tfidf_vec__max_features=30000, tfidf_vec__min_df=1;, score=(train=0.604, test=0.588) total time=   0.2s\n",
            "[CV 4/5] END clf__estimator=LogisticRegression(max_iter=100000, solver='saga'), clf__estimator__C=0.3, clf__estimator__l1_ratio=0.8, clf__estimator__penalty=elasticnet, tfidf_vec__max_features=30000, tfidf_vec__min_df=1;, score=(train=0.736, test=0.701) total time=   0.2s\n",
            "[CV 5/5] END clf__estimator=LogisticRegression(max_iter=100000, solver='saga'), clf__estimator__C=0.3, clf__estimator__l1_ratio=0.8, clf__estimator__penalty=elasticnet, tfidf_vec__max_features=30000, tfidf_vec__min_df=1;, score=(train=0.731, test=0.696) total time=   0.2s\n",
            "[CV 1/5] END clf__estimator=LogisticRegression(max_iter=100000, solver='saga'), clf__estimator__C=0.3, clf__estimator__l1_ratio=0.8, clf__estimator__penalty=elasticnet, tfidf_vec__max_features=50000, tfidf_vec__min_df=0.0001;, score=(train=0.723, test=0.710) total time=   0.2s\n",
            "[CV 2/5] END clf__estimator=LogisticRegression(max_iter=100000, solver='saga'), clf__estimator__C=0.3, clf__estimator__l1_ratio=0.8, clf__estimator__penalty=elasticnet, tfidf_vec__max_features=50000, tfidf_vec__min_df=0.0001;, score=(train=0.736, test=0.704) total time=   0.2s\n",
            "[CV 3/5] END clf__estimator=LogisticRegression(max_iter=100000, solver='saga'), clf__estimator__C=0.3, clf__estimator__l1_ratio=0.8, clf__estimator__penalty=elasticnet, tfidf_vec__max_features=50000, tfidf_vec__min_df=0.0001;, score=(train=0.604, test=0.588) total time=   0.2s\n",
            "[CV 4/5] END clf__estimator=LogisticRegression(max_iter=100000, solver='saga'), clf__estimator__C=0.3, clf__estimator__l1_ratio=0.8, clf__estimator__penalty=elasticnet, tfidf_vec__max_features=50000, tfidf_vec__min_df=0.0001;, score=(train=0.736, test=0.701) total time=   0.2s\n",
            "[CV 5/5] END clf__estimator=LogisticRegression(max_iter=100000, solver='saga'), clf__estimator__C=0.3, clf__estimator__l1_ratio=0.8, clf__estimator__penalty=elasticnet, tfidf_vec__max_features=50000, tfidf_vec__min_df=0.0001;, score=(train=0.731, test=0.697) total time=   0.1s\n",
            "[CV 1/5] END clf__estimator=LogisticRegression(max_iter=100000, solver='saga'), clf__estimator__C=0.3, clf__estimator__l1_ratio=0.8, clf__estimator__penalty=elasticnet, tfidf_vec__max_features=50000, tfidf_vec__min_df=1e-05;, score=(train=0.723, test=0.710) total time=   0.2s\n",
            "[CV 2/5] END clf__estimator=LogisticRegression(max_iter=100000, solver='saga'), clf__estimator__C=0.3, clf__estimator__l1_ratio=0.8, clf__estimator__penalty=elasticnet, tfidf_vec__max_features=50000, tfidf_vec__min_df=1e-05;, score=(train=0.736, test=0.704) total time=   0.2s\n",
            "[CV 3/5] END clf__estimator=LogisticRegression(max_iter=100000, solver='saga'), clf__estimator__C=0.3, clf__estimator__l1_ratio=0.8, clf__estimator__penalty=elasticnet, tfidf_vec__max_features=50000, tfidf_vec__min_df=1e-05;, score=(train=0.604, test=0.588) total time=   0.2s\n",
            "[CV 4/5] END clf__estimator=LogisticRegression(max_iter=100000, solver='saga'), clf__estimator__C=0.3, clf__estimator__l1_ratio=0.8, clf__estimator__penalty=elasticnet, tfidf_vec__max_features=50000, tfidf_vec__min_df=1e-05;, score=(train=0.736, test=0.701) total time=   0.2s\n",
            "[CV 5/5] END clf__estimator=LogisticRegression(max_iter=100000, solver='saga'), clf__estimator__C=0.3, clf__estimator__l1_ratio=0.8, clf__estimator__penalty=elasticnet, tfidf_vec__max_features=50000, tfidf_vec__min_df=1e-05;, score=(train=0.732, test=0.697) total time=   0.2s\n",
            "[CV 1/5] END clf__estimator=LogisticRegression(max_iter=100000, solver='saga'), clf__estimator__C=0.3, clf__estimator__l1_ratio=0.8, clf__estimator__penalty=elasticnet, tfidf_vec__max_features=50000, tfidf_vec__min_df=1e-06;, score=(train=0.723, test=0.711) total time=   0.2s\n",
            "[CV 2/5] END clf__estimator=LogisticRegression(max_iter=100000, solver='saga'), clf__estimator__C=0.3, clf__estimator__l1_ratio=0.8, clf__estimator__penalty=elasticnet, tfidf_vec__max_features=50000, tfidf_vec__min_df=1e-06;, score=(train=0.735, test=0.705) total time=   0.2s\n",
            "[CV 3/5] END clf__estimator=LogisticRegression(max_iter=100000, solver='saga'), clf__estimator__C=0.3, clf__estimator__l1_ratio=0.8, clf__estimator__penalty=elasticnet, tfidf_vec__max_features=50000, tfidf_vec__min_df=1e-06;, score=(train=0.604, test=0.588) total time=   0.2s\n",
            "[CV 4/5] END clf__estimator=LogisticRegression(max_iter=100000, solver='saga'), clf__estimator__C=0.3, clf__estimator__l1_ratio=0.8, clf__estimator__penalty=elasticnet, tfidf_vec__max_features=50000, tfidf_vec__min_df=1e-06;, score=(train=0.736, test=0.701) total time=   0.2s\n",
            "[CV 5/5] END clf__estimator=LogisticRegression(max_iter=100000, solver='saga'), clf__estimator__C=0.3, clf__estimator__l1_ratio=0.8, clf__estimator__penalty=elasticnet, tfidf_vec__max_features=50000, tfidf_vec__min_df=1e-06;, score=(train=0.731, test=0.697) total time=   0.2s\n",
            "[CV 1/5] END clf__estimator=LogisticRegression(max_iter=100000, solver='saga'), clf__estimator__C=0.3, clf__estimator__l1_ratio=0.8, clf__estimator__penalty=elasticnet, tfidf_vec__max_features=50000, tfidf_vec__min_df=1;, score=(train=0.723, test=0.711) total time=   0.2s\n",
            "[CV 2/5] END clf__estimator=LogisticRegression(max_iter=100000, solver='saga'), clf__estimator__C=0.3, clf__estimator__l1_ratio=0.8, clf__estimator__penalty=elasticnet, tfidf_vec__max_features=50000, tfidf_vec__min_df=1;, score=(train=0.736, test=0.704) total time=   0.2s\n",
            "[CV 3/5] END clf__estimator=LogisticRegression(max_iter=100000, solver='saga'), clf__estimator__C=0.3, clf__estimator__l1_ratio=0.8, clf__estimator__penalty=elasticnet, tfidf_vec__max_features=50000, tfidf_vec__min_df=1;, score=(train=0.604, test=0.588) total time=   0.2s\n",
            "[CV 4/5] END clf__estimator=LogisticRegression(max_iter=100000, solver='saga'), clf__estimator__C=0.3, clf__estimator__l1_ratio=0.8, clf__estimator__penalty=elasticnet, tfidf_vec__max_features=50000, tfidf_vec__min_df=1;, score=(train=0.736, test=0.701) total time=   0.2s\n",
            "[CV 5/5] END clf__estimator=LogisticRegression(max_iter=100000, solver='saga'), clf__estimator__C=0.3, clf__estimator__l1_ratio=0.8, clf__estimator__penalty=elasticnet, tfidf_vec__max_features=50000, tfidf_vec__min_df=1;, score=(train=0.731, test=0.697) total time=   0.2s\n",
            "[CV 1/5] END clf__estimator=LogisticRegression(max_iter=100000, solver='saga'), clf__estimator__C=0.7, clf__estimator__l1_ratio=0.1, clf__estimator__penalty=elasticnet, tfidf_vec__max_features=None, tfidf_vec__min_df=0.0001;, score=(train=0.843, test=0.714) total time=   2.2s\n",
            "[CV 2/5] END clf__estimator=LogisticRegression(max_iter=100000, solver='saga'), clf__estimator__C=0.7, clf__estimator__l1_ratio=0.1, clf__estimator__penalty=elasticnet, tfidf_vec__max_features=None, tfidf_vec__min_df=0.0001;, score=(train=0.852, test=0.726) total time=   2.1s\n",
            "[CV 3/5] END clf__estimator=LogisticRegression(max_iter=100000, solver='saga'), clf__estimator__C=0.7, clf__estimator__l1_ratio=0.1, clf__estimator__penalty=elasticnet, tfidf_vec__max_features=None, tfidf_vec__min_df=0.0001;, score=(train=0.827, test=0.729) total time=   2.5s\n",
            "[CV 4/5] END clf__estimator=LogisticRegression(max_iter=100000, solver='saga'), clf__estimator__C=0.7, clf__estimator__l1_ratio=0.1, clf__estimator__penalty=elasticnet, tfidf_vec__max_features=None, tfidf_vec__min_df=0.0001;, score=(train=0.839, test=0.709) total time=   2.3s\n",
            "[CV 5/5] END clf__estimator=LogisticRegression(max_iter=100000, solver='saga'), clf__estimator__C=0.7, clf__estimator__l1_ratio=0.1, clf__estimator__penalty=elasticnet, tfidf_vec__max_features=None, tfidf_vec__min_df=0.0001;, score=(train=0.839, test=0.698) total time=   2.3s\n",
            "[CV 1/5] END clf__estimator=LogisticRegression(max_iter=100000, solver='saga'), clf__estimator__C=0.7, clf__estimator__l1_ratio=0.1, clf__estimator__penalty=elasticnet, tfidf_vec__max_features=None, tfidf_vec__min_df=1e-05;, score=(train=0.843, test=0.714) total time=   2.3s\n",
            "[CV 2/5] END clf__estimator=LogisticRegression(max_iter=100000, solver='saga'), clf__estimator__C=0.7, clf__estimator__l1_ratio=0.1, clf__estimator__penalty=elasticnet, tfidf_vec__max_features=None, tfidf_vec__min_df=1e-05;, score=(train=0.853, test=0.726) total time=   2.3s\n",
            "[CV 3/5] END clf__estimator=LogisticRegression(max_iter=100000, solver='saga'), clf__estimator__C=0.7, clf__estimator__l1_ratio=0.1, clf__estimator__penalty=elasticnet, tfidf_vec__max_features=None, tfidf_vec__min_df=1e-05;, score=(train=0.827, test=0.729) total time=   2.2s\n",
            "[CV 4/5] END clf__estimator=LogisticRegression(max_iter=100000, solver='saga'), clf__estimator__C=0.7, clf__estimator__l1_ratio=0.1, clf__estimator__penalty=elasticnet, tfidf_vec__max_features=None, tfidf_vec__min_df=1e-05;, score=(train=0.839, test=0.709) total time=   2.2s\n",
            "[CV 5/5] END clf__estimator=LogisticRegression(max_iter=100000, solver='saga'), clf__estimator__C=0.7, clf__estimator__l1_ratio=0.1, clf__estimator__penalty=elasticnet, tfidf_vec__max_features=None, tfidf_vec__min_df=1e-05;, score=(train=0.840, test=0.698) total time=   2.5s\n",
            "[CV 1/5] END clf__estimator=LogisticRegression(max_iter=100000, solver='saga'), clf__estimator__C=0.7, clf__estimator__l1_ratio=0.1, clf__estimator__penalty=elasticnet, tfidf_vec__max_features=None, tfidf_vec__min_df=1e-06;, score=(train=0.843, test=0.714) total time=   2.3s\n",
            "[CV 2/5] END clf__estimator=LogisticRegression(max_iter=100000, solver='saga'), clf__estimator__C=0.7, clf__estimator__l1_ratio=0.1, clf__estimator__penalty=elasticnet, tfidf_vec__max_features=None, tfidf_vec__min_df=1e-06;, score=(train=0.852, test=0.726) total time=   2.0s\n",
            "[CV 3/5] END clf__estimator=LogisticRegression(max_iter=100000, solver='saga'), clf__estimator__C=0.7, clf__estimator__l1_ratio=0.1, clf__estimator__penalty=elasticnet, tfidf_vec__max_features=None, tfidf_vec__min_df=1e-06;, score=(train=0.827, test=0.728) total time=   2.0s\n",
            "[CV 4/5] END clf__estimator=LogisticRegression(max_iter=100000, solver='saga'), clf__estimator__C=0.7, clf__estimator__l1_ratio=0.1, clf__estimator__penalty=elasticnet, tfidf_vec__max_features=None, tfidf_vec__min_df=1e-06;, score=(train=0.839, test=0.709) total time=   2.3s\n",
            "[CV 5/5] END clf__estimator=LogisticRegression(max_iter=100000, solver='saga'), clf__estimator__C=0.7, clf__estimator__l1_ratio=0.1, clf__estimator__penalty=elasticnet, tfidf_vec__max_features=None, tfidf_vec__min_df=1e-06;, score=(train=0.840, test=0.698) total time=   2.2s\n",
            "[CV 1/5] END clf__estimator=LogisticRegression(max_iter=100000, solver='saga'), clf__estimator__C=0.7, clf__estimator__l1_ratio=0.1, clf__estimator__penalty=elasticnet, tfidf_vec__max_features=None, tfidf_vec__min_df=1;, score=(train=0.843, test=0.714) total time=   2.0s\n",
            "[CV 2/5] END clf__estimator=LogisticRegression(max_iter=100000, solver='saga'), clf__estimator__C=0.7, clf__estimator__l1_ratio=0.1, clf__estimator__penalty=elasticnet, tfidf_vec__max_features=None, tfidf_vec__min_df=1;, score=(train=0.853, test=0.726) total time=   2.1s\n",
            "[CV 3/5] END clf__estimator=LogisticRegression(max_iter=100000, solver='saga'), clf__estimator__C=0.7, clf__estimator__l1_ratio=0.1, clf__estimator__penalty=elasticnet, tfidf_vec__max_features=None, tfidf_vec__min_df=1;, score=(train=0.827, test=0.729) total time=   2.3s\n",
            "[CV 4/5] END clf__estimator=LogisticRegression(max_iter=100000, solver='saga'), clf__estimator__C=0.7, clf__estimator__l1_ratio=0.1, clf__estimator__penalty=elasticnet, tfidf_vec__max_features=None, tfidf_vec__min_df=1;, score=(train=0.839, test=0.709) total time=   2.3s\n",
            "[CV 5/5] END clf__estimator=LogisticRegression(max_iter=100000, solver='saga'), clf__estimator__C=0.7, clf__estimator__l1_ratio=0.1, clf__estimator__penalty=elasticnet, tfidf_vec__max_features=None, tfidf_vec__min_df=1;, score=(train=0.839, test=0.698) total time=   2.4s\n",
            "[CV 1/5] END clf__estimator=LogisticRegression(max_iter=100000, solver='saga'), clf__estimator__C=0.7, clf__estimator__l1_ratio=0.1, clf__estimator__penalty=elasticnet, tfidf_vec__max_features=10000, tfidf_vec__min_df=0.0001;, score=(train=0.843, test=0.714) total time=   2.4s\n",
            "[CV 2/5] END clf__estimator=LogisticRegression(max_iter=100000, solver='saga'), clf__estimator__C=0.7, clf__estimator__l1_ratio=0.1, clf__estimator__penalty=elasticnet, tfidf_vec__max_features=10000, tfidf_vec__min_df=0.0001;, score=(train=0.853, test=0.726) total time=   2.1s\n",
            "[CV 3/5] END clf__estimator=LogisticRegression(max_iter=100000, solver='saga'), clf__estimator__C=0.7, clf__estimator__l1_ratio=0.1, clf__estimator__penalty=elasticnet, tfidf_vec__max_features=10000, tfidf_vec__min_df=0.0001;, score=(train=0.827, test=0.729) total time=   2.3s\n",
            "[CV 4/5] END clf__estimator=LogisticRegression(max_iter=100000, solver='saga'), clf__estimator__C=0.7, clf__estimator__l1_ratio=0.1, clf__estimator__penalty=elasticnet, tfidf_vec__max_features=10000, tfidf_vec__min_df=0.0001;, score=(train=0.839, test=0.709) total time=   2.4s\n",
            "[CV 5/5] END clf__estimator=LogisticRegression(max_iter=100000, solver='saga'), clf__estimator__C=0.7, clf__estimator__l1_ratio=0.1, clf__estimator__penalty=elasticnet, tfidf_vec__max_features=10000, tfidf_vec__min_df=0.0001;, score=(train=0.839, test=0.698) total time=   2.3s\n",
            "[CV 1/5] END clf__estimator=LogisticRegression(max_iter=100000, solver='saga'), clf__estimator__C=0.7, clf__estimator__l1_ratio=0.1, clf__estimator__penalty=elasticnet, tfidf_vec__max_features=10000, tfidf_vec__min_df=1e-05;, score=(train=0.842, test=0.714) total time=   2.2s\n",
            "[CV 2/5] END clf__estimator=LogisticRegression(max_iter=100000, solver='saga'), clf__estimator__C=0.7, clf__estimator__l1_ratio=0.1, clf__estimator__penalty=elasticnet, tfidf_vec__max_features=10000, tfidf_vec__min_df=1e-05;, score=(train=0.853, test=0.726) total time=   2.2s\n",
            "[CV 3/5] END clf__estimator=LogisticRegression(max_iter=100000, solver='saga'), clf__estimator__C=0.7, clf__estimator__l1_ratio=0.1, clf__estimator__penalty=elasticnet, tfidf_vec__max_features=10000, tfidf_vec__min_df=1e-05;, score=(train=0.827, test=0.729) total time=   2.2s\n",
            "[CV 4/5] END clf__estimator=LogisticRegression(max_iter=100000, solver='saga'), clf__estimator__C=0.7, clf__estimator__l1_ratio=0.1, clf__estimator__penalty=elasticnet, tfidf_vec__max_features=10000, tfidf_vec__min_df=1e-05;, score=(train=0.839, test=0.709) total time=   2.2s\n",
            "[CV 5/5] END clf__estimator=LogisticRegression(max_iter=100000, solver='saga'), clf__estimator__C=0.7, clf__estimator__l1_ratio=0.1, clf__estimator__penalty=elasticnet, tfidf_vec__max_features=10000, tfidf_vec__min_df=1e-05;, score=(train=0.839, test=0.698) total time=   2.4s\n",
            "[CV 1/5] END clf__estimator=LogisticRegression(max_iter=100000, solver='saga'), clf__estimator__C=0.7, clf__estimator__l1_ratio=0.1, clf__estimator__penalty=elasticnet, tfidf_vec__max_features=10000, tfidf_vec__min_df=1e-06;, score=(train=0.843, test=0.714) total time=   2.3s\n",
            "[CV 2/5] END clf__estimator=LogisticRegression(max_iter=100000, solver='saga'), clf__estimator__C=0.7, clf__estimator__l1_ratio=0.1, clf__estimator__penalty=elasticnet, tfidf_vec__max_features=10000, tfidf_vec__min_df=1e-06;, score=(train=0.852, test=0.726) total time=   2.2s\n",
            "[CV 3/5] END clf__estimator=LogisticRegression(max_iter=100000, solver='saga'), clf__estimator__C=0.7, clf__estimator__l1_ratio=0.1, clf__estimator__penalty=elasticnet, tfidf_vec__max_features=10000, tfidf_vec__min_df=1e-06;, score=(train=0.827, test=0.729) total time=   2.4s\n",
            "[CV 4/5] END clf__estimator=LogisticRegression(max_iter=100000, solver='saga'), clf__estimator__C=0.7, clf__estimator__l1_ratio=0.1, clf__estimator__penalty=elasticnet, tfidf_vec__max_features=10000, tfidf_vec__min_df=1e-06;, score=(train=0.839, test=0.709) total time=   2.2s\n",
            "[CV 5/5] END clf__estimator=LogisticRegression(max_iter=100000, solver='saga'), clf__estimator__C=0.7, clf__estimator__l1_ratio=0.1, clf__estimator__penalty=elasticnet, tfidf_vec__max_features=10000, tfidf_vec__min_df=1e-06;, score=(train=0.839, test=0.698) total time=   2.5s\n",
            "[CV 1/5] END clf__estimator=LogisticRegression(max_iter=100000, solver='saga'), clf__estimator__C=0.7, clf__estimator__l1_ratio=0.1, clf__estimator__penalty=elasticnet, tfidf_vec__max_features=10000, tfidf_vec__min_df=1;, score=(train=0.842, test=0.714) total time=   2.1s\n",
            "[CV 2/5] END clf__estimator=LogisticRegression(max_iter=100000, solver='saga'), clf__estimator__C=0.7, clf__estimator__l1_ratio=0.1, clf__estimator__penalty=elasticnet, tfidf_vec__max_features=10000, tfidf_vec__min_df=1;, score=(train=0.852, test=0.726) total time=   2.4s\n",
            "[CV 3/5] END clf__estimator=LogisticRegression(max_iter=100000, solver='saga'), clf__estimator__C=0.7, clf__estimator__l1_ratio=0.1, clf__estimator__penalty=elasticnet, tfidf_vec__max_features=10000, tfidf_vec__min_df=1;, score=(train=0.827, test=0.728) total time=   2.4s\n",
            "[CV 4/5] END clf__estimator=LogisticRegression(max_iter=100000, solver='saga'), clf__estimator__C=0.7, clf__estimator__l1_ratio=0.1, clf__estimator__penalty=elasticnet, tfidf_vec__max_features=10000, tfidf_vec__min_df=1;, score=(train=0.839, test=0.709) total time=   2.4s\n",
            "[CV 5/5] END clf__estimator=LogisticRegression(max_iter=100000, solver='saga'), clf__estimator__C=0.7, clf__estimator__l1_ratio=0.1, clf__estimator__penalty=elasticnet, tfidf_vec__max_features=10000, tfidf_vec__min_df=1;, score=(train=0.839, test=0.698) total time=   2.3s\n",
            "[CV 1/5] END clf__estimator=LogisticRegression(max_iter=100000, solver='saga'), clf__estimator__C=0.7, clf__estimator__l1_ratio=0.1, clf__estimator__penalty=elasticnet, tfidf_vec__max_features=20000, tfidf_vec__min_df=0.0001;, score=(train=0.842, test=0.714) total time=   2.3s\n",
            "[CV 2/5] END clf__estimator=LogisticRegression(max_iter=100000, solver='saga'), clf__estimator__C=0.7, clf__estimator__l1_ratio=0.1, clf__estimator__penalty=elasticnet, tfidf_vec__max_features=20000, tfidf_vec__min_df=0.0001;, score=(train=0.853, test=0.726) total time=   2.3s\n",
            "[CV 3/5] END clf__estimator=LogisticRegression(max_iter=100000, solver='saga'), clf__estimator__C=0.7, clf__estimator__l1_ratio=0.1, clf__estimator__penalty=elasticnet, tfidf_vec__max_features=20000, tfidf_vec__min_df=0.0001;, score=(train=0.827, test=0.729) total time=   2.1s\n",
            "[CV 4/5] END clf__estimator=LogisticRegression(max_iter=100000, solver='saga'), clf__estimator__C=0.7, clf__estimator__l1_ratio=0.1, clf__estimator__penalty=elasticnet, tfidf_vec__max_features=20000, tfidf_vec__min_df=0.0001;, score=(train=0.839, test=0.709) total time=   2.5s\n",
            "[CV 5/5] END clf__estimator=LogisticRegression(max_iter=100000, solver='saga'), clf__estimator__C=0.7, clf__estimator__l1_ratio=0.1, clf__estimator__penalty=elasticnet, tfidf_vec__max_features=20000, tfidf_vec__min_df=0.0001;, score=(train=0.840, test=0.698) total time=   2.3s\n",
            "[CV 1/5] END clf__estimator=LogisticRegression(max_iter=100000, solver='saga'), clf__estimator__C=0.7, clf__estimator__l1_ratio=0.1, clf__estimator__penalty=elasticnet, tfidf_vec__max_features=20000, tfidf_vec__min_df=1e-05;, score=(train=0.843, test=0.714) total time=   2.2s\n",
            "[CV 2/5] END clf__estimator=LogisticRegression(max_iter=100000, solver='saga'), clf__estimator__C=0.7, clf__estimator__l1_ratio=0.1, clf__estimator__penalty=elasticnet, tfidf_vec__max_features=20000, tfidf_vec__min_df=1e-05;, score=(train=0.853, test=0.726) total time=   2.1s\n",
            "[CV 3/5] END clf__estimator=LogisticRegression(max_iter=100000, solver='saga'), clf__estimator__C=0.7, clf__estimator__l1_ratio=0.1, clf__estimator__penalty=elasticnet, tfidf_vec__max_features=20000, tfidf_vec__min_df=1e-05;, score=(train=0.827, test=0.729) total time=   2.3s\n",
            "[CV 4/5] END clf__estimator=LogisticRegression(max_iter=100000, solver='saga'), clf__estimator__C=0.7, clf__estimator__l1_ratio=0.1, clf__estimator__penalty=elasticnet, tfidf_vec__max_features=20000, tfidf_vec__min_df=1e-05;, score=(train=0.839, test=0.709) total time=   2.3s\n",
            "[CV 5/5] END clf__estimator=LogisticRegression(max_iter=100000, solver='saga'), clf__estimator__C=0.7, clf__estimator__l1_ratio=0.1, clf__estimator__penalty=elasticnet, tfidf_vec__max_features=20000, tfidf_vec__min_df=1e-05;, score=(train=0.839, test=0.698) total time=   2.4s\n",
            "[CV 1/5] END clf__estimator=LogisticRegression(max_iter=100000, solver='saga'), clf__estimator__C=0.7, clf__estimator__l1_ratio=0.1, clf__estimator__penalty=elasticnet, tfidf_vec__max_features=20000, tfidf_vec__min_df=1e-06;, score=(train=0.843, test=0.714) total time=   2.2s\n",
            "[CV 2/5] END clf__estimator=LogisticRegression(max_iter=100000, solver='saga'), clf__estimator__C=0.7, clf__estimator__l1_ratio=0.1, clf__estimator__penalty=elasticnet, tfidf_vec__max_features=20000, tfidf_vec__min_df=1e-06;, score=(train=0.852, test=0.726) total time=   2.3s\n",
            "[CV 3/5] END clf__estimator=LogisticRegression(max_iter=100000, solver='saga'), clf__estimator__C=0.7, clf__estimator__l1_ratio=0.1, clf__estimator__penalty=elasticnet, tfidf_vec__max_features=20000, tfidf_vec__min_df=1e-06;, score=(train=0.827, test=0.728) total time=   2.5s\n",
            "[CV 4/5] END clf__estimator=LogisticRegression(max_iter=100000, solver='saga'), clf__estimator__C=0.7, clf__estimator__l1_ratio=0.1, clf__estimator__penalty=elasticnet, tfidf_vec__max_features=20000, tfidf_vec__min_df=1e-06;, score=(train=0.839, test=0.709) total time=   2.2s\n",
            "[CV 5/5] END clf__estimator=LogisticRegression(max_iter=100000, solver='saga'), clf__estimator__C=0.7, clf__estimator__l1_ratio=0.1, clf__estimator__penalty=elasticnet, tfidf_vec__max_features=20000, tfidf_vec__min_df=1e-06;, score=(train=0.839, test=0.698) total time=   2.2s\n",
            "[CV 1/5] END clf__estimator=LogisticRegression(max_iter=100000, solver='saga'), clf__estimator__C=0.7, clf__estimator__l1_ratio=0.1, clf__estimator__penalty=elasticnet, tfidf_vec__max_features=20000, tfidf_vec__min_df=1;, score=(train=0.843, test=0.714) total time=   2.3s\n",
            "[CV 2/5] END clf__estimator=LogisticRegression(max_iter=100000, solver='saga'), clf__estimator__C=0.7, clf__estimator__l1_ratio=0.1, clf__estimator__penalty=elasticnet, tfidf_vec__max_features=20000, tfidf_vec__min_df=1;, score=(train=0.853, test=0.726) total time=   2.2s\n",
            "[CV 3/5] END clf__estimator=LogisticRegression(max_iter=100000, solver='saga'), clf__estimator__C=0.7, clf__estimator__l1_ratio=0.1, clf__estimator__penalty=elasticnet, tfidf_vec__max_features=20000, tfidf_vec__min_df=1;, score=(train=0.827, test=0.729) total time=   2.5s\n",
            "[CV 4/5] END clf__estimator=LogisticRegression(max_iter=100000, solver='saga'), clf__estimator__C=0.7, clf__estimator__l1_ratio=0.1, clf__estimator__penalty=elasticnet, tfidf_vec__max_features=20000, tfidf_vec__min_df=1;, score=(train=0.839, test=0.709) total time=   2.4s\n",
            "[CV 5/5] END clf__estimator=LogisticRegression(max_iter=100000, solver='saga'), clf__estimator__C=0.7, clf__estimator__l1_ratio=0.1, clf__estimator__penalty=elasticnet, tfidf_vec__max_features=20000, tfidf_vec__min_df=1;, score=(train=0.839, test=0.698) total time=   2.4s\n",
            "[CV 1/5] END clf__estimator=LogisticRegression(max_iter=100000, solver='saga'), clf__estimator__C=0.7, clf__estimator__l1_ratio=0.1, clf__estimator__penalty=elasticnet, tfidf_vec__max_features=30000, tfidf_vec__min_df=0.0001;, score=(train=0.843, test=0.714) total time=   2.3s\n",
            "[CV 2/5] END clf__estimator=LogisticRegression(max_iter=100000, solver='saga'), clf__estimator__C=0.7, clf__estimator__l1_ratio=0.1, clf__estimator__penalty=elasticnet, tfidf_vec__max_features=30000, tfidf_vec__min_df=0.0001;, score=(train=0.852, test=0.726) total time=   2.2s\n",
            "[CV 3/5] END clf__estimator=LogisticRegression(max_iter=100000, solver='saga'), clf__estimator__C=0.7, clf__estimator__l1_ratio=0.1, clf__estimator__penalty=elasticnet, tfidf_vec__max_features=30000, tfidf_vec__min_df=0.0001;, score=(train=0.827, test=0.729) total time=   2.3s\n",
            "[CV 4/5] END clf__estimator=LogisticRegression(max_iter=100000, solver='saga'), clf__estimator__C=0.7, clf__estimator__l1_ratio=0.1, clf__estimator__penalty=elasticnet, tfidf_vec__max_features=30000, tfidf_vec__min_df=0.0001;, score=(train=0.839, test=0.709) total time=   2.3s\n",
            "[CV 5/5] END clf__estimator=LogisticRegression(max_iter=100000, solver='saga'), clf__estimator__C=0.7, clf__estimator__l1_ratio=0.1, clf__estimator__penalty=elasticnet, tfidf_vec__max_features=30000, tfidf_vec__min_df=0.0001;, score=(train=0.839, test=0.698) total time=   2.3s\n",
            "[CV 1/5] END clf__estimator=LogisticRegression(max_iter=100000, solver='saga'), clf__estimator__C=0.7, clf__estimator__l1_ratio=0.1, clf__estimator__penalty=elasticnet, tfidf_vec__max_features=30000, tfidf_vec__min_df=1e-05;, score=(train=0.842, test=0.714) total time=   2.3s\n",
            "[CV 2/5] END clf__estimator=LogisticRegression(max_iter=100000, solver='saga'), clf__estimator__C=0.7, clf__estimator__l1_ratio=0.1, clf__estimator__penalty=elasticnet, tfidf_vec__max_features=30000, tfidf_vec__min_df=1e-05;, score=(train=0.853, test=0.726) total time=   2.2s\n",
            "[CV 3/5] END clf__estimator=LogisticRegression(max_iter=100000, solver='saga'), clf__estimator__C=0.7, clf__estimator__l1_ratio=0.1, clf__estimator__penalty=elasticnet, tfidf_vec__max_features=30000, tfidf_vec__min_df=1e-05;, score=(train=0.827, test=0.728) total time=   2.4s\n",
            "[CV 4/5] END clf__estimator=LogisticRegression(max_iter=100000, solver='saga'), clf__estimator__C=0.7, clf__estimator__l1_ratio=0.1, clf__estimator__penalty=elasticnet, tfidf_vec__max_features=30000, tfidf_vec__min_df=1e-05;, score=(train=0.839, test=0.709) total time=   2.2s\n",
            "[CV 5/5] END clf__estimator=LogisticRegression(max_iter=100000, solver='saga'), clf__estimator__C=0.7, clf__estimator__l1_ratio=0.1, clf__estimator__penalty=elasticnet, tfidf_vec__max_features=30000, tfidf_vec__min_df=1e-05;, score=(train=0.839, test=0.698) total time=   2.2s\n",
            "[CV 1/5] END clf__estimator=LogisticRegression(max_iter=100000, solver='saga'), clf__estimator__C=0.7, clf__estimator__l1_ratio=0.1, clf__estimator__penalty=elasticnet, tfidf_vec__max_features=30000, tfidf_vec__min_df=1e-06;, score=(train=0.842, test=0.714) total time=   2.1s\n",
            "[CV 2/5] END clf__estimator=LogisticRegression(max_iter=100000, solver='saga'), clf__estimator__C=0.7, clf__estimator__l1_ratio=0.1, clf__estimator__penalty=elasticnet, tfidf_vec__max_features=30000, tfidf_vec__min_df=1e-06;, score=(train=0.852, test=0.726) total time=   2.3s\n",
            "[CV 3/5] END clf__estimator=LogisticRegression(max_iter=100000, solver='saga'), clf__estimator__C=0.7, clf__estimator__l1_ratio=0.1, clf__estimator__penalty=elasticnet, tfidf_vec__max_features=30000, tfidf_vec__min_df=1e-06;, score=(train=0.827, test=0.729) total time=   2.4s\n",
            "[CV 4/5] END clf__estimator=LogisticRegression(max_iter=100000, solver='saga'), clf__estimator__C=0.7, clf__estimator__l1_ratio=0.1, clf__estimator__penalty=elasticnet, tfidf_vec__max_features=30000, tfidf_vec__min_df=1e-06;, score=(train=0.839, test=0.709) total time=   2.7s\n",
            "[CV 5/5] END clf__estimator=LogisticRegression(max_iter=100000, solver='saga'), clf__estimator__C=0.7, clf__estimator__l1_ratio=0.1, clf__estimator__penalty=elasticnet, tfidf_vec__max_features=30000, tfidf_vec__min_df=1e-06;, score=(train=0.839, test=0.698) total time=   2.1s\n",
            "[CV 1/5] END clf__estimator=LogisticRegression(max_iter=100000, solver='saga'), clf__estimator__C=0.7, clf__estimator__l1_ratio=0.1, clf__estimator__penalty=elasticnet, tfidf_vec__max_features=30000, tfidf_vec__min_df=1;, score=(train=0.843, test=0.714) total time=   2.5s\n",
            "[CV 2/5] END clf__estimator=LogisticRegression(max_iter=100000, solver='saga'), clf__estimator__C=0.7, clf__estimator__l1_ratio=0.1, clf__estimator__penalty=elasticnet, tfidf_vec__max_features=30000, tfidf_vec__min_df=1;, score=(train=0.853, test=0.726) total time=   2.2s\n",
            "[CV 3/5] END clf__estimator=LogisticRegression(max_iter=100000, solver='saga'), clf__estimator__C=0.7, clf__estimator__l1_ratio=0.1, clf__estimator__penalty=elasticnet, tfidf_vec__max_features=30000, tfidf_vec__min_df=1;, score=(train=0.827, test=0.729) total time=   2.1s\n",
            "[CV 4/5] END clf__estimator=LogisticRegression(max_iter=100000, solver='saga'), clf__estimator__C=0.7, clf__estimator__l1_ratio=0.1, clf__estimator__penalty=elasticnet, tfidf_vec__max_features=30000, tfidf_vec__min_df=1;, score=(train=0.839, test=0.709) total time=   2.2s\n",
            "[CV 5/5] END clf__estimator=LogisticRegression(max_iter=100000, solver='saga'), clf__estimator__C=0.7, clf__estimator__l1_ratio=0.1, clf__estimator__penalty=elasticnet, tfidf_vec__max_features=30000, tfidf_vec__min_df=1;, score=(train=0.840, test=0.698) total time=   2.4s\n",
            "[CV 1/5] END clf__estimator=LogisticRegression(max_iter=100000, solver='saga'), clf__estimator__C=0.7, clf__estimator__l1_ratio=0.1, clf__estimator__penalty=elasticnet, tfidf_vec__max_features=50000, tfidf_vec__min_df=0.0001;, score=(train=0.842, test=0.714) total time=   2.6s\n",
            "[CV 2/5] END clf__estimator=LogisticRegression(max_iter=100000, solver='saga'), clf__estimator__C=0.7, clf__estimator__l1_ratio=0.1, clf__estimator__penalty=elasticnet, tfidf_vec__max_features=50000, tfidf_vec__min_df=0.0001;, score=(train=0.853, test=0.726) total time=   2.3s\n",
            "[CV 3/5] END clf__estimator=LogisticRegression(max_iter=100000, solver='saga'), clf__estimator__C=0.7, clf__estimator__l1_ratio=0.1, clf__estimator__penalty=elasticnet, tfidf_vec__max_features=50000, tfidf_vec__min_df=0.0001;, score=(train=0.827, test=0.729) total time=   2.2s\n",
            "[CV 4/5] END clf__estimator=LogisticRegression(max_iter=100000, solver='saga'), clf__estimator__C=0.7, clf__estimator__l1_ratio=0.1, clf__estimator__penalty=elasticnet, tfidf_vec__max_features=50000, tfidf_vec__min_df=0.0001;, score=(train=0.839, test=0.709) total time=   2.1s\n",
            "[CV 5/5] END clf__estimator=LogisticRegression(max_iter=100000, solver='saga'), clf__estimator__C=0.7, clf__estimator__l1_ratio=0.1, clf__estimator__penalty=elasticnet, tfidf_vec__max_features=50000, tfidf_vec__min_df=0.0001;, score=(train=0.840, test=0.698) total time=   2.4s\n",
            "[CV 1/5] END clf__estimator=LogisticRegression(max_iter=100000, solver='saga'), clf__estimator__C=0.7, clf__estimator__l1_ratio=0.1, clf__estimator__penalty=elasticnet, tfidf_vec__max_features=50000, tfidf_vec__min_df=1e-05;, score=(train=0.842, test=0.714) total time=   2.2s\n",
            "[CV 2/5] END clf__estimator=LogisticRegression(max_iter=100000, solver='saga'), clf__estimator__C=0.7, clf__estimator__l1_ratio=0.1, clf__estimator__penalty=elasticnet, tfidf_vec__max_features=50000, tfidf_vec__min_df=1e-05;, score=(train=0.853, test=0.726) total time=   2.2s\n",
            "[CV 3/5] END clf__estimator=LogisticRegression(max_iter=100000, solver='saga'), clf__estimator__C=0.7, clf__estimator__l1_ratio=0.1, clf__estimator__penalty=elasticnet, tfidf_vec__max_features=50000, tfidf_vec__min_df=1e-05;, score=(train=0.827, test=0.729) total time=   2.3s\n",
            "[CV 4/5] END clf__estimator=LogisticRegression(max_iter=100000, solver='saga'), clf__estimator__C=0.7, clf__estimator__l1_ratio=0.1, clf__estimator__penalty=elasticnet, tfidf_vec__max_features=50000, tfidf_vec__min_df=1e-05;, score=(train=0.839, test=0.709) total time=   2.2s\n",
            "[CV 5/5] END clf__estimator=LogisticRegression(max_iter=100000, solver='saga'), clf__estimator__C=0.7, clf__estimator__l1_ratio=0.1, clf__estimator__penalty=elasticnet, tfidf_vec__max_features=50000, tfidf_vec__min_df=1e-05;, score=(train=0.839, test=0.698) total time=   2.2s\n",
            "[CV 1/5] END clf__estimator=LogisticRegression(max_iter=100000, solver='saga'), clf__estimator__C=0.7, clf__estimator__l1_ratio=0.1, clf__estimator__penalty=elasticnet, tfidf_vec__max_features=50000, tfidf_vec__min_df=1e-06;, score=(train=0.842, test=0.714) total time=   2.2s\n",
            "[CV 2/5] END clf__estimator=LogisticRegression(max_iter=100000, solver='saga'), clf__estimator__C=0.7, clf__estimator__l1_ratio=0.1, clf__estimator__penalty=elasticnet, tfidf_vec__max_features=50000, tfidf_vec__min_df=1e-06;, score=(train=0.853, test=0.726) total time=   2.3s\n",
            "[CV 3/5] END clf__estimator=LogisticRegression(max_iter=100000, solver='saga'), clf__estimator__C=0.7, clf__estimator__l1_ratio=0.1, clf__estimator__penalty=elasticnet, tfidf_vec__max_features=50000, tfidf_vec__min_df=1e-06;, score=(train=0.827, test=0.728) total time=   2.4s\n",
            "[CV 4/5] END clf__estimator=LogisticRegression(max_iter=100000, solver='saga'), clf__estimator__C=0.7, clf__estimator__l1_ratio=0.1, clf__estimator__penalty=elasticnet, tfidf_vec__max_features=50000, tfidf_vec__min_df=1e-06;, score=(train=0.839, test=0.709) total time=   2.1s\n",
            "[CV 5/5] END clf__estimator=LogisticRegression(max_iter=100000, solver='saga'), clf__estimator__C=0.7, clf__estimator__l1_ratio=0.1, clf__estimator__penalty=elasticnet, tfidf_vec__max_features=50000, tfidf_vec__min_df=1e-06;, score=(train=0.840, test=0.698) total time=   2.3s\n",
            "[CV 1/5] END clf__estimator=LogisticRegression(max_iter=100000, solver='saga'), clf__estimator__C=0.7, clf__estimator__l1_ratio=0.1, clf__estimator__penalty=elasticnet, tfidf_vec__max_features=50000, tfidf_vec__min_df=1;, score=(train=0.842, test=0.714) total time=   2.1s\n",
            "[CV 2/5] END clf__estimator=LogisticRegression(max_iter=100000, solver='saga'), clf__estimator__C=0.7, clf__estimator__l1_ratio=0.1, clf__estimator__penalty=elasticnet, tfidf_vec__max_features=50000, tfidf_vec__min_df=1;, score=(train=0.853, test=0.726) total time=   2.2s\n",
            "[CV 3/5] END clf__estimator=LogisticRegression(max_iter=100000, solver='saga'), clf__estimator__C=0.7, clf__estimator__l1_ratio=0.1, clf__estimator__penalty=elasticnet, tfidf_vec__max_features=50000, tfidf_vec__min_df=1;, score=(train=0.827, test=0.729) total time=   2.2s\n",
            "[CV 4/5] END clf__estimator=LogisticRegression(max_iter=100000, solver='saga'), clf__estimator__C=0.7, clf__estimator__l1_ratio=0.1, clf__estimator__penalty=elasticnet, tfidf_vec__max_features=50000, tfidf_vec__min_df=1;, score=(train=0.839, test=0.709) total time=   2.5s\n",
            "[CV 5/5] END clf__estimator=LogisticRegression(max_iter=100000, solver='saga'), clf__estimator__C=0.7, clf__estimator__l1_ratio=0.1, clf__estimator__penalty=elasticnet, tfidf_vec__max_features=50000, tfidf_vec__min_df=1;, score=(train=0.839, test=0.698) total time=   2.3s\n",
            "[CV 1/5] END clf__estimator=LogisticRegression(max_iter=100000, solver='saga'), clf__estimator__C=0.7, clf__estimator__l1_ratio=0.2, clf__estimator__penalty=elasticnet, tfidf_vec__max_features=None, tfidf_vec__min_df=0.0001;, score=(train=0.814, test=0.714) total time=   0.9s\n",
            "[CV 2/5] END clf__estimator=LogisticRegression(max_iter=100000, solver='saga'), clf__estimator__C=0.7, clf__estimator__l1_ratio=0.2, clf__estimator__penalty=elasticnet, tfidf_vec__max_features=None, tfidf_vec__min_df=0.0001;, score=(train=0.823, test=0.730) total time=   0.9s\n",
            "[CV 3/5] END clf__estimator=LogisticRegression(max_iter=100000, solver='saga'), clf__estimator__C=0.7, clf__estimator__l1_ratio=0.2, clf__estimator__penalty=elasticnet, tfidf_vec__max_features=None, tfidf_vec__min_df=0.0001;, score=(train=0.802, test=0.728) total time=   1.1s\n",
            "[CV 4/5] END clf__estimator=LogisticRegression(max_iter=100000, solver='saga'), clf__estimator__C=0.7, clf__estimator__l1_ratio=0.2, clf__estimator__penalty=elasticnet, tfidf_vec__max_features=None, tfidf_vec__min_df=0.0001;, score=(train=0.809, test=0.712) total time=   1.0s\n",
            "[CV 5/5] END clf__estimator=LogisticRegression(max_iter=100000, solver='saga'), clf__estimator__C=0.7, clf__estimator__l1_ratio=0.2, clf__estimator__penalty=elasticnet, tfidf_vec__max_features=None, tfidf_vec__min_df=0.0001;, score=(train=0.814, test=0.706) total time=   1.0s\n",
            "[CV 1/5] END clf__estimator=LogisticRegression(max_iter=100000, solver='saga'), clf__estimator__C=0.7, clf__estimator__l1_ratio=0.2, clf__estimator__penalty=elasticnet, tfidf_vec__max_features=None, tfidf_vec__min_df=1e-05;, score=(train=0.815, test=0.716) total time=   0.9s\n",
            "[CV 2/5] END clf__estimator=LogisticRegression(max_iter=100000, solver='saga'), clf__estimator__C=0.7, clf__estimator__l1_ratio=0.2, clf__estimator__penalty=elasticnet, tfidf_vec__max_features=None, tfidf_vec__min_df=1e-05;, score=(train=0.823, test=0.730) total time=   0.9s\n",
            "[CV 3/5] END clf__estimator=LogisticRegression(max_iter=100000, solver='saga'), clf__estimator__C=0.7, clf__estimator__l1_ratio=0.2, clf__estimator__penalty=elasticnet, tfidf_vec__max_features=None, tfidf_vec__min_df=1e-05;, score=(train=0.802, test=0.728) total time=   0.9s\n",
            "[CV 4/5] END clf__estimator=LogisticRegression(max_iter=100000, solver='saga'), clf__estimator__C=0.7, clf__estimator__l1_ratio=0.2, clf__estimator__penalty=elasticnet, tfidf_vec__max_features=None, tfidf_vec__min_df=1e-05;, score=(train=0.809, test=0.712) total time=   0.9s\n",
            "[CV 5/5] END clf__estimator=LogisticRegression(max_iter=100000, solver='saga'), clf__estimator__C=0.7, clf__estimator__l1_ratio=0.2, clf__estimator__penalty=elasticnet, tfidf_vec__max_features=None, tfidf_vec__min_df=1e-05;, score=(train=0.814, test=0.706) total time=   0.9s\n",
            "[CV 1/5] END clf__estimator=LogisticRegression(max_iter=100000, solver='saga'), clf__estimator__C=0.7, clf__estimator__l1_ratio=0.2, clf__estimator__penalty=elasticnet, tfidf_vec__max_features=None, tfidf_vec__min_df=1e-06;, score=(train=0.815, test=0.716) total time=   0.9s\n",
            "[CV 2/5] END clf__estimator=LogisticRegression(max_iter=100000, solver='saga'), clf__estimator__C=0.7, clf__estimator__l1_ratio=0.2, clf__estimator__penalty=elasticnet, tfidf_vec__max_features=None, tfidf_vec__min_df=1e-06;, score=(train=0.824, test=0.730) total time=   0.9s\n",
            "[CV 3/5] END clf__estimator=LogisticRegression(max_iter=100000, solver='saga'), clf__estimator__C=0.7, clf__estimator__l1_ratio=0.2, clf__estimator__penalty=elasticnet, tfidf_vec__max_features=None, tfidf_vec__min_df=1e-06;, score=(train=0.803, test=0.728) total time=   0.9s\n",
            "[CV 4/5] END clf__estimator=LogisticRegression(max_iter=100000, solver='saga'), clf__estimator__C=0.7, clf__estimator__l1_ratio=0.2, clf__estimator__penalty=elasticnet, tfidf_vec__max_features=None, tfidf_vec__min_df=1e-06;, score=(train=0.809, test=0.712) total time=   0.9s\n",
            "[CV 5/5] END clf__estimator=LogisticRegression(max_iter=100000, solver='saga'), clf__estimator__C=0.7, clf__estimator__l1_ratio=0.2, clf__estimator__penalty=elasticnet, tfidf_vec__max_features=None, tfidf_vec__min_df=1e-06;, score=(train=0.814, test=0.706) total time=   1.0s\n",
            "[CV 1/5] END clf__estimator=LogisticRegression(max_iter=100000, solver='saga'), clf__estimator__C=0.7, clf__estimator__l1_ratio=0.2, clf__estimator__penalty=elasticnet, tfidf_vec__max_features=None, tfidf_vec__min_df=1;, score=(train=0.815, test=0.716) total time=   0.9s\n",
            "[CV 2/5] END clf__estimator=LogisticRegression(max_iter=100000, solver='saga'), clf__estimator__C=0.7, clf__estimator__l1_ratio=0.2, clf__estimator__penalty=elasticnet, tfidf_vec__max_features=None, tfidf_vec__min_df=1;, score=(train=0.824, test=0.730) total time=   1.0s\n",
            "[CV 3/5] END clf__estimator=LogisticRegression(max_iter=100000, solver='saga'), clf__estimator__C=0.7, clf__estimator__l1_ratio=0.2, clf__estimator__penalty=elasticnet, tfidf_vec__max_features=None, tfidf_vec__min_df=1;, score=(train=0.803, test=0.728) total time=   1.0s\n",
            "[CV 4/5] END clf__estimator=LogisticRegression(max_iter=100000, solver='saga'), clf__estimator__C=0.7, clf__estimator__l1_ratio=0.2, clf__estimator__penalty=elasticnet, tfidf_vec__max_features=None, tfidf_vec__min_df=1;, score=(train=0.809, test=0.712) total time=   1.0s\n",
            "[CV 5/5] END clf__estimator=LogisticRegression(max_iter=100000, solver='saga'), clf__estimator__C=0.7, clf__estimator__l1_ratio=0.2, clf__estimator__penalty=elasticnet, tfidf_vec__max_features=None, tfidf_vec__min_df=1;, score=(train=0.814, test=0.706) total time=   1.0s\n",
            "[CV 1/5] END clf__estimator=LogisticRegression(max_iter=100000, solver='saga'), clf__estimator__C=0.7, clf__estimator__l1_ratio=0.2, clf__estimator__penalty=elasticnet, tfidf_vec__max_features=10000, tfidf_vec__min_df=0.0001;, score=(train=0.815, test=0.716) total time=   1.0s\n",
            "[CV 2/5] END clf__estimator=LogisticRegression(max_iter=100000, solver='saga'), clf__estimator__C=0.7, clf__estimator__l1_ratio=0.2, clf__estimator__penalty=elasticnet, tfidf_vec__max_features=10000, tfidf_vec__min_df=0.0001;, score=(train=0.824, test=0.730) total time=   0.9s\n",
            "[CV 3/5] END clf__estimator=LogisticRegression(max_iter=100000, solver='saga'), clf__estimator__C=0.7, clf__estimator__l1_ratio=0.2, clf__estimator__penalty=elasticnet, tfidf_vec__max_features=10000, tfidf_vec__min_df=0.0001;, score=(train=0.803, test=0.728) total time=   1.0s\n",
            "[CV 4/5] END clf__estimator=LogisticRegression(max_iter=100000, solver='saga'), clf__estimator__C=0.7, clf__estimator__l1_ratio=0.2, clf__estimator__penalty=elasticnet, tfidf_vec__max_features=10000, tfidf_vec__min_df=0.0001;, score=(train=0.809, test=0.711) total time=   0.9s\n",
            "[CV 5/5] END clf__estimator=LogisticRegression(max_iter=100000, solver='saga'), clf__estimator__C=0.7, clf__estimator__l1_ratio=0.2, clf__estimator__penalty=elasticnet, tfidf_vec__max_features=10000, tfidf_vec__min_df=0.0001;, score=(train=0.814, test=0.706) total time=   1.0s\n",
            "[CV 1/5] END clf__estimator=LogisticRegression(max_iter=100000, solver='saga'), clf__estimator__C=0.7, clf__estimator__l1_ratio=0.2, clf__estimator__penalty=elasticnet, tfidf_vec__max_features=10000, tfidf_vec__min_df=1e-05;, score=(train=0.814, test=0.714) total time=   1.2s\n",
            "[CV 2/5] END clf__estimator=LogisticRegression(max_iter=100000, solver='saga'), clf__estimator__C=0.7, clf__estimator__l1_ratio=0.2, clf__estimator__penalty=elasticnet, tfidf_vec__max_features=10000, tfidf_vec__min_df=1e-05;, score=(train=0.824, test=0.730) total time=   1.0s\n",
            "[CV 3/5] END clf__estimator=LogisticRegression(max_iter=100000, solver='saga'), clf__estimator__C=0.7, clf__estimator__l1_ratio=0.2, clf__estimator__penalty=elasticnet, tfidf_vec__max_features=10000, tfidf_vec__min_df=1e-05;, score=(train=0.802, test=0.728) total time=   1.1s\n",
            "[CV 4/5] END clf__estimator=LogisticRegression(max_iter=100000, solver='saga'), clf__estimator__C=0.7, clf__estimator__l1_ratio=0.2, clf__estimator__penalty=elasticnet, tfidf_vec__max_features=10000, tfidf_vec__min_df=1e-05;, score=(train=0.809, test=0.712) total time=   1.0s\n",
            "[CV 5/5] END clf__estimator=LogisticRegression(max_iter=100000, solver='saga'), clf__estimator__C=0.7, clf__estimator__l1_ratio=0.2, clf__estimator__penalty=elasticnet, tfidf_vec__max_features=10000, tfidf_vec__min_df=1e-05;, score=(train=0.814, test=0.706) total time=   1.0s\n",
            "[CV 1/5] END clf__estimator=LogisticRegression(max_iter=100000, solver='saga'), clf__estimator__C=0.7, clf__estimator__l1_ratio=0.2, clf__estimator__penalty=elasticnet, tfidf_vec__max_features=10000, tfidf_vec__min_df=1e-06;, score=(train=0.815, test=0.716) total time=   1.0s\n",
            "[CV 2/5] END clf__estimator=LogisticRegression(max_iter=100000, solver='saga'), clf__estimator__C=0.7, clf__estimator__l1_ratio=0.2, clf__estimator__penalty=elasticnet, tfidf_vec__max_features=10000, tfidf_vec__min_df=1e-06;, score=(train=0.823, test=0.730) total time=   1.0s\n",
            "[CV 3/5] END clf__estimator=LogisticRegression(max_iter=100000, solver='saga'), clf__estimator__C=0.7, clf__estimator__l1_ratio=0.2, clf__estimator__penalty=elasticnet, tfidf_vec__max_features=10000, tfidf_vec__min_df=1e-06;, score=(train=0.803, test=0.728) total time=   0.9s\n",
            "[CV 4/5] END clf__estimator=LogisticRegression(max_iter=100000, solver='saga'), clf__estimator__C=0.7, clf__estimator__l1_ratio=0.2, clf__estimator__penalty=elasticnet, tfidf_vec__max_features=10000, tfidf_vec__min_df=1e-06;, score=(train=0.809, test=0.711) total time=   1.0s\n",
            "[CV 5/5] END clf__estimator=LogisticRegression(max_iter=100000, solver='saga'), clf__estimator__C=0.7, clf__estimator__l1_ratio=0.2, clf__estimator__penalty=elasticnet, tfidf_vec__max_features=10000, tfidf_vec__min_df=1e-06;, score=(train=0.814, test=0.706) total time=   1.1s\n",
            "[CV 1/5] END clf__estimator=LogisticRegression(max_iter=100000, solver='saga'), clf__estimator__C=0.7, clf__estimator__l1_ratio=0.2, clf__estimator__penalty=elasticnet, tfidf_vec__max_features=10000, tfidf_vec__min_df=1;, score=(train=0.814, test=0.715) total time=   1.0s\n",
            "[CV 2/5] END clf__estimator=LogisticRegression(max_iter=100000, solver='saga'), clf__estimator__C=0.7, clf__estimator__l1_ratio=0.2, clf__estimator__penalty=elasticnet, tfidf_vec__max_features=10000, tfidf_vec__min_df=1;, score=(train=0.824, test=0.730) total time=   1.0s\n",
            "[CV 3/5] END clf__estimator=LogisticRegression(max_iter=100000, solver='saga'), clf__estimator__C=0.7, clf__estimator__l1_ratio=0.2, clf__estimator__penalty=elasticnet, tfidf_vec__max_features=10000, tfidf_vec__min_df=1;, score=(train=0.803, test=0.728) total time=   0.9s\n",
            "[CV 4/5] END clf__estimator=LogisticRegression(max_iter=100000, solver='saga'), clf__estimator__C=0.7, clf__estimator__l1_ratio=0.2, clf__estimator__penalty=elasticnet, tfidf_vec__max_features=10000, tfidf_vec__min_df=1;, score=(train=0.809, test=0.712) total time=   1.0s\n",
            "[CV 5/5] END clf__estimator=LogisticRegression(max_iter=100000, solver='saga'), clf__estimator__C=0.7, clf__estimator__l1_ratio=0.2, clf__estimator__penalty=elasticnet, tfidf_vec__max_features=10000, tfidf_vec__min_df=1;, score=(train=0.814, test=0.706) total time=   1.0s\n",
            "[CV 1/5] END clf__estimator=LogisticRegression(max_iter=100000, solver='saga'), clf__estimator__C=0.7, clf__estimator__l1_ratio=0.2, clf__estimator__penalty=elasticnet, tfidf_vec__max_features=20000, tfidf_vec__min_df=0.0001;, score=(train=0.814, test=0.715) total time=   1.0s\n",
            "[CV 2/5] END clf__estimator=LogisticRegression(max_iter=100000, solver='saga'), clf__estimator__C=0.7, clf__estimator__l1_ratio=0.2, clf__estimator__penalty=elasticnet, tfidf_vec__max_features=20000, tfidf_vec__min_df=0.0001;, score=(train=0.823, test=0.730) total time=   1.0s\n",
            "[CV 3/5] END clf__estimator=LogisticRegression(max_iter=100000, solver='saga'), clf__estimator__C=0.7, clf__estimator__l1_ratio=0.2, clf__estimator__penalty=elasticnet, tfidf_vec__max_features=20000, tfidf_vec__min_df=0.0001;, score=(train=0.803, test=0.728) total time=   1.0s\n",
            "[CV 4/5] END clf__estimator=LogisticRegression(max_iter=100000, solver='saga'), clf__estimator__C=0.7, clf__estimator__l1_ratio=0.2, clf__estimator__penalty=elasticnet, tfidf_vec__max_features=20000, tfidf_vec__min_df=0.0001;, score=(train=0.809, test=0.711) total time=   1.0s\n",
            "[CV 5/5] END clf__estimator=LogisticRegression(max_iter=100000, solver='saga'), clf__estimator__C=0.7, clf__estimator__l1_ratio=0.2, clf__estimator__penalty=elasticnet, tfidf_vec__max_features=20000, tfidf_vec__min_df=0.0001;, score=(train=0.814, test=0.706) total time=   1.0s\n",
            "[CV 1/5] END clf__estimator=LogisticRegression(max_iter=100000, solver='saga'), clf__estimator__C=0.7, clf__estimator__l1_ratio=0.2, clf__estimator__penalty=elasticnet, tfidf_vec__max_features=20000, tfidf_vec__min_df=1e-05;, score=(train=0.815, test=0.716) total time=   0.9s\n",
            "[CV 2/5] END clf__estimator=LogisticRegression(max_iter=100000, solver='saga'), clf__estimator__C=0.7, clf__estimator__l1_ratio=0.2, clf__estimator__penalty=elasticnet, tfidf_vec__max_features=20000, tfidf_vec__min_df=1e-05;, score=(train=0.823, test=0.730) total time=   1.0s\n",
            "[CV 3/5] END clf__estimator=LogisticRegression(max_iter=100000, solver='saga'), clf__estimator__C=0.7, clf__estimator__l1_ratio=0.2, clf__estimator__penalty=elasticnet, tfidf_vec__max_features=20000, tfidf_vec__min_df=1e-05;, score=(train=0.802, test=0.728) total time=   1.0s\n",
            "[CV 4/5] END clf__estimator=LogisticRegression(max_iter=100000, solver='saga'), clf__estimator__C=0.7, clf__estimator__l1_ratio=0.2, clf__estimator__penalty=elasticnet, tfidf_vec__max_features=20000, tfidf_vec__min_df=1e-05;, score=(train=0.809, test=0.711) total time=   0.9s\n",
            "[CV 5/5] END clf__estimator=LogisticRegression(max_iter=100000, solver='saga'), clf__estimator__C=0.7, clf__estimator__l1_ratio=0.2, clf__estimator__penalty=elasticnet, tfidf_vec__max_features=20000, tfidf_vec__min_df=1e-05;, score=(train=0.814, test=0.706) total time=   1.2s\n",
            "[CV 1/5] END clf__estimator=LogisticRegression(max_iter=100000, solver='saga'), clf__estimator__C=0.7, clf__estimator__l1_ratio=0.2, clf__estimator__penalty=elasticnet, tfidf_vec__max_features=20000, tfidf_vec__min_df=1e-06;, score=(train=0.814, test=0.715) total time=   1.1s\n",
            "[CV 2/5] END clf__estimator=LogisticRegression(max_iter=100000, solver='saga'), clf__estimator__C=0.7, clf__estimator__l1_ratio=0.2, clf__estimator__penalty=elasticnet, tfidf_vec__max_features=20000, tfidf_vec__min_df=1e-06;, score=(train=0.823, test=0.730) total time=   0.9s\n",
            "[CV 3/5] END clf__estimator=LogisticRegression(max_iter=100000, solver='saga'), clf__estimator__C=0.7, clf__estimator__l1_ratio=0.2, clf__estimator__penalty=elasticnet, tfidf_vec__max_features=20000, tfidf_vec__min_df=1e-06;, score=(train=0.803, test=0.728) total time=   1.0s\n",
            "[CV 4/5] END clf__estimator=LogisticRegression(max_iter=100000, solver='saga'), clf__estimator__C=0.7, clf__estimator__l1_ratio=0.2, clf__estimator__penalty=elasticnet, tfidf_vec__max_features=20000, tfidf_vec__min_df=1e-06;, score=(train=0.809, test=0.712) total time=   1.0s\n",
            "[CV 5/5] END clf__estimator=LogisticRegression(max_iter=100000, solver='saga'), clf__estimator__C=0.7, clf__estimator__l1_ratio=0.2, clf__estimator__penalty=elasticnet, tfidf_vec__max_features=20000, tfidf_vec__min_df=1e-06;, score=(train=0.814, test=0.706) total time=   1.0s\n",
            "[CV 1/5] END clf__estimator=LogisticRegression(max_iter=100000, solver='saga'), clf__estimator__C=0.7, clf__estimator__l1_ratio=0.2, clf__estimator__penalty=elasticnet, tfidf_vec__max_features=20000, tfidf_vec__min_df=1;, score=(train=0.814, test=0.715) total time=   1.0s\n",
            "[CV 2/5] END clf__estimator=LogisticRegression(max_iter=100000, solver='saga'), clf__estimator__C=0.7, clf__estimator__l1_ratio=0.2, clf__estimator__penalty=elasticnet, tfidf_vec__max_features=20000, tfidf_vec__min_df=1;, score=(train=0.823, test=0.730) total time=   1.0s\n",
            "[CV 3/5] END clf__estimator=LogisticRegression(max_iter=100000, solver='saga'), clf__estimator__C=0.7, clf__estimator__l1_ratio=0.2, clf__estimator__penalty=elasticnet, tfidf_vec__max_features=20000, tfidf_vec__min_df=1;, score=(train=0.803, test=0.728) total time=   1.0s\n",
            "[CV 4/5] END clf__estimator=LogisticRegression(max_iter=100000, solver='saga'), clf__estimator__C=0.7, clf__estimator__l1_ratio=0.2, clf__estimator__penalty=elasticnet, tfidf_vec__max_features=20000, tfidf_vec__min_df=1;, score=(train=0.809, test=0.712) total time=   1.0s\n",
            "[CV 5/5] END clf__estimator=LogisticRegression(max_iter=100000, solver='saga'), clf__estimator__C=0.7, clf__estimator__l1_ratio=0.2, clf__estimator__penalty=elasticnet, tfidf_vec__max_features=20000, tfidf_vec__min_df=1;, score=(train=0.814, test=0.706) total time=   1.0s\n",
            "[CV 1/5] END clf__estimator=LogisticRegression(max_iter=100000, solver='saga'), clf__estimator__C=0.7, clf__estimator__l1_ratio=0.2, clf__estimator__penalty=elasticnet, tfidf_vec__max_features=30000, tfidf_vec__min_df=0.0001;, score=(train=0.815, test=0.716) total time=   1.0s\n",
            "[CV 2/5] END clf__estimator=LogisticRegression(max_iter=100000, solver='saga'), clf__estimator__C=0.7, clf__estimator__l1_ratio=0.2, clf__estimator__penalty=elasticnet, tfidf_vec__max_features=30000, tfidf_vec__min_df=0.0001;, score=(train=0.823, test=0.730) total time=   1.0s\n",
            "[CV 3/5] END clf__estimator=LogisticRegression(max_iter=100000, solver='saga'), clf__estimator__C=0.7, clf__estimator__l1_ratio=0.2, clf__estimator__penalty=elasticnet, tfidf_vec__max_features=30000, tfidf_vec__min_df=0.0001;, score=(train=0.803, test=0.728) total time=   1.0s\n",
            "[CV 4/5] END clf__estimator=LogisticRegression(max_iter=100000, solver='saga'), clf__estimator__C=0.7, clf__estimator__l1_ratio=0.2, clf__estimator__penalty=elasticnet, tfidf_vec__max_features=30000, tfidf_vec__min_df=0.0001;, score=(train=0.809, test=0.712) total time=   1.0s\n",
            "[CV 5/5] END clf__estimator=LogisticRegression(max_iter=100000, solver='saga'), clf__estimator__C=0.7, clf__estimator__l1_ratio=0.2, clf__estimator__penalty=elasticnet, tfidf_vec__max_features=30000, tfidf_vec__min_df=0.0001;, score=(train=0.814, test=0.706) total time=   1.0s\n",
            "[CV 1/5] END clf__estimator=LogisticRegression(max_iter=100000, solver='saga'), clf__estimator__C=0.7, clf__estimator__l1_ratio=0.2, clf__estimator__penalty=elasticnet, tfidf_vec__max_features=30000, tfidf_vec__min_df=1e-05;, score=(train=0.814, test=0.714) total time=   1.0s\n",
            "[CV 2/5] END clf__estimator=LogisticRegression(max_iter=100000, solver='saga'), clf__estimator__C=0.7, clf__estimator__l1_ratio=0.2, clf__estimator__penalty=elasticnet, tfidf_vec__max_features=30000, tfidf_vec__min_df=1e-05;, score=(train=0.824, test=0.730) total time=   1.0s\n",
            "[CV 3/5] END clf__estimator=LogisticRegression(max_iter=100000, solver='saga'), clf__estimator__C=0.7, clf__estimator__l1_ratio=0.2, clf__estimator__penalty=elasticnet, tfidf_vec__max_features=30000, tfidf_vec__min_df=1e-05;, score=(train=0.803, test=0.728) total time=   1.0s\n",
            "[CV 4/5] END clf__estimator=LogisticRegression(max_iter=100000, solver='saga'), clf__estimator__C=0.7, clf__estimator__l1_ratio=0.2, clf__estimator__penalty=elasticnet, tfidf_vec__max_features=30000, tfidf_vec__min_df=1e-05;, score=(train=0.809, test=0.712) total time=   1.0s\n",
            "[CV 5/5] END clf__estimator=LogisticRegression(max_iter=100000, solver='saga'), clf__estimator__C=0.7, clf__estimator__l1_ratio=0.2, clf__estimator__penalty=elasticnet, tfidf_vec__max_features=30000, tfidf_vec__min_df=1e-05;, score=(train=0.814, test=0.706) total time=   1.0s\n",
            "[CV 1/5] END clf__estimator=LogisticRegression(max_iter=100000, solver='saga'), clf__estimator__C=0.7, clf__estimator__l1_ratio=0.2, clf__estimator__penalty=elasticnet, tfidf_vec__max_features=30000, tfidf_vec__min_df=1e-06;, score=(train=0.814, test=0.715) total time=   1.0s\n",
            "[CV 2/5] END clf__estimator=LogisticRegression(max_iter=100000, solver='saga'), clf__estimator__C=0.7, clf__estimator__l1_ratio=0.2, clf__estimator__penalty=elasticnet, tfidf_vec__max_features=30000, tfidf_vec__min_df=1e-06;, score=(train=0.823, test=0.730) total time=   1.1s\n",
            "[CV 3/5] END clf__estimator=LogisticRegression(max_iter=100000, solver='saga'), clf__estimator__C=0.7, clf__estimator__l1_ratio=0.2, clf__estimator__penalty=elasticnet, tfidf_vec__max_features=30000, tfidf_vec__min_df=1e-06;, score=(train=0.803, test=0.728) total time=   1.0s\n",
            "[CV 4/5] END clf__estimator=LogisticRegression(max_iter=100000, solver='saga'), clf__estimator__C=0.7, clf__estimator__l1_ratio=0.2, clf__estimator__penalty=elasticnet, tfidf_vec__max_features=30000, tfidf_vec__min_df=1e-06;, score=(train=0.809, test=0.711) total time=   1.0s\n",
            "[CV 5/5] END clf__estimator=LogisticRegression(max_iter=100000, solver='saga'), clf__estimator__C=0.7, clf__estimator__l1_ratio=0.2, clf__estimator__penalty=elasticnet, tfidf_vec__max_features=30000, tfidf_vec__min_df=1e-06;, score=(train=0.814, test=0.706) total time=   1.0s\n",
            "[CV 1/5] END clf__estimator=LogisticRegression(max_iter=100000, solver='saga'), clf__estimator__C=0.7, clf__estimator__l1_ratio=0.2, clf__estimator__penalty=elasticnet, tfidf_vec__max_features=30000, tfidf_vec__min_df=1;, score=(train=0.815, test=0.716) total time=   1.0s\n",
            "[CV 2/5] END clf__estimator=LogisticRegression(max_iter=100000, solver='saga'), clf__estimator__C=0.7, clf__estimator__l1_ratio=0.2, clf__estimator__penalty=elasticnet, tfidf_vec__max_features=30000, tfidf_vec__min_df=1;, score=(train=0.823, test=0.730) total time=   1.0s\n",
            "[CV 3/5] END clf__estimator=LogisticRegression(max_iter=100000, solver='saga'), clf__estimator__C=0.7, clf__estimator__l1_ratio=0.2, clf__estimator__penalty=elasticnet, tfidf_vec__max_features=30000, tfidf_vec__min_df=1;, score=(train=0.802, test=0.728) total time=   1.0s\n",
            "[CV 4/5] END clf__estimator=LogisticRegression(max_iter=100000, solver='saga'), clf__estimator__C=0.7, clf__estimator__l1_ratio=0.2, clf__estimator__penalty=elasticnet, tfidf_vec__max_features=30000, tfidf_vec__min_df=1;, score=(train=0.809, test=0.711) total time=   1.0s\n",
            "[CV 5/5] END clf__estimator=LogisticRegression(max_iter=100000, solver='saga'), clf__estimator__C=0.7, clf__estimator__l1_ratio=0.2, clf__estimator__penalty=elasticnet, tfidf_vec__max_features=30000, tfidf_vec__min_df=1;, score=(train=0.814, test=0.706) total time=   1.1s\n",
            "[CV 1/5] END clf__estimator=LogisticRegression(max_iter=100000, solver='saga'), clf__estimator__C=0.7, clf__estimator__l1_ratio=0.2, clf__estimator__penalty=elasticnet, tfidf_vec__max_features=50000, tfidf_vec__min_df=0.0001;, score=(train=0.815, test=0.716) total time=   1.0s\n",
            "[CV 2/5] END clf__estimator=LogisticRegression(max_iter=100000, solver='saga'), clf__estimator__C=0.7, clf__estimator__l1_ratio=0.2, clf__estimator__penalty=elasticnet, tfidf_vec__max_features=50000, tfidf_vec__min_df=0.0001;, score=(train=0.823, test=0.730) total time=   1.0s\n",
            "[CV 3/5] END clf__estimator=LogisticRegression(max_iter=100000, solver='saga'), clf__estimator__C=0.7, clf__estimator__l1_ratio=0.2, clf__estimator__penalty=elasticnet, tfidf_vec__max_features=50000, tfidf_vec__min_df=0.0001;, score=(train=0.802, test=0.728) total time=   1.0s\n",
            "[CV 4/5] END clf__estimator=LogisticRegression(max_iter=100000, solver='saga'), clf__estimator__C=0.7, clf__estimator__l1_ratio=0.2, clf__estimator__penalty=elasticnet, tfidf_vec__max_features=50000, tfidf_vec__min_df=0.0001;, score=(train=0.809, test=0.712) total time=   1.0s\n",
            "[CV 5/5] END clf__estimator=LogisticRegression(max_iter=100000, solver='saga'), clf__estimator__C=0.7, clf__estimator__l1_ratio=0.2, clf__estimator__penalty=elasticnet, tfidf_vec__max_features=50000, tfidf_vec__min_df=0.0001;, score=(train=0.814, test=0.706) total time=   1.1s\n",
            "[CV 1/5] END clf__estimator=LogisticRegression(max_iter=100000, solver='saga'), clf__estimator__C=0.7, clf__estimator__l1_ratio=0.2, clf__estimator__penalty=elasticnet, tfidf_vec__max_features=50000, tfidf_vec__min_df=1e-05;, score=(train=0.814, test=0.715) total time=   1.1s\n",
            "[CV 2/5] END clf__estimator=LogisticRegression(max_iter=100000, solver='saga'), clf__estimator__C=0.7, clf__estimator__l1_ratio=0.2, clf__estimator__penalty=elasticnet, tfidf_vec__max_features=50000, tfidf_vec__min_df=1e-05;, score=(train=0.824, test=0.730) total time=   1.0s\n",
            "[CV 3/5] END clf__estimator=LogisticRegression(max_iter=100000, solver='saga'), clf__estimator__C=0.7, clf__estimator__l1_ratio=0.2, clf__estimator__penalty=elasticnet, tfidf_vec__max_features=50000, tfidf_vec__min_df=1e-05;, score=(train=0.803, test=0.728) total time=   0.9s\n",
            "[CV 4/5] END clf__estimator=LogisticRegression(max_iter=100000, solver='saga'), clf__estimator__C=0.7, clf__estimator__l1_ratio=0.2, clf__estimator__penalty=elasticnet, tfidf_vec__max_features=50000, tfidf_vec__min_df=1e-05;, score=(train=0.809, test=0.711) total time=   1.0s\n",
            "[CV 5/5] END clf__estimator=LogisticRegression(max_iter=100000, solver='saga'), clf__estimator__C=0.7, clf__estimator__l1_ratio=0.2, clf__estimator__penalty=elasticnet, tfidf_vec__max_features=50000, tfidf_vec__min_df=1e-05;, score=(train=0.814, test=0.706) total time=   1.0s\n",
            "[CV 1/5] END clf__estimator=LogisticRegression(max_iter=100000, solver='saga'), clf__estimator__C=0.7, clf__estimator__l1_ratio=0.2, clf__estimator__penalty=elasticnet, tfidf_vec__max_features=50000, tfidf_vec__min_df=1e-06;, score=(train=0.815, test=0.716) total time=   0.9s\n",
            "[CV 2/5] END clf__estimator=LogisticRegression(max_iter=100000, solver='saga'), clf__estimator__C=0.7, clf__estimator__l1_ratio=0.2, clf__estimator__penalty=elasticnet, tfidf_vec__max_features=50000, tfidf_vec__min_df=1e-06;, score=(train=0.823, test=0.730) total time=   0.9s\n",
            "[CV 3/5] END clf__estimator=LogisticRegression(max_iter=100000, solver='saga'), clf__estimator__C=0.7, clf__estimator__l1_ratio=0.2, clf__estimator__penalty=elasticnet, tfidf_vec__max_features=50000, tfidf_vec__min_df=1e-06;, score=(train=0.803, test=0.728) total time=   1.1s\n",
            "[CV 4/5] END clf__estimator=LogisticRegression(max_iter=100000, solver='saga'), clf__estimator__C=0.7, clf__estimator__l1_ratio=0.2, clf__estimator__penalty=elasticnet, tfidf_vec__max_features=50000, tfidf_vec__min_df=1e-06;, score=(train=0.809, test=0.711) total time=   1.0s\n",
            "[CV 5/5] END clf__estimator=LogisticRegression(max_iter=100000, solver='saga'), clf__estimator__C=0.7, clf__estimator__l1_ratio=0.2, clf__estimator__penalty=elasticnet, tfidf_vec__max_features=50000, tfidf_vec__min_df=1e-06;, score=(train=0.814, test=0.706) total time=   1.0s\n",
            "[CV 1/5] END clf__estimator=LogisticRegression(max_iter=100000, solver='saga'), clf__estimator__C=0.7, clf__estimator__l1_ratio=0.2, clf__estimator__penalty=elasticnet, tfidf_vec__max_features=50000, tfidf_vec__min_df=1;, score=(train=0.815, test=0.716) total time=   1.1s\n",
            "[CV 2/5] END clf__estimator=LogisticRegression(max_iter=100000, solver='saga'), clf__estimator__C=0.7, clf__estimator__l1_ratio=0.2, clf__estimator__penalty=elasticnet, tfidf_vec__max_features=50000, tfidf_vec__min_df=1;, score=(train=0.824, test=0.730) total time=   1.0s\n",
            "[CV 3/5] END clf__estimator=LogisticRegression(max_iter=100000, solver='saga'), clf__estimator__C=0.7, clf__estimator__l1_ratio=0.2, clf__estimator__penalty=elasticnet, tfidf_vec__max_features=50000, tfidf_vec__min_df=1;, score=(train=0.802, test=0.728) total time=   1.1s\n",
            "[CV 4/5] END clf__estimator=LogisticRegression(max_iter=100000, solver='saga'), clf__estimator__C=0.7, clf__estimator__l1_ratio=0.2, clf__estimator__penalty=elasticnet, tfidf_vec__max_features=50000, tfidf_vec__min_df=1;, score=(train=0.809, test=0.711) total time=   1.0s\n",
            "[CV 5/5] END clf__estimator=LogisticRegression(max_iter=100000, solver='saga'), clf__estimator__C=0.7, clf__estimator__l1_ratio=0.2, clf__estimator__penalty=elasticnet, tfidf_vec__max_features=50000, tfidf_vec__min_df=1;, score=(train=0.814, test=0.706) total time=   1.0s\n",
            "[CV 1/5] END clf__estimator=LogisticRegression(max_iter=100000, solver='saga'), clf__estimator__C=0.7, clf__estimator__l1_ratio=0.8, clf__estimator__penalty=elasticnet, tfidf_vec__max_features=None, tfidf_vec__min_df=0.0001;, score=(train=0.759, test=0.721) total time=   0.2s\n",
            "[CV 2/5] END clf__estimator=LogisticRegression(max_iter=100000, solver='saga'), clf__estimator__C=0.7, clf__estimator__l1_ratio=0.8, clf__estimator__penalty=elasticnet, tfidf_vec__max_features=None, tfidf_vec__min_df=0.0001;, score=(train=0.763, test=0.713) total time=   0.2s\n",
            "[CV 3/5] END clf__estimator=LogisticRegression(max_iter=100000, solver='saga'), clf__estimator__C=0.7, clf__estimator__l1_ratio=0.8, clf__estimator__penalty=elasticnet, tfidf_vec__max_features=None, tfidf_vec__min_df=0.0001;, score=(train=0.748, test=0.728) total time=   0.2s\n",
            "[CV 4/5] END clf__estimator=LogisticRegression(max_iter=100000, solver='saga'), clf__estimator__C=0.7, clf__estimator__l1_ratio=0.8, clf__estimator__penalty=elasticnet, tfidf_vec__max_features=None, tfidf_vec__min_df=0.0001;, score=(train=0.769, test=0.699) total time=   0.2s\n",
            "[CV 5/5] END clf__estimator=LogisticRegression(max_iter=100000, solver='saga'), clf__estimator__C=0.7, clf__estimator__l1_ratio=0.8, clf__estimator__penalty=elasticnet, tfidf_vec__max_features=None, tfidf_vec__min_df=0.0001;, score=(train=0.750, test=0.715) total time=   0.2s\n",
            "[CV 1/5] END clf__estimator=LogisticRegression(max_iter=100000, solver='saga'), clf__estimator__C=0.7, clf__estimator__l1_ratio=0.8, clf__estimator__penalty=elasticnet, tfidf_vec__max_features=None, tfidf_vec__min_df=1e-05;, score=(train=0.759, test=0.721) total time=   0.2s\n",
            "[CV 2/5] END clf__estimator=LogisticRegression(max_iter=100000, solver='saga'), clf__estimator__C=0.7, clf__estimator__l1_ratio=0.8, clf__estimator__penalty=elasticnet, tfidf_vec__max_features=None, tfidf_vec__min_df=1e-05;, score=(train=0.763, test=0.713) total time=   0.2s\n",
            "[CV 3/5] END clf__estimator=LogisticRegression(max_iter=100000, solver='saga'), clf__estimator__C=0.7, clf__estimator__l1_ratio=0.8, clf__estimator__penalty=elasticnet, tfidf_vec__max_features=None, tfidf_vec__min_df=1e-05;, score=(train=0.748, test=0.728) total time=   0.2s\n",
            "[CV 4/5] END clf__estimator=LogisticRegression(max_iter=100000, solver='saga'), clf__estimator__C=0.7, clf__estimator__l1_ratio=0.8, clf__estimator__penalty=elasticnet, tfidf_vec__max_features=None, tfidf_vec__min_df=1e-05;, score=(train=0.769, test=0.699) total time=   0.2s\n",
            "[CV 5/5] END clf__estimator=LogisticRegression(max_iter=100000, solver='saga'), clf__estimator__C=0.7, clf__estimator__l1_ratio=0.8, clf__estimator__penalty=elasticnet, tfidf_vec__max_features=None, tfidf_vec__min_df=1e-05;, score=(train=0.750, test=0.715) total time=   0.2s\n",
            "[CV 1/5] END clf__estimator=LogisticRegression(max_iter=100000, solver='saga'), clf__estimator__C=0.7, clf__estimator__l1_ratio=0.8, clf__estimator__penalty=elasticnet, tfidf_vec__max_features=None, tfidf_vec__min_df=1e-06;, score=(train=0.759, test=0.721) total time=   0.2s\n",
            "[CV 2/5] END clf__estimator=LogisticRegression(max_iter=100000, solver='saga'), clf__estimator__C=0.7, clf__estimator__l1_ratio=0.8, clf__estimator__penalty=elasticnet, tfidf_vec__max_features=None, tfidf_vec__min_df=1e-06;, score=(train=0.763, test=0.713) total time=   0.2s\n",
            "[CV 3/5] END clf__estimator=LogisticRegression(max_iter=100000, solver='saga'), clf__estimator__C=0.7, clf__estimator__l1_ratio=0.8, clf__estimator__penalty=elasticnet, tfidf_vec__max_features=None, tfidf_vec__min_df=1e-06;, score=(train=0.748, test=0.728) total time=   0.2s\n",
            "[CV 4/5] END clf__estimator=LogisticRegression(max_iter=100000, solver='saga'), clf__estimator__C=0.7, clf__estimator__l1_ratio=0.8, clf__estimator__penalty=elasticnet, tfidf_vec__max_features=None, tfidf_vec__min_df=1e-06;, score=(train=0.769, test=0.699) total time=   0.2s\n",
            "[CV 5/5] END clf__estimator=LogisticRegression(max_iter=100000, solver='saga'), clf__estimator__C=0.7, clf__estimator__l1_ratio=0.8, clf__estimator__penalty=elasticnet, tfidf_vec__max_features=None, tfidf_vec__min_df=1e-06;, score=(train=0.751, test=0.715) total time=   0.2s\n",
            "[CV 1/5] END clf__estimator=LogisticRegression(max_iter=100000, solver='saga'), clf__estimator__C=0.7, clf__estimator__l1_ratio=0.8, clf__estimator__penalty=elasticnet, tfidf_vec__max_features=None, tfidf_vec__min_df=1;, score=(train=0.759, test=0.721) total time=   0.2s\n",
            "[CV 2/5] END clf__estimator=LogisticRegression(max_iter=100000, solver='saga'), clf__estimator__C=0.7, clf__estimator__l1_ratio=0.8, clf__estimator__penalty=elasticnet, tfidf_vec__max_features=None, tfidf_vec__min_df=1;, score=(train=0.763, test=0.713) total time=   0.2s\n",
            "[CV 3/5] END clf__estimator=LogisticRegression(max_iter=100000, solver='saga'), clf__estimator__C=0.7, clf__estimator__l1_ratio=0.8, clf__estimator__penalty=elasticnet, tfidf_vec__max_features=None, tfidf_vec__min_df=1;, score=(train=0.748, test=0.728) total time=   0.2s\n",
            "[CV 4/5] END clf__estimator=LogisticRegression(max_iter=100000, solver='saga'), clf__estimator__C=0.7, clf__estimator__l1_ratio=0.8, clf__estimator__penalty=elasticnet, tfidf_vec__max_features=None, tfidf_vec__min_df=1;, score=(train=0.769, test=0.699) total time=   0.2s\n",
            "[CV 5/5] END clf__estimator=LogisticRegression(max_iter=100000, solver='saga'), clf__estimator__C=0.7, clf__estimator__l1_ratio=0.8, clf__estimator__penalty=elasticnet, tfidf_vec__max_features=None, tfidf_vec__min_df=1;, score=(train=0.750, test=0.715) total time=   0.2s\n",
            "[CV 1/5] END clf__estimator=LogisticRegression(max_iter=100000, solver='saga'), clf__estimator__C=0.7, clf__estimator__l1_ratio=0.8, clf__estimator__penalty=elasticnet, tfidf_vec__max_features=10000, tfidf_vec__min_df=0.0001;, score=(train=0.759, test=0.721) total time=   0.2s\n",
            "[CV 2/5] END clf__estimator=LogisticRegression(max_iter=100000, solver='saga'), clf__estimator__C=0.7, clf__estimator__l1_ratio=0.8, clf__estimator__penalty=elasticnet, tfidf_vec__max_features=10000, tfidf_vec__min_df=0.0001;, score=(train=0.763, test=0.713) total time=   0.2s\n",
            "[CV 3/5] END clf__estimator=LogisticRegression(max_iter=100000, solver='saga'), clf__estimator__C=0.7, clf__estimator__l1_ratio=0.8, clf__estimator__penalty=elasticnet, tfidf_vec__max_features=10000, tfidf_vec__min_df=0.0001;, score=(train=0.748, test=0.728) total time=   0.2s\n",
            "[CV 4/5] END clf__estimator=LogisticRegression(max_iter=100000, solver='saga'), clf__estimator__C=0.7, clf__estimator__l1_ratio=0.8, clf__estimator__penalty=elasticnet, tfidf_vec__max_features=10000, tfidf_vec__min_df=0.0001;, score=(train=0.769, test=0.699) total time=   0.2s\n",
            "[CV 5/5] END clf__estimator=LogisticRegression(max_iter=100000, solver='saga'), clf__estimator__C=0.7, clf__estimator__l1_ratio=0.8, clf__estimator__penalty=elasticnet, tfidf_vec__max_features=10000, tfidf_vec__min_df=0.0001;, score=(train=0.750, test=0.715) total time=   0.2s\n",
            "[CV 1/5] END clf__estimator=LogisticRegression(max_iter=100000, solver='saga'), clf__estimator__C=0.7, clf__estimator__l1_ratio=0.8, clf__estimator__penalty=elasticnet, tfidf_vec__max_features=10000, tfidf_vec__min_df=1e-05;, score=(train=0.759, test=0.721) total time=   0.2s\n",
            "[CV 2/5] END clf__estimator=LogisticRegression(max_iter=100000, solver='saga'), clf__estimator__C=0.7, clf__estimator__l1_ratio=0.8, clf__estimator__penalty=elasticnet, tfidf_vec__max_features=10000, tfidf_vec__min_df=1e-05;, score=(train=0.763, test=0.713) total time=   0.2s\n",
            "[CV 3/5] END clf__estimator=LogisticRegression(max_iter=100000, solver='saga'), clf__estimator__C=0.7, clf__estimator__l1_ratio=0.8, clf__estimator__penalty=elasticnet, tfidf_vec__max_features=10000, tfidf_vec__min_df=1e-05;, score=(train=0.748, test=0.728) total time=   0.2s\n",
            "[CV 4/5] END clf__estimator=LogisticRegression(max_iter=100000, solver='saga'), clf__estimator__C=0.7, clf__estimator__l1_ratio=0.8, clf__estimator__penalty=elasticnet, tfidf_vec__max_features=10000, tfidf_vec__min_df=1e-05;, score=(train=0.769, test=0.699) total time=   0.2s\n",
            "[CV 5/5] END clf__estimator=LogisticRegression(max_iter=100000, solver='saga'), clf__estimator__C=0.7, clf__estimator__l1_ratio=0.8, clf__estimator__penalty=elasticnet, tfidf_vec__max_features=10000, tfidf_vec__min_df=1e-05;, score=(train=0.750, test=0.715) total time=   0.2s\n",
            "[CV 1/5] END clf__estimator=LogisticRegression(max_iter=100000, solver='saga'), clf__estimator__C=0.7, clf__estimator__l1_ratio=0.8, clf__estimator__penalty=elasticnet, tfidf_vec__max_features=10000, tfidf_vec__min_df=1e-06;, score=(train=0.759, test=0.721) total time=   0.3s\n",
            "[CV 2/5] END clf__estimator=LogisticRegression(max_iter=100000, solver='saga'), clf__estimator__C=0.7, clf__estimator__l1_ratio=0.8, clf__estimator__penalty=elasticnet, tfidf_vec__max_features=10000, tfidf_vec__min_df=1e-06;, score=(train=0.763, test=0.713) total time=   0.2s\n",
            "[CV 3/5] END clf__estimator=LogisticRegression(max_iter=100000, solver='saga'), clf__estimator__C=0.7, clf__estimator__l1_ratio=0.8, clf__estimator__penalty=elasticnet, tfidf_vec__max_features=10000, tfidf_vec__min_df=1e-06;, score=(train=0.748, test=0.728) total time=   0.2s\n",
            "[CV 4/5] END clf__estimator=LogisticRegression(max_iter=100000, solver='saga'), clf__estimator__C=0.7, clf__estimator__l1_ratio=0.8, clf__estimator__penalty=elasticnet, tfidf_vec__max_features=10000, tfidf_vec__min_df=1e-06;, score=(train=0.769, test=0.699) total time=   0.2s\n",
            "[CV 5/5] END clf__estimator=LogisticRegression(max_iter=100000, solver='saga'), clf__estimator__C=0.7, clf__estimator__l1_ratio=0.8, clf__estimator__penalty=elasticnet, tfidf_vec__max_features=10000, tfidf_vec__min_df=1e-06;, score=(train=0.750, test=0.715) total time=   0.2s\n",
            "[CV 1/5] END clf__estimator=LogisticRegression(max_iter=100000, solver='saga'), clf__estimator__C=0.7, clf__estimator__l1_ratio=0.8, clf__estimator__penalty=elasticnet, tfidf_vec__max_features=10000, tfidf_vec__min_df=1;, score=(train=0.759, test=0.721) total time=   0.2s\n",
            "[CV 2/5] END clf__estimator=LogisticRegression(max_iter=100000, solver='saga'), clf__estimator__C=0.7, clf__estimator__l1_ratio=0.8, clf__estimator__penalty=elasticnet, tfidf_vec__max_features=10000, tfidf_vec__min_df=1;, score=(train=0.763, test=0.713) total time=   0.2s\n",
            "[CV 3/5] END clf__estimator=LogisticRegression(max_iter=100000, solver='saga'), clf__estimator__C=0.7, clf__estimator__l1_ratio=0.8, clf__estimator__penalty=elasticnet, tfidf_vec__max_features=10000, tfidf_vec__min_df=1;, score=(train=0.748, test=0.728) total time=   0.2s\n",
            "[CV 4/5] END clf__estimator=LogisticRegression(max_iter=100000, solver='saga'), clf__estimator__C=0.7, clf__estimator__l1_ratio=0.8, clf__estimator__penalty=elasticnet, tfidf_vec__max_features=10000, tfidf_vec__min_df=1;, score=(train=0.769, test=0.698) total time=   0.2s\n",
            "[CV 5/5] END clf__estimator=LogisticRegression(max_iter=100000, solver='saga'), clf__estimator__C=0.7, clf__estimator__l1_ratio=0.8, clf__estimator__penalty=elasticnet, tfidf_vec__max_features=10000, tfidf_vec__min_df=1;, score=(train=0.750, test=0.715) total time=   0.2s\n",
            "[CV 1/5] END clf__estimator=LogisticRegression(max_iter=100000, solver='saga'), clf__estimator__C=0.7, clf__estimator__l1_ratio=0.8, clf__estimator__penalty=elasticnet, tfidf_vec__max_features=20000, tfidf_vec__min_df=0.0001;, score=(train=0.759, test=0.721) total time=   0.3s\n",
            "[CV 2/5] END clf__estimator=LogisticRegression(max_iter=100000, solver='saga'), clf__estimator__C=0.7, clf__estimator__l1_ratio=0.8, clf__estimator__penalty=elasticnet, tfidf_vec__max_features=20000, tfidf_vec__min_df=0.0001;, score=(train=0.763, test=0.714) total time=   0.2s\n",
            "[CV 3/5] END clf__estimator=LogisticRegression(max_iter=100000, solver='saga'), clf__estimator__C=0.7, clf__estimator__l1_ratio=0.8, clf__estimator__penalty=elasticnet, tfidf_vec__max_features=20000, tfidf_vec__min_df=0.0001;, score=(train=0.748, test=0.728) total time=   0.2s\n",
            "[CV 4/5] END clf__estimator=LogisticRegression(max_iter=100000, solver='saga'), clf__estimator__C=0.7, clf__estimator__l1_ratio=0.8, clf__estimator__penalty=elasticnet, tfidf_vec__max_features=20000, tfidf_vec__min_df=0.0001;, score=(train=0.769, test=0.698) total time=   0.2s\n",
            "[CV 5/5] END clf__estimator=LogisticRegression(max_iter=100000, solver='saga'), clf__estimator__C=0.7, clf__estimator__l1_ratio=0.8, clf__estimator__penalty=elasticnet, tfidf_vec__max_features=20000, tfidf_vec__min_df=0.0001;, score=(train=0.750, test=0.715) total time=   0.3s\n",
            "[CV 1/5] END clf__estimator=LogisticRegression(max_iter=100000, solver='saga'), clf__estimator__C=0.7, clf__estimator__l1_ratio=0.8, clf__estimator__penalty=elasticnet, tfidf_vec__max_features=20000, tfidf_vec__min_df=1e-05;, score=(train=0.759, test=0.721) total time=   0.2s\n",
            "[CV 2/5] END clf__estimator=LogisticRegression(max_iter=100000, solver='saga'), clf__estimator__C=0.7, clf__estimator__l1_ratio=0.8, clf__estimator__penalty=elasticnet, tfidf_vec__max_features=20000, tfidf_vec__min_df=1e-05;, score=(train=0.763, test=0.713) total time=   0.2s\n",
            "[CV 3/5] END clf__estimator=LogisticRegression(max_iter=100000, solver='saga'), clf__estimator__C=0.7, clf__estimator__l1_ratio=0.8, clf__estimator__penalty=elasticnet, tfidf_vec__max_features=20000, tfidf_vec__min_df=1e-05;, score=(train=0.748, test=0.728) total time=   0.2s\n",
            "[CV 4/5] END clf__estimator=LogisticRegression(max_iter=100000, solver='saga'), clf__estimator__C=0.7, clf__estimator__l1_ratio=0.8, clf__estimator__penalty=elasticnet, tfidf_vec__max_features=20000, tfidf_vec__min_df=1e-05;, score=(train=0.769, test=0.698) total time=   0.2s\n",
            "[CV 5/5] END clf__estimator=LogisticRegression(max_iter=100000, solver='saga'), clf__estimator__C=0.7, clf__estimator__l1_ratio=0.8, clf__estimator__penalty=elasticnet, tfidf_vec__max_features=20000, tfidf_vec__min_df=1e-05;, score=(train=0.750, test=0.715) total time=   0.2s\n",
            "[CV 1/5] END clf__estimator=LogisticRegression(max_iter=100000, solver='saga'), clf__estimator__C=0.7, clf__estimator__l1_ratio=0.8, clf__estimator__penalty=elasticnet, tfidf_vec__max_features=20000, tfidf_vec__min_df=1e-06;, score=(train=0.759, test=0.721) total time=   0.2s\n",
            "[CV 2/5] END clf__estimator=LogisticRegression(max_iter=100000, solver='saga'), clf__estimator__C=0.7, clf__estimator__l1_ratio=0.8, clf__estimator__penalty=elasticnet, tfidf_vec__max_features=20000, tfidf_vec__min_df=1e-06;, score=(train=0.763, test=0.713) total time=   0.2s\n",
            "[CV 3/5] END clf__estimator=LogisticRegression(max_iter=100000, solver='saga'), clf__estimator__C=0.7, clf__estimator__l1_ratio=0.8, clf__estimator__penalty=elasticnet, tfidf_vec__max_features=20000, tfidf_vec__min_df=1e-06;, score=(train=0.748, test=0.728) total time=   0.2s\n",
            "[CV 4/5] END clf__estimator=LogisticRegression(max_iter=100000, solver='saga'), clf__estimator__C=0.7, clf__estimator__l1_ratio=0.8, clf__estimator__penalty=elasticnet, tfidf_vec__max_features=20000, tfidf_vec__min_df=1e-06;, score=(train=0.769, test=0.699) total time=   0.2s\n",
            "[CV 5/5] END clf__estimator=LogisticRegression(max_iter=100000, solver='saga'), clf__estimator__C=0.7, clf__estimator__l1_ratio=0.8, clf__estimator__penalty=elasticnet, tfidf_vec__max_features=20000, tfidf_vec__min_df=1e-06;, score=(train=0.750, test=0.715) total time=   0.2s\n",
            "[CV 1/5] END clf__estimator=LogisticRegression(max_iter=100000, solver='saga'), clf__estimator__C=0.7, clf__estimator__l1_ratio=0.8, clf__estimator__penalty=elasticnet, tfidf_vec__max_features=20000, tfidf_vec__min_df=1;, score=(train=0.759, test=0.721) total time=   0.2s\n",
            "[CV 2/5] END clf__estimator=LogisticRegression(max_iter=100000, solver='saga'), clf__estimator__C=0.7, clf__estimator__l1_ratio=0.8, clf__estimator__penalty=elasticnet, tfidf_vec__max_features=20000, tfidf_vec__min_df=1;, score=(train=0.763, test=0.713) total time=   0.2s\n",
            "[CV 3/5] END clf__estimator=LogisticRegression(max_iter=100000, solver='saga'), clf__estimator__C=0.7, clf__estimator__l1_ratio=0.8, clf__estimator__penalty=elasticnet, tfidf_vec__max_features=20000, tfidf_vec__min_df=1;, score=(train=0.748, test=0.728) total time=   0.2s\n",
            "[CV 4/5] END clf__estimator=LogisticRegression(max_iter=100000, solver='saga'), clf__estimator__C=0.7, clf__estimator__l1_ratio=0.8, clf__estimator__penalty=elasticnet, tfidf_vec__max_features=20000, tfidf_vec__min_df=1;, score=(train=0.769, test=0.699) total time=   0.2s\n",
            "[CV 5/5] END clf__estimator=LogisticRegression(max_iter=100000, solver='saga'), clf__estimator__C=0.7, clf__estimator__l1_ratio=0.8, clf__estimator__penalty=elasticnet, tfidf_vec__max_features=20000, tfidf_vec__min_df=1;, score=(train=0.750, test=0.715) total time=   0.2s\n",
            "[CV 1/5] END clf__estimator=LogisticRegression(max_iter=100000, solver='saga'), clf__estimator__C=0.7, clf__estimator__l1_ratio=0.8, clf__estimator__penalty=elasticnet, tfidf_vec__max_features=30000, tfidf_vec__min_df=0.0001;, score=(train=0.759, test=0.721) total time=   0.2s\n",
            "[CV 2/5] END clf__estimator=LogisticRegression(max_iter=100000, solver='saga'), clf__estimator__C=0.7, clf__estimator__l1_ratio=0.8, clf__estimator__penalty=elasticnet, tfidf_vec__max_features=30000, tfidf_vec__min_df=0.0001;, score=(train=0.763, test=0.713) total time=   0.2s\n",
            "[CV 3/5] END clf__estimator=LogisticRegression(max_iter=100000, solver='saga'), clf__estimator__C=0.7, clf__estimator__l1_ratio=0.8, clf__estimator__penalty=elasticnet, tfidf_vec__max_features=30000, tfidf_vec__min_df=0.0001;, score=(train=0.748, test=0.728) total time=   0.2s\n",
            "[CV 4/5] END clf__estimator=LogisticRegression(max_iter=100000, solver='saga'), clf__estimator__C=0.7, clf__estimator__l1_ratio=0.8, clf__estimator__penalty=elasticnet, tfidf_vec__max_features=30000, tfidf_vec__min_df=0.0001;, score=(train=0.769, test=0.699) total time=   0.2s\n",
            "[CV 5/5] END clf__estimator=LogisticRegression(max_iter=100000, solver='saga'), clf__estimator__C=0.7, clf__estimator__l1_ratio=0.8, clf__estimator__penalty=elasticnet, tfidf_vec__max_features=30000, tfidf_vec__min_df=0.0001;, score=(train=0.750, test=0.715) total time=   0.2s\n",
            "[CV 1/5] END clf__estimator=LogisticRegression(max_iter=100000, solver='saga'), clf__estimator__C=0.7, clf__estimator__l1_ratio=0.8, clf__estimator__penalty=elasticnet, tfidf_vec__max_features=30000, tfidf_vec__min_df=1e-05;, score=(train=0.759, test=0.721) total time=   0.2s\n",
            "[CV 2/5] END clf__estimator=LogisticRegression(max_iter=100000, solver='saga'), clf__estimator__C=0.7, clf__estimator__l1_ratio=0.8, clf__estimator__penalty=elasticnet, tfidf_vec__max_features=30000, tfidf_vec__min_df=1e-05;, score=(train=0.763, test=0.713) total time=   0.2s\n",
            "[CV 3/5] END clf__estimator=LogisticRegression(max_iter=100000, solver='saga'), clf__estimator__C=0.7, clf__estimator__l1_ratio=0.8, clf__estimator__penalty=elasticnet, tfidf_vec__max_features=30000, tfidf_vec__min_df=1e-05;, score=(train=0.748, test=0.728) total time=   0.2s\n",
            "[CV 4/5] END clf__estimator=LogisticRegression(max_iter=100000, solver='saga'), clf__estimator__C=0.7, clf__estimator__l1_ratio=0.8, clf__estimator__penalty=elasticnet, tfidf_vec__max_features=30000, tfidf_vec__min_df=1e-05;, score=(train=0.769, test=0.698) total time=   0.2s\n",
            "[CV 5/5] END clf__estimator=LogisticRegression(max_iter=100000, solver='saga'), clf__estimator__C=0.7, clf__estimator__l1_ratio=0.8, clf__estimator__penalty=elasticnet, tfidf_vec__max_features=30000, tfidf_vec__min_df=1e-05;, score=(train=0.750, test=0.715) total time=   0.2s\n",
            "[CV 1/5] END clf__estimator=LogisticRegression(max_iter=100000, solver='saga'), clf__estimator__C=0.7, clf__estimator__l1_ratio=0.8, clf__estimator__penalty=elasticnet, tfidf_vec__max_features=30000, tfidf_vec__min_df=1e-06;, score=(train=0.759, test=0.721) total time=   0.3s\n",
            "[CV 2/5] END clf__estimator=LogisticRegression(max_iter=100000, solver='saga'), clf__estimator__C=0.7, clf__estimator__l1_ratio=0.8, clf__estimator__penalty=elasticnet, tfidf_vec__max_features=30000, tfidf_vec__min_df=1e-06;, score=(train=0.763, test=0.713) total time=   0.3s\n",
            "[CV 3/5] END clf__estimator=LogisticRegression(max_iter=100000, solver='saga'), clf__estimator__C=0.7, clf__estimator__l1_ratio=0.8, clf__estimator__penalty=elasticnet, tfidf_vec__max_features=30000, tfidf_vec__min_df=1e-06;, score=(train=0.748, test=0.728) total time=   0.2s\n",
            "[CV 4/5] END clf__estimator=LogisticRegression(max_iter=100000, solver='saga'), clf__estimator__C=0.7, clf__estimator__l1_ratio=0.8, clf__estimator__penalty=elasticnet, tfidf_vec__max_features=30000, tfidf_vec__min_df=1e-06;, score=(train=0.769, test=0.699) total time=   0.2s\n",
            "[CV 5/5] END clf__estimator=LogisticRegression(max_iter=100000, solver='saga'), clf__estimator__C=0.7, clf__estimator__l1_ratio=0.8, clf__estimator__penalty=elasticnet, tfidf_vec__max_features=30000, tfidf_vec__min_df=1e-06;, score=(train=0.750, test=0.715) total time=   0.2s\n",
            "[CV 1/5] END clf__estimator=LogisticRegression(max_iter=100000, solver='saga'), clf__estimator__C=0.7, clf__estimator__l1_ratio=0.8, clf__estimator__penalty=elasticnet, tfidf_vec__max_features=30000, tfidf_vec__min_df=1;, score=(train=0.759, test=0.721) total time=   0.2s\n",
            "[CV 2/5] END clf__estimator=LogisticRegression(max_iter=100000, solver='saga'), clf__estimator__C=0.7, clf__estimator__l1_ratio=0.8, clf__estimator__penalty=elasticnet, tfidf_vec__max_features=30000, tfidf_vec__min_df=1;, score=(train=0.763, test=0.713) total time=   0.2s\n",
            "[CV 3/5] END clf__estimator=LogisticRegression(max_iter=100000, solver='saga'), clf__estimator__C=0.7, clf__estimator__l1_ratio=0.8, clf__estimator__penalty=elasticnet, tfidf_vec__max_features=30000, tfidf_vec__min_df=1;, score=(train=0.748, test=0.728) total time=   0.2s\n",
            "[CV 4/5] END clf__estimator=LogisticRegression(max_iter=100000, solver='saga'), clf__estimator__C=0.7, clf__estimator__l1_ratio=0.8, clf__estimator__penalty=elasticnet, tfidf_vec__max_features=30000, tfidf_vec__min_df=1;, score=(train=0.769, test=0.699) total time=   0.2s\n",
            "[CV 5/5] END clf__estimator=LogisticRegression(max_iter=100000, solver='saga'), clf__estimator__C=0.7, clf__estimator__l1_ratio=0.8, clf__estimator__penalty=elasticnet, tfidf_vec__max_features=30000, tfidf_vec__min_df=1;, score=(train=0.750, test=0.715) total time=   0.2s\n",
            "[CV 1/5] END clf__estimator=LogisticRegression(max_iter=100000, solver='saga'), clf__estimator__C=0.7, clf__estimator__l1_ratio=0.8, clf__estimator__penalty=elasticnet, tfidf_vec__max_features=50000, tfidf_vec__min_df=0.0001;, score=(train=0.759, test=0.721) total time=   0.2s\n",
            "[CV 2/5] END clf__estimator=LogisticRegression(max_iter=100000, solver='saga'), clf__estimator__C=0.7, clf__estimator__l1_ratio=0.8, clf__estimator__penalty=elasticnet, tfidf_vec__max_features=50000, tfidf_vec__min_df=0.0001;, score=(train=0.763, test=0.714) total time=   0.2s\n",
            "[CV 3/5] END clf__estimator=LogisticRegression(max_iter=100000, solver='saga'), clf__estimator__C=0.7, clf__estimator__l1_ratio=0.8, clf__estimator__penalty=elasticnet, tfidf_vec__max_features=50000, tfidf_vec__min_df=0.0001;, score=(train=0.748, test=0.728) total time=   0.2s\n",
            "[CV 4/5] END clf__estimator=LogisticRegression(max_iter=100000, solver='saga'), clf__estimator__C=0.7, clf__estimator__l1_ratio=0.8, clf__estimator__penalty=elasticnet, tfidf_vec__max_features=50000, tfidf_vec__min_df=0.0001;, score=(train=0.769, test=0.699) total time=   0.2s\n",
            "[CV 5/5] END clf__estimator=LogisticRegression(max_iter=100000, solver='saga'), clf__estimator__C=0.7, clf__estimator__l1_ratio=0.8, clf__estimator__penalty=elasticnet, tfidf_vec__max_features=50000, tfidf_vec__min_df=0.0001;, score=(train=0.750, test=0.715) total time=   0.2s\n",
            "[CV 1/5] END clf__estimator=LogisticRegression(max_iter=100000, solver='saga'), clf__estimator__C=0.7, clf__estimator__l1_ratio=0.8, clf__estimator__penalty=elasticnet, tfidf_vec__max_features=50000, tfidf_vec__min_df=1e-05;, score=(train=0.759, test=0.721) total time=   0.2s\n",
            "[CV 2/5] END clf__estimator=LogisticRegression(max_iter=100000, solver='saga'), clf__estimator__C=0.7, clf__estimator__l1_ratio=0.8, clf__estimator__penalty=elasticnet, tfidf_vec__max_features=50000, tfidf_vec__min_df=1e-05;, score=(train=0.763, test=0.713) total time=   0.3s\n",
            "[CV 3/5] END clf__estimator=LogisticRegression(max_iter=100000, solver='saga'), clf__estimator__C=0.7, clf__estimator__l1_ratio=0.8, clf__estimator__penalty=elasticnet, tfidf_vec__max_features=50000, tfidf_vec__min_df=1e-05;, score=(train=0.748, test=0.728) total time=   0.2s\n",
            "[CV 4/5] END clf__estimator=LogisticRegression(max_iter=100000, solver='saga'), clf__estimator__C=0.7, clf__estimator__l1_ratio=0.8, clf__estimator__penalty=elasticnet, tfidf_vec__max_features=50000, tfidf_vec__min_df=1e-05;, score=(train=0.769, test=0.699) total time=   0.2s\n",
            "[CV 5/5] END clf__estimator=LogisticRegression(max_iter=100000, solver='saga'), clf__estimator__C=0.7, clf__estimator__l1_ratio=0.8, clf__estimator__penalty=elasticnet, tfidf_vec__max_features=50000, tfidf_vec__min_df=1e-05;, score=(train=0.750, test=0.715) total time=   0.2s\n",
            "[CV 1/5] END clf__estimator=LogisticRegression(max_iter=100000, solver='saga'), clf__estimator__C=0.7, clf__estimator__l1_ratio=0.8, clf__estimator__penalty=elasticnet, tfidf_vec__max_features=50000, tfidf_vec__min_df=1e-06;, score=(train=0.759, test=0.721) total time=   0.2s\n",
            "[CV 2/5] END clf__estimator=LogisticRegression(max_iter=100000, solver='saga'), clf__estimator__C=0.7, clf__estimator__l1_ratio=0.8, clf__estimator__penalty=elasticnet, tfidf_vec__max_features=50000, tfidf_vec__min_df=1e-06;, score=(train=0.763, test=0.713) total time=   0.2s\n",
            "[CV 3/5] END clf__estimator=LogisticRegression(max_iter=100000, solver='saga'), clf__estimator__C=0.7, clf__estimator__l1_ratio=0.8, clf__estimator__penalty=elasticnet, tfidf_vec__max_features=50000, tfidf_vec__min_df=1e-06;, score=(train=0.748, test=0.728) total time=   0.2s\n",
            "[CV 4/5] END clf__estimator=LogisticRegression(max_iter=100000, solver='saga'), clf__estimator__C=0.7, clf__estimator__l1_ratio=0.8, clf__estimator__penalty=elasticnet, tfidf_vec__max_features=50000, tfidf_vec__min_df=1e-06;, score=(train=0.769, test=0.698) total time=   0.2s\n",
            "[CV 5/5] END clf__estimator=LogisticRegression(max_iter=100000, solver='saga'), clf__estimator__C=0.7, clf__estimator__l1_ratio=0.8, clf__estimator__penalty=elasticnet, tfidf_vec__max_features=50000, tfidf_vec__min_df=1e-06;, score=(train=0.750, test=0.715) total time=   0.3s\n",
            "[CV 1/5] END clf__estimator=LogisticRegression(max_iter=100000, solver='saga'), clf__estimator__C=0.7, clf__estimator__l1_ratio=0.8, clf__estimator__penalty=elasticnet, tfidf_vec__max_features=50000, tfidf_vec__min_df=1;, score=(train=0.759, test=0.721) total time=   0.3s\n",
            "[CV 2/5] END clf__estimator=LogisticRegression(max_iter=100000, solver='saga'), clf__estimator__C=0.7, clf__estimator__l1_ratio=0.8, clf__estimator__penalty=elasticnet, tfidf_vec__max_features=50000, tfidf_vec__min_df=1;, score=(train=0.763, test=0.713) total time=   0.3s\n",
            "[CV 3/5] END clf__estimator=LogisticRegression(max_iter=100000, solver='saga'), clf__estimator__C=0.7, clf__estimator__l1_ratio=0.8, clf__estimator__penalty=elasticnet, tfidf_vec__max_features=50000, tfidf_vec__min_df=1;, score=(train=0.748, test=0.728) total time=   0.2s\n",
            "[CV 4/5] END clf__estimator=LogisticRegression(max_iter=100000, solver='saga'), clf__estimator__C=0.7, clf__estimator__l1_ratio=0.8, clf__estimator__penalty=elasticnet, tfidf_vec__max_features=50000, tfidf_vec__min_df=1;, score=(train=0.769, test=0.698) total time=   0.2s\n",
            "[CV 5/5] END clf__estimator=LogisticRegression(max_iter=100000, solver='saga'), clf__estimator__C=0.7, clf__estimator__l1_ratio=0.8, clf__estimator__penalty=elasticnet, tfidf_vec__max_features=50000, tfidf_vec__min_df=1;, score=(train=0.750, test=0.715) total time=   0.2s\n",
            "[CV 1/5] END clf__estimator=LogisticRegression(max_iter=100000, solver='saga'), clf__estimator__C=1.0, clf__estimator__l1_ratio=0.1, clf__estimator__penalty=elasticnet, tfidf_vec__max_features=None, tfidf_vec__min_df=0.0001;, score=(train=0.864, test=0.715) total time=   2.7s\n",
            "[CV 2/5] END clf__estimator=LogisticRegression(max_iter=100000, solver='saga'), clf__estimator__C=1.0, clf__estimator__l1_ratio=0.1, clf__estimator__penalty=elasticnet, tfidf_vec__max_features=None, tfidf_vec__min_df=0.0001;, score=(train=0.873, test=0.721) total time=   2.5s\n",
            "[CV 3/5] END clf__estimator=LogisticRegression(max_iter=100000, solver='saga'), clf__estimator__C=1.0, clf__estimator__l1_ratio=0.1, clf__estimator__penalty=elasticnet, tfidf_vec__max_features=None, tfidf_vec__min_df=0.0001;, score=(train=0.849, test=0.734) total time=   2.6s\n",
            "[CV 4/5] END clf__estimator=LogisticRegression(max_iter=100000, solver='saga'), clf__estimator__C=1.0, clf__estimator__l1_ratio=0.1, clf__estimator__penalty=elasticnet, tfidf_vec__max_features=None, tfidf_vec__min_df=0.0001;, score=(train=0.861, test=0.708) total time=   2.5s\n",
            "[CV 5/5] END clf__estimator=LogisticRegression(max_iter=100000, solver='saga'), clf__estimator__C=1.0, clf__estimator__l1_ratio=0.1, clf__estimator__penalty=elasticnet, tfidf_vec__max_features=None, tfidf_vec__min_df=0.0001;, score=(train=0.863, test=0.696) total time=   2.6s\n",
            "[CV 1/5] END clf__estimator=LogisticRegression(max_iter=100000, solver='saga'), clf__estimator__C=1.0, clf__estimator__l1_ratio=0.1, clf__estimator__penalty=elasticnet, tfidf_vec__max_features=None, tfidf_vec__min_df=1e-05;, score=(train=0.864, test=0.715) total time=   2.7s\n",
            "[CV 2/5] END clf__estimator=LogisticRegression(max_iter=100000, solver='saga'), clf__estimator__C=1.0, clf__estimator__l1_ratio=0.1, clf__estimator__penalty=elasticnet, tfidf_vec__max_features=None, tfidf_vec__min_df=1e-05;, score=(train=0.872, test=0.722) total time=   2.6s\n",
            "[CV 3/5] END clf__estimator=LogisticRegression(max_iter=100000, solver='saga'), clf__estimator__C=1.0, clf__estimator__l1_ratio=0.1, clf__estimator__penalty=elasticnet, tfidf_vec__max_features=None, tfidf_vec__min_df=1e-05;, score=(train=0.849, test=0.734) total time=   2.6s\n",
            "[CV 4/5] END clf__estimator=LogisticRegression(max_iter=100000, solver='saga'), clf__estimator__C=1.0, clf__estimator__l1_ratio=0.1, clf__estimator__penalty=elasticnet, tfidf_vec__max_features=None, tfidf_vec__min_df=1e-05;, score=(train=0.861, test=0.708) total time=   2.6s\n",
            "[CV 5/5] END clf__estimator=LogisticRegression(max_iter=100000, solver='saga'), clf__estimator__C=1.0, clf__estimator__l1_ratio=0.1, clf__estimator__penalty=elasticnet, tfidf_vec__max_features=None, tfidf_vec__min_df=1e-05;, score=(train=0.864, test=0.698) total time=   2.5s\n",
            "[CV 1/5] END clf__estimator=LogisticRegression(max_iter=100000, solver='saga'), clf__estimator__C=1.0, clf__estimator__l1_ratio=0.1, clf__estimator__penalty=elasticnet, tfidf_vec__max_features=None, tfidf_vec__min_df=1e-06;, score=(train=0.864, test=0.715) total time=   2.7s\n",
            "[CV 2/5] END clf__estimator=LogisticRegression(max_iter=100000, solver='saga'), clf__estimator__C=1.0, clf__estimator__l1_ratio=0.1, clf__estimator__penalty=elasticnet, tfidf_vec__max_features=None, tfidf_vec__min_df=1e-06;, score=(train=0.873, test=0.721) total time=   2.5s\n",
            "[CV 3/5] END clf__estimator=LogisticRegression(max_iter=100000, solver='saga'), clf__estimator__C=1.0, clf__estimator__l1_ratio=0.1, clf__estimator__penalty=elasticnet, tfidf_vec__max_features=None, tfidf_vec__min_df=1e-06;, score=(train=0.849, test=0.734) total time=   2.5s\n",
            "[CV 4/5] END clf__estimator=LogisticRegression(max_iter=100000, solver='saga'), clf__estimator__C=1.0, clf__estimator__l1_ratio=0.1, clf__estimator__penalty=elasticnet, tfidf_vec__max_features=None, tfidf_vec__min_df=1e-06;, score=(train=0.861, test=0.708) total time=   2.6s\n",
            "[CV 5/5] END clf__estimator=LogisticRegression(max_iter=100000, solver='saga'), clf__estimator__C=1.0, clf__estimator__l1_ratio=0.1, clf__estimator__penalty=elasticnet, tfidf_vec__max_features=None, tfidf_vec__min_df=1e-06;, score=(train=0.864, test=0.698) total time=   2.6s\n",
            "[CV 1/5] END clf__estimator=LogisticRegression(max_iter=100000, solver='saga'), clf__estimator__C=1.0, clf__estimator__l1_ratio=0.1, clf__estimator__penalty=elasticnet, tfidf_vec__max_features=None, tfidf_vec__min_df=1;, score=(train=0.864, test=0.715) total time=   2.5s\n",
            "[CV 2/5] END clf__estimator=LogisticRegression(max_iter=100000, solver='saga'), clf__estimator__C=1.0, clf__estimator__l1_ratio=0.1, clf__estimator__penalty=elasticnet, tfidf_vec__max_features=None, tfidf_vec__min_df=1;, score=(train=0.872, test=0.722) total time=   2.4s\n",
            "[CV 3/5] END clf__estimator=LogisticRegression(max_iter=100000, solver='saga'), clf__estimator__C=1.0, clf__estimator__l1_ratio=0.1, clf__estimator__penalty=elasticnet, tfidf_vec__max_features=None, tfidf_vec__min_df=1;, score=(train=0.849, test=0.734) total time=   2.7s\n",
            "[CV 4/5] END clf__estimator=LogisticRegression(max_iter=100000, solver='saga'), clf__estimator__C=1.0, clf__estimator__l1_ratio=0.1, clf__estimator__penalty=elasticnet, tfidf_vec__max_features=None, tfidf_vec__min_df=1;, score=(train=0.861, test=0.708) total time=   2.7s\n",
            "[CV 5/5] END clf__estimator=LogisticRegression(max_iter=100000, solver='saga'), clf__estimator__C=1.0, clf__estimator__l1_ratio=0.1, clf__estimator__penalty=elasticnet, tfidf_vec__max_features=None, tfidf_vec__min_df=1;, score=(train=0.863, test=0.696) total time=   2.6s\n",
            "[CV 1/5] END clf__estimator=LogisticRegression(max_iter=100000, solver='saga'), clf__estimator__C=1.0, clf__estimator__l1_ratio=0.1, clf__estimator__penalty=elasticnet, tfidf_vec__max_features=10000, tfidf_vec__min_df=0.0001;, score=(train=0.864, test=0.715) total time=   3.0s\n",
            "[CV 2/5] END clf__estimator=LogisticRegression(max_iter=100000, solver='saga'), clf__estimator__C=1.0, clf__estimator__l1_ratio=0.1, clf__estimator__penalty=elasticnet, tfidf_vec__max_features=10000, tfidf_vec__min_df=0.0001;, score=(train=0.873, test=0.721) total time=   2.7s\n",
            "[CV 3/5] END clf__estimator=LogisticRegression(max_iter=100000, solver='saga'), clf__estimator__C=1.0, clf__estimator__l1_ratio=0.1, clf__estimator__penalty=elasticnet, tfidf_vec__max_features=10000, tfidf_vec__min_df=0.0001;, score=(train=0.849, test=0.735) total time=   2.7s\n",
            "[CV 4/5] END clf__estimator=LogisticRegression(max_iter=100000, solver='saga'), clf__estimator__C=1.0, clf__estimator__l1_ratio=0.1, clf__estimator__penalty=elasticnet, tfidf_vec__max_features=10000, tfidf_vec__min_df=0.0001;, score=(train=0.861, test=0.708) total time=   3.1s\n",
            "[CV 5/5] END clf__estimator=LogisticRegression(max_iter=100000, solver='saga'), clf__estimator__C=1.0, clf__estimator__l1_ratio=0.1, clf__estimator__penalty=elasticnet, tfidf_vec__max_features=10000, tfidf_vec__min_df=0.0001;, score=(train=0.864, test=0.696) total time=   2.7s\n",
            "[CV 1/5] END clf__estimator=LogisticRegression(max_iter=100000, solver='saga'), clf__estimator__C=1.0, clf__estimator__l1_ratio=0.1, clf__estimator__penalty=elasticnet, tfidf_vec__max_features=10000, tfidf_vec__min_df=1e-05;, score=(train=0.864, test=0.715) total time=   2.4s\n",
            "[CV 2/5] END clf__estimator=LogisticRegression(max_iter=100000, solver='saga'), clf__estimator__C=1.0, clf__estimator__l1_ratio=0.1, clf__estimator__penalty=elasticnet, tfidf_vec__max_features=10000, tfidf_vec__min_df=1e-05;, score=(train=0.873, test=0.721) total time=   3.2s\n",
            "[CV 3/5] END clf__estimator=LogisticRegression(max_iter=100000, solver='saga'), clf__estimator__C=1.0, clf__estimator__l1_ratio=0.1, clf__estimator__penalty=elasticnet, tfidf_vec__max_features=10000, tfidf_vec__min_df=1e-05;, score=(train=0.849, test=0.734) total time=   2.7s\n",
            "[CV 4/5] END clf__estimator=LogisticRegression(max_iter=100000, solver='saga'), clf__estimator__C=1.0, clf__estimator__l1_ratio=0.1, clf__estimator__penalty=elasticnet, tfidf_vec__max_features=10000, tfidf_vec__min_df=1e-05;, score=(train=0.860, test=0.708) total time=   2.8s\n",
            "[CV 5/5] END clf__estimator=LogisticRegression(max_iter=100000, solver='saga'), clf__estimator__C=1.0, clf__estimator__l1_ratio=0.1, clf__estimator__penalty=elasticnet, tfidf_vec__max_features=10000, tfidf_vec__min_df=1e-05;, score=(train=0.863, test=0.696) total time=   2.8s\n",
            "[CV 1/5] END clf__estimator=LogisticRegression(max_iter=100000, solver='saga'), clf__estimator__C=1.0, clf__estimator__l1_ratio=0.1, clf__estimator__penalty=elasticnet, tfidf_vec__max_features=10000, tfidf_vec__min_df=1e-06;, score=(train=0.864, test=0.715) total time=   3.1s\n",
            "[CV 2/5] END clf__estimator=LogisticRegression(max_iter=100000, solver='saga'), clf__estimator__C=1.0, clf__estimator__l1_ratio=0.1, clf__estimator__penalty=elasticnet, tfidf_vec__max_features=10000, tfidf_vec__min_df=1e-06;, score=(train=0.872, test=0.721) total time=   2.7s\n",
            "[CV 3/5] END clf__estimator=LogisticRegression(max_iter=100000, solver='saga'), clf__estimator__C=1.0, clf__estimator__l1_ratio=0.1, clf__estimator__penalty=elasticnet, tfidf_vec__max_features=10000, tfidf_vec__min_df=1e-06;, score=(train=0.849, test=0.735) total time=   2.7s\n",
            "[CV 4/5] END clf__estimator=LogisticRegression(max_iter=100000, solver='saga'), clf__estimator__C=1.0, clf__estimator__l1_ratio=0.1, clf__estimator__penalty=elasticnet, tfidf_vec__max_features=10000, tfidf_vec__min_df=1e-06;, score=(train=0.860, test=0.708) total time=   2.8s\n",
            "[CV 5/5] END clf__estimator=LogisticRegression(max_iter=100000, solver='saga'), clf__estimator__C=1.0, clf__estimator__l1_ratio=0.1, clf__estimator__penalty=elasticnet, tfidf_vec__max_features=10000, tfidf_vec__min_df=1e-06;, score=(train=0.864, test=0.696) total time=   2.7s\n",
            "[CV 1/5] END clf__estimator=LogisticRegression(max_iter=100000, solver='saga'), clf__estimator__C=1.0, clf__estimator__l1_ratio=0.1, clf__estimator__penalty=elasticnet, tfidf_vec__max_features=10000, tfidf_vec__min_df=1;, score=(train=0.864, test=0.715) total time=   2.5s\n",
            "[CV 2/5] END clf__estimator=LogisticRegression(max_iter=100000, solver='saga'), clf__estimator__C=1.0, clf__estimator__l1_ratio=0.1, clf__estimator__penalty=elasticnet, tfidf_vec__max_features=10000, tfidf_vec__min_df=1;, score=(train=0.873, test=0.721) total time=   2.6s\n",
            "[CV 3/5] END clf__estimator=LogisticRegression(max_iter=100000, solver='saga'), clf__estimator__C=1.0, clf__estimator__l1_ratio=0.1, clf__estimator__penalty=elasticnet, tfidf_vec__max_features=10000, tfidf_vec__min_df=1;, score=(train=0.849, test=0.734) total time=   2.6s\n",
            "[CV 4/5] END clf__estimator=LogisticRegression(max_iter=100000, solver='saga'), clf__estimator__C=1.0, clf__estimator__l1_ratio=0.1, clf__estimator__penalty=elasticnet, tfidf_vec__max_features=10000, tfidf_vec__min_df=1;, score=(train=0.860, test=0.708) total time=   2.8s\n",
            "[CV 5/5] END clf__estimator=LogisticRegression(max_iter=100000, solver='saga'), clf__estimator__C=1.0, clf__estimator__l1_ratio=0.1, clf__estimator__penalty=elasticnet, tfidf_vec__max_features=10000, tfidf_vec__min_df=1;, score=(train=0.863, test=0.696) total time=   2.7s\n",
            "[CV 1/5] END clf__estimator=LogisticRegression(max_iter=100000, solver='saga'), clf__estimator__C=1.0, clf__estimator__l1_ratio=0.1, clf__estimator__penalty=elasticnet, tfidf_vec__max_features=20000, tfidf_vec__min_df=0.0001;, score=(train=0.864, test=0.715) total time=   2.7s\n",
            "[CV 2/5] END clf__estimator=LogisticRegression(max_iter=100000, solver='saga'), clf__estimator__C=1.0, clf__estimator__l1_ratio=0.1, clf__estimator__penalty=elasticnet, tfidf_vec__max_features=20000, tfidf_vec__min_df=0.0001;, score=(train=0.873, test=0.721) total time=   2.7s\n",
            "[CV 3/5] END clf__estimator=LogisticRegression(max_iter=100000, solver='saga'), clf__estimator__C=1.0, clf__estimator__l1_ratio=0.1, clf__estimator__penalty=elasticnet, tfidf_vec__max_features=20000, tfidf_vec__min_df=0.0001;, score=(train=0.849, test=0.734) total time=   3.2s\n",
            "[CV 4/5] END clf__estimator=LogisticRegression(max_iter=100000, solver='saga'), clf__estimator__C=1.0, clf__estimator__l1_ratio=0.1, clf__estimator__penalty=elasticnet, tfidf_vec__max_features=20000, tfidf_vec__min_df=0.0001;, score=(train=0.861, test=0.708) total time=   2.8s\n",
            "[CV 5/5] END clf__estimator=LogisticRegression(max_iter=100000, solver='saga'), clf__estimator__C=1.0, clf__estimator__l1_ratio=0.1, clf__estimator__penalty=elasticnet, tfidf_vec__max_features=20000, tfidf_vec__min_df=0.0001;, score=(train=0.864, test=0.696) total time=   2.8s\n",
            "[CV 1/5] END clf__estimator=LogisticRegression(max_iter=100000, solver='saga'), clf__estimator__C=1.0, clf__estimator__l1_ratio=0.1, clf__estimator__penalty=elasticnet, tfidf_vec__max_features=20000, tfidf_vec__min_df=1e-05;, score=(train=0.864, test=0.715) total time=   2.6s\n",
            "[CV 2/5] END clf__estimator=LogisticRegression(max_iter=100000, solver='saga'), clf__estimator__C=1.0, clf__estimator__l1_ratio=0.1, clf__estimator__penalty=elasticnet, tfidf_vec__max_features=20000, tfidf_vec__min_df=1e-05;, score=(train=0.872, test=0.722) total time=   2.7s\n",
            "[CV 3/5] END clf__estimator=LogisticRegression(max_iter=100000, solver='saga'), clf__estimator__C=1.0, clf__estimator__l1_ratio=0.1, clf__estimator__penalty=elasticnet, tfidf_vec__max_features=20000, tfidf_vec__min_df=1e-05;, score=(train=0.849, test=0.733) total time=   2.5s\n",
            "[CV 4/5] END clf__estimator=LogisticRegression(max_iter=100000, solver='saga'), clf__estimator__C=1.0, clf__estimator__l1_ratio=0.1, clf__estimator__penalty=elasticnet, tfidf_vec__max_features=20000, tfidf_vec__min_df=1e-05;, score=(train=0.861, test=0.708) total time=   2.6s\n",
            "[CV 5/5] END clf__estimator=LogisticRegression(max_iter=100000, solver='saga'), clf__estimator__C=1.0, clf__estimator__l1_ratio=0.1, clf__estimator__penalty=elasticnet, tfidf_vec__max_features=20000, tfidf_vec__min_df=1e-05;, score=(train=0.864, test=0.696) total time=   2.6s\n",
            "[CV 1/5] END clf__estimator=LogisticRegression(max_iter=100000, solver='saga'), clf__estimator__C=1.0, clf__estimator__l1_ratio=0.1, clf__estimator__penalty=elasticnet, tfidf_vec__max_features=20000, tfidf_vec__min_df=1e-06;, score=(train=0.864, test=0.715) total time=   2.7s\n",
            "[CV 2/5] END clf__estimator=LogisticRegression(max_iter=100000, solver='saga'), clf__estimator__C=1.0, clf__estimator__l1_ratio=0.1, clf__estimator__penalty=elasticnet, tfidf_vec__max_features=20000, tfidf_vec__min_df=1e-06;, score=(train=0.873, test=0.721) total time=   2.4s\n",
            "[CV 3/5] END clf__estimator=LogisticRegression(max_iter=100000, solver='saga'), clf__estimator__C=1.0, clf__estimator__l1_ratio=0.1, clf__estimator__penalty=elasticnet, tfidf_vec__max_features=20000, tfidf_vec__min_df=1e-06;, score=(train=0.849, test=0.734) total time=   2.8s\n",
            "[CV 4/5] END clf__estimator=LogisticRegression(max_iter=100000, solver='saga'), clf__estimator__C=1.0, clf__estimator__l1_ratio=0.1, clf__estimator__penalty=elasticnet, tfidf_vec__max_features=20000, tfidf_vec__min_df=1e-06;, score=(train=0.861, test=0.708) total time=   2.8s\n",
            "[CV 5/5] END clf__estimator=LogisticRegression(max_iter=100000, solver='saga'), clf__estimator__C=1.0, clf__estimator__l1_ratio=0.1, clf__estimator__penalty=elasticnet, tfidf_vec__max_features=20000, tfidf_vec__min_df=1e-06;, score=(train=0.864, test=0.698) total time=   2.8s\n",
            "[CV 1/5] END clf__estimator=LogisticRegression(max_iter=100000, solver='saga'), clf__estimator__C=1.0, clf__estimator__l1_ratio=0.1, clf__estimator__penalty=elasticnet, tfidf_vec__max_features=20000, tfidf_vec__min_df=1;, score=(train=0.864, test=0.715) total time=   2.6s\n",
            "[CV 2/5] END clf__estimator=LogisticRegression(max_iter=100000, solver='saga'), clf__estimator__C=1.0, clf__estimator__l1_ratio=0.1, clf__estimator__penalty=elasticnet, tfidf_vec__max_features=20000, tfidf_vec__min_df=1;, score=(train=0.872, test=0.722) total time=   2.4s\n",
            "[CV 3/5] END clf__estimator=LogisticRegression(max_iter=100000, solver='saga'), clf__estimator__C=1.0, clf__estimator__l1_ratio=0.1, clf__estimator__penalty=elasticnet, tfidf_vec__max_features=20000, tfidf_vec__min_df=1;, score=(train=0.849, test=0.734) total time=   2.5s\n",
            "[CV 4/5] END clf__estimator=LogisticRegression(max_iter=100000, solver='saga'), clf__estimator__C=1.0, clf__estimator__l1_ratio=0.1, clf__estimator__penalty=elasticnet, tfidf_vec__max_features=20000, tfidf_vec__min_df=1;, score=(train=0.860, test=0.708) total time=   2.7s\n",
            "[CV 5/5] END clf__estimator=LogisticRegression(max_iter=100000, solver='saga'), clf__estimator__C=1.0, clf__estimator__l1_ratio=0.1, clf__estimator__penalty=elasticnet, tfidf_vec__max_features=20000, tfidf_vec__min_df=1;, score=(train=0.864, test=0.696) total time=   2.6s\n",
            "[CV 1/5] END clf__estimator=LogisticRegression(max_iter=100000, solver='saga'), clf__estimator__C=1.0, clf__estimator__l1_ratio=0.1, clf__estimator__penalty=elasticnet, tfidf_vec__max_features=30000, tfidf_vec__min_df=0.0001;, score=(train=0.864, test=0.715) total time=   2.8s\n",
            "[CV 2/5] END clf__estimator=LogisticRegression(max_iter=100000, solver='saga'), clf__estimator__C=1.0, clf__estimator__l1_ratio=0.1, clf__estimator__penalty=elasticnet, tfidf_vec__max_features=30000, tfidf_vec__min_df=0.0001;, score=(train=0.872, test=0.722) total time=   2.8s\n",
            "[CV 3/5] END clf__estimator=LogisticRegression(max_iter=100000, solver='saga'), clf__estimator__C=1.0, clf__estimator__l1_ratio=0.1, clf__estimator__penalty=elasticnet, tfidf_vec__max_features=30000, tfidf_vec__min_df=0.0001;, score=(train=0.849, test=0.734) total time=   2.5s\n",
            "[CV 4/5] END clf__estimator=LogisticRegression(max_iter=100000, solver='saga'), clf__estimator__C=1.0, clf__estimator__l1_ratio=0.1, clf__estimator__penalty=elasticnet, tfidf_vec__max_features=30000, tfidf_vec__min_df=0.0001;, score=(train=0.861, test=0.708) total time=   2.7s\n",
            "[CV 5/5] END clf__estimator=LogisticRegression(max_iter=100000, solver='saga'), clf__estimator__C=1.0, clf__estimator__l1_ratio=0.1, clf__estimator__penalty=elasticnet, tfidf_vec__max_features=30000, tfidf_vec__min_df=0.0001;, score=(train=0.864, test=0.696) total time=   2.8s\n",
            "[CV 1/5] END clf__estimator=LogisticRegression(max_iter=100000, solver='saga'), clf__estimator__C=1.0, clf__estimator__l1_ratio=0.1, clf__estimator__penalty=elasticnet, tfidf_vec__max_features=30000, tfidf_vec__min_df=1e-05;, score=(train=0.864, test=0.715) total time=   2.8s\n",
            "[CV 2/5] END clf__estimator=LogisticRegression(max_iter=100000, solver='saga'), clf__estimator__C=1.0, clf__estimator__l1_ratio=0.1, clf__estimator__penalty=elasticnet, tfidf_vec__max_features=30000, tfidf_vec__min_df=1e-05;, score=(train=0.873, test=0.721) total time=   2.7s\n",
            "[CV 3/5] END clf__estimator=LogisticRegression(max_iter=100000, solver='saga'), clf__estimator__C=1.0, clf__estimator__l1_ratio=0.1, clf__estimator__penalty=elasticnet, tfidf_vec__max_features=30000, tfidf_vec__min_df=1e-05;, score=(train=0.849, test=0.734) total time=   2.7s\n",
            "[CV 4/5] END clf__estimator=LogisticRegression(max_iter=100000, solver='saga'), clf__estimator__C=1.0, clf__estimator__l1_ratio=0.1, clf__estimator__penalty=elasticnet, tfidf_vec__max_features=30000, tfidf_vec__min_df=1e-05;, score=(train=0.861, test=0.708) total time=   2.8s\n",
            "[CV 5/5] END clf__estimator=LogisticRegression(max_iter=100000, solver='saga'), clf__estimator__C=1.0, clf__estimator__l1_ratio=0.1, clf__estimator__penalty=elasticnet, tfidf_vec__max_features=30000, tfidf_vec__min_df=1e-05;, score=(train=0.863, test=0.696) total time=   2.5s\n",
            "[CV 1/5] END clf__estimator=LogisticRegression(max_iter=100000, solver='saga'), clf__estimator__C=1.0, clf__estimator__l1_ratio=0.1, clf__estimator__penalty=elasticnet, tfidf_vec__max_features=30000, tfidf_vec__min_df=1e-06;, score=(train=0.864, test=0.715) total time=   2.5s\n",
            "[CV 2/5] END clf__estimator=LogisticRegression(max_iter=100000, solver='saga'), clf__estimator__C=1.0, clf__estimator__l1_ratio=0.1, clf__estimator__penalty=elasticnet, tfidf_vec__max_features=30000, tfidf_vec__min_df=1e-06;, score=(train=0.872, test=0.722) total time=   2.7s\n",
            "[CV 3/5] END clf__estimator=LogisticRegression(max_iter=100000, solver='saga'), clf__estimator__C=1.0, clf__estimator__l1_ratio=0.1, clf__estimator__penalty=elasticnet, tfidf_vec__max_features=30000, tfidf_vec__min_df=1e-06;, score=(train=0.849, test=0.734) total time=   2.5s\n",
            "[CV 4/5] END clf__estimator=LogisticRegression(max_iter=100000, solver='saga'), clf__estimator__C=1.0, clf__estimator__l1_ratio=0.1, clf__estimator__penalty=elasticnet, tfidf_vec__max_features=30000, tfidf_vec__min_df=1e-06;, score=(train=0.860, test=0.708) total time=   2.6s\n",
            "[CV 5/5] END clf__estimator=LogisticRegression(max_iter=100000, solver='saga'), clf__estimator__C=1.0, clf__estimator__l1_ratio=0.1, clf__estimator__penalty=elasticnet, tfidf_vec__max_features=30000, tfidf_vec__min_df=1e-06;, score=(train=0.864, test=0.696) total time=   2.8s\n",
            "[CV 1/5] END clf__estimator=LogisticRegression(max_iter=100000, solver='saga'), clf__estimator__C=1.0, clf__estimator__l1_ratio=0.1, clf__estimator__penalty=elasticnet, tfidf_vec__max_features=30000, tfidf_vec__min_df=1;, score=(train=0.864, test=0.715) total time=   2.8s\n",
            "[CV 2/5] END clf__estimator=LogisticRegression(max_iter=100000, solver='saga'), clf__estimator__C=1.0, clf__estimator__l1_ratio=0.1, clf__estimator__penalty=elasticnet, tfidf_vec__max_features=30000, tfidf_vec__min_df=1;, score=(train=0.873, test=0.721) total time=   2.7s\n",
            "[CV 3/5] END clf__estimator=LogisticRegression(max_iter=100000, solver='saga'), clf__estimator__C=1.0, clf__estimator__l1_ratio=0.1, clf__estimator__penalty=elasticnet, tfidf_vec__max_features=30000, tfidf_vec__min_df=1;, score=(train=0.849, test=0.734) total time=   2.8s\n",
            "[CV 4/5] END clf__estimator=LogisticRegression(max_iter=100000, solver='saga'), clf__estimator__C=1.0, clf__estimator__l1_ratio=0.1, clf__estimator__penalty=elasticnet, tfidf_vec__max_features=30000, tfidf_vec__min_df=1;, score=(train=0.861, test=0.708) total time=   2.7s\n",
            "[CV 5/5] END clf__estimator=LogisticRegression(max_iter=100000, solver='saga'), clf__estimator__C=1.0, clf__estimator__l1_ratio=0.1, clf__estimator__penalty=elasticnet, tfidf_vec__max_features=30000, tfidf_vec__min_df=1;, score=(train=0.864, test=0.696) total time=   2.8s\n",
            "[CV 1/5] END clf__estimator=LogisticRegression(max_iter=100000, solver='saga'), clf__estimator__C=1.0, clf__estimator__l1_ratio=0.1, clf__estimator__penalty=elasticnet, tfidf_vec__max_features=50000, tfidf_vec__min_df=0.0001;, score=(train=0.864, test=0.715) total time=   2.9s\n",
            "[CV 2/5] END clf__estimator=LogisticRegression(max_iter=100000, solver='saga'), clf__estimator__C=1.0, clf__estimator__l1_ratio=0.1, clf__estimator__penalty=elasticnet, tfidf_vec__max_features=50000, tfidf_vec__min_df=0.0001;, score=(train=0.873, test=0.721) total time=   2.9s\n",
            "[CV 3/5] END clf__estimator=LogisticRegression(max_iter=100000, solver='saga'), clf__estimator__C=1.0, clf__estimator__l1_ratio=0.1, clf__estimator__penalty=elasticnet, tfidf_vec__max_features=50000, tfidf_vec__min_df=0.0001;, score=(train=0.849, test=0.735) total time=   2.7s\n",
            "[CV 4/5] END clf__estimator=LogisticRegression(max_iter=100000, solver='saga'), clf__estimator__C=1.0, clf__estimator__l1_ratio=0.1, clf__estimator__penalty=elasticnet, tfidf_vec__max_features=50000, tfidf_vec__min_df=0.0001;, score=(train=0.861, test=0.708) total time=   2.8s\n",
            "[CV 5/5] END clf__estimator=LogisticRegression(max_iter=100000, solver='saga'), clf__estimator__C=1.0, clf__estimator__l1_ratio=0.1, clf__estimator__penalty=elasticnet, tfidf_vec__max_features=50000, tfidf_vec__min_df=0.0001;, score=(train=0.864, test=0.696) total time=   2.6s\n",
            "[CV 1/5] END clf__estimator=LogisticRegression(max_iter=100000, solver='saga'), clf__estimator__C=1.0, clf__estimator__l1_ratio=0.1, clf__estimator__penalty=elasticnet, tfidf_vec__max_features=50000, tfidf_vec__min_df=1e-05;, score=(train=0.864, test=0.715) total time=   2.6s\n",
            "[CV 2/5] END clf__estimator=LogisticRegression(max_iter=100000, solver='saga'), clf__estimator__C=1.0, clf__estimator__l1_ratio=0.1, clf__estimator__penalty=elasticnet, tfidf_vec__max_features=50000, tfidf_vec__min_df=1e-05;, score=(train=0.873, test=0.721) total time=   2.6s\n",
            "[CV 3/5] END clf__estimator=LogisticRegression(max_iter=100000, solver='saga'), clf__estimator__C=1.0, clf__estimator__l1_ratio=0.1, clf__estimator__penalty=elasticnet, tfidf_vec__max_features=50000, tfidf_vec__min_df=1e-05;, score=(train=0.849, test=0.734) total time=   3.0s\n",
            "[CV 4/5] END clf__estimator=LogisticRegression(max_iter=100000, solver='saga'), clf__estimator__C=1.0, clf__estimator__l1_ratio=0.1, clf__estimator__penalty=elasticnet, tfidf_vec__max_features=50000, tfidf_vec__min_df=1e-05;, score=(train=0.860, test=0.708) total time=   2.8s\n",
            "[CV 5/5] END clf__estimator=LogisticRegression(max_iter=100000, solver='saga'), clf__estimator__C=1.0, clf__estimator__l1_ratio=0.1, clf__estimator__penalty=elasticnet, tfidf_vec__max_features=50000, tfidf_vec__min_df=1e-05;, score=(train=0.863, test=0.696) total time=   2.7s\n",
            "[CV 1/5] END clf__estimator=LogisticRegression(max_iter=100000, solver='saga'), clf__estimator__C=1.0, clf__estimator__l1_ratio=0.1, clf__estimator__penalty=elasticnet, tfidf_vec__max_features=50000, tfidf_vec__min_df=1e-06;, score=(train=0.864, test=0.715) total time=   2.5s\n",
            "[CV 2/5] END clf__estimator=LogisticRegression(max_iter=100000, solver='saga'), clf__estimator__C=1.0, clf__estimator__l1_ratio=0.1, clf__estimator__penalty=elasticnet, tfidf_vec__max_features=50000, tfidf_vec__min_df=1e-06;, score=(train=0.873, test=0.721) total time=   2.7s\n",
            "[CV 3/5] END clf__estimator=LogisticRegression(max_iter=100000, solver='saga'), clf__estimator__C=1.0, clf__estimator__l1_ratio=0.1, clf__estimator__penalty=elasticnet, tfidf_vec__max_features=50000, tfidf_vec__min_df=1e-06;, score=(train=0.849, test=0.734) total time=   2.7s\n",
            "[CV 4/5] END clf__estimator=LogisticRegression(max_iter=100000, solver='saga'), clf__estimator__C=1.0, clf__estimator__l1_ratio=0.1, clf__estimator__penalty=elasticnet, tfidf_vec__max_features=50000, tfidf_vec__min_df=1e-06;, score=(train=0.860, test=0.708) total time=   2.7s\n",
            "[CV 5/5] END clf__estimator=LogisticRegression(max_iter=100000, solver='saga'), clf__estimator__C=1.0, clf__estimator__l1_ratio=0.1, clf__estimator__penalty=elasticnet, tfidf_vec__max_features=50000, tfidf_vec__min_df=1e-06;, score=(train=0.864, test=0.698) total time=   2.5s\n",
            "[CV 1/5] END clf__estimator=LogisticRegression(max_iter=100000, solver='saga'), clf__estimator__C=1.0, clf__estimator__l1_ratio=0.1, clf__estimator__penalty=elasticnet, tfidf_vec__max_features=50000, tfidf_vec__min_df=1;, score=(train=0.864, test=0.715) total time=   2.7s\n",
            "[CV 2/5] END clf__estimator=LogisticRegression(max_iter=100000, solver='saga'), clf__estimator__C=1.0, clf__estimator__l1_ratio=0.1, clf__estimator__penalty=elasticnet, tfidf_vec__max_features=50000, tfidf_vec__min_df=1;, score=(train=0.873, test=0.721) total time=   2.7s\n",
            "[CV 3/5] END clf__estimator=LogisticRegression(max_iter=100000, solver='saga'), clf__estimator__C=1.0, clf__estimator__l1_ratio=0.1, clf__estimator__penalty=elasticnet, tfidf_vec__max_features=50000, tfidf_vec__min_df=1;, score=(train=0.849, test=0.735) total time=   2.8s\n",
            "[CV 4/5] END clf__estimator=LogisticRegression(max_iter=100000, solver='saga'), clf__estimator__C=1.0, clf__estimator__l1_ratio=0.1, clf__estimator__penalty=elasticnet, tfidf_vec__max_features=50000, tfidf_vec__min_df=1;, score=(train=0.860, test=0.708) total time=   2.8s\n",
            "[CV 5/5] END clf__estimator=LogisticRegression(max_iter=100000, solver='saga'), clf__estimator__C=1.0, clf__estimator__l1_ratio=0.1, clf__estimator__penalty=elasticnet, tfidf_vec__max_features=50000, tfidf_vec__min_df=1;, score=(train=0.863, test=0.696) total time=   2.6s\n",
            "[CV 1/5] END clf__estimator=LogisticRegression(max_iter=100000, solver='saga'), clf__estimator__C=1.0, clf__estimator__l1_ratio=0.2, clf__estimator__penalty=elasticnet, tfidf_vec__max_features=None, tfidf_vec__min_df=0.0001;, score=(train=0.841, test=0.723) total time=   1.8s\n",
            "[CV 2/5] END clf__estimator=LogisticRegression(max_iter=100000, solver='saga'), clf__estimator__C=1.0, clf__estimator__l1_ratio=0.2, clf__estimator__penalty=elasticnet, tfidf_vec__max_features=None, tfidf_vec__min_df=0.0001;, score=(train=0.851, test=0.723) total time=   1.6s\n",
            "[CV 3/5] END clf__estimator=LogisticRegression(max_iter=100000, solver='saga'), clf__estimator__C=1.0, clf__estimator__l1_ratio=0.2, clf__estimator__penalty=elasticnet, tfidf_vec__max_features=None, tfidf_vec__min_df=0.0001;, score=(train=0.826, test=0.732) total time=   1.3s\n",
            "[CV 4/5] END clf__estimator=LogisticRegression(max_iter=100000, solver='saga'), clf__estimator__C=1.0, clf__estimator__l1_ratio=0.2, clf__estimator__penalty=elasticnet, tfidf_vec__max_features=None, tfidf_vec__min_df=0.0001;, score=(train=0.838, test=0.708) total time=   1.5s\n",
            "[CV 5/5] END clf__estimator=LogisticRegression(max_iter=100000, solver='saga'), clf__estimator__C=1.0, clf__estimator__l1_ratio=0.2, clf__estimator__penalty=elasticnet, tfidf_vec__max_features=None, tfidf_vec__min_df=0.0001;, score=(train=0.838, test=0.703) total time=   1.5s\n",
            "[CV 1/5] END clf__estimator=LogisticRegression(max_iter=100000, solver='saga'), clf__estimator__C=1.0, clf__estimator__l1_ratio=0.2, clf__estimator__penalty=elasticnet, tfidf_vec__max_features=None, tfidf_vec__min_df=1e-05;, score=(train=0.841, test=0.723) total time=   1.6s\n",
            "[CV 2/5] END clf__estimator=LogisticRegression(max_iter=100000, solver='saga'), clf__estimator__C=1.0, clf__estimator__l1_ratio=0.2, clf__estimator__penalty=elasticnet, tfidf_vec__max_features=None, tfidf_vec__min_df=1e-05;, score=(train=0.851, test=0.723) total time=   1.5s\n",
            "[CV 3/5] END clf__estimator=LogisticRegression(max_iter=100000, solver='saga'), clf__estimator__C=1.0, clf__estimator__l1_ratio=0.2, clf__estimator__penalty=elasticnet, tfidf_vec__max_features=None, tfidf_vec__min_df=1e-05;, score=(train=0.826, test=0.731) total time=   1.5s\n",
            "[CV 4/5] END clf__estimator=LogisticRegression(max_iter=100000, solver='saga'), clf__estimator__C=1.0, clf__estimator__l1_ratio=0.2, clf__estimator__penalty=elasticnet, tfidf_vec__max_features=None, tfidf_vec__min_df=1e-05;, score=(train=0.838, test=0.708) total time=   1.4s\n",
            "[CV 5/5] END clf__estimator=LogisticRegression(max_iter=100000, solver='saga'), clf__estimator__C=1.0, clf__estimator__l1_ratio=0.2, clf__estimator__penalty=elasticnet, tfidf_vec__max_features=None, tfidf_vec__min_df=1e-05;, score=(train=0.838, test=0.703) total time=   1.6s\n",
            "[CV 1/5] END clf__estimator=LogisticRegression(max_iter=100000, solver='saga'), clf__estimator__C=1.0, clf__estimator__l1_ratio=0.2, clf__estimator__penalty=elasticnet, tfidf_vec__max_features=None, tfidf_vec__min_df=1e-06;, score=(train=0.841, test=0.723) total time=   1.4s\n",
            "[CV 2/5] END clf__estimator=LogisticRegression(max_iter=100000, solver='saga'), clf__estimator__C=1.0, clf__estimator__l1_ratio=0.2, clf__estimator__penalty=elasticnet, tfidf_vec__max_features=None, tfidf_vec__min_df=1e-06;, score=(train=0.851, test=0.723) total time=   1.6s\n",
            "[CV 3/5] END clf__estimator=LogisticRegression(max_iter=100000, solver='saga'), clf__estimator__C=1.0, clf__estimator__l1_ratio=0.2, clf__estimator__penalty=elasticnet, tfidf_vec__max_features=None, tfidf_vec__min_df=1e-06;, score=(train=0.826, test=0.732) total time=   1.5s\n",
            "[CV 4/5] END clf__estimator=LogisticRegression(max_iter=100000, solver='saga'), clf__estimator__C=1.0, clf__estimator__l1_ratio=0.2, clf__estimator__penalty=elasticnet, tfidf_vec__max_features=None, tfidf_vec__min_df=1e-06;, score=(train=0.838, test=0.708) total time=   1.7s\n",
            "[CV 5/5] END clf__estimator=LogisticRegression(max_iter=100000, solver='saga'), clf__estimator__C=1.0, clf__estimator__l1_ratio=0.2, clf__estimator__penalty=elasticnet, tfidf_vec__max_features=None, tfidf_vec__min_df=1e-06;, score=(train=0.838, test=0.703) total time=   1.5s\n",
            "[CV 1/5] END clf__estimator=LogisticRegression(max_iter=100000, solver='saga'), clf__estimator__C=1.0, clf__estimator__l1_ratio=0.2, clf__estimator__penalty=elasticnet, tfidf_vec__max_features=None, tfidf_vec__min_df=1;, score=(train=0.841, test=0.723) total time=   1.6s\n",
            "[CV 2/5] END clf__estimator=LogisticRegression(max_iter=100000, solver='saga'), clf__estimator__C=1.0, clf__estimator__l1_ratio=0.2, clf__estimator__penalty=elasticnet, tfidf_vec__max_features=None, tfidf_vec__min_df=1;, score=(train=0.850, test=0.724) total time=   1.6s\n",
            "[CV 3/5] END clf__estimator=LogisticRegression(max_iter=100000, solver='saga'), clf__estimator__C=1.0, clf__estimator__l1_ratio=0.2, clf__estimator__penalty=elasticnet, tfidf_vec__max_features=None, tfidf_vec__min_df=1;, score=(train=0.826, test=0.731) total time=   1.6s\n",
            "[CV 4/5] END clf__estimator=LogisticRegression(max_iter=100000, solver='saga'), clf__estimator__C=1.0, clf__estimator__l1_ratio=0.2, clf__estimator__penalty=elasticnet, tfidf_vec__max_features=None, tfidf_vec__min_df=1;, score=(train=0.838, test=0.708) total time=   1.5s\n",
            "[CV 5/5] END clf__estimator=LogisticRegression(max_iter=100000, solver='saga'), clf__estimator__C=1.0, clf__estimator__l1_ratio=0.2, clf__estimator__penalty=elasticnet, tfidf_vec__max_features=None, tfidf_vec__min_df=1;, score=(train=0.838, test=0.703) total time=   1.5s\n",
            "[CV 1/5] END clf__estimator=LogisticRegression(max_iter=100000, solver='saga'), clf__estimator__C=1.0, clf__estimator__l1_ratio=0.2, clf__estimator__penalty=elasticnet, tfidf_vec__max_features=10000, tfidf_vec__min_df=0.0001;, score=(train=0.841, test=0.723) total time=   1.6s\n",
            "[CV 2/5] END clf__estimator=LogisticRegression(max_iter=100000, solver='saga'), clf__estimator__C=1.0, clf__estimator__l1_ratio=0.2, clf__estimator__penalty=elasticnet, tfidf_vec__max_features=10000, tfidf_vec__min_df=0.0001;, score=(train=0.851, test=0.723) total time=   1.5s\n",
            "[CV 3/5] END clf__estimator=LogisticRegression(max_iter=100000, solver='saga'), clf__estimator__C=1.0, clf__estimator__l1_ratio=0.2, clf__estimator__penalty=elasticnet, tfidf_vec__max_features=10000, tfidf_vec__min_df=0.0001;, score=(train=0.827, test=0.731) total time=   1.5s\n",
            "[CV 4/5] END clf__estimator=LogisticRegression(max_iter=100000, solver='saga'), clf__estimator__C=1.0, clf__estimator__l1_ratio=0.2, clf__estimator__penalty=elasticnet, tfidf_vec__max_features=10000, tfidf_vec__min_df=0.0001;, score=(train=0.838, test=0.708) total time=   1.5s\n",
            "[CV 5/5] END clf__estimator=LogisticRegression(max_iter=100000, solver='saga'), clf__estimator__C=1.0, clf__estimator__l1_ratio=0.2, clf__estimator__penalty=elasticnet, tfidf_vec__max_features=10000, tfidf_vec__min_df=0.0001;, score=(train=0.838, test=0.703) total time=   1.6s\n",
            "[CV 1/5] END clf__estimator=LogisticRegression(max_iter=100000, solver='saga'), clf__estimator__C=1.0, clf__estimator__l1_ratio=0.2, clf__estimator__penalty=elasticnet, tfidf_vec__max_features=10000, tfidf_vec__min_df=1e-05;, score=(train=0.841, test=0.723) total time=   1.6s\n",
            "[CV 2/5] END clf__estimator=LogisticRegression(max_iter=100000, solver='saga'), clf__estimator__C=1.0, clf__estimator__l1_ratio=0.2, clf__estimator__penalty=elasticnet, tfidf_vec__max_features=10000, tfidf_vec__min_df=1e-05;, score=(train=0.850, test=0.723) total time=   1.5s\n",
            "[CV 3/5] END clf__estimator=LogisticRegression(max_iter=100000, solver='saga'), clf__estimator__C=1.0, clf__estimator__l1_ratio=0.2, clf__estimator__penalty=elasticnet, tfidf_vec__max_features=10000, tfidf_vec__min_df=1e-05;, score=(train=0.827, test=0.731) total time=   1.5s\n",
            "[CV 4/5] END clf__estimator=LogisticRegression(max_iter=100000, solver='saga'), clf__estimator__C=1.0, clf__estimator__l1_ratio=0.2, clf__estimator__penalty=elasticnet, tfidf_vec__max_features=10000, tfidf_vec__min_df=1e-05;, score=(train=0.838, test=0.708) total time=   1.6s\n",
            "[CV 5/5] END clf__estimator=LogisticRegression(max_iter=100000, solver='saga'), clf__estimator__C=1.0, clf__estimator__l1_ratio=0.2, clf__estimator__penalty=elasticnet, tfidf_vec__max_features=10000, tfidf_vec__min_df=1e-05;, score=(train=0.838, test=0.703) total time=   1.7s\n",
            "[CV 1/5] END clf__estimator=LogisticRegression(max_iter=100000, solver='saga'), clf__estimator__C=1.0, clf__estimator__l1_ratio=0.2, clf__estimator__penalty=elasticnet, tfidf_vec__max_features=10000, tfidf_vec__min_df=1e-06;, score=(train=0.841, test=0.723) total time=   1.5s\n",
            "[CV 2/5] END clf__estimator=LogisticRegression(max_iter=100000, solver='saga'), clf__estimator__C=1.0, clf__estimator__l1_ratio=0.2, clf__estimator__penalty=elasticnet, tfidf_vec__max_features=10000, tfidf_vec__min_df=1e-06;, score=(train=0.850, test=0.723) total time=   1.6s\n",
            "[CV 3/5] END clf__estimator=LogisticRegression(max_iter=100000, solver='saga'), clf__estimator__C=1.0, clf__estimator__l1_ratio=0.2, clf__estimator__penalty=elasticnet, tfidf_vec__max_features=10000, tfidf_vec__min_df=1e-06;, score=(train=0.827, test=0.731) total time=   1.5s\n",
            "[CV 4/5] END clf__estimator=LogisticRegression(max_iter=100000, solver='saga'), clf__estimator__C=1.0, clf__estimator__l1_ratio=0.2, clf__estimator__penalty=elasticnet, tfidf_vec__max_features=10000, tfidf_vec__min_df=1e-06;, score=(train=0.838, test=0.708) total time=   1.5s\n",
            "[CV 5/5] END clf__estimator=LogisticRegression(max_iter=100000, solver='saga'), clf__estimator__C=1.0, clf__estimator__l1_ratio=0.2, clf__estimator__penalty=elasticnet, tfidf_vec__max_features=10000, tfidf_vec__min_df=1e-06;, score=(train=0.838, test=0.703) total time=   1.6s\n",
            "[CV 1/5] END clf__estimator=LogisticRegression(max_iter=100000, solver='saga'), clf__estimator__C=1.0, clf__estimator__l1_ratio=0.2, clf__estimator__penalty=elasticnet, tfidf_vec__max_features=10000, tfidf_vec__min_df=1;, score=(train=0.841, test=0.723) total time=   1.6s\n",
            "[CV 2/5] END clf__estimator=LogisticRegression(max_iter=100000, solver='saga'), clf__estimator__C=1.0, clf__estimator__l1_ratio=0.2, clf__estimator__penalty=elasticnet, tfidf_vec__max_features=10000, tfidf_vec__min_df=1;, score=(train=0.850, test=0.723) total time=   1.5s\n",
            "[CV 3/5] END clf__estimator=LogisticRegression(max_iter=100000, solver='saga'), clf__estimator__C=1.0, clf__estimator__l1_ratio=0.2, clf__estimator__penalty=elasticnet, tfidf_vec__max_features=10000, tfidf_vec__min_df=1;, score=(train=0.826, test=0.731) total time=   1.5s\n",
            "[CV 4/5] END clf__estimator=LogisticRegression(max_iter=100000, solver='saga'), clf__estimator__C=1.0, clf__estimator__l1_ratio=0.2, clf__estimator__penalty=elasticnet, tfidf_vec__max_features=10000, tfidf_vec__min_df=1;, score=(train=0.838, test=0.708) total time=   1.6s\n",
            "[CV 5/5] END clf__estimator=LogisticRegression(max_iter=100000, solver='saga'), clf__estimator__C=1.0, clf__estimator__l1_ratio=0.2, clf__estimator__penalty=elasticnet, tfidf_vec__max_features=10000, tfidf_vec__min_df=1;, score=(train=0.838, test=0.703) total time=   1.6s\n",
            "[CV 1/5] END clf__estimator=LogisticRegression(max_iter=100000, solver='saga'), clf__estimator__C=1.0, clf__estimator__l1_ratio=0.2, clf__estimator__penalty=elasticnet, tfidf_vec__max_features=20000, tfidf_vec__min_df=0.0001;, score=(train=0.841, test=0.723) total time=   1.5s\n",
            "[CV 2/5] END clf__estimator=LogisticRegression(max_iter=100000, solver='saga'), clf__estimator__C=1.0, clf__estimator__l1_ratio=0.2, clf__estimator__penalty=elasticnet, tfidf_vec__max_features=20000, tfidf_vec__min_df=0.0001;, score=(train=0.850, test=0.724) total time=   1.5s\n",
            "[CV 3/5] END clf__estimator=LogisticRegression(max_iter=100000, solver='saga'), clf__estimator__C=1.0, clf__estimator__l1_ratio=0.2, clf__estimator__penalty=elasticnet, tfidf_vec__max_features=20000, tfidf_vec__min_df=0.0001;, score=(train=0.826, test=0.732) total time=   1.5s\n",
            "[CV 4/5] END clf__estimator=LogisticRegression(max_iter=100000, solver='saga'), clf__estimator__C=1.0, clf__estimator__l1_ratio=0.2, clf__estimator__penalty=elasticnet, tfidf_vec__max_features=20000, tfidf_vec__min_df=0.0001;, score=(train=0.837, test=0.708) total time=   1.5s\n",
            "[CV 5/5] END clf__estimator=LogisticRegression(max_iter=100000, solver='saga'), clf__estimator__C=1.0, clf__estimator__l1_ratio=0.2, clf__estimator__penalty=elasticnet, tfidf_vec__max_features=20000, tfidf_vec__min_df=0.0001;, score=(train=0.838, test=0.703) total time=   1.5s\n",
            "[CV 1/5] END clf__estimator=LogisticRegression(max_iter=100000, solver='saga'), clf__estimator__C=1.0, clf__estimator__l1_ratio=0.2, clf__estimator__penalty=elasticnet, tfidf_vec__max_features=20000, tfidf_vec__min_df=1e-05;, score=(train=0.841, test=0.724) total time=   1.7s\n",
            "[CV 2/5] END clf__estimator=LogisticRegression(max_iter=100000, solver='saga'), clf__estimator__C=1.0, clf__estimator__l1_ratio=0.2, clf__estimator__penalty=elasticnet, tfidf_vec__max_features=20000, tfidf_vec__min_df=1e-05;, score=(train=0.851, test=0.724) total time=   1.8s\n",
            "[CV 3/5] END clf__estimator=LogisticRegression(max_iter=100000, solver='saga'), clf__estimator__C=1.0, clf__estimator__l1_ratio=0.2, clf__estimator__penalty=elasticnet, tfidf_vec__max_features=20000, tfidf_vec__min_df=1e-05;, score=(train=0.827, test=0.731) total time=   1.6s\n",
            "[CV 4/5] END clf__estimator=LogisticRegression(max_iter=100000, solver='saga'), clf__estimator__C=1.0, clf__estimator__l1_ratio=0.2, clf__estimator__penalty=elasticnet, tfidf_vec__max_features=20000, tfidf_vec__min_df=1e-05;, score=(train=0.838, test=0.708) total time=   1.5s\n",
            "[CV 5/5] END clf__estimator=LogisticRegression(max_iter=100000, solver='saga'), clf__estimator__C=1.0, clf__estimator__l1_ratio=0.2, clf__estimator__penalty=elasticnet, tfidf_vec__max_features=20000, tfidf_vec__min_df=1e-05;, score=(train=0.838, test=0.703) total time=   1.6s\n",
            "[CV 1/5] END clf__estimator=LogisticRegression(max_iter=100000, solver='saga'), clf__estimator__C=1.0, clf__estimator__l1_ratio=0.2, clf__estimator__penalty=elasticnet, tfidf_vec__max_features=20000, tfidf_vec__min_df=1e-06;, score=(train=0.841, test=0.723) total time=   1.6s\n",
            "[CV 2/5] END clf__estimator=LogisticRegression(max_iter=100000, solver='saga'), clf__estimator__C=1.0, clf__estimator__l1_ratio=0.2, clf__estimator__penalty=elasticnet, tfidf_vec__max_features=20000, tfidf_vec__min_df=1e-06;, score=(train=0.850, test=0.723) total time=   1.5s\n",
            "[CV 3/5] END clf__estimator=LogisticRegression(max_iter=100000, solver='saga'), clf__estimator__C=1.0, clf__estimator__l1_ratio=0.2, clf__estimator__penalty=elasticnet, tfidf_vec__max_features=20000, tfidf_vec__min_df=1e-06;, score=(train=0.826, test=0.732) total time=   1.5s\n",
            "[CV 4/5] END clf__estimator=LogisticRegression(max_iter=100000, solver='saga'), clf__estimator__C=1.0, clf__estimator__l1_ratio=0.2, clf__estimator__penalty=elasticnet, tfidf_vec__max_features=20000, tfidf_vec__min_df=1e-06;, score=(train=0.838, test=0.708) total time=   1.5s\n",
            "[CV 5/5] END clf__estimator=LogisticRegression(max_iter=100000, solver='saga'), clf__estimator__C=1.0, clf__estimator__l1_ratio=0.2, clf__estimator__penalty=elasticnet, tfidf_vec__max_features=20000, tfidf_vec__min_df=1e-06;, score=(train=0.838, test=0.703) total time=   1.5s\n",
            "[CV 1/5] END clf__estimator=LogisticRegression(max_iter=100000, solver='saga'), clf__estimator__C=1.0, clf__estimator__l1_ratio=0.2, clf__estimator__penalty=elasticnet, tfidf_vec__max_features=20000, tfidf_vec__min_df=1;, score=(train=0.841, test=0.723) total time=   1.5s\n",
            "[CV 2/5] END clf__estimator=LogisticRegression(max_iter=100000, solver='saga'), clf__estimator__C=1.0, clf__estimator__l1_ratio=0.2, clf__estimator__penalty=elasticnet, tfidf_vec__max_features=20000, tfidf_vec__min_df=1;, score=(train=0.850, test=0.723) total time=   1.6s\n",
            "[CV 3/5] END clf__estimator=LogisticRegression(max_iter=100000, solver='saga'), clf__estimator__C=1.0, clf__estimator__l1_ratio=0.2, clf__estimator__penalty=elasticnet, tfidf_vec__max_features=20000, tfidf_vec__min_df=1;, score=(train=0.826, test=0.732) total time=   1.6s\n",
            "[CV 4/5] END clf__estimator=LogisticRegression(max_iter=100000, solver='saga'), clf__estimator__C=1.0, clf__estimator__l1_ratio=0.2, clf__estimator__penalty=elasticnet, tfidf_vec__max_features=20000, tfidf_vec__min_df=1;, score=(train=0.838, test=0.708) total time=   1.4s\n",
            "[CV 5/5] END clf__estimator=LogisticRegression(max_iter=100000, solver='saga'), clf__estimator__C=1.0, clf__estimator__l1_ratio=0.2, clf__estimator__penalty=elasticnet, tfidf_vec__max_features=20000, tfidf_vec__min_df=1;, score=(train=0.838, test=0.703) total time=   1.6s\n",
            "[CV 1/5] END clf__estimator=LogisticRegression(max_iter=100000, solver='saga'), clf__estimator__C=1.0, clf__estimator__l1_ratio=0.2, clf__estimator__penalty=elasticnet, tfidf_vec__max_features=30000, tfidf_vec__min_df=0.0001;, score=(train=0.841, test=0.723) total time=   1.6s\n",
            "[CV 2/5] END clf__estimator=LogisticRegression(max_iter=100000, solver='saga'), clf__estimator__C=1.0, clf__estimator__l1_ratio=0.2, clf__estimator__penalty=elasticnet, tfidf_vec__max_features=30000, tfidf_vec__min_df=0.0001;, score=(train=0.851, test=0.724) total time=   1.6s\n",
            "[CV 3/5] END clf__estimator=LogisticRegression(max_iter=100000, solver='saga'), clf__estimator__C=1.0, clf__estimator__l1_ratio=0.2, clf__estimator__penalty=elasticnet, tfidf_vec__max_features=30000, tfidf_vec__min_df=0.0001;, score=(train=0.826, test=0.732) total time=   1.5s\n",
            "[CV 4/5] END clf__estimator=LogisticRegression(max_iter=100000, solver='saga'), clf__estimator__C=1.0, clf__estimator__l1_ratio=0.2, clf__estimator__penalty=elasticnet, tfidf_vec__max_features=30000, tfidf_vec__min_df=0.0001;, score=(train=0.838, test=0.708) total time=   1.5s\n",
            "[CV 5/5] END clf__estimator=LogisticRegression(max_iter=100000, solver='saga'), clf__estimator__C=1.0, clf__estimator__l1_ratio=0.2, clf__estimator__penalty=elasticnet, tfidf_vec__max_features=30000, tfidf_vec__min_df=0.0001;, score=(train=0.838, test=0.703) total time=   1.6s\n",
            "[CV 1/5] END clf__estimator=LogisticRegression(max_iter=100000, solver='saga'), clf__estimator__C=1.0, clf__estimator__l1_ratio=0.2, clf__estimator__penalty=elasticnet, tfidf_vec__max_features=30000, tfidf_vec__min_df=1e-05;, score=(train=0.841, test=0.723) total time=   1.5s\n",
            "[CV 2/5] END clf__estimator=LogisticRegression(max_iter=100000, solver='saga'), clf__estimator__C=1.0, clf__estimator__l1_ratio=0.2, clf__estimator__penalty=elasticnet, tfidf_vec__max_features=30000, tfidf_vec__min_df=1e-05;, score=(train=0.851, test=0.723) total time=   1.7s\n",
            "[CV 3/5] END clf__estimator=LogisticRegression(max_iter=100000, solver='saga'), clf__estimator__C=1.0, clf__estimator__l1_ratio=0.2, clf__estimator__penalty=elasticnet, tfidf_vec__max_features=30000, tfidf_vec__min_df=1e-05;, score=(train=0.827, test=0.731) total time=   1.6s\n",
            "[CV 4/5] END clf__estimator=LogisticRegression(max_iter=100000, solver='saga'), clf__estimator__C=1.0, clf__estimator__l1_ratio=0.2, clf__estimator__penalty=elasticnet, tfidf_vec__max_features=30000, tfidf_vec__min_df=1e-05;, score=(train=0.838, test=0.708) total time=   1.5s\n",
            "[CV 5/5] END clf__estimator=LogisticRegression(max_iter=100000, solver='saga'), clf__estimator__C=1.0, clf__estimator__l1_ratio=0.2, clf__estimator__penalty=elasticnet, tfidf_vec__max_features=30000, tfidf_vec__min_df=1e-05;, score=(train=0.838, test=0.703) total time=   1.5s\n",
            "[CV 1/5] END clf__estimator=LogisticRegression(max_iter=100000, solver='saga'), clf__estimator__C=1.0, clf__estimator__l1_ratio=0.2, clf__estimator__penalty=elasticnet, tfidf_vec__max_features=30000, tfidf_vec__min_df=1e-06;, score=(train=0.841, test=0.723) total time=   1.6s\n",
            "[CV 2/5] END clf__estimator=LogisticRegression(max_iter=100000, solver='saga'), clf__estimator__C=1.0, clf__estimator__l1_ratio=0.2, clf__estimator__penalty=elasticnet, tfidf_vec__max_features=30000, tfidf_vec__min_df=1e-06;, score=(train=0.851, test=0.723) total time=   1.5s\n",
            "[CV 3/5] END clf__estimator=LogisticRegression(max_iter=100000, solver='saga'), clf__estimator__C=1.0, clf__estimator__l1_ratio=0.2, clf__estimator__penalty=elasticnet, tfidf_vec__max_features=30000, tfidf_vec__min_df=1e-06;, score=(train=0.827, test=0.731) total time=   1.6s\n",
            "[CV 4/5] END clf__estimator=LogisticRegression(max_iter=100000, solver='saga'), clf__estimator__C=1.0, clf__estimator__l1_ratio=0.2, clf__estimator__penalty=elasticnet, tfidf_vec__max_features=30000, tfidf_vec__min_df=1e-06;, score=(train=0.838, test=0.708) total time=   1.5s\n",
            "[CV 5/5] END clf__estimator=LogisticRegression(max_iter=100000, solver='saga'), clf__estimator__C=1.0, clf__estimator__l1_ratio=0.2, clf__estimator__penalty=elasticnet, tfidf_vec__max_features=30000, tfidf_vec__min_df=1e-06;, score=(train=0.838, test=0.703) total time=   1.6s\n",
            "[CV 1/5] END clf__estimator=LogisticRegression(max_iter=100000, solver='saga'), clf__estimator__C=1.0, clf__estimator__l1_ratio=0.2, clf__estimator__penalty=elasticnet, tfidf_vec__max_features=30000, tfidf_vec__min_df=1;, score=(train=0.841, test=0.723) total time=   1.6s\n",
            "[CV 2/5] END clf__estimator=LogisticRegression(max_iter=100000, solver='saga'), clf__estimator__C=1.0, clf__estimator__l1_ratio=0.2, clf__estimator__penalty=elasticnet, tfidf_vec__max_features=30000, tfidf_vec__min_df=1;, score=(train=0.851, test=0.724) total time=   1.6s\n",
            "[CV 3/5] END clf__estimator=LogisticRegression(max_iter=100000, solver='saga'), clf__estimator__C=1.0, clf__estimator__l1_ratio=0.2, clf__estimator__penalty=elasticnet, tfidf_vec__max_features=30000, tfidf_vec__min_df=1;, score=(train=0.826, test=0.732) total time=   1.5s\n",
            "[CV 4/5] END clf__estimator=LogisticRegression(max_iter=100000, solver='saga'), clf__estimator__C=1.0, clf__estimator__l1_ratio=0.2, clf__estimator__penalty=elasticnet, tfidf_vec__max_features=30000, tfidf_vec__min_df=1;, score=(train=0.838, test=0.708) total time=   1.5s\n",
            "[CV 5/5] END clf__estimator=LogisticRegression(max_iter=100000, solver='saga'), clf__estimator__C=1.0, clf__estimator__l1_ratio=0.2, clf__estimator__penalty=elasticnet, tfidf_vec__max_features=30000, tfidf_vec__min_df=1;, score=(train=0.838, test=0.703) total time=   1.6s\n",
            "[CV 1/5] END clf__estimator=LogisticRegression(max_iter=100000, solver='saga'), clf__estimator__C=1.0, clf__estimator__l1_ratio=0.2, clf__estimator__penalty=elasticnet, tfidf_vec__max_features=50000, tfidf_vec__min_df=0.0001;, score=(train=0.841, test=0.723) total time=   1.6s\n",
            "[CV 2/5] END clf__estimator=LogisticRegression(max_iter=100000, solver='saga'), clf__estimator__C=1.0, clf__estimator__l1_ratio=0.2, clf__estimator__penalty=elasticnet, tfidf_vec__max_features=50000, tfidf_vec__min_df=0.0001;, score=(train=0.851, test=0.724) total time=   1.6s\n",
            "[CV 3/5] END clf__estimator=LogisticRegression(max_iter=100000, solver='saga'), clf__estimator__C=1.0, clf__estimator__l1_ratio=0.2, clf__estimator__penalty=elasticnet, tfidf_vec__max_features=50000, tfidf_vec__min_df=0.0001;, score=(train=0.827, test=0.731) total time=   1.5s\n",
            "[CV 4/5] END clf__estimator=LogisticRegression(max_iter=100000, solver='saga'), clf__estimator__C=1.0, clf__estimator__l1_ratio=0.2, clf__estimator__penalty=elasticnet, tfidf_vec__max_features=50000, tfidf_vec__min_df=0.0001;, score=(train=0.838, test=0.708) total time=   1.5s\n",
            "[CV 5/5] END clf__estimator=LogisticRegression(max_iter=100000, solver='saga'), clf__estimator__C=1.0, clf__estimator__l1_ratio=0.2, clf__estimator__penalty=elasticnet, tfidf_vec__max_features=50000, tfidf_vec__min_df=0.0001;, score=(train=0.838, test=0.703) total time=   1.6s\n",
            "[CV 1/5] END clf__estimator=LogisticRegression(max_iter=100000, solver='saga'), clf__estimator__C=1.0, clf__estimator__l1_ratio=0.2, clf__estimator__penalty=elasticnet, tfidf_vec__max_features=50000, tfidf_vec__min_df=1e-05;, score=(train=0.841, test=0.723) total time=   1.6s\n",
            "[CV 2/5] END clf__estimator=LogisticRegression(max_iter=100000, solver='saga'), clf__estimator__C=1.0, clf__estimator__l1_ratio=0.2, clf__estimator__penalty=elasticnet, tfidf_vec__max_features=50000, tfidf_vec__min_df=1e-05;, score=(train=0.850, test=0.723) total time=   1.5s\n",
            "[CV 3/5] END clf__estimator=LogisticRegression(max_iter=100000, solver='saga'), clf__estimator__C=1.0, clf__estimator__l1_ratio=0.2, clf__estimator__penalty=elasticnet, tfidf_vec__max_features=50000, tfidf_vec__min_df=1e-05;, score=(train=0.826, test=0.732) total time=   1.5s\n",
            "[CV 4/5] END clf__estimator=LogisticRegression(max_iter=100000, solver='saga'), clf__estimator__C=1.0, clf__estimator__l1_ratio=0.2, clf__estimator__penalty=elasticnet, tfidf_vec__max_features=50000, tfidf_vec__min_df=1e-05;, score=(train=0.838, test=0.708) total time=   1.5s\n",
            "[CV 5/5] END clf__estimator=LogisticRegression(max_iter=100000, solver='saga'), clf__estimator__C=1.0, clf__estimator__l1_ratio=0.2, clf__estimator__penalty=elasticnet, tfidf_vec__max_features=50000, tfidf_vec__min_df=1e-05;, score=(train=0.838, test=0.703) total time=   1.7s\n",
            "[CV 1/5] END clf__estimator=LogisticRegression(max_iter=100000, solver='saga'), clf__estimator__C=1.0, clf__estimator__l1_ratio=0.2, clf__estimator__penalty=elasticnet, tfidf_vec__max_features=50000, tfidf_vec__min_df=1e-06;, score=(train=0.841, test=0.723) total time=   1.5s\n",
            "[CV 2/5] END clf__estimator=LogisticRegression(max_iter=100000, solver='saga'), clf__estimator__C=1.0, clf__estimator__l1_ratio=0.2, clf__estimator__penalty=elasticnet, tfidf_vec__max_features=50000, tfidf_vec__min_df=1e-06;, score=(train=0.850, test=0.723) total time=   1.7s\n",
            "[CV 3/5] END clf__estimator=LogisticRegression(max_iter=100000, solver='saga'), clf__estimator__C=1.0, clf__estimator__l1_ratio=0.2, clf__estimator__penalty=elasticnet, tfidf_vec__max_features=50000, tfidf_vec__min_df=1e-06;, score=(train=0.826, test=0.732) total time=   1.5s\n",
            "[CV 4/5] END clf__estimator=LogisticRegression(max_iter=100000, solver='saga'), clf__estimator__C=1.0, clf__estimator__l1_ratio=0.2, clf__estimator__penalty=elasticnet, tfidf_vec__max_features=50000, tfidf_vec__min_df=1e-06;, score=(train=0.838, test=0.708) total time=   1.6s\n",
            "[CV 5/5] END clf__estimator=LogisticRegression(max_iter=100000, solver='saga'), clf__estimator__C=1.0, clf__estimator__l1_ratio=0.2, clf__estimator__penalty=elasticnet, tfidf_vec__max_features=50000, tfidf_vec__min_df=1e-06;, score=(train=0.838, test=0.703) total time=   1.7s\n",
            "[CV 1/5] END clf__estimator=LogisticRegression(max_iter=100000, solver='saga'), clf__estimator__C=1.0, clf__estimator__l1_ratio=0.2, clf__estimator__penalty=elasticnet, tfidf_vec__max_features=50000, tfidf_vec__min_df=1;, score=(train=0.841, test=0.723) total time=   1.6s\n",
            "[CV 2/5] END clf__estimator=LogisticRegression(max_iter=100000, solver='saga'), clf__estimator__C=1.0, clf__estimator__l1_ratio=0.2, clf__estimator__penalty=elasticnet, tfidf_vec__max_features=50000, tfidf_vec__min_df=1;, score=(train=0.850, test=0.723) total time=   1.6s\n",
            "[CV 3/5] END clf__estimator=LogisticRegression(max_iter=100000, solver='saga'), clf__estimator__C=1.0, clf__estimator__l1_ratio=0.2, clf__estimator__penalty=elasticnet, tfidf_vec__max_features=50000, tfidf_vec__min_df=1;, score=(train=0.826, test=0.732) total time=   1.7s\n",
            "[CV 4/5] END clf__estimator=LogisticRegression(max_iter=100000, solver='saga'), clf__estimator__C=1.0, clf__estimator__l1_ratio=0.2, clf__estimator__penalty=elasticnet, tfidf_vec__max_features=50000, tfidf_vec__min_df=1;, score=(train=0.838, test=0.708) total time=   1.5s\n",
            "[CV 5/5] END clf__estimator=LogisticRegression(max_iter=100000, solver='saga'), clf__estimator__C=1.0, clf__estimator__l1_ratio=0.2, clf__estimator__penalty=elasticnet, tfidf_vec__max_features=50000, tfidf_vec__min_df=1;, score=(train=0.838, test=0.703) total time=   1.5s\n",
            "[CV 1/5] END clf__estimator=LogisticRegression(max_iter=100000, solver='saga'), clf__estimator__C=1.0, clf__estimator__l1_ratio=0.8, clf__estimator__penalty=elasticnet, tfidf_vec__max_features=None, tfidf_vec__min_df=0.0001;, score=(train=0.782, test=0.718) total time=   0.3s\n",
            "[CV 2/5] END clf__estimator=LogisticRegression(max_iter=100000, solver='saga'), clf__estimator__C=1.0, clf__estimator__l1_ratio=0.8, clf__estimator__penalty=elasticnet, tfidf_vec__max_features=None, tfidf_vec__min_df=0.0001;, score=(train=0.781, test=0.718) total time=   0.3s\n",
            "[CV 3/5] END clf__estimator=LogisticRegression(max_iter=100000, solver='saga'), clf__estimator__C=1.0, clf__estimator__l1_ratio=0.8, clf__estimator__penalty=elasticnet, tfidf_vec__max_features=None, tfidf_vec__min_df=0.0001;, score=(train=0.764, test=0.713) total time=   0.3s\n",
            "[CV 4/5] END clf__estimator=LogisticRegression(max_iter=100000, solver='saga'), clf__estimator__C=1.0, clf__estimator__l1_ratio=0.8, clf__estimator__penalty=elasticnet, tfidf_vec__max_features=None, tfidf_vec__min_df=0.0001;, score=(train=0.784, test=0.706) total time=   0.3s\n",
            "[CV 5/5] END clf__estimator=LogisticRegression(max_iter=100000, solver='saga'), clf__estimator__C=1.0, clf__estimator__l1_ratio=0.8, clf__estimator__penalty=elasticnet, tfidf_vec__max_features=None, tfidf_vec__min_df=0.0001;, score=(train=0.770, test=0.714) total time=   0.3s\n",
            "[CV 1/5] END clf__estimator=LogisticRegression(max_iter=100000, solver='saga'), clf__estimator__C=1.0, clf__estimator__l1_ratio=0.8, clf__estimator__penalty=elasticnet, tfidf_vec__max_features=None, tfidf_vec__min_df=1e-05;, score=(train=0.782, test=0.718) total time=   0.3s\n",
            "[CV 2/5] END clf__estimator=LogisticRegression(max_iter=100000, solver='saga'), clf__estimator__C=1.0, clf__estimator__l1_ratio=0.8, clf__estimator__penalty=elasticnet, tfidf_vec__max_features=None, tfidf_vec__min_df=1e-05;, score=(train=0.781, test=0.718) total time=   0.3s\n",
            "[CV 3/5] END clf__estimator=LogisticRegression(max_iter=100000, solver='saga'), clf__estimator__C=1.0, clf__estimator__l1_ratio=0.8, clf__estimator__penalty=elasticnet, tfidf_vec__max_features=None, tfidf_vec__min_df=1e-05;, score=(train=0.764, test=0.713) total time=   0.3s\n",
            "[CV 4/5] END clf__estimator=LogisticRegression(max_iter=100000, solver='saga'), clf__estimator__C=1.0, clf__estimator__l1_ratio=0.8, clf__estimator__penalty=elasticnet, tfidf_vec__max_features=None, tfidf_vec__min_df=1e-05;, score=(train=0.784, test=0.706) total time=   0.3s\n",
            "[CV 5/5] END clf__estimator=LogisticRegression(max_iter=100000, solver='saga'), clf__estimator__C=1.0, clf__estimator__l1_ratio=0.8, clf__estimator__penalty=elasticnet, tfidf_vec__max_features=None, tfidf_vec__min_df=1e-05;, score=(train=0.771, test=0.715) total time=   0.3s\n",
            "[CV 1/5] END clf__estimator=LogisticRegression(max_iter=100000, solver='saga'), clf__estimator__C=1.0, clf__estimator__l1_ratio=0.8, clf__estimator__penalty=elasticnet, tfidf_vec__max_features=None, tfidf_vec__min_df=1e-06;, score=(train=0.782, test=0.718) total time=   0.3s\n",
            "[CV 2/5] END clf__estimator=LogisticRegression(max_iter=100000, solver='saga'), clf__estimator__C=1.0, clf__estimator__l1_ratio=0.8, clf__estimator__penalty=elasticnet, tfidf_vec__max_features=None, tfidf_vec__min_df=1e-06;, score=(train=0.781, test=0.718) total time=   0.3s\n",
            "[CV 3/5] END clf__estimator=LogisticRegression(max_iter=100000, solver='saga'), clf__estimator__C=1.0, clf__estimator__l1_ratio=0.8, clf__estimator__penalty=elasticnet, tfidf_vec__max_features=None, tfidf_vec__min_df=1e-06;, score=(train=0.764, test=0.713) total time=   0.3s\n",
            "[CV 4/5] END clf__estimator=LogisticRegression(max_iter=100000, solver='saga'), clf__estimator__C=1.0, clf__estimator__l1_ratio=0.8, clf__estimator__penalty=elasticnet, tfidf_vec__max_features=None, tfidf_vec__min_df=1e-06;, score=(train=0.784, test=0.706) total time=   0.3s\n",
            "[CV 5/5] END clf__estimator=LogisticRegression(max_iter=100000, solver='saga'), clf__estimator__C=1.0, clf__estimator__l1_ratio=0.8, clf__estimator__penalty=elasticnet, tfidf_vec__max_features=None, tfidf_vec__min_df=1e-06;, score=(train=0.770, test=0.714) total time=   0.3s\n",
            "[CV 1/5] END clf__estimator=LogisticRegression(max_iter=100000, solver='saga'), clf__estimator__C=1.0, clf__estimator__l1_ratio=0.8, clf__estimator__penalty=elasticnet, tfidf_vec__max_features=None, tfidf_vec__min_df=1;, score=(train=0.782, test=0.718) total time=   0.3s\n",
            "[CV 2/5] END clf__estimator=LogisticRegression(max_iter=100000, solver='saga'), clf__estimator__C=1.0, clf__estimator__l1_ratio=0.8, clf__estimator__penalty=elasticnet, tfidf_vec__max_features=None, tfidf_vec__min_df=1;, score=(train=0.782, test=0.718) total time=   0.3s\n",
            "[CV 3/5] END clf__estimator=LogisticRegression(max_iter=100000, solver='saga'), clf__estimator__C=1.0, clf__estimator__l1_ratio=0.8, clf__estimator__penalty=elasticnet, tfidf_vec__max_features=None, tfidf_vec__min_df=1;, score=(train=0.764, test=0.713) total time=   0.3s\n",
            "[CV 4/5] END clf__estimator=LogisticRegression(max_iter=100000, solver='saga'), clf__estimator__C=1.0, clf__estimator__l1_ratio=0.8, clf__estimator__penalty=elasticnet, tfidf_vec__max_features=None, tfidf_vec__min_df=1;, score=(train=0.784, test=0.706) total time=   0.3s\n",
            "[CV 5/5] END clf__estimator=LogisticRegression(max_iter=100000, solver='saga'), clf__estimator__C=1.0, clf__estimator__l1_ratio=0.8, clf__estimator__penalty=elasticnet, tfidf_vec__max_features=None, tfidf_vec__min_df=1;, score=(train=0.770, test=0.714) total time=   0.3s\n",
            "[CV 1/5] END clf__estimator=LogisticRegression(max_iter=100000, solver='saga'), clf__estimator__C=1.0, clf__estimator__l1_ratio=0.8, clf__estimator__penalty=elasticnet, tfidf_vec__max_features=10000, tfidf_vec__min_df=0.0001;, score=(train=0.781, test=0.718) total time=   0.4s\n",
            "[CV 2/5] END clf__estimator=LogisticRegression(max_iter=100000, solver='saga'), clf__estimator__C=1.0, clf__estimator__l1_ratio=0.8, clf__estimator__penalty=elasticnet, tfidf_vec__max_features=10000, tfidf_vec__min_df=0.0001;, score=(train=0.781, test=0.718) total time=   0.3s\n",
            "[CV 3/5] END clf__estimator=LogisticRegression(max_iter=100000, solver='saga'), clf__estimator__C=1.0, clf__estimator__l1_ratio=0.8, clf__estimator__penalty=elasticnet, tfidf_vec__max_features=10000, tfidf_vec__min_df=0.0001;, score=(train=0.764, test=0.713) total time=   0.4s\n",
            "[CV 4/5] END clf__estimator=LogisticRegression(max_iter=100000, solver='saga'), clf__estimator__C=1.0, clf__estimator__l1_ratio=0.8, clf__estimator__penalty=elasticnet, tfidf_vec__max_features=10000, tfidf_vec__min_df=0.0001;, score=(train=0.784, test=0.705) total time=   0.4s\n",
            "[CV 5/5] END clf__estimator=LogisticRegression(max_iter=100000, solver='saga'), clf__estimator__C=1.0, clf__estimator__l1_ratio=0.8, clf__estimator__penalty=elasticnet, tfidf_vec__max_features=10000, tfidf_vec__min_df=0.0001;, score=(train=0.770, test=0.714) total time=   0.4s\n",
            "[CV 1/5] END clf__estimator=LogisticRegression(max_iter=100000, solver='saga'), clf__estimator__C=1.0, clf__estimator__l1_ratio=0.8, clf__estimator__penalty=elasticnet, tfidf_vec__max_features=10000, tfidf_vec__min_df=1e-05;, score=(train=0.781, test=0.718) total time=   0.4s\n",
            "[CV 2/5] END clf__estimator=LogisticRegression(max_iter=100000, solver='saga'), clf__estimator__C=1.0, clf__estimator__l1_ratio=0.8, clf__estimator__penalty=elasticnet, tfidf_vec__max_features=10000, tfidf_vec__min_df=1e-05;, score=(train=0.782, test=0.718) total time=   0.4s\n",
            "[CV 3/5] END clf__estimator=LogisticRegression(max_iter=100000, solver='saga'), clf__estimator__C=1.0, clf__estimator__l1_ratio=0.8, clf__estimator__penalty=elasticnet, tfidf_vec__max_features=10000, tfidf_vec__min_df=1e-05;, score=(train=0.764, test=0.713) total time=   0.3s\n",
            "[CV 4/5] END clf__estimator=LogisticRegression(max_iter=100000, solver='saga'), clf__estimator__C=1.0, clf__estimator__l1_ratio=0.8, clf__estimator__penalty=elasticnet, tfidf_vec__max_features=10000, tfidf_vec__min_df=1e-05;, score=(train=0.784, test=0.705) total time=   0.4s\n",
            "[CV 5/5] END clf__estimator=LogisticRegression(max_iter=100000, solver='saga'), clf__estimator__C=1.0, clf__estimator__l1_ratio=0.8, clf__estimator__penalty=elasticnet, tfidf_vec__max_features=10000, tfidf_vec__min_df=1e-05;, score=(train=0.771, test=0.715) total time=   0.3s\n",
            "[CV 1/5] END clf__estimator=LogisticRegression(max_iter=100000, solver='saga'), clf__estimator__C=1.0, clf__estimator__l1_ratio=0.8, clf__estimator__penalty=elasticnet, tfidf_vec__max_features=10000, tfidf_vec__min_df=1e-06;, score=(train=0.782, test=0.718) total time=   0.4s\n",
            "[CV 2/5] END clf__estimator=LogisticRegression(max_iter=100000, solver='saga'), clf__estimator__C=1.0, clf__estimator__l1_ratio=0.8, clf__estimator__penalty=elasticnet, tfidf_vec__max_features=10000, tfidf_vec__min_df=1e-06;, score=(train=0.782, test=0.718) total time=   0.3s\n",
            "[CV 3/5] END clf__estimator=LogisticRegression(max_iter=100000, solver='saga'), clf__estimator__C=1.0, clf__estimator__l1_ratio=0.8, clf__estimator__penalty=elasticnet, tfidf_vec__max_features=10000, tfidf_vec__min_df=1e-06;, score=(train=0.764, test=0.713) total time=   0.3s\n",
            "[CV 4/5] END clf__estimator=LogisticRegression(max_iter=100000, solver='saga'), clf__estimator__C=1.0, clf__estimator__l1_ratio=0.8, clf__estimator__penalty=elasticnet, tfidf_vec__max_features=10000, tfidf_vec__min_df=1e-06;, score=(train=0.784, test=0.706) total time=   0.3s\n",
            "[CV 5/5] END clf__estimator=LogisticRegression(max_iter=100000, solver='saga'), clf__estimator__C=1.0, clf__estimator__l1_ratio=0.8, clf__estimator__penalty=elasticnet, tfidf_vec__max_features=10000, tfidf_vec__min_df=1e-06;, score=(train=0.771, test=0.715) total time=   0.3s\n",
            "[CV 1/5] END clf__estimator=LogisticRegression(max_iter=100000, solver='saga'), clf__estimator__C=1.0, clf__estimator__l1_ratio=0.8, clf__estimator__penalty=elasticnet, tfidf_vec__max_features=10000, tfidf_vec__min_df=1;, score=(train=0.782, test=0.718) total time=   0.4s\n",
            "[CV 2/5] END clf__estimator=LogisticRegression(max_iter=100000, solver='saga'), clf__estimator__C=1.0, clf__estimator__l1_ratio=0.8, clf__estimator__penalty=elasticnet, tfidf_vec__max_features=10000, tfidf_vec__min_df=1;, score=(train=0.781, test=0.718) total time=   0.3s\n",
            "[CV 3/5] END clf__estimator=LogisticRegression(max_iter=100000, solver='saga'), clf__estimator__C=1.0, clf__estimator__l1_ratio=0.8, clf__estimator__penalty=elasticnet, tfidf_vec__max_features=10000, tfidf_vec__min_df=1;, score=(train=0.764, test=0.713) total time=   0.3s\n",
            "[CV 4/5] END clf__estimator=LogisticRegression(max_iter=100000, solver='saga'), clf__estimator__C=1.0, clf__estimator__l1_ratio=0.8, clf__estimator__penalty=elasticnet, tfidf_vec__max_features=10000, tfidf_vec__min_df=1;, score=(train=0.784, test=0.706) total time=   0.3s\n",
            "[CV 5/5] END clf__estimator=LogisticRegression(max_iter=100000, solver='saga'), clf__estimator__C=1.0, clf__estimator__l1_ratio=0.8, clf__estimator__penalty=elasticnet, tfidf_vec__max_features=10000, tfidf_vec__min_df=1;, score=(train=0.771, test=0.715) total time=   0.4s\n",
            "[CV 1/5] END clf__estimator=LogisticRegression(max_iter=100000, solver='saga'), clf__estimator__C=1.0, clf__estimator__l1_ratio=0.8, clf__estimator__penalty=elasticnet, tfidf_vec__max_features=20000, tfidf_vec__min_df=0.0001;, score=(train=0.782, test=0.718) total time=   0.4s\n",
            "[CV 2/5] END clf__estimator=LogisticRegression(max_iter=100000, solver='saga'), clf__estimator__C=1.0, clf__estimator__l1_ratio=0.8, clf__estimator__penalty=elasticnet, tfidf_vec__max_features=20000, tfidf_vec__min_df=0.0001;, score=(train=0.781, test=0.718) total time=   0.4s\n",
            "[CV 3/5] END clf__estimator=LogisticRegression(max_iter=100000, solver='saga'), clf__estimator__C=1.0, clf__estimator__l1_ratio=0.8, clf__estimator__penalty=elasticnet, tfidf_vec__max_features=20000, tfidf_vec__min_df=0.0001;, score=(train=0.764, test=0.713) total time=   0.3s\n",
            "[CV 4/5] END clf__estimator=LogisticRegression(max_iter=100000, solver='saga'), clf__estimator__C=1.0, clf__estimator__l1_ratio=0.8, clf__estimator__penalty=elasticnet, tfidf_vec__max_features=20000, tfidf_vec__min_df=0.0001;, score=(train=0.784, test=0.706) total time=   0.4s\n",
            "[CV 5/5] END clf__estimator=LogisticRegression(max_iter=100000, solver='saga'), clf__estimator__C=1.0, clf__estimator__l1_ratio=0.8, clf__estimator__penalty=elasticnet, tfidf_vec__max_features=20000, tfidf_vec__min_df=0.0001;, score=(train=0.770, test=0.715) total time=   0.4s\n",
            "[CV 1/5] END clf__estimator=LogisticRegression(max_iter=100000, solver='saga'), clf__estimator__C=1.0, clf__estimator__l1_ratio=0.8, clf__estimator__penalty=elasticnet, tfidf_vec__max_features=20000, tfidf_vec__min_df=1e-05;, score=(train=0.782, test=0.718) total time=   0.4s\n",
            "[CV 2/5] END clf__estimator=LogisticRegression(max_iter=100000, solver='saga'), clf__estimator__C=1.0, clf__estimator__l1_ratio=0.8, clf__estimator__penalty=elasticnet, tfidf_vec__max_features=20000, tfidf_vec__min_df=1e-05;, score=(train=0.781, test=0.718) total time=   0.4s\n",
            "[CV 3/5] END clf__estimator=LogisticRegression(max_iter=100000, solver='saga'), clf__estimator__C=1.0, clf__estimator__l1_ratio=0.8, clf__estimator__penalty=elasticnet, tfidf_vec__max_features=20000, tfidf_vec__min_df=1e-05;, score=(train=0.764, test=0.713) total time=   0.3s\n",
            "[CV 4/5] END clf__estimator=LogisticRegression(max_iter=100000, solver='saga'), clf__estimator__C=1.0, clf__estimator__l1_ratio=0.8, clf__estimator__penalty=elasticnet, tfidf_vec__max_features=20000, tfidf_vec__min_df=1e-05;, score=(train=0.784, test=0.705) total time=   0.4s\n",
            "[CV 5/5] END clf__estimator=LogisticRegression(max_iter=100000, solver='saga'), clf__estimator__C=1.0, clf__estimator__l1_ratio=0.8, clf__estimator__penalty=elasticnet, tfidf_vec__max_features=20000, tfidf_vec__min_df=1e-05;, score=(train=0.771, test=0.715) total time=   0.4s\n",
            "[CV 1/5] END clf__estimator=LogisticRegression(max_iter=100000, solver='saga'), clf__estimator__C=1.0, clf__estimator__l1_ratio=0.8, clf__estimator__penalty=elasticnet, tfidf_vec__max_features=20000, tfidf_vec__min_df=1e-06;, score=(train=0.782, test=0.718) total time=   0.4s\n",
            "[CV 2/5] END clf__estimator=LogisticRegression(max_iter=100000, solver='saga'), clf__estimator__C=1.0, clf__estimator__l1_ratio=0.8, clf__estimator__penalty=elasticnet, tfidf_vec__max_features=20000, tfidf_vec__min_df=1e-06;, score=(train=0.781, test=0.718) total time=   0.4s\n",
            "[CV 3/5] END clf__estimator=LogisticRegression(max_iter=100000, solver='saga'), clf__estimator__C=1.0, clf__estimator__l1_ratio=0.8, clf__estimator__penalty=elasticnet, tfidf_vec__max_features=20000, tfidf_vec__min_df=1e-06;, score=(train=0.764, test=0.713) total time=   0.3s\n",
            "[CV 4/5] END clf__estimator=LogisticRegression(max_iter=100000, solver='saga'), clf__estimator__C=1.0, clf__estimator__l1_ratio=0.8, clf__estimator__penalty=elasticnet, tfidf_vec__max_features=20000, tfidf_vec__min_df=1e-06;, score=(train=0.784, test=0.706) total time=   0.3s\n",
            "[CV 5/5] END clf__estimator=LogisticRegression(max_iter=100000, solver='saga'), clf__estimator__C=1.0, clf__estimator__l1_ratio=0.8, clf__estimator__penalty=elasticnet, tfidf_vec__max_features=20000, tfidf_vec__min_df=1e-06;, score=(train=0.771, test=0.715) total time=   0.3s\n",
            "[CV 1/5] END clf__estimator=LogisticRegression(max_iter=100000, solver='saga'), clf__estimator__C=1.0, clf__estimator__l1_ratio=0.8, clf__estimator__penalty=elasticnet, tfidf_vec__max_features=20000, tfidf_vec__min_df=1;, score=(train=0.781, test=0.718) total time=   0.4s\n",
            "[CV 2/5] END clf__estimator=LogisticRegression(max_iter=100000, solver='saga'), clf__estimator__C=1.0, clf__estimator__l1_ratio=0.8, clf__estimator__penalty=elasticnet, tfidf_vec__max_features=20000, tfidf_vec__min_df=1;, score=(train=0.782, test=0.718) total time=   0.3s\n",
            "[CV 3/5] END clf__estimator=LogisticRegression(max_iter=100000, solver='saga'), clf__estimator__C=1.0, clf__estimator__l1_ratio=0.8, clf__estimator__penalty=elasticnet, tfidf_vec__max_features=20000, tfidf_vec__min_df=1;, score=(train=0.764, test=0.713) total time=   0.4s\n",
            "[CV 4/5] END clf__estimator=LogisticRegression(max_iter=100000, solver='saga'), clf__estimator__C=1.0, clf__estimator__l1_ratio=0.8, clf__estimator__penalty=elasticnet, tfidf_vec__max_features=20000, tfidf_vec__min_df=1;, score=(train=0.784, test=0.706) total time=   0.3s\n",
            "[CV 5/5] END clf__estimator=LogisticRegression(max_iter=100000, solver='saga'), clf__estimator__C=1.0, clf__estimator__l1_ratio=0.8, clf__estimator__penalty=elasticnet, tfidf_vec__max_features=20000, tfidf_vec__min_df=1;, score=(train=0.770, test=0.714) total time=   0.3s\n",
            "[CV 1/5] END clf__estimator=LogisticRegression(max_iter=100000, solver='saga'), clf__estimator__C=1.0, clf__estimator__l1_ratio=0.8, clf__estimator__penalty=elasticnet, tfidf_vec__max_features=30000, tfidf_vec__min_df=0.0001;, score=(train=0.781, test=0.718) total time=   0.4s\n",
            "[CV 2/5] END clf__estimator=LogisticRegression(max_iter=100000, solver='saga'), clf__estimator__C=1.0, clf__estimator__l1_ratio=0.8, clf__estimator__penalty=elasticnet, tfidf_vec__max_features=30000, tfidf_vec__min_df=0.0001;, score=(train=0.781, test=0.718) total time=   0.4s\n",
            "[CV 3/5] END clf__estimator=LogisticRegression(max_iter=100000, solver='saga'), clf__estimator__C=1.0, clf__estimator__l1_ratio=0.8, clf__estimator__penalty=elasticnet, tfidf_vec__max_features=30000, tfidf_vec__min_df=0.0001;, score=(train=0.764, test=0.713) total time=   0.3s\n",
            "[CV 4/5] END clf__estimator=LogisticRegression(max_iter=100000, solver='saga'), clf__estimator__C=1.0, clf__estimator__l1_ratio=0.8, clf__estimator__penalty=elasticnet, tfidf_vec__max_features=30000, tfidf_vec__min_df=0.0001;, score=(train=0.784, test=0.706) total time=   0.3s\n",
            "[CV 5/5] END clf__estimator=LogisticRegression(max_iter=100000, solver='saga'), clf__estimator__C=1.0, clf__estimator__l1_ratio=0.8, clf__estimator__penalty=elasticnet, tfidf_vec__max_features=30000, tfidf_vec__min_df=0.0001;, score=(train=0.770, test=0.714) total time=   0.3s\n",
            "[CV 1/5] END clf__estimator=LogisticRegression(max_iter=100000, solver='saga'), clf__estimator__C=1.0, clf__estimator__l1_ratio=0.8, clf__estimator__penalty=elasticnet, tfidf_vec__max_features=30000, tfidf_vec__min_df=1e-05;, score=(train=0.782, test=0.718) total time=   0.4s\n",
            "[CV 2/5] END clf__estimator=LogisticRegression(max_iter=100000, solver='saga'), clf__estimator__C=1.0, clf__estimator__l1_ratio=0.8, clf__estimator__penalty=elasticnet, tfidf_vec__max_features=30000, tfidf_vec__min_df=1e-05;, score=(train=0.781, test=0.718) total time=   0.3s\n",
            "[CV 3/5] END clf__estimator=LogisticRegression(max_iter=100000, solver='saga'), clf__estimator__C=1.0, clf__estimator__l1_ratio=0.8, clf__estimator__penalty=elasticnet, tfidf_vec__max_features=30000, tfidf_vec__min_df=1e-05;, score=(train=0.764, test=0.713) total time=   0.3s\n",
            "[CV 4/5] END clf__estimator=LogisticRegression(max_iter=100000, solver='saga'), clf__estimator__C=1.0, clf__estimator__l1_ratio=0.8, clf__estimator__penalty=elasticnet, tfidf_vec__max_features=30000, tfidf_vec__min_df=1e-05;, score=(train=0.784, test=0.707) total time=   0.4s\n",
            "[CV 5/5] END clf__estimator=LogisticRegression(max_iter=100000, solver='saga'), clf__estimator__C=1.0, clf__estimator__l1_ratio=0.8, clf__estimator__penalty=elasticnet, tfidf_vec__max_features=30000, tfidf_vec__min_df=1e-05;, score=(train=0.771, test=0.715) total time=   0.3s\n",
            "[CV 1/5] END clf__estimator=LogisticRegression(max_iter=100000, solver='saga'), clf__estimator__C=1.0, clf__estimator__l1_ratio=0.8, clf__estimator__penalty=elasticnet, tfidf_vec__max_features=30000, tfidf_vec__min_df=1e-06;, score=(train=0.782, test=0.718) total time=   0.4s\n",
            "[CV 2/5] END clf__estimator=LogisticRegression(max_iter=100000, solver='saga'), clf__estimator__C=1.0, clf__estimator__l1_ratio=0.8, clf__estimator__penalty=elasticnet, tfidf_vec__max_features=30000, tfidf_vec__min_df=1e-06;, score=(train=0.782, test=0.718) total time=   0.4s\n",
            "[CV 3/5] END clf__estimator=LogisticRegression(max_iter=100000, solver='saga'), clf__estimator__C=1.0, clf__estimator__l1_ratio=0.8, clf__estimator__penalty=elasticnet, tfidf_vec__max_features=30000, tfidf_vec__min_df=1e-06;, score=(train=0.764, test=0.713) total time=   0.3s\n",
            "[CV 4/5] END clf__estimator=LogisticRegression(max_iter=100000, solver='saga'), clf__estimator__C=1.0, clf__estimator__l1_ratio=0.8, clf__estimator__penalty=elasticnet, tfidf_vec__max_features=30000, tfidf_vec__min_df=1e-06;, score=(train=0.784, test=0.706) total time=   0.3s\n",
            "[CV 5/5] END clf__estimator=LogisticRegression(max_iter=100000, solver='saga'), clf__estimator__C=1.0, clf__estimator__l1_ratio=0.8, clf__estimator__penalty=elasticnet, tfidf_vec__max_features=30000, tfidf_vec__min_df=1e-06;, score=(train=0.770, test=0.714) total time=   0.4s\n",
            "[CV 1/5] END clf__estimator=LogisticRegression(max_iter=100000, solver='saga'), clf__estimator__C=1.0, clf__estimator__l1_ratio=0.8, clf__estimator__penalty=elasticnet, tfidf_vec__max_features=30000, tfidf_vec__min_df=1;, score=(train=0.782, test=0.718) total time=   0.4s\n",
            "[CV 2/5] END clf__estimator=LogisticRegression(max_iter=100000, solver='saga'), clf__estimator__C=1.0, clf__estimator__l1_ratio=0.8, clf__estimator__penalty=elasticnet, tfidf_vec__max_features=30000, tfidf_vec__min_df=1;, score=(train=0.781, test=0.718) total time=   0.3s\n",
            "[CV 3/5] END clf__estimator=LogisticRegression(max_iter=100000, solver='saga'), clf__estimator__C=1.0, clf__estimator__l1_ratio=0.8, clf__estimator__penalty=elasticnet, tfidf_vec__max_features=30000, tfidf_vec__min_df=1;, score=(train=0.764, test=0.713) total time=   0.3s\n",
            "[CV 4/5] END clf__estimator=LogisticRegression(max_iter=100000, solver='saga'), clf__estimator__C=1.0, clf__estimator__l1_ratio=0.8, clf__estimator__penalty=elasticnet, tfidf_vec__max_features=30000, tfidf_vec__min_df=1;, score=(train=0.784, test=0.705) total time=   0.4s\n",
            "[CV 5/5] END clf__estimator=LogisticRegression(max_iter=100000, solver='saga'), clf__estimator__C=1.0, clf__estimator__l1_ratio=0.8, clf__estimator__penalty=elasticnet, tfidf_vec__max_features=30000, tfidf_vec__min_df=1;, score=(train=0.770, test=0.714) total time=   0.4s\n",
            "[CV 1/5] END clf__estimator=LogisticRegression(max_iter=100000, solver='saga'), clf__estimator__C=1.0, clf__estimator__l1_ratio=0.8, clf__estimator__penalty=elasticnet, tfidf_vec__max_features=50000, tfidf_vec__min_df=0.0001;, score=(train=0.782, test=0.718) total time=   0.4s\n",
            "[CV 2/5] END clf__estimator=LogisticRegression(max_iter=100000, solver='saga'), clf__estimator__C=1.0, clf__estimator__l1_ratio=0.8, clf__estimator__penalty=elasticnet, tfidf_vec__max_features=50000, tfidf_vec__min_df=0.0001;, score=(train=0.781, test=0.718) total time=   0.3s\n",
            "[CV 3/5] END clf__estimator=LogisticRegression(max_iter=100000, solver='saga'), clf__estimator__C=1.0, clf__estimator__l1_ratio=0.8, clf__estimator__penalty=elasticnet, tfidf_vec__max_features=50000, tfidf_vec__min_df=0.0001;, score=(train=0.764, test=0.713) total time=   0.3s\n",
            "[CV 4/5] END clf__estimator=LogisticRegression(max_iter=100000, solver='saga'), clf__estimator__C=1.0, clf__estimator__l1_ratio=0.8, clf__estimator__penalty=elasticnet, tfidf_vec__max_features=50000, tfidf_vec__min_df=0.0001;, score=(train=0.784, test=0.705) total time=   0.3s\n",
            "[CV 5/5] END clf__estimator=LogisticRegression(max_iter=100000, solver='saga'), clf__estimator__C=1.0, clf__estimator__l1_ratio=0.8, clf__estimator__penalty=elasticnet, tfidf_vec__max_features=50000, tfidf_vec__min_df=0.0001;, score=(train=0.770, test=0.714) total time=   0.4s\n",
            "[CV 1/5] END clf__estimator=LogisticRegression(max_iter=100000, solver='saga'), clf__estimator__C=1.0, clf__estimator__l1_ratio=0.8, clf__estimator__penalty=elasticnet, tfidf_vec__max_features=50000, tfidf_vec__min_df=1e-05;, score=(train=0.782, test=0.718) total time=   0.4s\n",
            "[CV 2/5] END clf__estimator=LogisticRegression(max_iter=100000, solver='saga'), clf__estimator__C=1.0, clf__estimator__l1_ratio=0.8, clf__estimator__penalty=elasticnet, tfidf_vec__max_features=50000, tfidf_vec__min_df=1e-05;, score=(train=0.781, test=0.718) total time=   0.3s\n",
            "[CV 3/5] END clf__estimator=LogisticRegression(max_iter=100000, solver='saga'), clf__estimator__C=1.0, clf__estimator__l1_ratio=0.8, clf__estimator__penalty=elasticnet, tfidf_vec__max_features=50000, tfidf_vec__min_df=1e-05;, score=(train=0.764, test=0.713) total time=   0.3s\n",
            "[CV 4/5] END clf__estimator=LogisticRegression(max_iter=100000, solver='saga'), clf__estimator__C=1.0, clf__estimator__l1_ratio=0.8, clf__estimator__penalty=elasticnet, tfidf_vec__max_features=50000, tfidf_vec__min_df=1e-05;, score=(train=0.784, test=0.705) total time=   0.4s\n",
            "[CV 5/5] END clf__estimator=LogisticRegression(max_iter=100000, solver='saga'), clf__estimator__C=1.0, clf__estimator__l1_ratio=0.8, clf__estimator__penalty=elasticnet, tfidf_vec__max_features=50000, tfidf_vec__min_df=1e-05;, score=(train=0.771, test=0.715) total time=   0.3s\n",
            "[CV 1/5] END clf__estimator=LogisticRegression(max_iter=100000, solver='saga'), clf__estimator__C=1.0, clf__estimator__l1_ratio=0.8, clf__estimator__penalty=elasticnet, tfidf_vec__max_features=50000, tfidf_vec__min_df=1e-06;, score=(train=0.782, test=0.718) total time=   0.4s\n",
            "[CV 2/5] END clf__estimator=LogisticRegression(max_iter=100000, solver='saga'), clf__estimator__C=1.0, clf__estimator__l1_ratio=0.8, clf__estimator__penalty=elasticnet, tfidf_vec__max_features=50000, tfidf_vec__min_df=1e-06;, score=(train=0.781, test=0.718) total time=   0.4s\n",
            "[CV 3/5] END clf__estimator=LogisticRegression(max_iter=100000, solver='saga'), clf__estimator__C=1.0, clf__estimator__l1_ratio=0.8, clf__estimator__penalty=elasticnet, tfidf_vec__max_features=50000, tfidf_vec__min_df=1e-06;, score=(train=0.764, test=0.713) total time=   0.3s\n",
            "[CV 4/5] END clf__estimator=LogisticRegression(max_iter=100000, solver='saga'), clf__estimator__C=1.0, clf__estimator__l1_ratio=0.8, clf__estimator__penalty=elasticnet, tfidf_vec__max_features=50000, tfidf_vec__min_df=1e-06;, score=(train=0.784, test=0.705) total time=   0.3s\n",
            "[CV 5/5] END clf__estimator=LogisticRegression(max_iter=100000, solver='saga'), clf__estimator__C=1.0, clf__estimator__l1_ratio=0.8, clf__estimator__penalty=elasticnet, tfidf_vec__max_features=50000, tfidf_vec__min_df=1e-06;, score=(train=0.771, test=0.715) total time=   0.3s\n",
            "[CV 1/5] END clf__estimator=LogisticRegression(max_iter=100000, solver='saga'), clf__estimator__C=1.0, clf__estimator__l1_ratio=0.8, clf__estimator__penalty=elasticnet, tfidf_vec__max_features=50000, tfidf_vec__min_df=1;, score=(train=0.782, test=0.718) total time=   0.4s\n",
            "[CV 2/5] END clf__estimator=LogisticRegression(max_iter=100000, solver='saga'), clf__estimator__C=1.0, clf__estimator__l1_ratio=0.8, clf__estimator__penalty=elasticnet, tfidf_vec__max_features=50000, tfidf_vec__min_df=1;, score=(train=0.781, test=0.718) total time=   0.4s\n",
            "[CV 3/5] END clf__estimator=LogisticRegression(max_iter=100000, solver='saga'), clf__estimator__C=1.0, clf__estimator__l1_ratio=0.8, clf__estimator__penalty=elasticnet, tfidf_vec__max_features=50000, tfidf_vec__min_df=1;, score=(train=0.764, test=0.713) total time=   0.3s\n",
            "[CV 4/5] END clf__estimator=LogisticRegression(max_iter=100000, solver='saga'), clf__estimator__C=1.0, clf__estimator__l1_ratio=0.8, clf__estimator__penalty=elasticnet, tfidf_vec__max_features=50000, tfidf_vec__min_df=1;, score=(train=0.784, test=0.705) total time=   0.3s\n",
            "[CV 5/5] END clf__estimator=LogisticRegression(max_iter=100000, solver='saga'), clf__estimator__C=1.0, clf__estimator__l1_ratio=0.8, clf__estimator__penalty=elasticnet, tfidf_vec__max_features=50000, tfidf_vec__min_df=1;, score=(train=0.770, test=0.715) total time=   0.3s\n",
            "[CV 1/5] END clf__estimator=LogisticRegression(max_iter=100000, solver='saga'), clf__estimator__C=10, clf__estimator__l1_ratio=0.1, clf__estimator__penalty=elasticnet, tfidf_vec__max_features=None, tfidf_vec__min_df=0.0001;, score=(train=0.966, test=0.708) total time=   8.4s\n",
            "[CV 2/5] END clf__estimator=LogisticRegression(max_iter=100000, solver='saga'), clf__estimator__C=10, clf__estimator__l1_ratio=0.1, clf__estimator__penalty=elasticnet, tfidf_vec__max_features=None, tfidf_vec__min_df=0.0001;, score=(train=0.972, test=0.712) total time=   8.4s\n",
            "[CV 3/5] END clf__estimator=LogisticRegression(max_iter=100000, solver='saga'), clf__estimator__C=10, clf__estimator__l1_ratio=0.1, clf__estimator__penalty=elasticnet, tfidf_vec__max_features=None, tfidf_vec__min_df=0.0001;, score=(train=0.962, test=0.712) total time=   8.7s\n",
            "[CV 4/5] END clf__estimator=LogisticRegression(max_iter=100000, solver='saga'), clf__estimator__C=10, clf__estimator__l1_ratio=0.1, clf__estimator__penalty=elasticnet, tfidf_vec__max_features=None, tfidf_vec__min_df=0.0001;, score=(train=0.964, test=0.686) total time=   8.8s\n",
            "[CV 5/5] END clf__estimator=LogisticRegression(max_iter=100000, solver='saga'), clf__estimator__C=10, clf__estimator__l1_ratio=0.1, clf__estimator__penalty=elasticnet, tfidf_vec__max_features=None, tfidf_vec__min_df=0.0001;, score=(train=0.963, test=0.677) total time=   8.5s\n",
            "[CV 1/5] END clf__estimator=LogisticRegression(max_iter=100000, solver='saga'), clf__estimator__C=10, clf__estimator__l1_ratio=0.1, clf__estimator__penalty=elasticnet, tfidf_vec__max_features=None, tfidf_vec__min_df=1e-05;, score=(train=0.966, test=0.708) total time=   8.2s\n",
            "[CV 2/5] END clf__estimator=LogisticRegression(max_iter=100000, solver='saga'), clf__estimator__C=10, clf__estimator__l1_ratio=0.1, clf__estimator__penalty=elasticnet, tfidf_vec__max_features=None, tfidf_vec__min_df=1e-05;, score=(train=0.972, test=0.712) total time=   8.5s\n",
            "[CV 3/5] END clf__estimator=LogisticRegression(max_iter=100000, solver='saga'), clf__estimator__C=10, clf__estimator__l1_ratio=0.1, clf__estimator__penalty=elasticnet, tfidf_vec__max_features=None, tfidf_vec__min_df=1e-05;, score=(train=0.962, test=0.711) total time=   8.7s\n",
            "[CV 4/5] END clf__estimator=LogisticRegression(max_iter=100000, solver='saga'), clf__estimator__C=10, clf__estimator__l1_ratio=0.1, clf__estimator__penalty=elasticnet, tfidf_vec__max_features=None, tfidf_vec__min_df=1e-05;, score=(train=0.964, test=0.686) total time=   8.6s\n",
            "[CV 5/5] END clf__estimator=LogisticRegression(max_iter=100000, solver='saga'), clf__estimator__C=10, clf__estimator__l1_ratio=0.1, clf__estimator__penalty=elasticnet, tfidf_vec__max_features=None, tfidf_vec__min_df=1e-05;, score=(train=0.963, test=0.677) total time=   8.2s\n",
            "[CV 1/5] END clf__estimator=LogisticRegression(max_iter=100000, solver='saga'), clf__estimator__C=10, clf__estimator__l1_ratio=0.1, clf__estimator__penalty=elasticnet, tfidf_vec__max_features=None, tfidf_vec__min_df=1e-06;, score=(train=0.966, test=0.708) total time=   8.6s\n",
            "[CV 2/5] END clf__estimator=LogisticRegression(max_iter=100000, solver='saga'), clf__estimator__C=10, clf__estimator__l1_ratio=0.1, clf__estimator__penalty=elasticnet, tfidf_vec__max_features=None, tfidf_vec__min_df=1e-06;, score=(train=0.972, test=0.713) total time=   8.8s\n",
            "[CV 3/5] END clf__estimator=LogisticRegression(max_iter=100000, solver='saga'), clf__estimator__C=10, clf__estimator__l1_ratio=0.1, clf__estimator__penalty=elasticnet, tfidf_vec__max_features=None, tfidf_vec__min_df=1e-06;, score=(train=0.962, test=0.712) total time=   8.9s\n",
            "[CV 4/5] END clf__estimator=LogisticRegression(max_iter=100000, solver='saga'), clf__estimator__C=10, clf__estimator__l1_ratio=0.1, clf__estimator__penalty=elasticnet, tfidf_vec__max_features=None, tfidf_vec__min_df=1e-06;, score=(train=0.964, test=0.686) total time=   8.6s\n",
            "[CV 5/5] END clf__estimator=LogisticRegression(max_iter=100000, solver='saga'), clf__estimator__C=10, clf__estimator__l1_ratio=0.1, clf__estimator__penalty=elasticnet, tfidf_vec__max_features=None, tfidf_vec__min_df=1e-06;, score=(train=0.963, test=0.677) total time=   8.9s\n",
            "[CV 1/5] END clf__estimator=LogisticRegression(max_iter=100000, solver='saga'), clf__estimator__C=10, clf__estimator__l1_ratio=0.1, clf__estimator__penalty=elasticnet, tfidf_vec__max_features=None, tfidf_vec__min_df=1;, score=(train=0.966, test=0.708) total time=   8.1s\n",
            "[CV 2/5] END clf__estimator=LogisticRegression(max_iter=100000, solver='saga'), clf__estimator__C=10, clf__estimator__l1_ratio=0.1, clf__estimator__penalty=elasticnet, tfidf_vec__max_features=None, tfidf_vec__min_df=1;, score=(train=0.972, test=0.712) total time=   8.4s\n",
            "[CV 3/5] END clf__estimator=LogisticRegression(max_iter=100000, solver='saga'), clf__estimator__C=10, clf__estimator__l1_ratio=0.1, clf__estimator__penalty=elasticnet, tfidf_vec__max_features=None, tfidf_vec__min_df=1;, score=(train=0.962, test=0.712) total time=   8.5s\n",
            "[CV 4/5] END clf__estimator=LogisticRegression(max_iter=100000, solver='saga'), clf__estimator__C=10, clf__estimator__l1_ratio=0.1, clf__estimator__penalty=elasticnet, tfidf_vec__max_features=None, tfidf_vec__min_df=1;, score=(train=0.964, test=0.686) total time=   8.6s\n",
            "[CV 5/5] END clf__estimator=LogisticRegression(max_iter=100000, solver='saga'), clf__estimator__C=10, clf__estimator__l1_ratio=0.1, clf__estimator__penalty=elasticnet, tfidf_vec__max_features=None, tfidf_vec__min_df=1;, score=(train=0.963, test=0.677) total time=   8.2s\n",
            "[CV 1/5] END clf__estimator=LogisticRegression(max_iter=100000, solver='saga'), clf__estimator__C=10, clf__estimator__l1_ratio=0.1, clf__estimator__penalty=elasticnet, tfidf_vec__max_features=10000, tfidf_vec__min_df=0.0001;, score=(train=0.966, test=0.708) total time=   9.2s\n",
            "[CV 2/5] END clf__estimator=LogisticRegression(max_iter=100000, solver='saga'), clf__estimator__C=10, clf__estimator__l1_ratio=0.1, clf__estimator__penalty=elasticnet, tfidf_vec__max_features=10000, tfidf_vec__min_df=0.0001;, score=(train=0.972, test=0.712) total time=   9.2s\n",
            "[CV 3/5] END clf__estimator=LogisticRegression(max_iter=100000, solver='saga'), clf__estimator__C=10, clf__estimator__l1_ratio=0.1, clf__estimator__penalty=elasticnet, tfidf_vec__max_features=10000, tfidf_vec__min_df=0.0001;, score=(train=0.962, test=0.712) total time=   8.8s\n",
            "[CV 4/5] END clf__estimator=LogisticRegression(max_iter=100000, solver='saga'), clf__estimator__C=10, clf__estimator__l1_ratio=0.1, clf__estimator__penalty=elasticnet, tfidf_vec__max_features=10000, tfidf_vec__min_df=0.0001;, score=(train=0.964, test=0.686) total time=   8.7s\n",
            "[CV 5/5] END clf__estimator=LogisticRegression(max_iter=100000, solver='saga'), clf__estimator__C=10, clf__estimator__l1_ratio=0.1, clf__estimator__penalty=elasticnet, tfidf_vec__max_features=10000, tfidf_vec__min_df=0.0001;, score=(train=0.963, test=0.677) total time=   8.6s\n",
            "[CV 1/5] END clf__estimator=LogisticRegression(max_iter=100000, solver='saga'), clf__estimator__C=10, clf__estimator__l1_ratio=0.1, clf__estimator__penalty=elasticnet, tfidf_vec__max_features=10000, tfidf_vec__min_df=1e-05;, score=(train=0.966, test=0.708) total time=   8.8s\n",
            "[CV 2/5] END clf__estimator=LogisticRegression(max_iter=100000, solver='saga'), clf__estimator__C=10, clf__estimator__l1_ratio=0.1, clf__estimator__penalty=elasticnet, tfidf_vec__max_features=10000, tfidf_vec__min_df=1e-05;, score=(train=0.972, test=0.712) total time=   8.2s\n",
            "[CV 3/5] END clf__estimator=LogisticRegression(max_iter=100000, solver='saga'), clf__estimator__C=10, clf__estimator__l1_ratio=0.1, clf__estimator__penalty=elasticnet, tfidf_vec__max_features=10000, tfidf_vec__min_df=1e-05;, score=(train=0.962, test=0.711) total time=   8.8s\n",
            "[CV 4/5] END clf__estimator=LogisticRegression(max_iter=100000, solver='saga'), clf__estimator__C=10, clf__estimator__l1_ratio=0.1, clf__estimator__penalty=elasticnet, tfidf_vec__max_features=10000, tfidf_vec__min_df=1e-05;, score=(train=0.964, test=0.686) total time=   8.6s\n",
            "[CV 5/5] END clf__estimator=LogisticRegression(max_iter=100000, solver='saga'), clf__estimator__C=10, clf__estimator__l1_ratio=0.1, clf__estimator__penalty=elasticnet, tfidf_vec__max_features=10000, tfidf_vec__min_df=1e-05;, score=(train=0.963, test=0.677) total time=   8.5s\n",
            "[CV 1/5] END clf__estimator=LogisticRegression(max_iter=100000, solver='saga'), clf__estimator__C=10, clf__estimator__l1_ratio=0.1, clf__estimator__penalty=elasticnet, tfidf_vec__max_features=10000, tfidf_vec__min_df=1e-06;, score=(train=0.966, test=0.708) total time=   8.5s\n",
            "[CV 2/5] END clf__estimator=LogisticRegression(max_iter=100000, solver='saga'), clf__estimator__C=10, clf__estimator__l1_ratio=0.1, clf__estimator__penalty=elasticnet, tfidf_vec__max_features=10000, tfidf_vec__min_df=1e-06;, score=(train=0.972, test=0.712) total time=   9.2s\n",
            "[CV 3/5] END clf__estimator=LogisticRegression(max_iter=100000, solver='saga'), clf__estimator__C=10, clf__estimator__l1_ratio=0.1, clf__estimator__penalty=elasticnet, tfidf_vec__max_features=10000, tfidf_vec__min_df=1e-06;, score=(train=0.962, test=0.711) total time=   8.8s\n",
            "[CV 4/5] END clf__estimator=LogisticRegression(max_iter=100000, solver='saga'), clf__estimator__C=10, clf__estimator__l1_ratio=0.1, clf__estimator__penalty=elasticnet, tfidf_vec__max_features=10000, tfidf_vec__min_df=1e-06;, score=(train=0.964, test=0.686) total time=   8.7s\n",
            "[CV 5/5] END clf__estimator=LogisticRegression(max_iter=100000, solver='saga'), clf__estimator__C=10, clf__estimator__l1_ratio=0.1, clf__estimator__penalty=elasticnet, tfidf_vec__max_features=10000, tfidf_vec__min_df=1e-06;, score=(train=0.963, test=0.677) total time=   8.5s\n",
            "[CV 1/5] END clf__estimator=LogisticRegression(max_iter=100000, solver='saga'), clf__estimator__C=10, clf__estimator__l1_ratio=0.1, clf__estimator__penalty=elasticnet, tfidf_vec__max_features=10000, tfidf_vec__min_df=1;, score=(train=0.966, test=0.708) total time=   8.3s\n",
            "[CV 2/5] END clf__estimator=LogisticRegression(max_iter=100000, solver='saga'), clf__estimator__C=10, clf__estimator__l1_ratio=0.1, clf__estimator__penalty=elasticnet, tfidf_vec__max_features=10000, tfidf_vec__min_df=1;, score=(train=0.972, test=0.712) total time=   8.5s\n",
            "[CV 3/5] END clf__estimator=LogisticRegression(max_iter=100000, solver='saga'), clf__estimator__C=10, clf__estimator__l1_ratio=0.1, clf__estimator__penalty=elasticnet, tfidf_vec__max_features=10000, tfidf_vec__min_df=1;, score=(train=0.962, test=0.712) total time=   9.4s\n",
            "[CV 4/5] END clf__estimator=LogisticRegression(max_iter=100000, solver='saga'), clf__estimator__C=10, clf__estimator__l1_ratio=0.1, clf__estimator__penalty=elasticnet, tfidf_vec__max_features=10000, tfidf_vec__min_df=1;, score=(train=0.964, test=0.686) total time=   8.7s\n",
            "[CV 5/5] END clf__estimator=LogisticRegression(max_iter=100000, solver='saga'), clf__estimator__C=10, clf__estimator__l1_ratio=0.1, clf__estimator__penalty=elasticnet, tfidf_vec__max_features=10000, tfidf_vec__min_df=1;, score=(train=0.963, test=0.677) total time=   8.6s\n",
            "[CV 1/5] END clf__estimator=LogisticRegression(max_iter=100000, solver='saga'), clf__estimator__C=10, clf__estimator__l1_ratio=0.1, clf__estimator__penalty=elasticnet, tfidf_vec__max_features=20000, tfidf_vec__min_df=0.0001;, score=(train=0.966, test=0.708) total time=   9.1s\n",
            "[CV 2/5] END clf__estimator=LogisticRegression(max_iter=100000, solver='saga'), clf__estimator__C=10, clf__estimator__l1_ratio=0.1, clf__estimator__penalty=elasticnet, tfidf_vec__max_features=20000, tfidf_vec__min_df=0.0001;, score=(train=0.972, test=0.713) total time=   8.3s\n",
            "[CV 3/5] END clf__estimator=LogisticRegression(max_iter=100000, solver='saga'), clf__estimator__C=10, clf__estimator__l1_ratio=0.1, clf__estimator__penalty=elasticnet, tfidf_vec__max_features=20000, tfidf_vec__min_df=0.0001;, score=(train=0.962, test=0.711) total time=   8.8s\n",
            "[CV 4/5] END clf__estimator=LogisticRegression(max_iter=100000, solver='saga'), clf__estimator__C=10, clf__estimator__l1_ratio=0.1, clf__estimator__penalty=elasticnet, tfidf_vec__max_features=20000, tfidf_vec__min_df=0.0001;, score=(train=0.964, test=0.686) total time=   8.6s\n",
            "[CV 5/5] END clf__estimator=LogisticRegression(max_iter=100000, solver='saga'), clf__estimator__C=10, clf__estimator__l1_ratio=0.1, clf__estimator__penalty=elasticnet, tfidf_vec__max_features=20000, tfidf_vec__min_df=0.0001;, score=(train=0.963, test=0.677) total time=   8.2s\n",
            "[CV 1/5] END clf__estimator=LogisticRegression(max_iter=100000, solver='saga'), clf__estimator__C=10, clf__estimator__l1_ratio=0.1, clf__estimator__penalty=elasticnet, tfidf_vec__max_features=20000, tfidf_vec__min_df=1e-05;, score=(train=0.966, test=0.708) total time=   8.5s\n",
            "[CV 2/5] END clf__estimator=LogisticRegression(max_iter=100000, solver='saga'), clf__estimator__C=10, clf__estimator__l1_ratio=0.1, clf__estimator__penalty=elasticnet, tfidf_vec__max_features=20000, tfidf_vec__min_df=1e-05;, score=(train=0.972, test=0.712) total time=   8.9s\n",
            "[CV 3/5] END clf__estimator=LogisticRegression(max_iter=100000, solver='saga'), clf__estimator__C=10, clf__estimator__l1_ratio=0.1, clf__estimator__penalty=elasticnet, tfidf_vec__max_features=20000, tfidf_vec__min_df=1e-05;, score=(train=0.962, test=0.712) total time=   9.0s\n",
            "[CV 4/5] END clf__estimator=LogisticRegression(max_iter=100000, solver='saga'), clf__estimator__C=10, clf__estimator__l1_ratio=0.1, clf__estimator__penalty=elasticnet, tfidf_vec__max_features=20000, tfidf_vec__min_df=1e-05;, score=(train=0.964, test=0.686) total time=   8.8s\n",
            "[CV 5/5] END clf__estimator=LogisticRegression(max_iter=100000, solver='saga'), clf__estimator__C=10, clf__estimator__l1_ratio=0.1, clf__estimator__penalty=elasticnet, tfidf_vec__max_features=20000, tfidf_vec__min_df=1e-05;, score=(train=0.963, test=0.677) total time=   9.0s\n",
            "[CV 1/5] END clf__estimator=LogisticRegression(max_iter=100000, solver='saga'), clf__estimator__C=10, clf__estimator__l1_ratio=0.1, clf__estimator__penalty=elasticnet, tfidf_vec__max_features=20000, tfidf_vec__min_df=1e-06;, score=(train=0.966, test=0.708) total time=   8.7s\n",
            "[CV 2/5] END clf__estimator=LogisticRegression(max_iter=100000, solver='saga'), clf__estimator__C=10, clf__estimator__l1_ratio=0.1, clf__estimator__penalty=elasticnet, tfidf_vec__max_features=20000, tfidf_vec__min_df=1e-06;, score=(train=0.972, test=0.712) total time=   8.3s\n",
            "[CV 3/5] END clf__estimator=LogisticRegression(max_iter=100000, solver='saga'), clf__estimator__C=10, clf__estimator__l1_ratio=0.1, clf__estimator__penalty=elasticnet, tfidf_vec__max_features=20000, tfidf_vec__min_df=1e-06;, score=(train=0.962, test=0.711) total time=   8.7s\n",
            "[CV 4/5] END clf__estimator=LogisticRegression(max_iter=100000, solver='saga'), clf__estimator__C=10, clf__estimator__l1_ratio=0.1, clf__estimator__penalty=elasticnet, tfidf_vec__max_features=20000, tfidf_vec__min_df=1e-06;, score=(train=0.964, test=0.686) total time=   8.5s\n",
            "[CV 5/5] END clf__estimator=LogisticRegression(max_iter=100000, solver='saga'), clf__estimator__C=10, clf__estimator__l1_ratio=0.1, clf__estimator__penalty=elasticnet, tfidf_vec__max_features=20000, tfidf_vec__min_df=1e-06;, score=(train=0.963, test=0.677) total time=   8.1s\n",
            "[CV 1/5] END clf__estimator=LogisticRegression(max_iter=100000, solver='saga'), clf__estimator__C=10, clf__estimator__l1_ratio=0.1, clf__estimator__penalty=elasticnet, tfidf_vec__max_features=20000, tfidf_vec__min_df=1;, score=(train=0.966, test=0.708) total time=   9.1s\n",
            "[CV 2/5] END clf__estimator=LogisticRegression(max_iter=100000, solver='saga'), clf__estimator__C=10, clf__estimator__l1_ratio=0.1, clf__estimator__penalty=elasticnet, tfidf_vec__max_features=20000, tfidf_vec__min_df=1;, score=(train=0.972, test=0.712) total time=   8.2s\n",
            "[CV 3/5] END clf__estimator=LogisticRegression(max_iter=100000, solver='saga'), clf__estimator__C=10, clf__estimator__l1_ratio=0.1, clf__estimator__penalty=elasticnet, tfidf_vec__max_features=20000, tfidf_vec__min_df=1;, score=(train=0.962, test=0.710) total time=   8.8s\n",
            "[CV 4/5] END clf__estimator=LogisticRegression(max_iter=100000, solver='saga'), clf__estimator__C=10, clf__estimator__l1_ratio=0.1, clf__estimator__penalty=elasticnet, tfidf_vec__max_features=20000, tfidf_vec__min_df=1;, score=(train=0.964, test=0.686) total time=   8.7s\n",
            "[CV 5/5] END clf__estimator=LogisticRegression(max_iter=100000, solver='saga'), clf__estimator__C=10, clf__estimator__l1_ratio=0.1, clf__estimator__penalty=elasticnet, tfidf_vec__max_features=20000, tfidf_vec__min_df=1;, score=(train=0.963, test=0.677) total time=   8.3s\n",
            "[CV 1/5] END clf__estimator=LogisticRegression(max_iter=100000, solver='saga'), clf__estimator__C=10, clf__estimator__l1_ratio=0.1, clf__estimator__penalty=elasticnet, tfidf_vec__max_features=30000, tfidf_vec__min_df=0.0001;, score=(train=0.966, test=0.708) total time=   9.2s\n",
            "[CV 2/5] END clf__estimator=LogisticRegression(max_iter=100000, solver='saga'), clf__estimator__C=10, clf__estimator__l1_ratio=0.1, clf__estimator__penalty=elasticnet, tfidf_vec__max_features=30000, tfidf_vec__min_df=0.0001;, score=(train=0.972, test=0.712) total time=   8.5s\n",
            "[CV 3/5] END clf__estimator=LogisticRegression(max_iter=100000, solver='saga'), clf__estimator__C=10, clf__estimator__l1_ratio=0.1, clf__estimator__penalty=elasticnet, tfidf_vec__max_features=30000, tfidf_vec__min_df=0.0001;, score=(train=0.962, test=0.712) total time=   8.8s\n",
            "[CV 4/5] END clf__estimator=LogisticRegression(max_iter=100000, solver='saga'), clf__estimator__C=10, clf__estimator__l1_ratio=0.1, clf__estimator__penalty=elasticnet, tfidf_vec__max_features=30000, tfidf_vec__min_df=0.0001;, score=(train=0.964, test=0.686) total time=   9.0s\n",
            "[CV 5/5] END clf__estimator=LogisticRegression(max_iter=100000, solver='saga'), clf__estimator__C=10, clf__estimator__l1_ratio=0.1, clf__estimator__penalty=elasticnet, tfidf_vec__max_features=30000, tfidf_vec__min_df=0.0001;, score=(train=0.963, test=0.677) total time=   8.2s\n",
            "[CV 1/5] END clf__estimator=LogisticRegression(max_iter=100000, solver='saga'), clf__estimator__C=10, clf__estimator__l1_ratio=0.1, clf__estimator__penalty=elasticnet, tfidf_vec__max_features=30000, tfidf_vec__min_df=1e-05;, score=(train=0.966, test=0.708) total time=   8.3s\n",
            "[CV 2/5] END clf__estimator=LogisticRegression(max_iter=100000, solver='saga'), clf__estimator__C=10, clf__estimator__l1_ratio=0.1, clf__estimator__penalty=elasticnet, tfidf_vec__max_features=30000, tfidf_vec__min_df=1e-05;, score=(train=0.972, test=0.712) total time=   8.9s\n",
            "[CV 3/5] END clf__estimator=LogisticRegression(max_iter=100000, solver='saga'), clf__estimator__C=10, clf__estimator__l1_ratio=0.1, clf__estimator__penalty=elasticnet, tfidf_vec__max_features=30000, tfidf_vec__min_df=1e-05;, score=(train=0.962, test=0.711) total time=   9.1s\n",
            "[CV 4/5] END clf__estimator=LogisticRegression(max_iter=100000, solver='saga'), clf__estimator__C=10, clf__estimator__l1_ratio=0.1, clf__estimator__penalty=elasticnet, tfidf_vec__max_features=30000, tfidf_vec__min_df=1e-05;, score=(train=0.964, test=0.686) total time=   8.6s\n",
            "[CV 5/5] END clf__estimator=LogisticRegression(max_iter=100000, solver='saga'), clf__estimator__C=10, clf__estimator__l1_ratio=0.1, clf__estimator__penalty=elasticnet, tfidf_vec__max_features=30000, tfidf_vec__min_df=1e-05;, score=(train=0.963, test=0.677) total time=   8.3s\n",
            "[CV 1/5] END clf__estimator=LogisticRegression(max_iter=100000, solver='saga'), clf__estimator__C=10, clf__estimator__l1_ratio=0.1, clf__estimator__penalty=elasticnet, tfidf_vec__max_features=30000, tfidf_vec__min_df=1e-06;, score=(train=0.966, test=0.708) total time=   8.4s\n",
            "[CV 2/5] END clf__estimator=LogisticRegression(max_iter=100000, solver='saga'), clf__estimator__C=10, clf__estimator__l1_ratio=0.1, clf__estimator__penalty=elasticnet, tfidf_vec__max_features=30000, tfidf_vec__min_df=1e-06;, score=(train=0.972, test=0.712) total time=   9.0s\n",
            "[CV 3/5] END clf__estimator=LogisticRegression(max_iter=100000, solver='saga'), clf__estimator__C=10, clf__estimator__l1_ratio=0.1, clf__estimator__penalty=elasticnet, tfidf_vec__max_features=30000, tfidf_vec__min_df=1e-06;, score=(train=0.962, test=0.711) total time=   9.2s\n",
            "[CV 4/5] END clf__estimator=LogisticRegression(max_iter=100000, solver='saga'), clf__estimator__C=10, clf__estimator__l1_ratio=0.1, clf__estimator__penalty=elasticnet, tfidf_vec__max_features=30000, tfidf_vec__min_df=1e-06;, score=(train=0.964, test=0.686) total time=   8.9s\n",
            "[CV 5/5] END clf__estimator=LogisticRegression(max_iter=100000, solver='saga'), clf__estimator__C=10, clf__estimator__l1_ratio=0.1, clf__estimator__penalty=elasticnet, tfidf_vec__max_features=30000, tfidf_vec__min_df=1e-06;, score=(train=0.963, test=0.677) total time=   8.5s\n",
            "[CV 1/5] END clf__estimator=LogisticRegression(max_iter=100000, solver='saga'), clf__estimator__C=10, clf__estimator__l1_ratio=0.1, clf__estimator__penalty=elasticnet, tfidf_vec__max_features=30000, tfidf_vec__min_df=1;, score=(train=0.966, test=0.708) total time=   8.4s\n",
            "[CV 2/5] END clf__estimator=LogisticRegression(max_iter=100000, solver='saga'), clf__estimator__C=10, clf__estimator__l1_ratio=0.1, clf__estimator__penalty=elasticnet, tfidf_vec__max_features=30000, tfidf_vec__min_df=1;, score=(train=0.972, test=0.712) total time=   9.0s\n",
            "[CV 3/5] END clf__estimator=LogisticRegression(max_iter=100000, solver='saga'), clf__estimator__C=10, clf__estimator__l1_ratio=0.1, clf__estimator__penalty=elasticnet, tfidf_vec__max_features=30000, tfidf_vec__min_df=1;, score=(train=0.962, test=0.711) total time=   9.0s\n",
            "[CV 4/5] END clf__estimator=LogisticRegression(max_iter=100000, solver='saga'), clf__estimator__C=10, clf__estimator__l1_ratio=0.1, clf__estimator__penalty=elasticnet, tfidf_vec__max_features=30000, tfidf_vec__min_df=1;, score=(train=0.964, test=0.686) total time=   8.9s\n",
            "[CV 5/5] END clf__estimator=LogisticRegression(max_iter=100000, solver='saga'), clf__estimator__C=10, clf__estimator__l1_ratio=0.1, clf__estimator__penalty=elasticnet, tfidf_vec__max_features=30000, tfidf_vec__min_df=1;, score=(train=0.963, test=0.677) total time=   8.1s\n",
            "[CV 1/5] END clf__estimator=LogisticRegression(max_iter=100000, solver='saga'), clf__estimator__C=10, clf__estimator__l1_ratio=0.1, clf__estimator__penalty=elasticnet, tfidf_vec__max_features=50000, tfidf_vec__min_df=0.0001;, score=(train=0.966, test=0.708) total time=   8.7s\n",
            "[CV 2/5] END clf__estimator=LogisticRegression(max_iter=100000, solver='saga'), clf__estimator__C=10, clf__estimator__l1_ratio=0.1, clf__estimator__penalty=elasticnet, tfidf_vec__max_features=50000, tfidf_vec__min_df=0.0001;, score=(train=0.972, test=0.712) total time=   8.8s\n",
            "[CV 3/5] END clf__estimator=LogisticRegression(max_iter=100000, solver='saga'), clf__estimator__C=10, clf__estimator__l1_ratio=0.1, clf__estimator__penalty=elasticnet, tfidf_vec__max_features=50000, tfidf_vec__min_df=0.0001;, score=(train=0.962, test=0.711) total time=   9.0s\n",
            "[CV 4/5] END clf__estimator=LogisticRegression(max_iter=100000, solver='saga'), clf__estimator__C=10, clf__estimator__l1_ratio=0.1, clf__estimator__penalty=elasticnet, tfidf_vec__max_features=50000, tfidf_vec__min_df=0.0001;, score=(train=0.964, test=0.686) total time=   8.6s\n",
            "[CV 5/5] END clf__estimator=LogisticRegression(max_iter=100000, solver='saga'), clf__estimator__C=10, clf__estimator__l1_ratio=0.1, clf__estimator__penalty=elasticnet, tfidf_vec__max_features=50000, tfidf_vec__min_df=0.0001;, score=(train=0.963, test=0.677) total time=   8.3s\n",
            "[CV 1/5] END clf__estimator=LogisticRegression(max_iter=100000, solver='saga'), clf__estimator__C=10, clf__estimator__l1_ratio=0.1, clf__estimator__penalty=elasticnet, tfidf_vec__max_features=50000, tfidf_vec__min_df=1e-05;, score=(train=0.966, test=0.708) total time=   9.6s\n",
            "[CV 2/5] END clf__estimator=LogisticRegression(max_iter=100000, solver='saga'), clf__estimator__C=10, clf__estimator__l1_ratio=0.1, clf__estimator__penalty=elasticnet, tfidf_vec__max_features=50000, tfidf_vec__min_df=1e-05;, score=(train=0.972, test=0.712) total time=   8.5s\n",
            "[CV 3/5] END clf__estimator=LogisticRegression(max_iter=100000, solver='saga'), clf__estimator__C=10, clf__estimator__l1_ratio=0.1, clf__estimator__penalty=elasticnet, tfidf_vec__max_features=50000, tfidf_vec__min_df=1e-05;, score=(train=0.962, test=0.712) total time=   9.1s\n",
            "[CV 4/5] END clf__estimator=LogisticRegression(max_iter=100000, solver='saga'), clf__estimator__C=10, clf__estimator__l1_ratio=0.1, clf__estimator__penalty=elasticnet, tfidf_vec__max_features=50000, tfidf_vec__min_df=1e-05;, score=(train=0.964, test=0.686) total time=   9.2s\n",
            "[CV 5/5] END clf__estimator=LogisticRegression(max_iter=100000, solver='saga'), clf__estimator__C=10, clf__estimator__l1_ratio=0.1, clf__estimator__penalty=elasticnet, tfidf_vec__max_features=50000, tfidf_vec__min_df=1e-05;, score=(train=0.963, test=0.677) total time=   8.6s\n",
            "[CV 1/5] END clf__estimator=LogisticRegression(max_iter=100000, solver='saga'), clf__estimator__C=10, clf__estimator__l1_ratio=0.1, clf__estimator__penalty=elasticnet, tfidf_vec__max_features=50000, tfidf_vec__min_df=1e-06;, score=(train=0.966, test=0.708) total time=   8.6s\n",
            "[CV 2/5] END clf__estimator=LogisticRegression(max_iter=100000, solver='saga'), clf__estimator__C=10, clf__estimator__l1_ratio=0.1, clf__estimator__penalty=elasticnet, tfidf_vec__max_features=50000, tfidf_vec__min_df=1e-06;, score=(train=0.972, test=0.712) total time=   8.9s\n",
            "[CV 3/5] END clf__estimator=LogisticRegression(max_iter=100000, solver='saga'), clf__estimator__C=10, clf__estimator__l1_ratio=0.1, clf__estimator__penalty=elasticnet, tfidf_vec__max_features=50000, tfidf_vec__min_df=1e-06;, score=(train=0.962, test=0.711) total time=   9.4s\n",
            "[CV 4/5] END clf__estimator=LogisticRegression(max_iter=100000, solver='saga'), clf__estimator__C=10, clf__estimator__l1_ratio=0.1, clf__estimator__penalty=elasticnet, tfidf_vec__max_features=50000, tfidf_vec__min_df=1e-06;, score=(train=0.964, test=0.686) total time=   8.5s\n",
            "[CV 5/5] END clf__estimator=LogisticRegression(max_iter=100000, solver='saga'), clf__estimator__C=10, clf__estimator__l1_ratio=0.1, clf__estimator__penalty=elasticnet, tfidf_vec__max_features=50000, tfidf_vec__min_df=1e-06;, score=(train=0.963, test=0.677) total time=   8.7s\n",
            "[CV 1/5] END clf__estimator=LogisticRegression(max_iter=100000, solver='saga'), clf__estimator__C=10, clf__estimator__l1_ratio=0.1, clf__estimator__penalty=elasticnet, tfidf_vec__max_features=50000, tfidf_vec__min_df=1;, score=(train=0.966, test=0.708) total time=   8.4s\n",
            "[CV 2/5] END clf__estimator=LogisticRegression(max_iter=100000, solver='saga'), clf__estimator__C=10, clf__estimator__l1_ratio=0.1, clf__estimator__penalty=elasticnet, tfidf_vec__max_features=50000, tfidf_vec__min_df=1;, score=(train=0.972, test=0.712) total time=   9.0s\n",
            "[CV 3/5] END clf__estimator=LogisticRegression(max_iter=100000, solver='saga'), clf__estimator__C=10, clf__estimator__l1_ratio=0.1, clf__estimator__penalty=elasticnet, tfidf_vec__max_features=50000, tfidf_vec__min_df=1;, score=(train=0.962, test=0.711) total time=   9.1s\n",
            "[CV 4/5] END clf__estimator=LogisticRegression(max_iter=100000, solver='saga'), clf__estimator__C=10, clf__estimator__l1_ratio=0.1, clf__estimator__penalty=elasticnet, tfidf_vec__max_features=50000, tfidf_vec__min_df=1;, score=(train=0.964, test=0.686) total time=   9.0s\n",
            "[CV 5/5] END clf__estimator=LogisticRegression(max_iter=100000, solver='saga'), clf__estimator__C=10, clf__estimator__l1_ratio=0.1, clf__estimator__penalty=elasticnet, tfidf_vec__max_features=50000, tfidf_vec__min_df=1;, score=(train=0.963, test=0.677) total time=   8.3s\n",
            "[CV 1/5] END clf__estimator=LogisticRegression(max_iter=100000, solver='saga'), clf__estimator__C=10, clf__estimator__l1_ratio=0.2, clf__estimator__penalty=elasticnet, tfidf_vec__max_features=None, tfidf_vec__min_df=0.0001;, score=(train=0.967, test=0.704) total time=   8.5s\n",
            "[CV 2/5] END clf__estimator=LogisticRegression(max_iter=100000, solver='saga'), clf__estimator__C=10, clf__estimator__l1_ratio=0.2, clf__estimator__penalty=elasticnet, tfidf_vec__max_features=None, tfidf_vec__min_df=0.0001;, score=(train=0.972, test=0.713) total time=   8.8s\n",
            "[CV 3/5] END clf__estimator=LogisticRegression(max_iter=100000, solver='saga'), clf__estimator__C=10, clf__estimator__l1_ratio=0.2, clf__estimator__penalty=elasticnet, tfidf_vec__max_features=None, tfidf_vec__min_df=0.0001;, score=(train=0.963, test=0.711) total time=   8.9s\n",
            "[CV 4/5] END clf__estimator=LogisticRegression(max_iter=100000, solver='saga'), clf__estimator__C=10, clf__estimator__l1_ratio=0.2, clf__estimator__penalty=elasticnet, tfidf_vec__max_features=None, tfidf_vec__min_df=0.0001;, score=(train=0.964, test=0.688) total time=   9.3s\n",
            "[CV 5/5] END clf__estimator=LogisticRegression(max_iter=100000, solver='saga'), clf__estimator__C=10, clf__estimator__l1_ratio=0.2, clf__estimator__penalty=elasticnet, tfidf_vec__max_features=None, tfidf_vec__min_df=0.0001;, score=(train=0.964, test=0.677) total time=   8.7s\n",
            "[CV 1/5] END clf__estimator=LogisticRegression(max_iter=100000, solver='saga'), clf__estimator__C=10, clf__estimator__l1_ratio=0.2, clf__estimator__penalty=elasticnet, tfidf_vec__max_features=None, tfidf_vec__min_df=1e-05;, score=(train=0.967, test=0.704) total time=   8.8s\n",
            "[CV 2/5] END clf__estimator=LogisticRegression(max_iter=100000, solver='saga'), clf__estimator__C=10, clf__estimator__l1_ratio=0.2, clf__estimator__penalty=elasticnet, tfidf_vec__max_features=None, tfidf_vec__min_df=1e-05;, score=(train=0.972, test=0.713) total time=   9.3s\n",
            "[CV 3/5] END clf__estimator=LogisticRegression(max_iter=100000, solver='saga'), clf__estimator__C=10, clf__estimator__l1_ratio=0.2, clf__estimator__penalty=elasticnet, tfidf_vec__max_features=None, tfidf_vec__min_df=1e-05;, score=(train=0.963, test=0.709) total time=   8.9s\n",
            "[CV 4/5] END clf__estimator=LogisticRegression(max_iter=100000, solver='saga'), clf__estimator__C=10, clf__estimator__l1_ratio=0.2, clf__estimator__penalty=elasticnet, tfidf_vec__max_features=None, tfidf_vec__min_df=1e-05;, score=(train=0.964, test=0.688) total time=   9.2s\n",
            "[CV 5/5] END clf__estimator=LogisticRegression(max_iter=100000, solver='saga'), clf__estimator__C=10, clf__estimator__l1_ratio=0.2, clf__estimator__penalty=elasticnet, tfidf_vec__max_features=None, tfidf_vec__min_df=1e-05;, score=(train=0.964, test=0.677) total time=   8.6s\n",
            "[CV 1/5] END clf__estimator=LogisticRegression(max_iter=100000, solver='saga'), clf__estimator__C=10, clf__estimator__l1_ratio=0.2, clf__estimator__penalty=elasticnet, tfidf_vec__max_features=None, tfidf_vec__min_df=1e-06;, score=(train=0.967, test=0.704) total time=   8.6s\n",
            "[CV 2/5] END clf__estimator=LogisticRegression(max_iter=100000, solver='saga'), clf__estimator__C=10, clf__estimator__l1_ratio=0.2, clf__estimator__penalty=elasticnet, tfidf_vec__max_features=None, tfidf_vec__min_df=1e-06;, score=(train=0.972, test=0.713) total time=   8.9s\n",
            "[CV 3/5] END clf__estimator=LogisticRegression(max_iter=100000, solver='saga'), clf__estimator__C=10, clf__estimator__l1_ratio=0.2, clf__estimator__penalty=elasticnet, tfidf_vec__max_features=None, tfidf_vec__min_df=1e-06;, score=(train=0.963, test=0.711) total time=   8.6s\n",
            "[CV 4/5] END clf__estimator=LogisticRegression(max_iter=100000, solver='saga'), clf__estimator__C=10, clf__estimator__l1_ratio=0.2, clf__estimator__penalty=elasticnet, tfidf_vec__max_features=None, tfidf_vec__min_df=1e-06;, score=(train=0.964, test=0.688) total time=   8.8s\n",
            "[CV 5/5] END clf__estimator=LogisticRegression(max_iter=100000, solver='saga'), clf__estimator__C=10, clf__estimator__l1_ratio=0.2, clf__estimator__penalty=elasticnet, tfidf_vec__max_features=None, tfidf_vec__min_df=1e-06;, score=(train=0.964, test=0.677) total time=   8.3s\n",
            "[CV 1/5] END clf__estimator=LogisticRegression(max_iter=100000, solver='saga'), clf__estimator__C=10, clf__estimator__l1_ratio=0.2, clf__estimator__penalty=elasticnet, tfidf_vec__max_features=None, tfidf_vec__min_df=1;, score=(train=0.967, test=0.704) total time=   9.1s\n",
            "[CV 2/5] END clf__estimator=LogisticRegression(max_iter=100000, solver='saga'), clf__estimator__C=10, clf__estimator__l1_ratio=0.2, clf__estimator__penalty=elasticnet, tfidf_vec__max_features=None, tfidf_vec__min_df=1;, score=(train=0.972, test=0.713) total time=   8.9s\n",
            "[CV 3/5] END clf__estimator=LogisticRegression(max_iter=100000, solver='saga'), clf__estimator__C=10, clf__estimator__l1_ratio=0.2, clf__estimator__penalty=elasticnet, tfidf_vec__max_features=None, tfidf_vec__min_df=1;, score=(train=0.963, test=0.711) total time=   9.0s\n",
            "[CV 4/5] END clf__estimator=LogisticRegression(max_iter=100000, solver='saga'), clf__estimator__C=10, clf__estimator__l1_ratio=0.2, clf__estimator__penalty=elasticnet, tfidf_vec__max_features=None, tfidf_vec__min_df=1;, score=(train=0.964, test=0.688) total time=   8.9s\n",
            "[CV 5/5] END clf__estimator=LogisticRegression(max_iter=100000, solver='saga'), clf__estimator__C=10, clf__estimator__l1_ratio=0.2, clf__estimator__penalty=elasticnet, tfidf_vec__max_features=None, tfidf_vec__min_df=1;, score=(train=0.964, test=0.678) total time=   8.6s\n"
          ],
          "name": "stdout"
        }
      ]
    },
    {
      "cell_type": "code",
      "metadata": {
        "id": "R1aBfdGJ3noZ"
      },
      "source": [
        "# try 1 result\n",
        "print(\"Best score: %0.3f\" % search.best_score_)\n",
        "print(\"Best parameters set:\")\n",
        "best_parameters = search.best_estimator_.get_params()\n",
        "for param_name in sorted(param_logreg.keys()):\n",
        "    print(\"\\t%s: %r\" % (param_name, best_parameters[param_name]))"
      ],
      "execution_count": null,
      "outputs": []
    },
    {
      "cell_type": "code",
      "metadata": {
        "id": "sx4rKfbBkeOm"
      },
      "source": [
        "# try 2: 11 min run\n",
        "t0 = time()\n",
        "search.fit(X, y)\n",
        "print('done in %fs' % (time() - t0))\n"
      ],
      "execution_count": null,
      "outputs": []
    },
    {
      "cell_type": "code",
      "metadata": {
        "id": "rsi_wpcTsytY"
      },
      "source": [
        "# try 2 result\n",
        "print(\"Best score: %0.3f\" % search.best_score_)\n",
        "print(\"Best parameters set:\")\n",
        "best_parameters = search.best_estimator_.get_params()\n",
        "for param_name in sorted(param_logreg.keys()):\n",
        "    print(\"\\t%s: %r\" % (param_name, best_parameters[param_name]))"
      ],
      "execution_count": null,
      "outputs": []
    },
    {
      "cell_type": "markdown",
      "metadata": {
        "id": "LMf7oxARt4tY"
      },
      "source": [
        "### SVM"
      ]
    },
    {
      "cell_type": "code",
      "metadata": {
        "id": "4nt0_dZwuErL"
      },
      "source": [
        "# try 1\n",
        "param_logreg = {\n",
        "    'tfidf_vec__min_df': [0.0001, 0.00001, 0.000001],\n",
        "    'tfidf_vec__max_features': [None, 10000, 15000, 20000],\n",
        "    'tfidf_vec__sublinear_tf': [True, False],\n",
        "    '__max_iter': [100000],\n",
        "\n",
        "    '__C': [0.3, 0.7, 1.0]\n",
        "}"
      ],
      "execution_count": null,
      "outputs": []
    },
    {
      "cell_type": "code",
      "metadata": {
        "id": "hPxmtUhOuIzN"
      },
      "source": [
        "search = GridSearchCV(pipe_logreg, param_logreg, scoring='f1', cv=5)"
      ],
      "execution_count": null,
      "outputs": []
    },
    {
      "cell_type": "markdown",
      "metadata": {
        "id": "0f34LCL7HN9C"
      },
      "source": [
        "## end of feature reduction"
      ]
    },
    {
      "cell_type": "code",
      "metadata": {
        "id": "c1RCBsJ6v-Ua"
      },
      "source": [
        "# Convert a collection of raw documents to a matrix of TF-IDF features.\n",
        "# 11-second run\n",
        "\n",
        "from sklearn.feature_extraction.text import TfidfVectorizer\n",
        "\n",
        "# preset some parameters in TfidfVectorizer\n",
        "# max_docfreq = 0.8 # words show up at most 80% of the tweets - ignore high frequent words in all tweets\n",
        "# min_docfreq = 0.2 # words show up at least 20% of the tweets - ignore rarely seen words in the corpus \n",
        "max_features = 20000 # set max feature number to be less than 1% of the training size of 1,280,000 observations\n",
        "norm = 'l2' # default is l2 norm: The cosine similarity between two vectors is their dot product when l2 norm has been applied. \n",
        "# sublinear_tf=True calculate the tf as 1+log(tf)\n",
        "\n",
        "vector = TfidfVectorizer(max_features=max_features, norm=norm, sublinear_tf=True)\n",
        "X = vector.fit_transform(X)\n",
        "print(f'Vector fitted.')\n",
        "print('No. of feature_words: ', len(vector.get_feature_names()))"
      ],
      "execution_count": null,
      "outputs": []
    },
    {
      "cell_type": "markdown",
      "metadata": {
        "id": "dfqUvdeZceXg"
      },
      "source": [
        "## Model building"
      ]
    },
    {
      "cell_type": "markdown",
      "metadata": {
        "id": "RKWZrjTMWNsi"
      },
      "source": [
        "### Validation Set\n",
        "### Split training and validation set 75 - 25 split such that validation set size == test size = 320,000"
      ]
    },
    {
      "cell_type": "code",
      "metadata": {
        "id": "a99mK47lWxKe"
      },
      "source": [
        "X_train, X_val, y_train, y_val = train_test_split(X, y, test_size = 0.25, random_state=random_state)\n",
        "print(\"X_train\", X_train.shape)\n",
        "print(\"y_train\", y_train.shape)\n",
        "print()\n",
        "print(\"X_val\", X_val.shape)\n",
        "print(\"y_val\", y_val.shape)"
      ],
      "execution_count": null,
      "outputs": []
    },
    {
      "cell_type": "code",
      "metadata": {
        "execution": {
          "iopub.execute_input": "2021-04-17T08:43:34.913343Z",
          "iopub.status.busy": "2021-04-17T08:43:34.912583Z",
          "iopub.status.idle": "2021-04-17T08:43:34.914888Z",
          "shell.execute_reply": "2021-04-17T08:43:34.915403Z"
        },
        "papermill": {
          "duration": 0.094548,
          "end_time": "2021-04-17T08:43:34.915542",
          "exception": false,
          "start_time": "2021-04-17T08:43:34.820994",
          "status": "completed"
        },
        "tags": [],
        "id": "uK2So3399uj4"
      },
      "source": [
        "from sklearn.metrics import confusion_matrix, classification_report\n",
        "\n",
        "def evaluate_valset(model, X_train, y_train, X_val, y_val):\n",
        "    \"\"\" evaluate model and report validation set performance in confusion matrix and precision, recall, f1, support\n",
        "    \"\"\"\n",
        "    # fit model\n",
        "    model.fit(X_train, y_train)\n",
        "\n",
        "    #accuracy of model on training data\n",
        "    # acc_train=model.score(X_train, y_train)\n",
        "    #accuracy of model on validation set\n",
        "    acc_val = model.score(X_val, y_val)\n",
        "    \n",
        "    # print('Accuracy of model on training data : {}'.format(acc_train*100))\n",
        "    print('Accuracy of model on validation set : {} \\n'.format(acc_val*100))\n",
        "\n",
        "    # Predict values for Test dataset\n",
        "    y_pred = model.predict(X_val)\n",
        "\n",
        "    # Print the evaluation metrics for the dataset.\n",
        "    print(classification_report(y_val, y_pred))\n",
        "    \n",
        "    # Compute and plot the Confusion matrix\n",
        "    cf_matrix = confusion_matrix(y_val, y_pred)\n",
        "\n",
        "    categories  = ['Negative','Positive']\n",
        "    group_names = ['True Neg','False Pos', 'False Neg','True Pos']\n",
        "    group_percentages = ['{0:.2%}'.format(value) for value in cf_matrix.flatten() / np.sum(cf_matrix)]\n",
        "\n",
        "    labels = [f'{v1}\\n{v2}' for v1, v2 in zip(group_names,group_percentages)]\n",
        "    labels = np.asarray(labels).reshape(2,2)\n",
        "\n",
        "    sns.heatmap(cf_matrix, annot = labels, cmap = 'Reds',fmt = '',\n",
        "                xticklabels = categories, yticklabels = categories)\n",
        "\n",
        "    plt.xlabel(\"Predicted values\", fontdict = {'size':14}, labelpad = 10)\n",
        "    plt.ylabel(\"Actual values\"   , fontdict = {'size':14}, labelpad = 10)\n",
        "    plt.title (\"Confusion Matrix\", fontdict = {'size':18}, pad = 20)"
      ],
      "execution_count": null,
      "outputs": []
    },
    {
      "cell_type": "markdown",
      "metadata": {
        "id": "BxOn6lsV90MW"
      },
      "source": [
        "### Logistic Regression"
      ]
    },
    {
      "cell_type": "code",
      "metadata": {
        "id": "cOmCXFsB90MX"
      },
      "source": [
        "from sklearn.linear_model import LogisticRegression\n",
        "# preset logreg parameters\n",
        "max_iter = 100000\n",
        "# penalty = 'elasticnet'\n",
        "# l1_ratio = 0.5\n",
        "solver = 'saga' # for larger dataset, faster, also supports elasticnet penalty in addition to ridge and lasso\n",
        "logistic_regression = LogisticRegression(max_iter=max_iter, solver=solver)\n",
        "evaluate_valset(logistic_regression, X_train, y_train, X_val, y_val)"
      ],
      "execution_count": null,
      "outputs": []
    },
    {
      "cell_type": "markdown",
      "metadata": {
        "id": "cg_V72qf7DSZ"
      },
      "source": [
        "### SVM Linear Kernel"
      ]
    },
    {
      "cell_type": "code",
      "metadata": {
        "id": "QbzPsplp7DSZ"
      },
      "source": [
        "from sklearn.svm import LinearSVC\n",
        "svm_linear = LinearSVC(random_state=random_state)\n",
        "evaluate_valset(svm_linear, X_train, y_train, X_val, y_val)"
      ],
      "execution_count": null,
      "outputs": []
    },
    {
      "cell_type": "markdown",
      "metadata": {
        "id": "t-Nbnk_l9T_5"
      },
      "source": [
        "### SVM Radial bias function (RBF) Kernel - 3hrs 45 min not done yet"
      ]
    },
    {
      "cell_type": "code",
      "metadata": {
        "id": "bLxHRgh_9T_6"
      },
      "source": [
        "# from sklearn.svm import SVC\n",
        "# svm_rbf = SVC(random_state=random_state)\n",
        "# evaluate_valset(svm_rbf, X_train, y_train, X_val, y_val)"
      ],
      "execution_count": null,
      "outputs": []
    },
    {
      "cell_type": "markdown",
      "metadata": {
        "id": "ihzn34XQ7DSa"
      },
      "source": [
        "### Naive Bayes Bernoulli"
      ]
    },
    {
      "cell_type": "code",
      "metadata": {
        "id": "AHuSHSgg7DSb"
      },
      "source": [
        "from sklearn.naive_bayes import BernoulliNB\n",
        "nb = BernoulliNB()\n",
        "evaluate_valset(nb, X_train, y_train, X_val, y_val)"
      ],
      "execution_count": null,
      "outputs": []
    },
    {
      "cell_type": "markdown",
      "metadata": {
        "id": "jso7Gw6H914F"
      },
      "source": [
        "# original"
      ]
    },
    {
      "cell_type": "code",
      "metadata": {
        "execution": {
          "iopub.execute_input": "2021-04-17T08:43:34.913343Z",
          "iopub.status.busy": "2021-04-17T08:43:34.912583Z",
          "iopub.status.idle": "2021-04-17T08:43:34.914888Z",
          "shell.execute_reply": "2021-04-17T08:43:34.915403Z"
        },
        "id": "religious-universal",
        "papermill": {
          "duration": 0.094548,
          "end_time": "2021-04-17T08:43:34.915542",
          "exception": false,
          "start_time": "2021-04-17T08:43:34.820994",
          "status": "completed"
        },
        "tags": []
      },
      "source": [
        "from sklearn.metrics import confusion_matrix, classification_report\n",
        "# def eval_val()\n",
        "def evaluate(model):\n",
        "\n",
        "    # fit model\n",
        "    model.fit(X_train, y_train)\n",
        "\n",
        "    #accuracy of model on training data\n",
        "    # acc_train=model.score(X_train, y_train)\n",
        "    #accuracy of model on test data\n",
        "    acc_cv = model.score(X_cv, y_cv)\n",
        "    \n",
        "    # print('Accuracy of model on training data : {}'.format(acc_train*100))\n",
        "    print('Accuracy of model on testing data : {} \\n'.format(acc_cv*100))\n",
        "\n",
        "    # Predict values for Test dataset\n",
        "    y_pred = model.predict(X_cv)\n",
        "\n",
        "    # Print the evaluation metrics for the dataset.\n",
        "    print(classification_report(y_cv, y_pred))\n",
        "    \n",
        "    # Compute and plot the Confusion matrix\n",
        "    cf_matrix = confusion_matrix(y_cv, y_pred)\n",
        "\n",
        "    categories  = ['Negative','Positive']\n",
        "    group_names = ['True Neg','False Pos', 'False Neg','True Pos']\n",
        "    group_percentages = ['{0:.2%}'.format(value) for value in cf_matrix.flatten() / np.sum(cf_matrix)]\n",
        "\n",
        "    labels = [f'{v1}\\n{v2}' for v1, v2 in zip(group_names,group_percentages)]\n",
        "    labels = np.asarray(labels).reshape(2,2)\n",
        "\n",
        "    sns.heatmap(cf_matrix, annot = labels, cmap = 'Reds',fmt = '',\n",
        "                xticklabels = categories, yticklabels = categories)\n",
        "\n",
        "    plt.xlabel(\"Predicted values\", fontdict = {'size':14}, labelpad = 10)\n",
        "    plt.ylabel(\"Actual values\"   , fontdict = {'size':14}, labelpad = 10)\n",
        "    plt.title (\"Confusion Matrix\", fontdict = {'size':18}, pad = 20)"
      ],
      "execution_count": null,
      "outputs": []
    },
    {
      "cell_type": "markdown",
      "metadata": {
        "id": "Sxly1n-KdE-m"
      },
      "source": [
        "### Logistic Regression"
      ]
    },
    {
      "cell_type": "code",
      "metadata": {
        "id": "QXPoTq3SdBga"
      },
      "source": [
        "from sklearn.linear_model import LogisticRegression\n",
        "logistic_regression = LogisticRegression()\n",
        "evaluate(logistic_regression)"
      ],
      "execution_count": null,
      "outputs": []
    },
    {
      "cell_type": "markdown",
      "metadata": {
        "id": "9M15ulC5goxE"
      },
      "source": [
        "### SVM Linear Kernel"
      ]
    },
    {
      "cell_type": "code",
      "metadata": {
        "id": "RkkBiNFjddyR"
      },
      "source": [
        "from sklearn.svm import LinearSVC\n",
        "svm_linear = LinearSVC()\n",
        "evaluate(svm_linear)"
      ],
      "execution_count": null,
      "outputs": []
    },
    {
      "cell_type": "markdown",
      "metadata": {
        "id": "VSec0LjWgula"
      },
      "source": [
        "### Naive Bayes Bernoulli"
      ]
    },
    {
      "cell_type": "code",
      "metadata": {
        "id": "DhzFyJc_g4-R"
      },
      "source": [
        "from sklearn.naive_bayes import BernoulliNB\n",
        "nb = BernoulliNB()\n",
        "evaluate(nb)"
      ],
      "execution_count": null,
      "outputs": []
    },
    {
      "cell_type": "code",
      "metadata": {
        "id": "1biHRhV1g7AI"
      },
      "source": [
        ""
      ],
      "execution_count": null,
      "outputs": []
    }
  ]
}